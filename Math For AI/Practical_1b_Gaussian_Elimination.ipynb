{
 "cells": [
  {
   "cell_type": "markdown",
   "metadata": {},
   "source": [
    "# Practical 1b: Gaussian Elimination\n",
    "\n",
    "In this practical, we will code the Gaussian elimination algorithm to solve a system of linear equations with unique solution."
   ]
  },
  {
   "attachments": {},
   "cell_type": "markdown",
   "metadata": {},
   "source": [
    "### Task 1\n",
    "\n",
    "Solve the following system of linear equations\n",
    "\n",
    "$$\\begin{eqnarray}\n",
    "2x_1 &amp;+&amp; 4x_2 &amp;+&amp; 6x_3 &amp;=&amp; 22 \\\\\n",
    "3x_1 &amp;+&amp; 8x_2 &amp;+&amp; 5x_3 &amp;=&amp; 27 \\\\\n",
    "-x_1 &amp;+&amp; x_2 &amp;+&amp; 2x_3 &amp;=&amp; 2 \\\\\n",
    "\\end{eqnarray}$$\n",
    "\n",
    "given that it has unique solution."
   ]
  },
  {
   "cell_type": "code",
   "execution_count": 2,
   "metadata": {},
   "outputs": [],
   "source": [
    "import numpy as np"
   ]
  },
  {
   "cell_type": "code",
   "execution_count": null,
   "metadata": {},
   "outputs": [],
   "source": [
    "A = np.array([[2, 4, 6], [3, 8, 5], [-1, 1, 2]], dtype='float')\n",
    "A"
   ]
  },
  {
   "cell_type": "code",
   "execution_count": null,
   "metadata": {},
   "outputs": [],
   "source": [
    "b = np.array([22, 27, 2])\n",
    "b"
   ]
  },
  {
   "cell_type": "code",
   "execution_count": null,
   "metadata": {},
   "outputs": [],
   "source": [
    "Ab = np.hstack([A, b.reshape(-1, 1)])\n",
    "Ab"
   ]
  },
  {
   "attachments": {},
   "cell_type": "markdown",
   "metadata": {},
   "source": [
    "<font size = 0.1>\n",
    "\n",
    "bruh"
   ]
  },
  {
   "cell_type": "markdown",
   "metadata": {},
   "source": [
    "Find the number of linear equations and store in n."
   ]
  },
  {
   "cell_type": "code",
   "execution_count": null,
   "metadata": {},
   "outputs": [],
   "source": [
    "n = len(b)"
   ]
  },
  {
   "cell_type": "markdown",
   "metadata": {},
   "source": [
    "The algorithm below is used to convert the augmented matrix to row echelon form.<br>\n",
    "Illustrated below is the algorithm applied to this example:\n",
    "$$\n",
    "\\begin{bmatrix}\n",
    "\\begin{array}{c c c|c}\n",
    "  2 & 4 & 6 & 22 \\\\ \n",
    "  3 & 8 & 5 & 27 \\\\\n",
    "  -1 & 1 & 2 & 2\n",
    " \\end{array}\n",
    "\\end{bmatrix}\n",
    "$$\n",
    "\n",
    "\n",
    "$$\n",
    "\\xrightarrow[R_{3}-(-\\frac{1}{2}R_{1})]{R_{2}-\\frac{3}{2}R_{1}}\n",
    "\\begin{bmatrix}\n",
    "\\begin{array}{c c c|c}\n",
    "  2 & 4 & 6 & 22 \\\\ \n",
    "  0 & 2 & -4 & -6 \\\\\n",
    "  0 & 3 & 5 & 13\n",
    " \\end{array} \n",
    "\\end{bmatrix}\n",
    "$$\n",
    "\n",
    "\n",
    "$$\n",
    "\\xrightarrow[]{R_{3}-\\frac{3}{2}R_{2}}\n",
    "\\begin{bmatrix}\n",
    "\\begin{array}{c c c|c}\n",
    "  2 & 4 & 6 & 22 \\\\ \n",
    "  0 & 2 & -4 & -6 \\\\\n",
    "  0 & 0 & 11 & 22\n",
    " \\end{array} \n",
    "\\end{bmatrix}\n",
    "$$"
   ]
  },
  {
   "cell_type": "code",
   "execution_count": null,
   "metadata": {},
   "outputs": [],
   "source": [
    "#Converts augmented matrix to row echelon form\n",
    "for i in range(n):\n",
    "    a = Ab[i]\n",
    "\n",
    "    for j in range(i + 1, n):\n",
    "        b = Ab[j]\n",
    "        m = b[i] / a[i]\n",
    "        Ab[j] = b - m * a"
   ]
  },
  {
   "cell_type": "code",
   "execution_count": null,
   "metadata": {},
   "outputs": [],
   "source": [
    "Ab"
   ]
  },
  {
   "cell_type": "markdown",
   "metadata": {},
   "source": [
    "The algorithm below is used to convert row echelon form to reduced row echelon form (only one '1' in each row on the left side of the augmented matrix).<br>\n",
    "Illustrated below is the algorithm applied to this example:\n",
    "$$\n",
    "\\begin{bmatrix}\n",
    "\\begin{array}{c c c|c}\n",
    "  2 & 4 & 6 & 22 \\\\ \n",
    "  0 & 2 & -4 & -6 \\\\\n",
    "  0 & 0 & 11 & 22\n",
    " \\end{array}\n",
    "\\end{bmatrix}$$\n",
    "\n",
    "$$\n",
    "\\xrightarrow[]{\\frac{1}{11}R_{3}}\n",
    "\\begin{bmatrix}\n",
    "\\begin{array}{c c c|c}\n",
    "  2 & 4 & 6 & 22 \\\\ \n",
    "  0 & 2 & -4 & -6 \\\\\n",
    "  0 & 0 & 1 & 2\n",
    " \\end{array} \n",
    "\\end{bmatrix}\n",
    "$$\n",
    "\n",
    "$$\n",
    "\\xrightarrow[R_{2} - \\left(\\frac{-4}{1}\\right)R_{3}]{R_{1} - \\left(\\frac{6}{1}\\right)R_{3}}\n",
    "\\begin{bmatrix}\n",
    "\\begin{array}{c c c|c}\n",
    "  2 & 4 & 0 & 10 \\\\ \n",
    "  0 & 2 & 0 & 2 \\\\\n",
    "  0 & 0 & 1 & 2\n",
    " \\end{array} \n",
    "\\end{bmatrix}\n",
    "$$\n",
    "\n",
    "$$\n",
    "\\xrightarrow[]{\\frac{1}{2}R_{2}}\n",
    "\\begin{bmatrix}\n",
    "\\begin{array}{c c c|c}\n",
    "  2 & 4 & 0 & 10 \\\\ \n",
    "  0 & 1 & 0 & 1 \\\\\n",
    "  0 & 0 & 1 & 2\n",
    " \\end{array} \n",
    "\\end{bmatrix}\n",
    "$$\n",
    "\n",
    "$$\n",
    "\\xrightarrow[]{R_{1} - \\left(\\frac{4}{1} \\right) R_{2}}\n",
    "\\begin{bmatrix}\n",
    "\\begin{array}{c c c|c}\n",
    "  2 & 0 & 0 & 6 \\\\ \n",
    "  0 & 1 & 0 & 1 \\\\\n",
    "  0 & 0 & 1 & 2\n",
    " \\end{array} \n",
    "\\end{bmatrix}\n",
    "$$\n",
    "\n",
    "$$\n",
    "\\xrightarrow[]{\\frac{1}{2}R_{1}}\n",
    "\\begin{bmatrix}\n",
    "\\begin{array}{c c c|c}\n",
    "  1 & 0 & 0 & 3 \\\\ \n",
    "  0 & 1 & 0 & 1 \\\\\n",
    "  0 & 0 & 1 & 2\n",
    " \\end{array} \n",
    "\\end{bmatrix}\n",
    "$$"
   ]
  },
  {
   "cell_type": "code",
   "execution_count": null,
   "metadata": {},
   "outputs": [],
   "source": [
    "#Converts row echelon form to reduced row echelon form\n",
    "for i in range(n - 1, -1, -1):\n",
    "    Ab[i] = Ab[i] / Ab[i, i]\n",
    "    a = Ab[i]\n",
    "\n",
    "    for j in range(i - 1, -1, -1):\n",
    "        b = Ab[j]\n",
    "        m = b[i] / a[i]\n",
    "        Ab[j] = b - m * a\n",
    "        \n",
    "Ab"
   ]
  },
  {
   "cell_type": "markdown",
   "metadata": {
    "collapsed": true
   },
   "source": [
    "We can now have the answers<br>\n",
    "$$\\begin{eqnarray}\n",
    "x_1 &=& 3 \\\\\n",
    "x_2 &=& 1 \\\\\n",
    "x_3 &=& 2 \\\\\n",
    "\\end{eqnarray}$$"
   ]
  },
  {
   "cell_type": "code",
   "execution_count": null,
   "metadata": {},
   "outputs": [],
   "source": [
    "x = Ab[:, n]\n",
    "x"
   ]
  },
  {
   "cell_type": "markdown",
   "metadata": {},
   "source": [
    "### Task 2\n",
    "\n",
    "The code to reduce to row echelon form from task 1 can be modified and used to solve the following system of linear equations\n",
    "\n",
    "$$\\begin{eqnarray}\n",
    "&       &2x_2 &+&  3x_3 &=&  7 \\\\\n",
    "3x_1 &+& 6x_2 &-& 12x_3 &=& -3 \\\\\n",
    "5x_1 &-& 2x_2 &+&  2x_3 &=& -7 \\\\\n",
    "\\end{eqnarray}$$\n",
    "\n",
    "given that it has unique solution.<br>"
   ]
  },
  {
   "cell_type": "code",
   "execution_count": 3,
   "metadata": {},
   "outputs": [
    {
     "data": {
      "text/plain": [
       "array([[ 0.,  2.,  3.,  7.],\n",
       "       [ 3.,  6., 12., -3.],\n",
       "       [ 5., -2.,  2.,  7.]])"
      ]
     },
     "execution_count": 3,
     "metadata": {},
     "output_type": "execute_result"
    }
   ],
   "source": [
    "# form the matrices A, b, the augmented matrix Ab and the number of linear equations n\n",
    "# students to fill in\n",
    "\n",
    "A = np.array([[0,2,3],[3,6,12],[5,-2,2]], dtype='float')\n",
    "b = np.array([7,-3,7])\n",
    "Ab = np.hstack([A,b.reshape(-1,1)])\n",
    "\n",
    "Ab"
   ]
  },
  {
   "cell_type": "markdown",
   "metadata": {
    "collapsed": true
   },
   "source": [
    "The algorithm below is used to convert the augmented matrix to row echelon form.<br>\n",
    "Illustrated below is the algorithm applied to this example:\n",
    "$$\n",
    "\\begin{bmatrix}\n",
    "\\begin{array}{c c c|c}\n",
    "  0 & 2 & 3 & 7 \\\\ \n",
    "  3 & 6 & -12 & -3 \\\\\n",
    "  5 & -2 & 2 & -7\n",
    " \\end{array}\n",
    "\\end{bmatrix}\n",
    "$$\n",
    "\n",
    "\n",
    "$$\n",
    "\\xrightarrow[]{R_{1} \\leftrightarrow R_{2}}\n",
    "\\begin{bmatrix}\n",
    "\\begin{array}{c c c|c}\n",
    "  3 & 6 & -12 & -3 \\\\\n",
    "  0 & 2 & 3 & 7 \\\\  \n",
    "  5 & -2 & 2 & -7\n",
    " \\end{array} \n",
    "\\end{bmatrix}\n",
    "$$\n",
    "\n",
    "\n",
    "$$\n",
    "\\xrightarrow[]{R_{3}-\\frac{5}{3}R_{1}}\n",
    "\\begin{bmatrix}\n",
    "\\begin{array}{c c c|c}\n",
    "  3 & 6 & -12 & -3 \\\\\n",
    "  0 & 2 & 3 & 7 \\\\  \n",
    "  0 & -12 & 22 & -2\n",
    " \\end{array} \n",
    "\\end{bmatrix}\n",
    "$$\n",
    "\n",
    "$$\n",
    "\\xrightarrow[]{R_{3}-\\left(-\\frac{12}{2}\\right)R_{2}}\n",
    "\\begin{bmatrix}\n",
    "\\begin{array}{c c c|c}\n",
    "  3 & 6 & -12 & -3 \\\\\n",
    "  0 & 2 & 3 & 7 \\\\  \n",
    "  0 & 0 & 40 & 40\n",
    " \\end{array} \n",
    "\\end{bmatrix}\n",
    "$$"
   ]
  },
  {
   "cell_type": "code",
   "execution_count": null,
   "metadata": {},
   "outputs": [],
   "source": [
    "#Converts augmented matrix to row-echelon form\n",
    "for i in range(n):\n",
    "    \n",
    "    #If leading number is zero, swap with a row below where leading number is non-zero\n",
    "    if Ab[i,i] == 0:\n",
    "        temp = Ab[i].copy()\n",
    "    \n",
    "        for k in range (i + 1, n):\n",
    "            if Ab[k, i] != 0:\n",
    "                Ab[i] = Ab[k].copy()\n",
    "                Ab[k] = temp.copy()\n",
    "                break\n",
    "    \n",
    "    a = Ab[i]\n",
    "\n",
    "    for j in range(i + 1, n):\n",
    "        b = Ab[j]\n",
    "        m = b[i] / a[i]\n",
    "        Ab[j] = b - m * a\n",
    "\n",
    "print(Ab)"
   ]
  },
  {
   "cell_type": "code",
   "execution_count": null,
   "metadata": {},
   "outputs": [],
   "source": [
    "#Converts row echelon form to reduced row echelon form\n",
    "for i in range(n - 1, -1, -1):\n",
    "    Ab[i] = Ab[i] / Ab[i, i]\n",
    "    a = Ab[i]\n",
    "\n",
    "    for j in range(i - 1, -1, -1):\n",
    "        b = Ab[j]\n",
    "        m = b[i] / a[i]\n",
    "        Ab[j] = b - m * a\n",
    "        \n",
    "Ab"
   ]
  },
  {
   "cell_type": "code",
   "execution_count": null,
   "metadata": {},
   "outputs": [],
   "source": [
    "x = Ab[:, n]\n",
    "x"
   ]
  },
  {
   "cell_type": "markdown",
   "metadata": {},
   "source": [
    "### Task 3\n",
    "If we do not know the number of solutions our system of linear equations has, we can use sympy.linsolve.\n",
    "\n",
    "For example, we can use sympy.linsolve to solve the following system of linear equations which has many solutions:\n",
    "\\begin{eqnarray}\n",
    "x_1 + x_2 - 5x_3 = 3 \\\\\n",
    "x_1 - 2x_3 = 1 \\\\\n",
    "2x_1 - x_2 - x_3 = 0\n",
    "\\end{eqnarray}"
   ]
  },
  {
   "cell_type": "code",
   "execution_count": null,
   "metadata": {},
   "outputs": [],
   "source": [
    "import sympy as sp"
   ]
  },
  {
   "cell_type": "code",
   "execution_count": null,
   "metadata": {},
   "outputs": [],
   "source": [
    "sp.init_printing()"
   ]
  },
  {
   "cell_type": "code",
   "execution_count": null,
   "metadata": {},
   "outputs": [],
   "source": [
    "x1, x2, x3 = sp.symbols('x1 x2 x3')"
   ]
  },
  {
   "cell_type": "code",
   "execution_count": null,
   "metadata": {},
   "outputs": [],
   "source": [
    "A = sp.Matrix([[1,1,-5], [1, 0, -2], [2,-1,-1]])"
   ]
  },
  {
   "cell_type": "code",
   "execution_count": null,
   "metadata": {},
   "outputs": [],
   "source": [
    "b = sp.Matrix([[3], [1], [0]])"
   ]
  },
  {
   "cell_type": "code",
   "execution_count": null,
   "metadata": {},
   "outputs": [],
   "source": [
    "sp.linsolve((A, b), x1, x2, x3)"
   ]
  },
  {
   "cell_type": "code",
   "execution_count": null,
   "metadata": {},
   "outputs": [],
   "source": []
  }
 ],
 "metadata": {
  "kernelspec": {
   "display_name": "base",
   "language": "python",
   "name": "python3"
  },
  "language_info": {
   "codemirror_mode": {
    "name": "ipython",
    "version": 3
   },
   "file_extension": ".py",
   "mimetype": "text/x-python",
   "name": "python",
   "nbconvert_exporter": "python",
   "pygments_lexer": "ipython3",
   "version": "3.10.9"
  },
  "vscode": {
   "interpreter": {
    "hash": "1250725a789e36b5bf02898958c38eeaa69823ea0ea25ecf809562ed992fd123"
   }
  }
 },
 "nbformat": 4,
 "nbformat_minor": 2
}
