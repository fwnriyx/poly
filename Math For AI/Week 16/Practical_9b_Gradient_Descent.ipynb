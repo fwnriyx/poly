{
 "cells": [
  {
   "cell_type": "markdown",
   "metadata": {},
   "source": [
    "# Practical 9b: Gradient Descent Algorithm\n",
    "\n",
    "To obtain a local minimum of a function $z=f(x,y)$, the gradient descent algorithm can be implemented. The partial derivatives of the function, $\\frac{\\partial z}{\\partial x}$ and $\\frac{\\partial z}{\\partial y}$ are needed and can be obtained using the SymPy library. The algorithm works this way,\n",
    "\n",
    "Step 0.\tSet a learning rate $\\alpha>0$ and an initial point $x=x_0,\\ y=y_0$ and compute $f(x_0,y_0)$.\n",
    "\n",
    "Step 1.\tAt n-th point $x=x_n,\\ y=y_n$, compute ${{f}_{x}}({{x}_{n}},{{y}_{n}})$ and $f_y(x_n,y_n)$.\n",
    "\n",
    "Step 2.\tUpdate to the (n+1)-th point, $x_{n+1}=x_n-\\alpha f_x(x_n,y_n), \\ y_{n+1}=y_n-\\alpha f_y(x_n,y_n)$ and compute $f(x_{n+1},y_{n+1})$. \n",
    "\n",
    "Step 3.\tRepeat step 1 and 2 until a stopping criterion is reached.\n",
    "\n",
    "Each or a combination of the following can be the stopping criterion:    \n",
    "1.\tThe **maximum number of iterations** is reached.\n",
    "2.\tThe **value of $f_x^2(x_n,y_n)+ f_y^2(x_n,y_n)$** is smaller than a fixed constant. \n",
    "3.\t**Convergence**, which, in simple terms, means that the update to the current point does not differ much from the previous point. It can refer to little difference from $x=x_n,\\ y=y_n$ to $x=x_{n+1},\\ y=y_{n+1}$ or little reduction in $f(x_{n},y_{n})$ to $f(x_{n+1},y_{n+1})$ (the difference is smaller than a fixed constant).\n",
    " \n",
    "As an example, we want to find the minimum of the function $f(x,y)=x^2+3y^2$. The partial derivatives are $f_x(x,y) = 2x$ and $f_y(x,y)=6y$. With an initial point of $x=4,\\ y=5$, learning rate $\\alpha=0.1$, the code for the algorithm is as follows,"
   ]
  },
  {
   "cell_type": "code",
   "execution_count": null,
   "metadata": {
    "scrolled": false
   },
   "outputs": [],
   "source": [
    "import numpy as np\n",
    "\n",
    "next_x = 4 # Initial point\n",
    "next_y = 5 # Initial point\n",
    "alpha = 0.01 # Learning rate\n",
    "epsilon = 0.001 # Stopping criterion constant\n",
    "max_iters = 500 # Maximum number of iterations\n",
    "\n",
    "# Partial derivatives and function\n",
    "partialf_x = lambda x,y: 2*x \n",
    "partialf_y = lambda x,y: 6*y \n",
    "func = lambda x,y: x**2+3*y**2\n",
    "\n",
    "next_func = func(next_x,next_y) # Initial value of function\n",
    "\n",
    "for n in range(max_iters):\n",
    "    current_x = next_x\n",
    "    current_y = next_y\n",
    "    current_func = next_func\n",
    "    next_x = current_x-alpha*partialf_x(current_x,current_y) # update of x\n",
    "    next_y = current_y-alpha*partialf_y(current_x,current_y) # update of y\n",
    "    next_func = func(next_x,next_y)\n",
    "    change_func = abs(next_func-current_func) # stopping criterion: values of function converge\n",
    "    print(\"Iteration\",n+1,\": x = \",next_x,\", y = \",next_y,\", f(x,y) = \",next_func)\n",
    "    if change_func<epsilon:\n",
    "        break"
   ]
  },
  {
   "cell_type": "markdown",
   "metadata": {},
   "source": [
    "The convergence criterion used in the above code is when the difference in the values of the function in 2 consecutive updates is less than a fixed constant, epsilon. The stopping criterion is the convergence criterion and when the maximum number of iterations is reached, whichever comes first.\n",
    "\n",
    "Now, try to repeat the example above with different learning rates and observe what happens.\n",
    "\n",
    "$\\alpha=0.05$:\n",
    "\n",
    "$\\alpha=0.1$:\n",
    "    \n",
    "$\\alpha=0.2$:\n",
    "    \n",
    "$\\alpha=0.25$:\n",
    "    \n",
    "$\\alpha=0.5$: \n",
    "    \n",
    "Conclusion: \n",
    "\n",
    "Next, we want to look at how different initial points may result in different outputs. Given a function $f(x,y)=x^2+y^4+3y^3-y^2-3y$, we would like to find the local minimum using the gradient descent algorithm with different initial points. Fill in the code below with the appropriate parameters and functions."
   ]
  },
  {
   "cell_type": "code",
   "execution_count": null,
   "metadata": {},
   "outputs": [],
   "source": [
    "# Feel free to set your own constants\n",
    "\n",
    "import numpy as np\n",
    "\n",
    "next_x = _____ # Initial point # students to set \n",
    "next_y = _____ # Initial point # students to set\n",
    "alpha = _____ # Learning rate # students to set\n",
    "epsilon = _____ # Stopping criterion constant # students to set\n",
    "max_iters = _____ # Maximum number of iterations # students to set\n",
    "\n",
    "# Partial derivatives and function\n",
    "partialf_x = lambda x,y: ________ # students to fill in formula\n",
    "partialf_y = lambda x,y: ________ # students to fill in formula\n",
    "func = lambda x,y: ________ # students to fill in formula\n",
    "\n",
    "next_func = func(next_x,next_y) # Initial value of function\n",
    "\n",
    "for n in range(max_iters):\n",
    "    current_x = next_x\n",
    "    current_y = next_y\n",
    "    current_func = next_func\n",
    "    next_x = current_x-alpha*partialf_x(current_x,current_y) # update of x\n",
    "    next_y = current_y-alpha*partialf_y(current_x,current_y) # update of y\n",
    "    next_func = func(next_x,next_y)\n",
    "    change_func = abs(next_func-current_func) # stopping criterion: values of function converge\n",
    "    print(\"Iteration\",n+1,\": x = \",next_x,\", y = \",next_y,\", f(x,y) = \",next_func)\n",
    "    if change_func<epsilon:\n",
    "        break"
   ]
  },
  {
   "cell_type": "markdown",
   "metadata": {},
   "source": [
    "With all parameters constant except the initial points, what do you observe?\n",
    "\n",
    "Initial point = (1,1):\n",
    "    \n",
    "Initial point = (2,1):\n",
    "    \n",
    "Initial point = (0,-3):\n",
    "    \n",
    "Initial point = (-1,-2):\n",
    "\n",
    "Conclusion: \n",
    "    \n",
    "## Stopping criterion\n",
    "\n",
    "So far, the stopping criterion has always been a combination of maximum number of iterations and convergence of the values of the function. Try editing the code to change the stopping criterion from the convergence of the function to the value of $f^2_x(x_n,y_n)+f^2_y(x_n,y_n)$ being smaller than a small number."
   ]
  },
  {
   "cell_type": "code",
   "execution_count": null,
   "metadata": {},
   "outputs": [],
   "source": [
    "# Feel free to set your own constants\n",
    "\n",
    "import numpy as np\n",
    "\n",
    "next_x = _____ # Initial point # students to set \n",
    "next_y = _____ # Initial point # students to set\n",
    "alpha = _____ # Learning rate # students to set\n",
    "epsilon = _____ # Stopping criterion constant # students to set\n",
    "max_iters = _____ # Maximum number of iterations # students to set\n",
    "\n",
    "# Partial derivatives and function\n",
    "partialf_x = lambda x,y: ________ # students to fill in formula\n",
    "partialf_y = lambda x,y: ________ # students to fill in formula\n",
    "func = lambda x,y: ________ # students to fill in formula\n",
    "\n",
    "next_func = func(next_x,next_y) # Initial value of function\n",
    "\n",
    "for n in range(max_iters):\n",
    "    current_x = next_x\n",
    "    current_y = next_y\n",
    "    current_func = next_func\n",
    "    next_x = current_x-alpha*partialf_x(current_x,current_y) # update of x\n",
    "    next_y = current_y-alpha*partialf_y(current_x,current_y) # update of y\n",
    "    next_func = func(next_x,next_y)\n",
    "    partial_norm = ________ # stopping criterion: (f_x)^2+(f_y)^2 # student to fill in \n",
    "    print(\"Iteration\",n+1,\": x = \",next_x,\", y = \",next_y,\", f(x,y) = \",next_func)\n",
    "    if partial_norm<epsilon:\n",
    "        break"
   ]
  },
  {
   "cell_type": "code",
   "execution_count": null,
   "metadata": {},
   "outputs": [],
   "source": []
  }
 ],
 "metadata": {
  "kernelspec": {
   "display_name": "Python 3",
   "language": "python",
   "name": "python3"
  },
  "language_info": {
   "codemirror_mode": {
    "name": "ipython",
    "version": 3
   },
   "file_extension": ".py",
   "mimetype": "text/x-python",
   "name": "python",
   "nbconvert_exporter": "python",
   "pygments_lexer": "ipython3",
   "version": "3.8.5"
  }
 },
 "nbformat": 4,
 "nbformat_minor": 2
}
