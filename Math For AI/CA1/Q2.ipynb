{
 "cells": [
  {
   "attachments": {},
   "cell_type": "markdown",
   "metadata": {},
   "source": [
    "## **Question 2**"
   ]
  },
  {
   "cell_type": "code",
   "execution_count": 23,
   "metadata": {},
   "outputs": [],
   "source": [
    "import numpy as np\n",
    "import pandas as pd\n",
    "import matplotlib.pyplot as plt\n",
    "import seaborn as sns\n",
    "from sklearn.preprocessing import StandardScaler\n",
    "from sklearn.decomposition import PCA\n",
    "import plotly.express as px\n",
    "import plotly.graph_objects as go\n",
    "import matplotlib.ticker as ticker\n",
    "\n",
    "cars_df = pd.read_excel('dataset_1/cars_1.xlsx')"
   ]
  },
  {
   "attachments": {},
   "cell_type": "markdown",
   "metadata": {},
   "source": [
    "## Cleaning the data"
   ]
  },
  {
   "cell_type": "code",
   "execution_count": 24,
   "metadata": {},
   "outputs": [
    {
     "data": {
      "text/html": [
       "<div>\n",
       "<style scoped>\n",
       "    .dataframe tbody tr th:only-of-type {\n",
       "        vertical-align: middle;\n",
       "    }\n",
       "\n",
       "    .dataframe tbody tr th {\n",
       "        vertical-align: top;\n",
       "    }\n",
       "\n",
       "    .dataframe thead th {\n",
       "        text-align: right;\n",
       "    }\n",
       "</style>\n",
       "<table border=\"1\" class=\"dataframe\">\n",
       "  <thead>\n",
       "    <tr style=\"text-align: right;\">\n",
       "      <th></th>\n",
       "      <th>Brand</th>\n",
       "      <th>Type</th>\n",
       "      <th>Wheel-base</th>\n",
       "      <th>Length</th>\n",
       "      <th>Width</th>\n",
       "      <th>Height</th>\n",
       "      <th>Curb-weight</th>\n",
       "      <th>Cylinders</th>\n",
       "      <th>Engine</th>\n",
       "      <th>Compression-ratio</th>\n",
       "      <th>Horsepower</th>\n",
       "      <th>City-mpg</th>\n",
       "      <th>Highway-mpg</th>\n",
       "      <th>Price</th>\n",
       "    </tr>\n",
       "  </thead>\n",
       "  <tbody>\n",
       "    <tr>\n",
       "      <th>0</th>\n",
       "      <td>alfa-romero</td>\n",
       "      <td>convertible</td>\n",
       "      <td>88.6</td>\n",
       "      <td>168.8</td>\n",
       "      <td>64.1</td>\n",
       "      <td>48.8</td>\n",
       "      <td>2548</td>\n",
       "      <td>4</td>\n",
       "      <td>130</td>\n",
       "      <td>9.0</td>\n",
       "      <td>111</td>\n",
       "      <td>21</td>\n",
       "      <td>27</td>\n",
       "      <td>13495</td>\n",
       "    </tr>\n",
       "    <tr>\n",
       "      <th>1</th>\n",
       "      <td>alfa-romero</td>\n",
       "      <td>convertible</td>\n",
       "      <td>88.6</td>\n",
       "      <td>168.8</td>\n",
       "      <td>64.1</td>\n",
       "      <td>48.8</td>\n",
       "      <td>2548</td>\n",
       "      <td>4</td>\n",
       "      <td>130</td>\n",
       "      <td>9.0</td>\n",
       "      <td>111</td>\n",
       "      <td>21</td>\n",
       "      <td>27</td>\n",
       "      <td>16500</td>\n",
       "    </tr>\n",
       "    <tr>\n",
       "      <th>2</th>\n",
       "      <td>alfa-romero</td>\n",
       "      <td>hatchback</td>\n",
       "      <td>94.5</td>\n",
       "      <td>171.2</td>\n",
       "      <td>65.5</td>\n",
       "      <td>52.4</td>\n",
       "      <td>2823</td>\n",
       "      <td>6</td>\n",
       "      <td>152</td>\n",
       "      <td>9.0</td>\n",
       "      <td>154</td>\n",
       "      <td>19</td>\n",
       "      <td>26</td>\n",
       "      <td>16500</td>\n",
       "    </tr>\n",
       "    <tr>\n",
       "      <th>3</th>\n",
       "      <td>audi</td>\n",
       "      <td>sedan</td>\n",
       "      <td>99.4</td>\n",
       "      <td>176.6</td>\n",
       "      <td>66.4</td>\n",
       "      <td>54.3</td>\n",
       "      <td>2824</td>\n",
       "      <td>5</td>\n",
       "      <td>136</td>\n",
       "      <td>8.0</td>\n",
       "      <td>115</td>\n",
       "      <td>18</td>\n",
       "      <td>22</td>\n",
       "      <td>17450</td>\n",
       "    </tr>\n",
       "    <tr>\n",
       "      <th>4</th>\n",
       "      <td>audi</td>\n",
       "      <td>sedan</td>\n",
       "      <td>99.8</td>\n",
       "      <td>177.3</td>\n",
       "      <td>66.3</td>\n",
       "      <td>53.1</td>\n",
       "      <td>2507</td>\n",
       "      <td>5</td>\n",
       "      <td>136</td>\n",
       "      <td>8.5</td>\n",
       "      <td>110</td>\n",
       "      <td>19</td>\n",
       "      <td>25</td>\n",
       "      <td>15250</td>\n",
       "    </tr>\n",
       "  </tbody>\n",
       "</table>\n",
       "</div>"
      ],
      "text/plain": [
       "         Brand         Type  Wheel-base  Length  Width  Height  Curb-weight  \\\n",
       "0  alfa-romero  convertible        88.6   168.8   64.1    48.8         2548   \n",
       "1  alfa-romero  convertible        88.6   168.8   64.1    48.8         2548   \n",
       "2  alfa-romero    hatchback        94.5   171.2   65.5    52.4         2823   \n",
       "3         audi        sedan        99.4   176.6   66.4    54.3         2824   \n",
       "4         audi        sedan        99.8   177.3   66.3    53.1         2507   \n",
       "\n",
       "   Cylinders  Engine  Compression-ratio  Horsepower  City-mpg  Highway-mpg  \\\n",
       "0          4     130                9.0         111        21           27   \n",
       "1          4     130                9.0         111        21           27   \n",
       "2          6     152                9.0         154        19           26   \n",
       "3          5     136                8.0         115        18           22   \n",
       "4          5     136                8.5         110        19           25   \n",
       "\n",
       "   Price  \n",
       "0  13495  \n",
       "1  16500  \n",
       "2  16500  \n",
       "3  17450  \n",
       "4  15250  "
      ]
     },
     "execution_count": 24,
     "metadata": {},
     "output_type": "execute_result"
    }
   ],
   "source": [
    "cars_df.head()"
   ]
  },
  {
   "cell_type": "code",
   "execution_count": 25,
   "metadata": {},
   "outputs": [
    {
     "name": "stdout",
     "output_type": "stream",
     "text": [
      "<class 'pandas.core.frame.DataFrame'>\n",
      "RangeIndex: 195 entries, 0 to 194\n",
      "Data columns (total 14 columns):\n",
      " #   Column             Non-Null Count  Dtype  \n",
      "---  ------             --------------  -----  \n",
      " 0   Brand              195 non-null    object \n",
      " 1   Type               195 non-null    object \n",
      " 2   Wheel-base         195 non-null    float64\n",
      " 3   Length             195 non-null    float64\n",
      " 4   Width              195 non-null    float64\n",
      " 5   Height             195 non-null    float64\n",
      " 6   Curb-weight        195 non-null    int64  \n",
      " 7   Cylinders          195 non-null    int64  \n",
      " 8   Engine             195 non-null    int64  \n",
      " 9   Compression-ratio  195 non-null    float64\n",
      " 10  Horsepower         195 non-null    int64  \n",
      " 11  City-mpg           195 non-null    int64  \n",
      " 12  Highway-mpg        195 non-null    int64  \n",
      " 13  Price              195 non-null    int64  \n",
      "dtypes: float64(5), int64(7), object(2)\n",
      "memory usage: 21.5+ KB\n"
     ]
    }
   ],
   "source": [
    "cars_df.info()"
   ]
  },
  {
   "cell_type": "code",
   "execution_count": 26,
   "metadata": {},
   "outputs": [
    {
     "data": {
      "text/html": [
       "<div>\n",
       "<style scoped>\n",
       "    .dataframe tbody tr th:only-of-type {\n",
       "        vertical-align: middle;\n",
       "    }\n",
       "\n",
       "    .dataframe tbody tr th {\n",
       "        vertical-align: top;\n",
       "    }\n",
       "\n",
       "    .dataframe thead th {\n",
       "        text-align: right;\n",
       "    }\n",
       "</style>\n",
       "<table border=\"1\" class=\"dataframe\">\n",
       "  <thead>\n",
       "    <tr style=\"text-align: right;\">\n",
       "      <th></th>\n",
       "      <th>Wheel-base</th>\n",
       "      <th>Length</th>\n",
       "      <th>Width</th>\n",
       "      <th>Height</th>\n",
       "      <th>Curb-weight</th>\n",
       "      <th>Cylinders</th>\n",
       "      <th>Engine</th>\n",
       "      <th>Compression-ratio</th>\n",
       "      <th>Horsepower</th>\n",
       "      <th>City-mpg</th>\n",
       "      <th>Highway-mpg</th>\n",
       "      <th>Price</th>\n",
       "    </tr>\n",
       "  </thead>\n",
       "  <tbody>\n",
       "    <tr>\n",
       "      <th>count</th>\n",
       "      <td>195.000000</td>\n",
       "      <td>195.000000</td>\n",
       "      <td>195.000000</td>\n",
       "      <td>195.000000</td>\n",
       "      <td>195.000000</td>\n",
       "      <td>195.000000</td>\n",
       "      <td>195.000000</td>\n",
       "      <td>195.000000</td>\n",
       "      <td>195.000000</td>\n",
       "      <td>195.000000</td>\n",
       "      <td>195.000000</td>\n",
       "      <td>195.000000</td>\n",
       "    </tr>\n",
       "    <tr>\n",
       "      <th>mean</th>\n",
       "      <td>98.922564</td>\n",
       "      <td>174.221538</td>\n",
       "      <td>65.891795</td>\n",
       "      <td>53.844615</td>\n",
       "      <td>2561.241026</td>\n",
       "      <td>4.435897</td>\n",
       "      <td>128.302564</td>\n",
       "      <td>10.192923</td>\n",
       "      <td>103.682051</td>\n",
       "      <td>25.394872</td>\n",
       "      <td>30.846154</td>\n",
       "      <td>13404.030769</td>\n",
       "    </tr>\n",
       "    <tr>\n",
       "      <th>std</th>\n",
       "      <td>6.170323</td>\n",
       "      <td>12.676557</td>\n",
       "      <td>2.158735</td>\n",
       "      <td>2.427168</td>\n",
       "      <td>530.969429</td>\n",
       "      <td>1.030336</td>\n",
       "      <td>41.903740</td>\n",
       "      <td>4.063489</td>\n",
       "      <td>38.280455</td>\n",
       "      <td>6.525365</td>\n",
       "      <td>6.940611</td>\n",
       "      <td>8254.170806</td>\n",
       "    </tr>\n",
       "    <tr>\n",
       "      <th>min</th>\n",
       "      <td>86.600000</td>\n",
       "      <td>141.100000</td>\n",
       "      <td>60.300000</td>\n",
       "      <td>47.800000</td>\n",
       "      <td>1488.000000</td>\n",
       "      <td>3.000000</td>\n",
       "      <td>61.000000</td>\n",
       "      <td>7.000000</td>\n",
       "      <td>48.000000</td>\n",
       "      <td>13.000000</td>\n",
       "      <td>16.000000</td>\n",
       "      <td>5118.000000</td>\n",
       "    </tr>\n",
       "    <tr>\n",
       "      <th>25%</th>\n",
       "      <td>94.500000</td>\n",
       "      <td>166.300000</td>\n",
       "      <td>64.050000</td>\n",
       "      <td>52.000000</td>\n",
       "      <td>2134.000000</td>\n",
       "      <td>4.000000</td>\n",
       "      <td>98.000000</td>\n",
       "      <td>8.500000</td>\n",
       "      <td>70.000000</td>\n",
       "      <td>19.000000</td>\n",
       "      <td>25.000000</td>\n",
       "      <td>7649.000000</td>\n",
       "    </tr>\n",
       "    <tr>\n",
       "      <th>50%</th>\n",
       "      <td>97.000000</td>\n",
       "      <td>173.200000</td>\n",
       "      <td>65.400000</td>\n",
       "      <td>54.100000</td>\n",
       "      <td>2420.000000</td>\n",
       "      <td>4.000000</td>\n",
       "      <td>120.000000</td>\n",
       "      <td>9.000000</td>\n",
       "      <td>95.000000</td>\n",
       "      <td>25.000000</td>\n",
       "      <td>30.000000</td>\n",
       "      <td>10245.000000</td>\n",
       "    </tr>\n",
       "    <tr>\n",
       "      <th>75%</th>\n",
       "      <td>102.400000</td>\n",
       "      <td>184.600000</td>\n",
       "      <td>66.900000</td>\n",
       "      <td>55.650000</td>\n",
       "      <td>2964.500000</td>\n",
       "      <td>4.000000</td>\n",
       "      <td>146.000000</td>\n",
       "      <td>9.400000</td>\n",
       "      <td>116.000000</td>\n",
       "      <td>30.500000</td>\n",
       "      <td>36.500000</td>\n",
       "      <td>16594.000000</td>\n",
       "    </tr>\n",
       "    <tr>\n",
       "      <th>max</th>\n",
       "      <td>120.900000</td>\n",
       "      <td>208.100000</td>\n",
       "      <td>72.000000</td>\n",
       "      <td>59.800000</td>\n",
       "      <td>4066.000000</td>\n",
       "      <td>12.000000</td>\n",
       "      <td>326.000000</td>\n",
       "      <td>23.000000</td>\n",
       "      <td>262.000000</td>\n",
       "      <td>49.000000</td>\n",
       "      <td>54.000000</td>\n",
       "      <td>45400.000000</td>\n",
       "    </tr>\n",
       "  </tbody>\n",
       "</table>\n",
       "</div>"
      ],
      "text/plain": [
       "       Wheel-base      Length       Width      Height  Curb-weight  \\\n",
       "count  195.000000  195.000000  195.000000  195.000000   195.000000   \n",
       "mean    98.922564  174.221538   65.891795   53.844615  2561.241026   \n",
       "std      6.170323   12.676557    2.158735    2.427168   530.969429   \n",
       "min     86.600000  141.100000   60.300000   47.800000  1488.000000   \n",
       "25%     94.500000  166.300000   64.050000   52.000000  2134.000000   \n",
       "50%     97.000000  173.200000   65.400000   54.100000  2420.000000   \n",
       "75%    102.400000  184.600000   66.900000   55.650000  2964.500000   \n",
       "max    120.900000  208.100000   72.000000   59.800000  4066.000000   \n",
       "\n",
       "        Cylinders      Engine  Compression-ratio  Horsepower    City-mpg  \\\n",
       "count  195.000000  195.000000         195.000000  195.000000  195.000000   \n",
       "mean     4.435897  128.302564          10.192923  103.682051   25.394872   \n",
       "std      1.030336   41.903740           4.063489   38.280455    6.525365   \n",
       "min      3.000000   61.000000           7.000000   48.000000   13.000000   \n",
       "25%      4.000000   98.000000           8.500000   70.000000   19.000000   \n",
       "50%      4.000000  120.000000           9.000000   95.000000   25.000000   \n",
       "75%      4.000000  146.000000           9.400000  116.000000   30.500000   \n",
       "max     12.000000  326.000000          23.000000  262.000000   49.000000   \n",
       "\n",
       "       Highway-mpg         Price  \n",
       "count   195.000000    195.000000  \n",
       "mean     30.846154  13404.030769  \n",
       "std       6.940611   8254.170806  \n",
       "min      16.000000   5118.000000  \n",
       "25%      25.000000   7649.000000  \n",
       "50%      30.000000  10245.000000  \n",
       "75%      36.500000  16594.000000  \n",
       "max      54.000000  45400.000000  "
      ]
     },
     "execution_count": 26,
     "metadata": {},
     "output_type": "execute_result"
    }
   ],
   "source": [
    "#Dropping Type and Description\n",
    "cleaned_cars = cars_df.drop(['Type', 'Brand'], axis=1)\n",
    "\n",
    "cleaned_cars.describe()"
   ]
  },
  {
   "cell_type": "code",
   "execution_count": 27,
   "metadata": {},
   "outputs": [
    {
     "data": {
      "text/html": [
       "<div>\n",
       "<style scoped>\n",
       "    .dataframe tbody tr th:only-of-type {\n",
       "        vertical-align: middle;\n",
       "    }\n",
       "\n",
       "    .dataframe tbody tr th {\n",
       "        vertical-align: top;\n",
       "    }\n",
       "\n",
       "    .dataframe thead th {\n",
       "        text-align: right;\n",
       "    }\n",
       "</style>\n",
       "<table border=\"1\" class=\"dataframe\">\n",
       "  <thead>\n",
       "    <tr style=\"text-align: right;\">\n",
       "      <th></th>\n",
       "      <th>Wheel-base</th>\n",
       "      <th>Length</th>\n",
       "      <th>Width</th>\n",
       "      <th>Height</th>\n",
       "      <th>Curb-weight</th>\n",
       "      <th>Cylinders</th>\n",
       "      <th>Engine</th>\n",
       "      <th>Compression-ratio</th>\n",
       "      <th>Horsepower</th>\n",
       "      <th>City-mpg</th>\n",
       "      <th>Highway-mpg</th>\n",
       "      <th>Price</th>\n",
       "    </tr>\n",
       "  </thead>\n",
       "  <tbody>\n",
       "    <tr>\n",
       "      <th>0</th>\n",
       "      <td>-1.677243</td>\n",
       "      <td>-0.428783</td>\n",
       "      <td>-0.832157</td>\n",
       "      <td>-2.083746</td>\n",
       "      <td>-0.025002</td>\n",
       "      <td>-0.424153</td>\n",
       "      <td>0.040612</td>\n",
       "      <td>-0.294327</td>\n",
       "      <td>0.191659</td>\n",
       "      <td>-0.675240</td>\n",
       "      <td>-0.555578</td>\n",
       "      <td>0.011049</td>\n",
       "    </tr>\n",
       "    <tr>\n",
       "      <th>1</th>\n",
       "      <td>-1.677243</td>\n",
       "      <td>-0.428783</td>\n",
       "      <td>-0.832157</td>\n",
       "      <td>-2.083746</td>\n",
       "      <td>-0.025002</td>\n",
       "      <td>-0.424153</td>\n",
       "      <td>0.040612</td>\n",
       "      <td>-0.294327</td>\n",
       "      <td>0.191659</td>\n",
       "      <td>-0.675240</td>\n",
       "      <td>-0.555578</td>\n",
       "      <td>0.376045</td>\n",
       "    </tr>\n",
       "    <tr>\n",
       "      <th>2</th>\n",
       "      <td>-0.718592</td>\n",
       "      <td>-0.238970</td>\n",
       "      <td>-0.181960</td>\n",
       "      <td>-0.596718</td>\n",
       "      <td>0.494252</td>\n",
       "      <td>1.521959</td>\n",
       "      <td>0.566976</td>\n",
       "      <td>-0.294327</td>\n",
       "      <td>1.317839</td>\n",
       "      <td>-0.982525</td>\n",
       "      <td>-0.700029</td>\n",
       "      <td>0.376045</td>\n",
       "    </tr>\n",
       "    <tr>\n",
       "      <th>3</th>\n",
       "      <td>0.077575</td>\n",
       "      <td>0.188110</td>\n",
       "      <td>0.236024</td>\n",
       "      <td>0.188103</td>\n",
       "      <td>0.496140</td>\n",
       "      <td>0.548903</td>\n",
       "      <td>0.184166</td>\n",
       "      <td>-0.541054</td>\n",
       "      <td>0.296420</td>\n",
       "      <td>-1.136167</td>\n",
       "      <td>-1.277830</td>\n",
       "      <td>0.491434</td>\n",
       "    </tr>\n",
       "    <tr>\n",
       "      <th>4</th>\n",
       "      <td>0.142569</td>\n",
       "      <td>0.243472</td>\n",
       "      <td>0.189581</td>\n",
       "      <td>-0.307573</td>\n",
       "      <td>-0.102418</td>\n",
       "      <td>0.548903</td>\n",
       "      <td>0.184166</td>\n",
       "      <td>-0.417691</td>\n",
       "      <td>0.165469</td>\n",
       "      <td>-0.982525</td>\n",
       "      <td>-0.844479</td>\n",
       "      <td>0.224216</td>\n",
       "    </tr>\n",
       "  </tbody>\n",
       "</table>\n",
       "</div>"
      ],
      "text/plain": [
       "   Wheel-base    Length     Width    Height  Curb-weight  Cylinders    Engine  \\\n",
       "0   -1.677243 -0.428783 -0.832157 -2.083746    -0.025002  -0.424153  0.040612   \n",
       "1   -1.677243 -0.428783 -0.832157 -2.083746    -0.025002  -0.424153  0.040612   \n",
       "2   -0.718592 -0.238970 -0.181960 -0.596718     0.494252   1.521959  0.566976   \n",
       "3    0.077575  0.188110  0.236024  0.188103     0.496140   0.548903  0.184166   \n",
       "4    0.142569  0.243472  0.189581 -0.307573    -0.102418   0.548903  0.184166   \n",
       "\n",
       "   Compression-ratio  Horsepower  City-mpg  Highway-mpg     Price  \n",
       "0          -0.294327    0.191659 -0.675240    -0.555578  0.011049  \n",
       "1          -0.294327    0.191659 -0.675240    -0.555578  0.376045  \n",
       "2          -0.294327    1.317839 -0.982525    -0.700029  0.376045  \n",
       "3          -0.541054    0.296420 -1.136167    -1.277830  0.491434  \n",
       "4          -0.417691    0.165469 -0.982525    -0.844479  0.224216  "
      ]
     },
     "execution_count": 27,
     "metadata": {},
     "output_type": "execute_result"
    }
   ],
   "source": [
    "scaler = StandardScaler() # StandardScaler object\n",
    "scaler.fit(cleaned_cars) # fit scaler on original data\n",
    "\n",
    "scaled_data = pd.DataFrame(scaler.transform(cleaned_cars), columns = cleaned_cars.columns) # standardize data\n",
    "scaled_data.head()"
   ]
  },
  {
   "attachments": {},
   "cell_type": "markdown",
   "metadata": {},
   "source": [
    "## Implementing PCA"
   ]
  },
  {
   "cell_type": "code",
   "execution_count": 28,
   "metadata": {},
   "outputs": [],
   "source": [
    "# implementing PCA using sklearn\n",
    "\n",
    "from sklearn.decomposition import PCA\n",
    "\n",
    "pca = PCA(n_components = 12).fit(scaled_data)\n",
    "#Note that pca.transform() returns scores based on centred data\n",
    "pca_samples = pca.transform(scaled_data)"
   ]
  },
  {
   "cell_type": "code",
   "execution_count": 29,
   "metadata": {},
   "outputs": [],
   "source": [
    "def pca_results(data, pca):\n",
    "    \n",
    "    # Dimension indexing\n",
    "    dimensions = ['PC {}'.format(i) for i in range(1,len(pca.components_)+1)]\n",
    "    \n",
    "    # PCA components\n",
    "    components = pd.DataFrame(np.round(pca.components_, 4), columns = data.keys()) \n",
    "    components.index = dimensions\n",
    "\n",
    "    #PCA eigenvalues\n",
    "    ev = pca.explained_variance_.reshape(len(pca.components_), 1)\n",
    "    eigenvalues = pd.DataFrame(np.round(ev, 4), columns = ['Eigenvalue']) \n",
    "    eigenvalues.index = dimensions\n",
    "    \n",
    "    # PCA explained variance\n",
    "    ratios = pca.explained_variance_ratio_.reshape(len(pca.components_), 1) \n",
    "    variance_ratios = pd.DataFrame(np.round(ratios, 4), columns = ['Explained Variance']) \n",
    "    variance_ratios.index = dimensions\n",
    "\n",
    "    # Return a concatenated DataFrame\n",
    "    return pd.concat([eigenvalues, variance_ratios, components], axis = 1)"
   ]
  },
  {
   "attachments": {},
   "cell_type": "markdown",
   "metadata": {},
   "source": [
    "## Plotting Screeplots and Scoreplots"
   ]
  },
  {
   "cell_type": "code",
   "execution_count": 30,
   "metadata": {},
   "outputs": [
    {
     "data": {
      "text/plain": [
       "<Figure size 640x480 with 0 Axes>"
      ]
     },
     "metadata": {},
     "output_type": "display_data"
    },
    {
     "data": {
      "image/png": "[encoded data removed]",
      "text/plain": [
       "<Figure size 640x480 with 1 Axes>"
      ]
     },
     "metadata": {},
     "output_type": "display_data"
    },
    {
     "data": {
      "text/html": [
       "<div>\n",
       "<style scoped>\n",
       "    .dataframe tbody tr th:only-of-type {\n",
       "        vertical-align: middle;\n",
       "    }\n",
       "\n",
       "    .dataframe tbody tr th {\n",
       "        vertical-align: top;\n",
       "    }\n",
       "\n",
       "    .dataframe thead th {\n",
       "        text-align: right;\n",
       "    }\n",
       "</style>\n",
       "<table border=\"1\" class=\"dataframe\">\n",
       "  <thead>\n",
       "    <tr style=\"text-align: right;\">\n",
       "      <th></th>\n",
       "      <th>Eigenvalue</th>\n",
       "      <th>Explained Variance</th>\n",
       "      <th>Wheel-base</th>\n",
       "      <th>Length</th>\n",
       "      <th>Width</th>\n",
       "      <th>Height</th>\n",
       "      <th>Curb-weight</th>\n",
       "      <th>Cylinders</th>\n",
       "      <th>Engine</th>\n",
       "      <th>Compression-ratio</th>\n",
       "      <th>Horsepower</th>\n",
       "      <th>City-mpg</th>\n",
       "      <th>Highway-mpg</th>\n",
       "      <th>Price</th>\n",
       "    </tr>\n",
       "  </thead>\n",
       "  <tbody>\n",
       "    <tr>\n",
       "      <th>PC 1</th>\n",
       "      <td>7.5782</td>\n",
       "      <td>0.6283</td>\n",
       "      <td>0.2780</td>\n",
       "      <td>0.3217</td>\n",
       "      <td>0.3217</td>\n",
       "      <td>0.1031</td>\n",
       "      <td>0.3492</td>\n",
       "      <td>0.2662</td>\n",
       "      <td>0.3307</td>\n",
       "      <td>0.0019</td>\n",
       "      <td>0.3077</td>\n",
       "      <td>-0.3122</td>\n",
       "      <td>-0.3221</td>\n",
       "      <td>0.3273</td>\n",
       "    </tr>\n",
       "    <tr>\n",
       "      <th>PC 2</th>\n",
       "      <td>2.0008</td>\n",
       "      <td>0.1659</td>\n",
       "      <td>-0.3786</td>\n",
       "      <td>-0.2438</td>\n",
       "      <td>-0.1767</td>\n",
       "      <td>-0.5350</td>\n",
       "      <td>-0.0932</td>\n",
       "      <td>0.2186</td>\n",
       "      <td>0.1303</td>\n",
       "      <td>-0.4954</td>\n",
       "      <td>0.2996</td>\n",
       "      <td>-0.2065</td>\n",
       "      <td>-0.1566</td>\n",
       "      <td>0.0634</td>\n",
       "    </tr>\n",
       "    <tr>\n",
       "      <th>PC 3</th>\n",
       "      <td>1.0815</td>\n",
       "      <td>0.0897</td>\n",
       "      <td>-0.1227</td>\n",
       "      <td>-0.1356</td>\n",
       "      <td>0.0469</td>\n",
       "      <td>-0.3656</td>\n",
       "      <td>0.0432</td>\n",
       "      <td>0.3895</td>\n",
       "      <td>0.2701</td>\n",
       "      <td>0.6048</td>\n",
       "      <td>0.0507</td>\n",
       "      <td>0.3212</td>\n",
       "      <td>0.2939</td>\n",
       "      <td>0.2152</td>\n",
       "    </tr>\n",
       "    <tr>\n",
       "      <th>PC 4</th>\n",
       "      <td>0.4378</td>\n",
       "      <td>0.0363</td>\n",
       "      <td>-0.0154</td>\n",
       "      <td>-0.1253</td>\n",
       "      <td>-0.2260</td>\n",
       "      <td>0.5930</td>\n",
       "      <td>-0.1530</td>\n",
       "      <td>0.5710</td>\n",
       "      <td>0.1468</td>\n",
       "      <td>-0.3265</td>\n",
       "      <td>-0.0594</td>\n",
       "      <td>0.2048</td>\n",
       "      <td>0.1839</td>\n",
       "      <td>0.1564</td>\n",
       "    </tr>\n",
       "    <tr>\n",
       "      <th>PC 5</th>\n",
       "      <td>0.3161</td>\n",
       "      <td>0.0262</td>\n",
       "      <td>-0.4582</td>\n",
       "      <td>-0.1332</td>\n",
       "      <td>-0.4102</td>\n",
       "      <td>0.3830</td>\n",
       "      <td>0.0752</td>\n",
       "      <td>-0.1655</td>\n",
       "      <td>-0.0518</td>\n",
       "      <td>0.4320</td>\n",
       "      <td>0.3059</td>\n",
       "      <td>-0.2700</td>\n",
       "      <td>-0.2130</td>\n",
       "      <td>0.1520</td>\n",
       "    </tr>\n",
       "    <tr>\n",
       "      <th>PC 6</th>\n",
       "      <td>0.1871</td>\n",
       "      <td>0.0155</td>\n",
       "      <td>-0.0211</td>\n",
       "      <td>-0.0042</td>\n",
       "      <td>-0.0417</td>\n",
       "      <td>-0.0245</td>\n",
       "      <td>0.0228</td>\n",
       "      <td>0.5130</td>\n",
       "      <td>-0.0609</td>\n",
       "      <td>0.2334</td>\n",
       "      <td>-0.2730</td>\n",
       "      <td>-0.2393</td>\n",
       "      <td>-0.3644</td>\n",
       "      <td>-0.6408</td>\n",
       "    </tr>\n",
       "    <tr>\n",
       "      <th>PC 7</th>\n",
       "      <td>0.1334</td>\n",
       "      <td>0.0111</td>\n",
       "      <td>-0.3196</td>\n",
       "      <td>-0.3073</td>\n",
       "      <td>0.7035</td>\n",
       "      <td>0.1341</td>\n",
       "      <td>-0.2373</td>\n",
       "      <td>0.1023</td>\n",
       "      <td>-0.3362</td>\n",
       "      <td>0.0349</td>\n",
       "      <td>-0.1373</td>\n",
       "      <td>-0.1059</td>\n",
       "      <td>-0.1285</td>\n",
       "      <td>0.2509</td>\n",
       "    </tr>\n",
       "    <tr>\n",
       "      <th>PC 8</th>\n",
       "      <td>0.1112</td>\n",
       "      <td>0.0092</td>\n",
       "      <td>-0.3249</td>\n",
       "      <td>0.3261</td>\n",
       "      <td>0.3063</td>\n",
       "      <td>0.1462</td>\n",
       "      <td>0.0098</td>\n",
       "      <td>0.0459</td>\n",
       "      <td>-0.0413</td>\n",
       "      <td>-0.0542</td>\n",
       "      <td>0.5662</td>\n",
       "      <td>0.1578</td>\n",
       "      <td>0.3114</td>\n",
       "      <td>-0.4729</td>\n",
       "    </tr>\n",
       "    <tr>\n",
       "      <th>PC 9</th>\n",
       "      <td>0.0803</td>\n",
       "      <td>0.0067</td>\n",
       "      <td>0.2514</td>\n",
       "      <td>-0.7389</td>\n",
       "      <td>0.1655</td>\n",
       "      <td>0.1418</td>\n",
       "      <td>0.2785</td>\n",
       "      <td>-0.1683</td>\n",
       "      <td>0.2647</td>\n",
       "      <td>-0.0265</td>\n",
       "      <td>0.2356</td>\n",
       "      <td>0.1479</td>\n",
       "      <td>-0.0852</td>\n",
       "      <td>-0.2865</td>\n",
       "    </tr>\n",
       "    <tr>\n",
       "      <th>PC 10</th>\n",
       "      <td>0.0713</td>\n",
       "      <td>0.0059</td>\n",
       "      <td>-0.5198</td>\n",
       "      <td>0.1010</td>\n",
       "      <td>0.1254</td>\n",
       "      <td>0.0776</td>\n",
       "      <td>0.4298</td>\n",
       "      <td>-0.1762</td>\n",
       "      <td>0.4607</td>\n",
       "      <td>-0.1497</td>\n",
       "      <td>-0.4920</td>\n",
       "      <td>0.0312</td>\n",
       "      <td>0.0465</td>\n",
       "      <td>-0.0473</td>\n",
       "    </tr>\n",
       "    <tr>\n",
       "      <th>PC 11</th>\n",
       "      <td>0.0446</td>\n",
       "      <td>0.0037</td>\n",
       "      <td>-0.0398</td>\n",
       "      <td>-0.0418</td>\n",
       "      <td>-0.1004</td>\n",
       "      <td>-0.0713</td>\n",
       "      <td>0.7073</td>\n",
       "      <td>0.1934</td>\n",
       "      <td>-0.6115</td>\n",
       "      <td>-0.1166</td>\n",
       "      <td>0.0127</td>\n",
       "      <td>0.2081</td>\n",
       "      <td>0.0220</td>\n",
       "      <td>0.1109</td>\n",
       "    </tr>\n",
       "    <tr>\n",
       "      <th>PC 12</th>\n",
       "      <td>0.0194</td>\n",
       "      <td>0.0016</td>\n",
       "      <td>-0.1049</td>\n",
       "      <td>0.1630</td>\n",
       "      <td>-0.0099</td>\n",
       "      <td>-0.0033</td>\n",
       "      <td>-0.1375</td>\n",
       "      <td>-0.0605</td>\n",
       "      <td>0.0424</td>\n",
       "      <td>-0.0165</td>\n",
       "      <td>0.0649</td>\n",
       "      <td>0.6945</td>\n",
       "      <td>-0.6708</td>\n",
       "      <td>0.0343</td>\n",
       "    </tr>\n",
       "  </tbody>\n",
       "</table>\n",
       "</div>"
      ],
      "text/plain": [
       "       Eigenvalue  Explained Variance  Wheel-base  Length   Width  Height  \\\n",
       "PC 1       7.5782              0.6283      0.2780  0.3217  0.3217  0.1031   \n",
       "PC 2       2.0008              0.1659     -0.3786 -0.2438 -0.1767 -0.5350   \n",
       "PC 3       1.0815              0.0897     -0.1227 -0.1356  0.0469 -0.3656   \n",
       "PC 4       0.4378              0.0363     -0.0154 -0.1253 -0.2260  0.5930   \n",
       "PC 5       0.3161              0.0262     -0.4582 -0.1332 -0.4102  0.3830   \n",
       "PC 6       0.1871              0.0155     -0.0211 -0.0042 -0.0417 -0.0245   \n",
       "PC 7       0.1334              0.0111     -0.3196 -0.3073  0.7035  0.1341   \n",
       "PC 8       0.1112              0.0092     -0.3249  0.3261  0.3063  0.1462   \n",
       "PC 9       0.0803              0.0067      0.2514 -0.7389  0.1655  0.1418   \n",
       "PC 10      0.0713              0.0059     -0.5198  0.1010  0.1254  0.0776   \n",
       "PC 11      0.0446              0.0037     -0.0398 -0.0418 -0.1004 -0.0713   \n",
       "PC 12      0.0194              0.0016     -0.1049  0.1630 -0.0099 -0.0033   \n",
       "\n",
       "       Curb-weight  Cylinders  Engine  Compression-ratio  Horsepower  \\\n",
       "PC 1        0.3492     0.2662  0.3307             0.0019      0.3077   \n",
       "PC 2       -0.0932     0.2186  0.1303            -0.4954      0.2996   \n",
       "PC 3        0.0432     0.3895  0.2701             0.6048      0.0507   \n",
       "PC 4       -0.1530     0.5710  0.1468            -0.3265     -0.0594   \n",
       "PC 5        0.0752    -0.1655 -0.0518             0.4320      0.3059   \n",
       "PC 6        0.0228     0.5130 -0.0609             0.2334     -0.2730   \n",
       "PC 7       -0.2373     0.1023 -0.3362             0.0349     -0.1373   \n",
       "PC 8        0.0098     0.0459 -0.0413            -0.0542      0.5662   \n",
       "PC 9        0.2785    -0.1683  0.2647            -0.0265      0.2356   \n",
       "PC 10       0.4298    -0.1762  0.4607            -0.1497     -0.4920   \n",
       "PC 11       0.7073     0.1934 -0.6115            -0.1166      0.0127   \n",
       "PC 12      -0.1375    -0.0605  0.0424            -0.0165      0.0649   \n",
       "\n",
       "       City-mpg  Highway-mpg   Price  \n",
       "PC 1    -0.3122      -0.3221  0.3273  \n",
       "PC 2    -0.2065      -0.1566  0.0634  \n",
       "PC 3     0.3212       0.2939  0.2152  \n",
       "PC 4     0.2048       0.1839  0.1564  \n",
       "PC 5    -0.2700      -0.2130  0.1520  \n",
       "PC 6    -0.2393      -0.3644 -0.6408  \n",
       "PC 7    -0.1059      -0.1285  0.2509  \n",
       "PC 8     0.1578       0.3114 -0.4729  \n",
       "PC 9     0.1479      -0.0852 -0.2865  \n",
       "PC 10    0.0312       0.0465 -0.0473  \n",
       "PC 11    0.2081       0.0220  0.1109  \n",
       "PC 12    0.6945      -0.6708  0.0343  "
      ]
     },
     "execution_count": 30,
     "metadata": {},
     "output_type": "execute_result"
    }
   ],
   "source": [
    "plt.clf()\n",
    "fig1, ax1 = plt.subplots()\n",
    "ax1.plot(np.arange(1, len(pca.explained_variance_)+1), pca.explained_variance_)\n",
    "ax1.xaxis.set_major_locator(ticker.MultipleLocator(1))\n",
    "ax1.set(xlabel = 'Component number', ylabel = 'Eigenvalue', title = 'Screeplot')\n",
    "plt.show()\n",
    "pca_results = pca_results(scaled_data, pca) # use function created to show table\n",
    "pca_results"
   ]
  },
  {
   "cell_type": "code",
   "execution_count": 31,
   "metadata": {},
   "outputs": [
    {
     "data": {
      "text/html": [
       "<div>\n",
       "<style scoped>\n",
       "    .dataframe tbody tr th:only-of-type {\n",
       "        vertical-align: middle;\n",
       "    }\n",
       "\n",
       "    .dataframe tbody tr th {\n",
       "        vertical-align: top;\n",
       "    }\n",
       "\n",
       "    .dataframe thead th {\n",
       "        text-align: right;\n",
       "    }\n",
       "</style>\n",
       "<table border=\"1\" class=\"dataframe\">\n",
       "  <thead>\n",
       "    <tr style=\"text-align: right;\">\n",
       "      <th></th>\n",
       "      <th>Wheel-base</th>\n",
       "      <th>Length</th>\n",
       "      <th>Width</th>\n",
       "      <th>Height</th>\n",
       "      <th>Curb-weight</th>\n",
       "      <th>Cylinders</th>\n",
       "      <th>Engine</th>\n",
       "      <th>Compression-ratio</th>\n",
       "      <th>Horsepower</th>\n",
       "      <th>City-mpg</th>\n",
       "      <th>Highway-mpg</th>\n",
       "      <th>Price</th>\n",
       "    </tr>\n",
       "  </thead>\n",
       "  <tbody>\n",
       "    <tr>\n",
       "      <th>PC1</th>\n",
       "      <td>0.277979</td>\n",
       "      <td>0.321686</td>\n",
       "      <td>0.321682</td>\n",
       "      <td>0.103079</td>\n",
       "      <td>0.349180</td>\n",
       "      <td>0.266185</td>\n",
       "      <td>0.330652</td>\n",
       "      <td>0.001915</td>\n",
       "      <td>0.307748</td>\n",
       "      <td>-0.312220</td>\n",
       "      <td>-0.322087</td>\n",
       "      <td>0.327255</td>\n",
       "    </tr>\n",
       "    <tr>\n",
       "      <th>PC2</th>\n",
       "      <td>-0.378565</td>\n",
       "      <td>-0.243844</td>\n",
       "      <td>-0.176709</td>\n",
       "      <td>-0.534964</td>\n",
       "      <td>-0.093205</td>\n",
       "      <td>0.218563</td>\n",
       "      <td>0.130335</td>\n",
       "      <td>-0.495369</td>\n",
       "      <td>0.299615</td>\n",
       "      <td>-0.206541</td>\n",
       "      <td>-0.156646</td>\n",
       "      <td>0.063365</td>\n",
       "    </tr>\n",
       "    <tr>\n",
       "      <th>PC3</th>\n",
       "      <td>-0.122679</td>\n",
       "      <td>-0.135637</td>\n",
       "      <td>0.046858</td>\n",
       "      <td>-0.365581</td>\n",
       "      <td>0.043250</td>\n",
       "      <td>0.389548</td>\n",
       "      <td>0.270105</td>\n",
       "      <td>0.604756</td>\n",
       "      <td>0.050719</td>\n",
       "      <td>0.321182</td>\n",
       "      <td>0.293897</td>\n",
       "      <td>0.215166</td>\n",
       "    </tr>\n",
       "  </tbody>\n",
       "</table>\n",
       "</div>"
      ],
      "text/plain": [
       "     Wheel-base    Length     Width    Height  Curb-weight  Cylinders  \\\n",
       "PC1    0.277979  0.321686  0.321682  0.103079     0.349180   0.266185   \n",
       "PC2   -0.378565 -0.243844 -0.176709 -0.534964    -0.093205   0.218563   \n",
       "PC3   -0.122679 -0.135637  0.046858 -0.365581     0.043250   0.389548   \n",
       "\n",
       "       Engine  Compression-ratio  Horsepower  City-mpg  Highway-mpg     Price  \n",
       "PC1  0.330652           0.001915    0.307748 -0.312220    -0.322087  0.327255  \n",
       "PC2  0.130335          -0.495369    0.299615 -0.206541    -0.156646  0.063365  \n",
       "PC3  0.270105           0.604756    0.050719  0.321182     0.293897  0.215166  "
      ]
     },
     "execution_count": 31,
     "metadata": {},
     "output_type": "execute_result"
    }
   ],
   "source": [
    "pca2 = PCA(n_components = 3).fit(scaled_data) # fit a PCA object to extract first 2 PCs\n",
    "pca2_results = pca2.transform(scaled_data)\n",
    "pca_components_df = pd.DataFrame(pca2.components_, columns = scaled_data.columns) # Linear system for PC1 and PC2\n",
    "pca_components_df = pca_components_df.rename(index = {0:'PC1', 1:'PC2', 2: 'PC3'})\n",
    "pca_components_df"
   ]
  },
  {
   "cell_type": "code",
   "execution_count": 32,
   "metadata": {},
   "outputs": [],
   "source": [
    "def loadingplot(data, pca, width=5, height=5, margin=0.5):\n",
    "\n",
    "    fig, ax = plt.subplots(figsize = (width,height))\n",
    "\n",
    "    #Set limits for figure\n",
    "    x_min = min(pca.components_[0,:].min(),0)-margin\n",
    "    x_max = max(pca.components_[0,:].max(),0)+margin\n",
    "    y_min = min(pca.components_[1,:].min(),0)-margin\n",
    "    y_max = max(pca.components_[1,:].max(),0)+margin\n",
    "\n",
    "    ax.set_xlim(x_min, x_max)\n",
    "    ax.set_ylim(y_min, y_max)\n",
    "\n",
    "    #Scaling factor for text position\n",
    "    text_pos = 0.2\n",
    "\n",
    "    for i, v in enumerate(pca.components_.T):\n",
    "        ax.arrow(0, 0, v[0], v[1], head_width=0.1, head_length=0.1, linewidth=2, color='red')\n",
    "        ax.text(v[0], v[1]+text_pos, data.columns[i], color='black', ha='center', va='center', fontsize=12)\n",
    "\n",
    "    plt.plot([x_min, x_max], [0, 0], color='k', linestyle='--', linewidth=1)\n",
    "    plt.plot([0, 0], [y_min, y_max], color='k', linestyle='--', linewidth=1)\n",
    "    ax.set_xlabel(\"PC1\", fontsize=14)\n",
    "    ax.set_ylabel(\"PC2\", fontsize=14)\n",
    "    ax.set_title(\"Loading plot\", fontsize = 14)\n",
    "    \n",
    "    return ax"
   ]
  },
  {
   "cell_type": "code",
   "execution_count": 33,
   "metadata": {},
   "outputs": [
    {
     "data": {
      "image/png": "[encoded data removed]",
      "text/plain": [
       "<Figure size 500x500 with 1 Axes>"
      ]
     },
     "metadata": {},
     "output_type": "display_data"
    }
   ],
   "source": [
    "plt.clf\n",
    "ax2 = loadingplot(scaled_data, pca)  # Students to fill in\n",
    "plt.show()"
   ]
  },
  {
   "cell_type": "code",
   "execution_count": 36,
   "metadata": {},
   "outputs": [
    {
     "data": {
      "application/vnd.plotly.v1+json": {
       "config": {
        "plotlyServerURL": "https://plot.ly"
       },
       "data": [
        {
         "hovertemplate": "color=alfa-romero<br>0=%{x}<br>1=%{y}<extra></extra>",
         "legendgroup": "alfa-romero",
         "marker": {
          "color": "#636efa",
          "symbol": "circle"
         },
         "mode": "markers",
         "name": "alfa-romero",
         "orientation": "v",
         "showlegend": true,
         "type": "scatter",
         "x": [
          -0.7430539775210907,
          -0.6236073150059618,
          1.428803151717272
         ],
         "xaxis": "x",
         "y": [
          2.3466175396798725,
          2.369745374126109,
          1.919216582654533
         ],
         "yaxis": "y"
        },
        {
         "hovertemplate": "color=audi<br>0=%{x}<br>1=%{y}<extra></extra>",
         "legendgroup": "audi",
         "marker": {
          "color": "#EF553B",
          "symbol": "circle"
         },
         "mode": "markers",
         "name": "audi",
         "orientation": "v",
         "showlegend": true,
         "type": "scatter",
         "x": [
          1.574955002198382,
          1.020733649704923,
          2.8761430336919904,
          2.996764956786105,
          3.819986615233101,
          -0.13354218334512147
         ],
         "xaxis": "x",
         "y": [
          0.7029629798355059,
          0.7771295968316789,
          -0.9223837709434601,
          -0.9324299121704523,
          -0.5408527228336677,
          -0.2612022252669018
         ],
         "yaxis": "y"
        },
        {
         "hovertemplate": "color=bmw<br>0=%{x}<br>1=%{y}<extra></extra>",
         "legendgroup": "bmw",
         "marker": {
          "color": "#00cc96",
          "symbol": "circle"
         },
         "mode": "markers",
         "name": "bmw",
         "orientation": "v",
         "showlegend": true,
         "type": "scatter",
         "x": [
          -0.05959982048853435,
          -0.03992391435043491,
          1.5933536613006694,
          1.6349824493428642,
          2.9388825779809853,
          4.479152850880913,
          4.952594075557422,
          5.183966397796173,
          6.165008931427549
         ],
         "xaxis": "x",
         "y": [
          -0.03733710376382391,
          -0.033527360652047776,
          0.7607338022315836,
          0.7520933997745829,
          -0.03116021672871211,
          0.9217507542758927,
          0.9941726689138206,
          1.2438982556053293,
          -0.017514008763275163
         ],
         "yaxis": "y"
        },
        {
         "hovertemplate": "color=chevrolet<br>0=%{x}<br>1=%{y}<extra></extra>",
         "legendgroup": "chevrolet",
         "marker": {
          "color": "#ab63fa",
          "symbol": "circle"
         },
         "mode": "markers",
         "name": "chevrolet",
         "orientation": "v",
         "showlegend": true,
         "type": "scatter",
         "x": [
          -3.680315642244553,
          -3.572328487391448,
          -3.9793174551636388,
          -6.637049252208853
         ],
         "xaxis": "x",
         "y": [
          0.20830347080868467,
          0.14837133211227457,
          0.7787421290797675,
          -0.041670528989229044
         ],
         "yaxis": "y"
        },
        {
         "hovertemplate": "color=dodge<br>0=%{x}<br>1=%{y}<extra></extra>",
         "legendgroup": "dodge",
         "marker": {
          "color": "#FFA15A",
          "symbol": "circle"
         },
         "mode": "markers",
         "name": "dodge",
         "orientation": "v",
         "showlegend": true,
         "type": "scatter",
         "x": [
          -3.604653468649542,
          -3.3953943901603325,
          -3.145261707668055,
          -1.8718350782254145,
          -3.0996620738461873,
          -3.066753092749546,
          -3.0303029797624,
          -1.8149241909124099,
          -0.11125553224421618,
          0.9534860797533
         ],
         "xaxis": "x",
         "y": [
          0.5578675415895326,
          0.6717370797357388,
          0.8235692511501747,
          1.7062776188636346,
          0.8506099305182232,
          0.8503016178843449,
          0.8573592632045444,
          1.7440106462392557,
          -1.481504286707872,
          1.9961163917481564
         ],
         "yaxis": "y"
        },
        {
         "hovertemplate": "color=honda<br>0=%{x}<br>1=%{y}<extra></extra>",
         "legendgroup": "honda",
         "marker": {
          "color": "#19d3f3",
          "symbol": "circle"
         },
         "mode": "markers",
         "name": "honda",
         "orientation": "v",
         "showlegend": true,
         "type": "scatter",
         "x": [
          -5.55008919405492,
          -3.7124910027347253,
          -3.9621197305345914,
          -2.861947936491093,
          -2.82754922403588,
          -2.2370619189499186,
          -2.241257129133271,
          -1.4183705925346202,
          -1.3357274354737039,
          -1.1007224141580008,
          -1.4016252889979812,
          -0.33416135808423075,
          -0.9192299917842417
         ],
         "xaxis": "x",
         "y": [
          0.4965599288611093,
          1.6041772721421443,
          0.05424442807128396,
          0.75579236774811,
          0.7575944059522506,
          -0.10113480646733512,
          -0.8135953163895415,
          0.22819869992778347,
          0.2281069965284466,
          -0.10559041503436159,
          0.11518692111564446,
          0.2236737180373066,
          0.8551102877357946
         ],
         "yaxis": "y"
        },
        {
         "hovertemplate": "color=isuzu<br>0=%{x}<br>1=%{y}<extra></extra>",
         "legendgroup": "isuzu",
         "marker": {
          "color": "#FF6692",
          "symbol": "circle"
         },
         "mode": "markers",
         "name": "isuzu",
         "orientation": "v",
         "showlegend": true,
         "type": "scatter",
         "x": [
          -1.6400821181708798,
          -0.5048813546980877
         ],
         "xaxis": "x",
         "y": [
          0.6974921166553119,
          0.7377929132146803
         ],
         "yaxis": "y"
        },
        {
         "hovertemplate": "color=jaguar<br>0=%{x}<br>1=%{y}<extra></extra>",
         "legendgroup": "jaguar",
         "marker": {
          "color": "#B6E880",
          "symbol": "circle"
         },
         "mode": "markers",
         "name": "jaguar",
         "orientation": "v",
         "showlegend": true,
         "type": "scatter",
         "x": [
          6.595112642168012,
          6.726285349755342,
          8.882157452896372
         ],
         "xaxis": "x",
         "y": [
          0.609668757229008,
          0.6350670446408488,
          4.366818291848549
         ],
         "yaxis": "y"
        },
        {
         "hovertemplate": "color=mazda<br>0=%{x}<br>1=%{y}<extra></extra>",
         "legendgroup": "mazda",
         "marker": {
          "color": "#FF97FF",
          "symbol": "circle"
         },
         "mode": "markers",
         "name": "mazda",
         "orientation": "v",
         "showlegend": true,
         "type": "scatter",
         "x": [
          -2.5826814777763936,
          -2.9139630763804867,
          -2.882841959756867,
          -2.664542448474568,
          -2.6334213318509487,
          -0.5320681615123657,
          -0.45285662913938146,
          -0.4625068771857515,
          -0.38329534481276734,
          -1.4391731282169626,
          -0.3336562308043517,
          1.2058945360032767,
          -0.3334640985579751
         ],
         "xaxis": "x",
         "y": [
          0.2942922256245289,
          0.10933295831858963,
          0.11384052625694985,
          -0.04246588614011928,
          -0.03795831820175918,
          -0.2009279287881499,
          -0.6057746235932275,
          -0.18745914000914338,
          -0.5923058348142209,
          -3.0177492528657814,
          -0.5872492268030874,
          0.12568902781815455,
          -2.63789255309345
         ],
         "yaxis": "y"
        },
        {
         "hovertemplate": "color=mercedes-benz<br>0=%{x}<br>1=%{y}<extra></extra>",
         "legendgroup": "mercedes-benz",
         "marker": {
          "color": "#FECB52",
          "symbol": "circle"
         },
         "mode": "markers",
         "name": "mercedes-benz",
         "orientation": "v",
         "showlegend": true,
         "type": "scatter",
         "x": [
          7.279632764691122,
          5.430536280027578,
          9.050303723417242,
          8.434222495909886,
          3.9827222756474274,
          4.338498796841942,
          3.7701601323055742,
          5.142496957478421
         ],
         "xaxis": "x",
         "y": [
          -0.3736334842964695,
          2.5995520063171775,
          -0.22220116014979907,
          0.8137835641316475,
          -2.7257537753518966,
          -3.2325044791254154,
          -2.0799255989734724,
          -3.3648807859364114
         ],
         "yaxis": "y"
        },
        {
         "hovertemplate": "color=mercury<br>0=%{x}<br>1=%{y}<extra></extra>",
         "legendgroup": "mercury",
         "marker": {
          "color": "#636efa",
          "symbol": "circle"
         },
         "mode": "markers",
         "name": "mercury",
         "orientation": "v",
         "showlegend": true,
         "type": "scatter",
         "x": [
          2.1643938092638755
         ],
         "xaxis": "x",
         "y": [
          0.39467467631273934
         ],
         "yaxis": "y"
        },
        {
         "hovertemplate": "color=mitsubishi<br>0=%{x}<br>1=%{y}<extra></extra>",
         "legendgroup": "mitsubishi",
         "marker": {
          "color": "#EF553B",
          "symbol": "circle"
         },
         "mode": "markers",
         "name": "mitsubishi",
         "orientation": "v",
         "showlegend": true,
         "type": "scatter",
         "x": [
          -3.4787802315125878,
          -3.002440158335065,
          -2.943801257061221,
          -1.902896270601936,
          -0.6807096575453363,
          -1.0857009892544793,
          0.9546751151970049,
          1.1017337700514125,
          1.0899256369191788,
          -1.0429205820327625,
          -0.9688485924935781,
          -0.6075746092145187,
          -0.6075746092145187
         ],
         "xaxis": "x",
         "y": [
          0.5072853808537594,
          0.7671506691097288,
          0.7602855945816327,
          1.7442804269912804,
          1.5856771679139157,
          1.16859324780615,
          1.9896663114310513,
          1.9914192837791125,
          1.9876146849281429,
          0.6758884055152429,
          0.6780845658063362,
          1.1000643377882167,
          1.1000643377882167
         ],
         "yaxis": "y"
        },
        {
         "hovertemplate": "color=nissan<br>0=%{x}<br>1=%{y}<extra></extra>",
         "legendgroup": "nissan",
         "marker": {
          "color": "#00cc96",
          "symbol": "circle"
         },
         "mode": "markers",
         "name": "nissan",
         "orientation": "v",
         "showlegend": true,
         "type": "scatter",
         "x": [
          -2.664420372157553,
          -3.8523131837555544,
          -2.5995883742493864,
          -2.5784521016115916,
          -2.4197894209678688,
          -2.551993746691587,
          -2.524812728726411,
          -2.530857474053793,
          -2.3853812049819654,
          -2.5744254739925143,
          -0.9561131397912148,
          -0.946768609322604,
          2.782176396225406,
          3.0668335446369976,
          2.5973640901406654,
          2.0307436598202906,
          2.6857747091829713,
          2.6785409128634377
         ],
         "xaxis": "x",
         "y": [
          -0.15426806094362766,
          -2.521820102335422,
          -0.15052083852794385,
          -0.15250133867474147,
          -0.03731242176532476,
          -0.1513257995362844,
          0.09835442797848404,
          -0.1533062996830821,
          -0.03459759248069562,
          0.13014449880462325,
          -0.08939738101940561,
          -0.0809077412586223,
          0.8328599624488036,
          0.5275113642277309,
          0.6517424287172415,
          2.6472340452983634,
          3.2237747702140283,
          2.008144632529882
         ],
         "yaxis": "y"
        },
        {
         "hovertemplate": "color=peugot<br>0=%{x}<br>1=%{y}<extra></extra>",
         "legendgroup": "peugot",
         "marker": {
          "color": "#ab63fa",
          "symbol": "circle"
         },
         "mode": "markers",
         "name": "peugot",
         "orientation": "v",
         "showlegend": true,
         "type": "scatter",
         "x": [
          1.853934335338167,
          1.414831803549931,
          2.6939537312301773,
          2.7909007665325665,
          2.020354452185901,
          1.5981668650917715,
          2.7980732822274392,
          2.9549574149896025,
          2.078211181369386,
          1.63990363568774,
          2.6554279422354967
         ],
         "xaxis": "x",
         "y": [
          -1.3160315431948735,
          -3.2823194262361595,
          -2.413578021931177,
          -4.106769293553733,
          -1.313081995214091,
          -3.2635219818376413,
          -1.9642550156878558,
          -4.0917046277596825,
          -1.2893067545435684,
          -3.2554407085702373,
          -0.5309356358991306
         ],
         "yaxis": "y"
        },
        {
         "hovertemplate": "color=plymouth<br>0=%{x}<br>1=%{y}<extra></extra>",
         "legendgroup": "plymouth",
         "marker": {
          "color": "#FFA15A",
          "symbol": "circle"
         },
         "mode": "markers",
         "name": "plymouth",
         "orientation": "v",
         "showlegend": true,
         "type": "scatter",
         "x": [
          -3.57696672802778,
          -1.8718350782254145,
          -3.0996620738461873,
          -2.8038197645217466,
          -2.570898343240674,
          -0.11125553224421618,
          0.9501514627375648
         ],
         "xaxis": "x",
         "y": [
          0.5516981936444536,
          1.7062776188636346,
          0.8506099305182232,
          0.6132533287049307,
          0.6097078824706673,
          -1.481504286707872,
          1.9933451749994449
         ],
         "yaxis": "y"
        },
        {
         "hovertemplate": "color=porsche<br>0=%{x}<br>1=%{y}<extra></extra>",
         "legendgroup": "porsche",
         "marker": {
          "color": "#19d3f3",
          "symbol": "circle"
         },
         "mode": "markers",
         "name": "porsche",
         "orientation": "v",
         "showlegend": true,
         "type": "scatter",
         "x": [
          1.2237093286659109,
          2.530764760649147,
          2.5903887186433874,
          2.73864674009004
         ],
         "xaxis": "x",
         "y": [
          1.6717912183165984,
          3.195933122376757,
          3.207477798473048,
          3.2228236120210974
         ],
         "yaxis": "y"
        },
        {
         "hovertemplate": "color=saab<br>0=%{x}<br>1=%{y}<extra></extra>",
         "legendgroup": "saab",
         "marker": {
          "color": "#FF6692",
          "symbol": "circle"
         },
         "mode": "markers",
         "name": "saab",
         "orientation": "v",
         "showlegend": true,
         "type": "scatter",
         "x": [
          0.734935708727981,
          0.7720456241622077,
          0.8940379774009923,
          0.9463455004141887,
          1.6760986061755379,
          1.7204942822455966
         ],
         "xaxis": "x",
         "y": [
          -0.5810429986261003,
          -0.5838695347640613,
          -0.5638925953422724,
          -0.5692507287458408,
          -0.01999390276278551,
          -0.02324016199057205
         ],
         "yaxis": "y"
        },
        {
         "hovertemplate": "color=subaru<br>0=%{x}<br>1=%{y}<extra></extra>",
         "legendgroup": "subaru",
         "marker": {
          "color": "#B6E880",
          "symbol": "circle"
         },
         "mode": "markers",
         "name": "subaru",
         "orientation": "v",
         "showlegend": true,
         "type": "scatter",
         "x": [
          -2.8707435621521853,
          -2.100755847210109,
          -1.9180711698591724,
          -1.8407937200585396,
          -1.4073436819621599,
          -0.9826436975070008,
          -0.5893649238166061,
          -0.3793946716483759,
          -1.2571056552795425,
          -0.7524472905216882,
          -0.6911777553013055,
          0.11906184287534272
         ],
         "xaxis": "x",
         "y": [
          0.3067930869072416,
          0.6478288807084925,
          0.20875686972199037,
          -0.07909369986540477,
          0.13542604170636097,
          0.3672133656333306,
          0.09594332167805109,
          0.38547761298305594,
          0.07205095583109025,
          0.2760544514814785,
          -0.13567242238817573,
          0.3743957783642697
         ],
         "yaxis": "y"
        },
        {
         "hovertemplate": "color=toyota<br>0=%{x}<br>1=%{y}<extra></extra>",
         "legendgroup": "toyota",
         "marker": {
          "color": "#FF97FF",
          "symbol": "circle"
         },
         "mode": "markers",
         "name": "toyota",
         "orientation": "v",
         "showlegend": true,
         "type": "scatter",
         "x": [
          -3.131818974254041,
          -2.8177978927350518,
          -2.8283185114004974,
          -2.1142615852883537,
          -1.6442051888851636,
          -1.0685829257474817,
          -2.3114659848005887,
          -2.291185830855759,
          -2.302283895910834,
          -3.0188341834943015,
          -3.1201131158039375,
          -2.0009882542078623,
          -1.9533461089966115,
          -1.263479316803167,
          -1.2308632632732708,
          -0.07412115627869295,
          -0.029456765250974487,
          -0.005654699706729827,
          0.12683499380209076,
          0.1638234709182312,
          0.6217500987554383,
          -0.5815859617494826,
          -0.6534877759439122,
          -0.33581302504754645,
          -0.25671879487421356,
          2.7879162263859096,
          2.8399997082768125,
          2.907065301483864,
          2.891496251834933
         ],
         "xaxis": "x",
         "y": [
          -0.2962621063891153,
          -0.14876032502239803,
          -0.14320611954655668,
          -1.3925255849710216,
          -1.1466711669420482,
          -1.2842096923106525,
          0.10372660696283215,
          0.14499477765192828,
          -1.7497567890489563,
          -2.0822454996949102,
          -0.37254767906133923,
          0.2829844516652018,
          0.2867434460593038,
          0.8268919682585483,
          0.8225794834212579,
          0.6228351779229265,
          0.632697912351245,
          0.6327518273873189,
          0.6195378748966539,
          0.6160719996397581,
          0.3962670152432238,
          -0.7238322117290822,
          -2.619736820756499,
          -0.40161884410859744,
          -0.3996648548322463,
          1.1377111414781365,
          1.158095098531974,
          0.5298325290842765,
          0.5273245878785522
         ],
         "yaxis": "y"
        },
        {
         "hovertemplate": "color=volkswagen<br>0=%{x}<br>1=%{y}<extra></extra>",
         "legendgroup": "volkswagen",
         "marker": {
          "color": "#FECB52",
          "symbol": "circle"
         },
         "mode": "markers",
         "name": "volkswagen",
         "orientation": "v",
         "showlegend": true,
         "type": "scatter",
         "x": [
          1.366760851059067,
          -2.5714666065920198,
          -1.2054930234591623,
          -2.5607437976837466,
          -1.1947702145508892,
          -1.1413082265005694,
          -2.1497953051923986,
          -0.8028078099944784,
          -1.2557485736788885,
          -1.3875819297811156,
          -0.8875972152374856,
          0.07278494423161166
         ],
         "xaxis": "x",
         "y": [
          0.17358535889866875,
          -3.0922150811228444,
          -0.48519163071413446,
          -3.091049830506001,
          -0.4840263800972905,
          -0.49280478430088714,
          -2.873122765480044,
          -0.4131876710089409,
          0.38358754067221645,
          1.1980436783222024,
          -3.0048753121281937,
          -0.7522377466492116
         ],
         "yaxis": "y"
        },
        {
         "hovertemplate": "color=volvo<br>0=%{x}<br>1=%{y}<extra></extra>",
         "legendgroup": "volvo",
         "marker": {
          "color": "#636efa",
          "symbol": "circle"
         },
         "mode": "markers",
         "name": "volvo",
         "orientation": "v",
         "showlegend": true,
         "type": "scatter",
         "x": [
          1.5946858942776796,
          1.5282469312922617,
          1.675213035696241,
          2.611419504555048,
          2.7616822118520012,
          2.0625821143047016,
          2.9008838428132178,
          2.6963161171618104,
          3.6911060368713264,
          2.8550737037083014,
          3.0326705258909774
         ],
         "xaxis": "x",
         "y": [
          -1.3571976621226947,
          -1.0644621724332501,
          -1.366480131023273,
          -0.1203844867557888,
          -0.4232823929190539,
          -1.3091859441260163,
          -0.6475629532826417,
          -1.089242550558951,
          -0.2445986645639983,
          -2.6600438661833956,
          -1.211960272504181
         ],
         "yaxis": "y"
        }
       ],
       "layout": {
        "annotations": [
         {
          "ax": 0,
          "ay": 0,
          "text": "Wheel-base",
          "x": 0.7652331482429765,
          "xanchor": "center",
          "y": -0.5354758702191867,
          "yanchor": "bottom"
         },
         {
          "ax": 0,
          "ay": 0,
          "text": "Length",
          "x": 0.885552281297653,
          "xanchor": "center",
          "y": -0.34491514366189385,
          "yanchor": "bottom"
         },
         {
          "ax": 0,
          "ay": 0,
          "text": "Width",
          "x": 0.8855401205550174,
          "xanchor": "center",
          "y": -0.24995337119468292,
          "yanchor": "bottom"
         },
         {
          "ax": 0,
          "ay": 0,
          "text": "Height",
          "x": 0.28376104339399366,
          "xanchor": "center",
          "y": -0.7567011991960495,
          "yanchor": "bottom"
         },
         {
          "ax": 0,
          "ay": 0,
          "text": "Curb-weight",
          "x": 0.9612397830502166,
          "xanchor": "center",
          "y": -0.13183774136629617,
          "yanchor": "bottom"
         },
         {
          "ax": 0,
          "ay": 0,
          "text": "Cylinders",
          "x": 0.7327663663492598,
          "xanchor": "center",
          "y": 0.30915526863383763,
          "yanchor": "bottom"
         },
         {
          "ax": 0,
          "ay": 0,
          "text": "Engine",
          "x": 0.9102350324499876,
          "xanchor": "center",
          "y": 0.1843575483047094,
          "yanchor": "bottom"
         },
         {
          "ax": 0,
          "ay": 0,
          "text": "Compression-ratio",
          "x": 0.005270417773826678,
          "xanchor": "center",
          "y": -0.7006948505607717,
          "yanchor": "bottom"
         },
         {
          "ax": 0,
          "ay": 0,
          "text": "Horsepower",
          "x": 0.8471817775870746,
          "xanchor": "center",
          "y": 0.4238022763679607,
          "yanchor": "bottom"
         },
         {
          "ax": 0,
          "ay": 0,
          "text": "City-mpg",
          "x": -0.8594933998315529,
          "xanchor": "center",
          "y": -0.29215067899801267,
          "yanchor": "bottom"
         },
         {
          "ax": 0,
          "ay": 0,
          "text": "Highway-mpg",
          "x": -0.8866554928273795,
          "xanchor": "center",
          "y": -0.22157364009880626,
          "yanchor": "bottom"
         },
         {
          "ax": 0,
          "ay": 0,
          "text": "Price",
          "x": 0.9008833981720438,
          "xanchor": "center",
          "y": 0.08962876016777555,
          "yanchor": "bottom"
         }
        ],
        "height": 1300,
        "legend": {
         "title": {
          "text": "Brand"
         },
         "tracegroupgap": 0
        },
        "margin": {
         "t": 60
        },
        "shapes": [
         {
          "type": "line",
          "x0": 0,
          "x1": 0.7652331482429765,
          "y0": 0,
          "y1": -0.5354758702191867
         },
         {
          "type": "line",
          "x0": 0,
          "x1": 0.885552281297653,
          "y0": 0,
          "y1": -0.34491514366189385
         },
         {
          "type": "line",
          "x0": 0,
          "x1": 0.8855401205550174,
          "y0": 0,
          "y1": -0.24995337119468292
         },
         {
          "type": "line",
          "x0": 0,
          "x1": 0.28376104339399366,
          "y0": 0,
          "y1": -0.7567011991960495
         },
         {
          "type": "line",
          "x0": 0,
          "x1": 0.9612397830502166,
          "y0": 0,
          "y1": -0.13183774136629617
         },
         {
          "type": "line",
          "x0": 0,
          "x1": 0.7327663663492598,
          "y0": 0,
          "y1": 0.30915526863383763
         },
         {
          "type": "line",
          "x0": 0,
          "x1": 0.9102350324499876,
          "y0": 0,
          "y1": 0.1843575483047094
         },
         {
          "type": "line",
          "x0": 0,
          "x1": 0.005270417773826678,
          "y0": 0,
          "y1": -0.7006948505607717
         },
         {
          "type": "line",
          "x0": 0,
          "x1": 0.8471817775870746,
          "y0": 0,
          "y1": 0.4238022763679607
         },
         {
          "type": "line",
          "x0": 0,
          "x1": -0.8594933998315529,
          "y0": 0,
          "y1": -0.29215067899801267
         },
         {
          "type": "line",
          "x0": 0,
          "x1": -0.8866554928273795,
          "y0": 0,
          "y1": -0.22157364009880626
         },
         {
          "type": "line",
          "x0": 0,
          "x1": 0.9008833981720438,
          "y0": 0,
          "y1": 0.08962876016777555
         }
        ],
        "template": {
         "data": {
          "bar": [
           {
            "error_x": {
             "color": "#2a3f5f"
            },
            "error_y": {
             "color": "#2a3f5f"
            },
            "marker": {
             "line": {
              "color": "#E5ECF6",
              "width": 0.5
             },
             "pattern": {
              "fillmode": "overlay",
              "size": 10,
              "solidity": 0.2
             }
            },
            "type": "bar"
           }
          ],
          "barpolar": [
           {
            "marker": {
             "line": {
              "color": "#E5ECF6",
              "width": 0.5
             },
             "pattern": {
              "fillmode": "overlay",
              "size": 10,
              "solidity": 0.2
             }
            },
            "type": "barpolar"
           }
          ],
          "carpet": [
           {
            "aaxis": {
             "endlinecolor": "#2a3f5f",
             "gridcolor": "white",
             "linecolor": "white",
             "minorgridcolor": "white",
             "startlinecolor": "#2a3f5f"
            },
            "baxis": {
             "endlinecolor": "#2a3f5f",
             "gridcolor": "white",
             "linecolor": "white",
             "minorgridcolor": "white",
             "startlinecolor": "#2a3f5f"
            },
            "type": "carpet"
           }
          ],
          "choropleth": [
           {
            "colorbar": {
             "outlinewidth": 0,
             "ticks": ""
            },
            "type": "choropleth"
           }
          ],
          "contour": [
           {
            "colorbar": {
             "outlinewidth": 0,
             "ticks": ""
            },
            "colorscale": [
             [
              0,
              "#0d0887"
             ],
             [
              0.1111111111111111,
              "#46039f"
             ],
             [
              0.2222222222222222,
              "#7201a8"
             ],
             [
              0.3333333333333333,
              "#9c179e"
             ],
             [
              0.4444444444444444,
              "#bd3786"
             ],
             [
              0.5555555555555556,
              "#d8576b"
             ],
             [
              0.6666666666666666,
              "#ed7953"
             ],
             [
              0.7777777777777778,
              "#fb9f3a"
             ],
             [
              0.8888888888888888,
              "#fdca26"
             ],
             [
              1,
              "#f0f921"
             ]
            ],
            "type": "contour"
           }
          ],
          "contourcarpet": [
           {
            "colorbar": {
             "outlinewidth": 0,
             "ticks": ""
            },
            "type": "contourcarpet"
           }
          ],
          "heatmap": [
           {
            "colorbar": {
             "outlinewidth": 0,
             "ticks": ""
            },
            "colorscale": [
             [
              0,
              "#0d0887"
             ],
             [
              0.1111111111111111,
              "#46039f"
             ],
             [
              0.2222222222222222,
              "#7201a8"
             ],
             [
              0.3333333333333333,
              "#9c179e"
             ],
             [
              0.4444444444444444,
              "#bd3786"
             ],
             [
              0.5555555555555556,
              "#d8576b"
             ],
             [
              0.6666666666666666,
              "#ed7953"
             ],
             [
              0.7777777777777778,
              "#fb9f3a"
             ],
             [
              0.8888888888888888,
              "#fdca26"
             ],
             [
              1,
              "#f0f921"
             ]
            ],
            "type": "heatmap"
           }
          ],
          "heatmapgl": [
           {
            "colorbar": {
             "outlinewidth": 0,
             "ticks": ""
            },
            "colorscale": [
             [
              0,
              "#0d0887"
             ],
             [
              0.1111111111111111,
              "#46039f"
             ],
             [
              0.2222222222222222,
              "#7201a8"
             ],
             [
              0.3333333333333333,
              "#9c179e"
             ],
             [
              0.4444444444444444,
              "#bd3786"
             ],
             [
              0.5555555555555556,
              "#d8576b"
             ],
             [
              0.6666666666666666,
              "#ed7953"
             ],
             [
              0.7777777777777778,
              "#fb9f3a"
             ],
             [
              0.8888888888888888,
              "#fdca26"
             ],
             [
              1,
              "#f0f921"
             ]
            ],
            "type": "heatmapgl"
           }
          ],
          "histogram": [
           {
            "marker": {
             "pattern": {
              "fillmode": "overlay",
              "size": 10,
              "solidity": 0.2
             }
            },
            "type": "histogram"
           }
          ],
          "histogram2d": [
           {
            "colorbar": {
             "outlinewidth": 0,
             "ticks": ""
            },
            "colorscale": [
             [
              0,
              "#0d0887"
             ],
             [
              0.1111111111111111,
              "#46039f"
             ],
             [
              0.2222222222222222,
              "#7201a8"
             ],
             [
              0.3333333333333333,
              "#9c179e"
             ],
             [
              0.4444444444444444,
              "#bd3786"
             ],
             [
              0.5555555555555556,
              "#d8576b"
             ],
             [
              0.6666666666666666,
              "#ed7953"
             ],
             [
              0.7777777777777778,
              "#fb9f3a"
             ],
             [
              0.8888888888888888,
              "#fdca26"
             ],
             [
              1,
              "#f0f921"
             ]
            ],
            "type": "histogram2d"
           }
          ],
          "histogram2dcontour": [
           {
            "colorbar": {
             "outlinewidth": 0,
             "ticks": ""
            },
            "colorscale": [
             [
              0,
              "#0d0887"
             ],
             [
              0.1111111111111111,
              "#46039f"
             ],
             [
              0.2222222222222222,
              "#7201a8"
             ],
             [
              0.3333333333333333,
              "#9c179e"
             ],
             [
              0.4444444444444444,
              "#bd3786"
             ],
             [
              0.5555555555555556,
              "#d8576b"
             ],
             [
              0.6666666666666666,
              "#ed7953"
             ],
             [
              0.7777777777777778,
              "#fb9f3a"
             ],
             [
              0.8888888888888888,
              "#fdca26"
             ],
             [
              1,
              "#f0f921"
             ]
            ],
            "type": "histogram2dcontour"
           }
          ],
          "mesh3d": [
           {
            "colorbar": {
             "outlinewidth": 0,
             "ticks": ""
            },
            "type": "mesh3d"
           }
          ],
          "parcoords": [
           {
            "line": {
             "colorbar": {
              "outlinewidth": 0,
              "ticks": ""
             }
            },
            "type": "parcoords"
           }
          ],
          "pie": [
           {
            "automargin": true,
            "type": "pie"
           }
          ],
          "scatter": [
           {
            "fillpattern": {
             "fillmode": "overlay",
             "size": 10,
             "solidity": 0.2
            },
            "type": "scatter"
           }
          ],
          "scatter3d": [
           {
            "line": {
             "colorbar": {
              "outlinewidth": 0,
              "ticks": ""
             }
            },
            "marker": {
             "colorbar": {
              "outlinewidth": 0,
              "ticks": ""
             }
            },
            "type": "scatter3d"
           }
          ],
          "scattercarpet": [
           {
            "marker": {
             "colorbar": {
              "outlinewidth": 0,
              "ticks": ""
             }
            },
            "type": "scattercarpet"
           }
          ],
          "scattergeo": [
           {
            "marker": {
             "colorbar": {
              "outlinewidth": 0,
              "ticks": ""
             }
            },
            "type": "scattergeo"
           }
          ],
          "scattergl": [
           {
            "marker": {
             "colorbar": {
              "outlinewidth": 0,
              "ticks": ""
             }
            },
            "type": "scattergl"
           }
          ],
          "scattermapbox": [
           {
            "marker": {
             "colorbar": {
              "outlinewidth": 0,
              "ticks": ""
             }
            },
            "type": "scattermapbox"
           }
          ],
          "scatterpolar": [
           {
            "marker": {
             "colorbar": {
              "outlinewidth": 0,
              "ticks": ""
             }
            },
            "type": "scatterpolar"
           }
          ],
          "scatterpolargl": [
           {
            "marker": {
             "colorbar": {
              "outlinewidth": 0,
              "ticks": ""
             }
            },
            "type": "scatterpolargl"
           }
          ],
          "scatterternary": [
           {
            "marker": {
             "colorbar": {
              "outlinewidth": 0,
              "ticks": ""
             }
            },
            "type": "scatterternary"
           }
          ],
          "surface": [
           {
            "colorbar": {
             "outlinewidth": 0,
             "ticks": ""
            },
            "colorscale": [
             [
              0,
              "#0d0887"
             ],
             [
              0.1111111111111111,
              "#46039f"
             ],
             [
              0.2222222222222222,
              "#7201a8"
             ],
             [
              0.3333333333333333,
              "#9c179e"
             ],
             [
              0.4444444444444444,
              "#bd3786"
             ],
             [
              0.5555555555555556,
              "#d8576b"
             ],
             [
              0.6666666666666666,
              "#ed7953"
             ],
             [
              0.7777777777777778,
              "#fb9f3a"
             ],
             [
              0.8888888888888888,
              "#fdca26"
             ],
             [
              1,
              "#f0f921"
             ]
            ],
            "type": "surface"
           }
          ],
          "table": [
           {
            "cells": {
             "fill": {
              "color": "#EBF0F8"
             },
             "line": {
              "color": "white"
             }
            },
            "header": {
             "fill": {
              "color": "#C8D4E3"
             },
             "line": {
              "color": "white"
             }
            },
            "type": "table"
           }
          ]
         },
         "layout": {
          "annotationdefaults": {
           "arrowcolor": "#2a3f5f",
           "arrowhead": 0,
           "arrowwidth": 1
          },
          "autotypenumbers": "strict",
          "coloraxis": {
           "colorbar": {
            "outlinewidth": 0,
            "ticks": ""
           }
          },
          "colorscale": {
           "diverging": [
            [
             0,
             "#8e0152"
            ],
            [
             0.1,
             "#c51b7d"
            ],
            [
             0.2,
             "#de77ae"
            ],
            [
             0.3,
             "#f1b6da"
            ],
            [
             0.4,
             "#fde0ef"
            ],
            [
             0.5,
             "#f7f7f7"
            ],
            [
             0.6,
             "#e6f5d0"
            ],
            [
             0.7,
             "#b8e186"
            ],
            [
             0.8,
             "#7fbc41"
            ],
            [
             0.9,
             "#4d9221"
            ],
            [
             1,
             "#276419"
            ]
           ],
           "sequential": [
            [
             0,
             "#0d0887"
            ],
            [
             0.1111111111111111,
             "#46039f"
            ],
            [
             0.2222222222222222,
             "#7201a8"
            ],
            [
             0.3333333333333333,
             "#9c179e"
            ],
            [
             0.4444444444444444,
             "#bd3786"
            ],
            [
             0.5555555555555556,
             "#d8576b"
            ],
            [
             0.6666666666666666,
             "#ed7953"
            ],
            [
             0.7777777777777778,
             "#fb9f3a"
            ],
            [
             0.8888888888888888,
             "#fdca26"
            ],
            [
             1,
             "#f0f921"
            ]
           ],
           "sequentialminus": [
            [
             0,
             "#0d0887"
            ],
            [
             0.1111111111111111,
             "#46039f"
            ],
            [
             0.2222222222222222,
             "#7201a8"
            ],
            [
             0.3333333333333333,
             "#9c179e"
            ],
            [
             0.4444444444444444,
             "#bd3786"
            ],
            [
             0.5555555555555556,
             "#d8576b"
            ],
            [
             0.6666666666666666,
             "#ed7953"
            ],
            [
             0.7777777777777778,
             "#fb9f3a"
            ],
            [
             0.8888888888888888,
             "#fdca26"
            ],
            [
             1,
             "#f0f921"
            ]
           ]
          },
          "colorway": [
           "#636efa",
           "#EF553B",
           "#00cc96",
           "#ab63fa",
           "#FFA15A",
           "#19d3f3",
           "#FF6692",
           "#B6E880",
           "#FF97FF",
           "#FECB52"
          ],
          "font": {
           "color": "#2a3f5f"
          },
          "geo": {
           "bgcolor": "white",
           "lakecolor": "white",
           "landcolor": "#E5ECF6",
           "showlakes": true,
           "showland": true,
           "subunitcolor": "white"
          },
          "hoverlabel": {
           "align": "left"
          },
          "hovermode": "closest",
          "mapbox": {
           "style": "light"
          },
          "paper_bgcolor": "white",
          "plot_bgcolor": "#E5ECF6",
          "polar": {
           "angularaxis": {
            "gridcolor": "white",
            "linecolor": "white",
            "ticks": ""
           },
           "bgcolor": "#E5ECF6",
           "radialaxis": {
            "gridcolor": "white",
            "linecolor": "white",
            "ticks": ""
           }
          },
          "scene": {
           "xaxis": {
            "backgroundcolor": "#E5ECF6",
            "gridcolor": "white",
            "gridwidth": 2,
            "linecolor": "white",
            "showbackground": true,
            "ticks": "",
            "zerolinecolor": "white"
           },
           "yaxis": {
            "backgroundcolor": "#E5ECF6",
            "gridcolor": "white",
            "gridwidth": 2,
            "linecolor": "white",
            "showbackground": true,
            "ticks": "",
            "zerolinecolor": "white"
           },
           "zaxis": {
            "backgroundcolor": "#E5ECF6",
            "gridcolor": "white",
            "gridwidth": 2,
            "linecolor": "white",
            "showbackground": true,
            "ticks": "",
            "zerolinecolor": "white"
           }
          },
          "shapedefaults": {
           "line": {
            "color": "#2a3f5f"
           }
          },
          "ternary": {
           "aaxis": {
            "gridcolor": "white",
            "linecolor": "white",
            "ticks": ""
           },
           "baxis": {
            "gridcolor": "white",
            "linecolor": "white",
            "ticks": ""
           },
           "bgcolor": "#E5ECF6",
           "caxis": {
            "gridcolor": "white",
            "linecolor": "white",
            "ticks": ""
           }
          },
          "title": {
           "x": 0.05
          },
          "xaxis": {
           "automargin": true,
           "gridcolor": "white",
           "linecolor": "white",
           "ticks": "",
           "title": {
            "standoff": 15
           },
           "zerolinecolor": "white",
           "zerolinewidth": 2
          },
          "yaxis": {
           "automargin": true,
           "gridcolor": "white",
           "linecolor": "white",
           "ticks": "",
           "title": {
            "standoff": 15
           },
           "zerolinecolor": "white",
           "zerolinewidth": 2
          }
         }
        },
        "width": 1500,
        "xaxis": {
         "anchor": "y",
         "domain": [
          0,
          1
         ],
         "title": {
          "text": "PC1"
         }
        },
        "yaxis": {
         "anchor": "x",
         "domain": [
          0,
          1
         ],
         "title": {
          "text": "PC2"
         }
        }
       }
      }
     },
     "metadata": {},
     "output_type": "display_data"
    }
   ],
   "source": [
    "type_data = pd.concat([cars_df['Brand'], scaled_data], axis = 1) # combine original data with standardized data\n",
    "\n",
    "def calc_line(protein, fat, carb, sugar, vitA, vitB6, vitB12, calcium): # calculate direction on biplot using nutrient values\n",
    "    variables = pd.DataFrame([[protein, fat, carb, sugar, vitA, vitB6, vitB12, calcium]], columns = cleaned_cars.columns) # create dataframe for values\n",
    "    variables_scaled = scaler.transform(variables)[0] # standardize the values (using fit from original data) and make into 1d array\n",
    "    calc_pc1 = np.dot(np.array(pca2.components_)[0], variables_scaled) # calculate pc1\n",
    "    calc_pc2 = np.dot(np.array(pca2.components_)[1], variables_scaled) # calculate pc2\n",
    "\n",
    "    return calc_pc1, calc_pc2\n",
    "\n",
    "fig = px.scatter(pca2_results, x=0, y=1, color=type_data['Brand']) # create 2D scoreplot for PC1 and PC2\n",
    "fig.update_layout(\n",
    "    xaxis_title=\"PC1\",\n",
    "    yaxis_title=\"PC2\",\n",
    "    legend_title=\"Brand\",\n",
    "    width = 1500, \n",
    "    height = 1300\n",
    ")\n",
    "\n",
    "loadings = pca2.components_.T * np.sqrt(pca2.explained_variance_) # calculate loadings for the PCA\n",
    "\n",
    "# # add loadings to the plot\n",
    "features = list(scaled_data.columns) \n",
    "for i, feature in enumerate(features):\n",
    "    fig.add_shape(\n",
    "        type='line',\n",
    "        x0=0, y0=0,\n",
    "        x1=loadings[i, 0],\n",
    "        y1=loadings[i, 1]\n",
    "    )\n",
    "    fig.add_annotation(\n",
    "        x=loadings[i, 0],\n",
    "        y=loadings[i, 1],\n",
    "        ax=0, ay=0,\n",
    "        xanchor=\"center\",\n",
    "        yanchor=\"bottom\",\n",
    "        text=feature,\n",
    "    )\n",
    "\n",
    "fig.show()"
   ]
  }
 ],
 "metadata": {
  "kernelspec": {
   "display_name": "Python 3",
   "language": "python",
   "name": "python3"
  },
  "language_info": {
   "codemirror_mode": {
    "name": "ipython",
    "version": 3
   },
   "file_extension": ".py",
   "mimetype": "text/x-python",
   "name": "python",
   "nbconvert_exporter": "python",
   "pygments_lexer": "ipython3",
   "version": "3.10.9"
  },
  "orig_nbformat": 4
 },
 "nbformat": 4,
 "nbformat_minor": 2
}
