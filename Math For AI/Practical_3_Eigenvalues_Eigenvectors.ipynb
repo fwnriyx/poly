{
 "cells": [
  {
   "cell_type": "markdown",
   "metadata": {},
   "source": [
    "# Practical 3: Eigenvalues and Eigenvectors"
   ]
  },
  {
   "cell_type": "markdown",
   "metadata": {},
   "source": [
    "### Eigenvalues & Eigenvectors of a Square Matrix"
   ]
  },
  {
   "cell_type": "code",
   "execution_count": 1,
   "metadata": {},
   "outputs": [
    {
     "name": "stdout",
     "output_type": "stream",
     "text": [
      "[[ 2  0  1]\n",
      " [-1  4 -1]\n",
      " [-1  2  0]]\n",
      "Eigenvalues are:  [3. 2. 1.]\n",
      "Eigenvectors are:  [[ 4.08248290e-01  8.94427191e-01 -7.07106781e-01]\n",
      " [ 8.16496581e-01  4.47213595e-01 -8.72620868e-17]\n",
      " [ 4.08248290e-01 -4.12775854e-16  7.07106781e-01]]\n"
     ]
    }
   ],
   "source": [
    "import numpy as np\n",
    "# Define square matrix A\n",
    "A = np.array([[2,0,1],[-1,4,-1],[-1,2,0]])\n",
    "print(A)\n",
    "eigvals, eigvecs = np.linalg.eig(A)\n",
    "print(\"Eigenvalues are: \", eigvals)\n",
    "print(\"Eigenvectors are: \", eigvecs)"
   ]
  },
  {
   "cell_type": "code",
   "execution_count": 2,
   "metadata": {},
   "outputs": [
    {
     "name": "stdout",
     "output_type": "stream",
     "text": [
      "Eigenvalues are:  [7.30277564 3.69722436]\n",
      "Eigenvectors are:  [[ 0.95709203  0.28978415]\n",
      " [-0.28978415  0.95709203]]\n"
     ]
    }
   ],
   "source": [
    "import numpy as np \n",
    "C = np.array([[7,-1],[-1,4]])\n",
    "eigvals, eigvecs = np.linalg.eig(C)\n",
    "print(\"Eigenvalues are: \", eigvals)\n",
    "print(\"Eigenvectors are: \", eigvecs)\n",
    "#First values of eigvals is lambda 1 and second value is lambda 2\n",
    "#First column of eigvecs is v1 and second column is v2"
   ]
  },
  {
   "cell_type": "markdown",
   "metadata": {},
   "source": [
    "So the eigenvalues of A are: 3, 2, and 1\n",
    "Notice that the corresponding eigenvectors are given in columns and are \n",
    "normalized to unit length."
   ]
  },
  {
   "cell_type": "code",
   "execution_count": null,
   "metadata": {},
   "outputs": [],
   "source": [
    "# The first eigenvalue is 3\n",
    "# Its corresponding eigenvector is in column 1 of eigvecs\n",
    "print(\"First eigenvalue is: \", eigvals[0])# subject to rounding errors\n",
    "print(\"Corresponding eigenvector is: \", eigvecs[:,0])\n",
    "print(\"Its magnitude is: \", np.linalg.norm(eigvecs[:,0])) # subject to rounding error\n"
   ]
  },
  {
   "cell_type": "markdown",
   "metadata": {},
   "source": [
    "To check whether the first vector and first value are indeed the eigenvector and eigenvalue\n",
    "of A, we do the following:"
   ]
  },
  {
   "cell_type": "code",
   "execution_count": null,
   "metadata": {},
   "outputs": [],
   "source": [
    "# Find Av\n",
    "B = np.dot(A, eigvecs[:,0])\n",
    "print(\"Av is: \", B)\n",
    "\n",
    "# Find lambda*v\n",
    "C = eigvals[0]* eigvecs[:,0]\n",
    "print(\"lambda*v is: \", C)\n"
   ]
  },
  {
   "cell_type": "markdown",
   "metadata": {},
   "source": [
    "Notice that the two answers are the same, confirming that the first vector is an eigenvector\n",
    "corresponding to the first eigenvalue. "
   ]
  },
  {
   "cell_type": "code",
   "execution_count": null,
   "metadata": {},
   "outputs": [],
   "source": []
  },
  {
   "cell_type": "markdown",
   "metadata": {},
   "source": [
    "### Task 1"
   ]
  },
  {
   "cell_type": "markdown",
   "metadata": {},
   "source": [
    "Some properties of eigenvalues include:<br> \n",
    "•\tThe sum of eigenvalues of a matrix equals its trace.<br>\n",
    "•\tThe product of eigenvalues equals its determinant.<br><br>\n",
    "Verify the properties above using the matrix $\\mathbf{A}=\\begin{bmatrix}2 & 1 & 2 \\\\ 2 & 2 & -2 \\\\ 3 & 1 & 1 \\end{bmatrix}$"
   ]
  },
  {
   "cell_type": "code",
   "execution_count": null,
   "metadata": {},
   "outputs": [],
   "source": []
  },
  {
   "cell_type": "code",
   "execution_count": null,
   "metadata": {},
   "outputs": [],
   "source": [
    "# Solution for Task 1.\n",
    "import numpy as np\n",
    "\n",
    "                 # Define matrix A\n",
    "print(A)"
   ]
  },
  {
   "cell_type": "code",
   "execution_count": null,
   "metadata": {},
   "outputs": [],
   "source": [
    "                      #Get eigenvalues & eigenvectors\n",
    "print(eigvals)\n",
    "print(A.trace())"
   ]
  },
  {
   "cell_type": "markdown",
   "metadata": {},
   "source": [
    "Notice in the above that the sum of eigenvalues of A equals its trace"
   ]
  },
  {
   "cell_type": "code",
   "execution_count": null,
   "metadata": {},
   "outputs": [],
   "source": [
    "print(np.linalg.det(A)) # find determinant"
   ]
  },
  {
   "cell_type": "markdown",
   "metadata": {},
   "source": [
    "Notice also that the product of eigenvalues of A is its determinant"
   ]
  },
  {
   "cell_type": "code",
   "execution_count": null,
   "metadata": {},
   "outputs": [],
   "source": [
    "# End of solution for Task 1."
   ]
  },
  {
   "cell_type": "markdown",
   "metadata": {},
   "source": [
    "### Task 2"
   ]
  },
  {
   "cell_type": "markdown",
   "metadata": {},
   "source": [
    "**Dot Product**: The dot product of 2 vectors $\\mathbf{u}=\\begin{bmatrix}u_1\\\\ u_2 \\\\ \\vdots \\\\ u_n\\end{bmatrix}$ and $\\mathbf{v}=\\begin{bmatrix}v_1\\\\ v_2 \\\\ \\vdots \\\\ v_n\\end{bmatrix} $ is given by <br><br>\n",
    "$$\\mathbf{u}^T\\mathbf{v}=u_1v_1+u_2v_2+\\cdots+u_nv_n $$ <br>\n",
    "When the dot product of 2 vectors is equal to zero, the vectors are said to be **orthogonal**."
   ]
  },
  {
   "cell_type": "markdown",
   "metadata": {},
   "source": [
    "**Symmetric Matrix**: The eigenvalues of a symmetrical matrix are always real and the eigenvectors for different eigenvalues are always orthogonal. Verify this in Python for the matrix A below.<br>\n",
    "$$\\mathbf{A}=\\begin{bmatrix}1 & -1 & 0 \\\\ -1 & 2 & -1 \\\\ 0 & -1 & 1 \\end{bmatrix}$$"
   ]
  },
  {
   "cell_type": "code",
   "execution_count": null,
   "metadata": {},
   "outputs": [],
   "source": [
    "#Solution for Task 2. \n",
    "                      # Define matrix A\n",
    "print(A)\n",
    "                      # Get eigenvalues & eigenvectors\n",
    "print(eigvals)"
   ]
  },
  {
   "cell_type": "markdown",
   "metadata": {},
   "source": [
    "Notice that eigenvalues are 3,1,0, which are real numbers."
   ]
  },
  {
   "cell_type": "markdown",
   "metadata": {},
   "source": [
    "Now look at the eigenvectors:"
   ]
  },
  {
   "cell_type": "code",
   "execution_count": null,
   "metadata": {},
   "outputs": [],
   "source": [
    "v1 = eigvecs[:,0]\n",
    "v2 = eigvecs[:,1]\n",
    "v3 = eigvecs[:,2]"
   ]
  },
  {
   "cell_type": "markdown",
   "metadata": {},
   "source": [
    "We can find the dot product between **v1** and **v2**, and check whether it is zero.\n",
    "Similarly for the pairs **v1** & **v3**, and **v2** & **v3**."
   ]
  },
  {
   "cell_type": "code",
   "execution_count": null,
   "metadata": {},
   "outputs": [],
   "source": [
    "print(np.dot(v1, v2))\n",
    "print(np.dot(v1, v3))\n",
    "print(np.dot(v3, v2))"
   ]
  },
  {
   "cell_type": "markdown",
   "metadata": {},
   "source": [
    "The pairwise dot products are zero, verifying that the eigenvectors of the symmetric matrix A are orthogonal. This can be shown to be generally true for all symmetric matrices."
   ]
  },
  {
   "cell_type": "code",
   "execution_count": null,
   "metadata": {},
   "outputs": [],
   "source": [
    "# End of solution for Task 2"
   ]
  }
 ],
 "metadata": {
  "kernelspec": {
   "display_name": "Python 3",
   "language": "python",
   "name": "python3"
  },
  "language_info": {
   "codemirror_mode": {
    "name": "ipython",
    "version": 3
   },
   "file_extension": ".py",
   "mimetype": "text/x-python",
   "name": "python",
   "nbconvert_exporter": "python",
   "pygments_lexer": "ipython3",
   "version": "3.10.9"
  }
 },
 "nbformat": 4,
 "nbformat_minor": 2
}
