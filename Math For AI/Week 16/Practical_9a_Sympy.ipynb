{
 "cells": [
  {
   "cell_type": "markdown",
   "metadata": {},
   "source": [
    "# Practical 9a: SymPy Library for Partial Differentiation\n",
    "\n",
    "Previously we have used the Python library, SymPy, to obtain derivatives of single-variable functions $y=f(x)$. Now, we are going to obtain partial derivatives of $z=f(x,y)$.\n",
    "\n",
    "Firstly, the symbols of the variables need to be declared."
   ]
  },
  {
   "cell_type": "code",
   "execution_count": null,
   "metadata": {},
   "outputs": [],
   "source": [
    "import sympy as sp\n",
    "\n",
    "# Define the symbols \n",
    "x=sp.Symbol('x') \n",
    "y=sp.Symbol('y')"
   ]
  },
  {
   "cell_type": "markdown",
   "metadata": {},
   "source": [
    "We can then perform partial differentiation using the syntax *sp.diff(func,var)*, where *func* is the expression of the function we are differentiating and *var* is the variable that we are differentiating with respect to. Note that since there are two variables, it is important to be clear which variable we are differentiating with respect to. For example, we have learnt that for $z=x^2y+e^{3xy}$,\n",
    "\\begin{eqnarray}\n",
    "    \\frac{\\partial z}{\\partial x}&=&2xy+3ye^{3xy}\\\\\n",
    "    \\frac{\\partial z}{\\partial y}&=&x^2+3xe^{3xy}\n",
    "\\end{eqnarray}\n",
    "$x^2y+e^{3xy}$ is the function we are differentiating. For the first line above, $x$ is the variable we are differentiating with respect to and for the second line, $y$ is the variable. We can run the following code to get the partial derivatives,"
   ]
  },
  {
   "cell_type": "code",
   "execution_count": null,
   "metadata": {},
   "outputs": [],
   "source": [
    "partial_x = sp.diff(x**2*y+sp.exp(3*x*y),x)\n",
    "partial_y = sp.diff(x**2*y+sp.exp(3*x*y),y)\n",
    "print(\"with respect to x: \"+str(partial_x))\n",
    "print(\"with respect to y: \"+str(partial_y))\n"
   ]
  },
  {
   "cell_type": "markdown",
   "metadata": {},
   "source": [
    "We can now look at the example 3 in the lecture notes and obtain the derivatives using Python. The functions are\n",
    "\n",
    "(a) $f(x,y)=x^2y^3+2\\sin{x}+4y$ \n",
    "\n",
    "(b) $f(x,y)=xe^{xy}$\n",
    "\n",
    "(c) $f(x,y)=(2x+3y)(5x-4y)$ \n",
    "\n",
    "(d) $f(x,y)=\\frac{e^{x^2}}{4xy^2}$ "
   ]
  },
  {
   "cell_type": "code",
   "execution_count": 1,
   "metadata": {},
   "outputs": [
    {
     "name": "stdout",
     "output_type": "stream",
     "text": [
      "with respect to x: 2*x*y**3 + 2*cos(x)\n",
      "with respect to y: 3*x**2*y**2 + 4\n"
     ]
    }
   ],
   "source": [
    "# Example 3a\n",
    "\n",
    "import sympy as sp\n",
    "\n",
    "# Define the symbols\n",
    "x = sp.Symbol('x')  # students to fill in this line\n",
    "y = sp.Symbol('y')  # students to fill in this line\n",
    "\n",
    "# Find the derivative\n",
    "partial_x = sp.diff(x**2*y**3+2*sp.sin(x)+4*y,x) # students to fill in function and variable\n",
    "partial_y = sp.diff(x**2*y**3+2*sp.sin(x)+4*y,y) # students to fill in function and variable\n",
    "print(\"with respect to x: \"+str(partial_x)) \n",
    "print(\"with respect to y: \"+str(partial_y))"
   ]
  },
  {
   "cell_type": "code",
   "execution_count": 2,
   "metadata": {},
   "outputs": [
    {
     "name": "stdout",
     "output_type": "stream",
     "text": [
      "with respect to x: x*y*exp(x*y) + exp(x*y)\n",
      "with respect to y: x**2*exp(x*y)\n"
     ]
    }
   ],
   "source": [
    "# Example 3b\n",
    "\n",
    "import sympy as sp\n",
    "\n",
    "# Define the symbols\n",
    "x = sp.Symbol('x')  # students to fill in this line\n",
    "y = sp.Symbol('y')  # students to fill in this line\n",
    "\n",
    "# Find the derivative\n",
    "partial_x = sp.diff(x*sp.exp(x*y),x) # students to fill in function and variable\n",
    "partial_y = sp.diff(x*sp.exp(x*y),y) # students to fill in function and variable\n",
    "print(\"with respect to x: \"+str(partial_x)) \n",
    "print(\"with respect to y: \"+str(partial_y))"
   ]
  },
  {
   "cell_type": "code",
   "execution_count": 3,
   "metadata": {},
   "outputs": [
    {
     "name": "stdout",
     "output_type": "stream",
     "text": [
      "with respect to x: 20*x + 7*y\n",
      "with respect to y: 7*x - 24*y\n"
     ]
    }
   ],
   "source": [
    "# Example 3c\n",
    "\n",
    "import sympy as sp\n",
    "\n",
    "# Define the symbols\n",
    "x = sp.Symbol('x')  # students to fill in this line\n",
    "y = sp.Symbol('y')  # students to fill in this line\n",
    "\n",
    "# Find the derivative\n",
    "partial_x = sp.diff((2*x+3*y)*(5*x-4*y),x) # students to fill in function and variable\n",
    "partial_y = sp.diff((2*x+3*y)*(5*x-4*y),y) # students to fill in function and variable\n",
    "print(\"with respect to x: \"+str(partial_x)) \n",
    "print(\"with respect to y: \"+str(partial_y))"
   ]
  },
  {
   "cell_type": "code",
   "execution_count": 4,
   "metadata": {},
   "outputs": [
    {
     "name": "stdout",
     "output_type": "stream",
     "text": [
      "with respect to x: exp(x**2)/(2*y**2) - exp(x**2)/(4*x**2*y**2)\n",
      "with respect to y: -exp(x**2)/(2*x*y**3)\n"
     ]
    }
   ],
   "source": [
    "# Example 3d\n",
    "\n",
    "import sympy as sp\n",
    "\n",
    "# Define the symbols\n",
    "x = sp.Symbol('x')  # students to fill in this line\n",
    "y = sp.Symbol('y')  # students to fill in this line\n",
    "\n",
    "# Find the derivative\n",
    "partial_x = sp.diff(sp.exp(x**2)/(4*x*y**2),x) # students to fill in function and variable\n",
    "partial_y = sp.diff(sp.exp(x**2)/(4*x*y**2),y) # students to fill in function and variable\n",
    "print(\"with respect to x: \"+str(partial_x)) \n",
    "print(\"with respect to y: \"+str(partial_y))"
   ]
  },
  {
   "cell_type": "code",
   "execution_count": null,
   "metadata": {},
   "outputs": [],
   "source": []
  }
 ],
 "metadata": {
  "kernelspec": {
   "display_name": "Python 3",
   "language": "python",
   "name": "python3"
  },
  "language_info": {
   "codemirror_mode": {
    "name": "ipython",
    "version": 3
   },
   "file_extension": ".py",
   "mimetype": "text/x-python",
   "name": "python",
   "nbconvert_exporter": "python",
   "pygments_lexer": "ipython3",
   "version": "3.10.9"
  }
 },
 "nbformat": 4,
 "nbformat_minor": 2
}
