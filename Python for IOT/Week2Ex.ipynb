{
 "cells": [
  {
   "cell_type": "code",
   "execution_count": 1,
   "metadata": {},
   "outputs": [
    {
     "name": "stdout",
     "output_type": "stream",
     "text": [
      "9223372036854775808\n"
     ]
    }
   ],
   "source": [
    "\"\"\"\n",
    "An ancient king was a big chess enthusiast and had the habit of challenging wise\n",
    "visitors to a game of chess. One day a traveling sage was challenged by the king. To\n",
    "motivate his opponent the king offered any reward that the sage could name. The\n",
    "sage modestly asked just for a few grains of rice in the following manner: the king\n",
    "was to put a single grain of rice on the first chess square and double it on every\n",
    "consequent one.\n",
    "Having lost the game and being a man of his word the king ordered a bag of rice to\n",
    "be brought to the chess board. Then he started placing rice grains according to the\n",
    "arrangement: 1 grain on the first square, 2 on the second, 4 on the third, 8 on the\n",
    "fourth and so on.\n",
    "\"\"\"\n",
    "\n",
    "print(2**63)    "
   ]
  },
  {
   "cell_type": "code",
   "execution_count": 3,
   "metadata": {},
   "outputs": [
    {
     "name": "stdout",
     "output_type": "stream",
     "text": [
      "2 x 1 = 2\n",
      "2 x 2 = 4\n",
      "2 x 3 = 6\n",
      "2 x 4 = 8\n",
      "2 x 5 = 10\n",
      "2 x 6 = 12\n",
      "2 x 7 = 14\n",
      "2 x 8 = 16\n",
      "2 x 9 = 18\n",
      "2 x 10 = 20\n",
      "2 x 11 = 22\n",
      "2 x 12 = 24\n"
     ]
    }
   ],
   "source": [
    "\"\"\"\n",
    "Write a Python program to prompt the user for an integer (e.g. 5) and print out the multiplication table for that integer\n",
    "\"\"\"\n",
    "\n",
    "num = input(\"Enter an integer:\")\n",
    "\n",
    "for i in range(1,13):\n",
    "    print(num,'x',i,'=',int(num)*i)"
   ]
  },
  {
   "cell_type": "code",
   "execution_count": 9,
   "metadata": {},
   "outputs": [
    {
     "name": "stdout",
     "output_type": "stream",
     "text": [
      "900.0\n",
      "990.0000000000001\n",
      "1089.0000000000002\n",
      "1197.9000000000003\n",
      "1317.6900000000005\n",
      "1449.4590000000007\n",
      "1594.4049000000007\n",
      "1753.8453900000009\n",
      "1929.2299290000012\n",
      "2122.1529219000017\n",
      "2334.368214090002\n",
      "2567.805035499002\n",
      "2824.585539048903\n",
      "3107.044092953793\n",
      "3417.7485022491724\n",
      "3759.52335247409\n",
      "4135.4756877214995\n",
      "4549.02325649365\n",
      "5003.925582143014\n",
      "5504.318140357317\n",
      "6054.749954393049\n",
      "6660.224949832354\n",
      "7326.247444815589\n",
      "8058.872189297148\n",
      "8864.759408226864\n",
      "9751.235349049552\n",
      "10726.358883954508\n",
      "11798.994772349959\n",
      "12978.894249584957\n",
      "14276.783674543452\n",
      "15704.4620419978\n",
      "17274.90824619758\n",
      "19002.39907081734\n",
      "20902.638977899078\n",
      "22992.902875688986\n",
      "25292.19316325789\n",
      "27821.41247958368\n",
      "30603.55372754205\n",
      "33663.90910029626\n",
      "37030.30001032589\n",
      "40733.33001135848\n",
      "44806.66301249433\n",
      "49287.32931374377\n",
      "54216.062245118155\n",
      "59637.66846962998\n",
      "65601.43531659298\n",
      "72161.57884825228\n",
      "79377.73673307752\n",
      "87315.51040638528\n",
      "74\n"
     ]
    }
   ],
   "source": [
    "\"\"\"\n",
    "Assuming you start working at 25 years old, and\n",
    "your starting salary is $3000 and get 3 month of\n",
    "bonus every year. Assuming also that you save\n",
    "30% of what you earn every year and invest it\n",
    "(for a 10% return) at the beginning of the\n",
    "following year. Assuming further that your pay\n",
    "goes up by 10% every year.\n",
    "Write a Python program to determine when you\n",
    "will have your first one million dollars.\n",
    "\"\"\"\n",
    "age = 25\n",
    "annual_salary = 3000\n",
    "save_per = 0.3\n",
    "annual_saving = 0\n",
    "invest_in_jan = 0.1\n",
    "amount_in_dec = 0\n",
    "\n",
    "\n",
    "while (amount_in_dec < 1000000):\n",
    "    annual_saving = annual_salary * save_per\n",
    "    invest_in_jan = annual_saving * 1.1\n",
    "    annual_salary =  annual_salary * 1.1\n",
    "    amount_in_dec += invest_in_jan\n",
    "    invest_in_jan = annual_saving + amount_in_dec\n",
    "    age += 1\n",
    "    print(annual_saving)\n",
    "    \n",
    "\n",
    "\n",
    "print(age)"
   ]
  },
  {
   "cell_type": "code",
   "execution_count": 12,
   "metadata": {},
   "outputs": [
    {
     "name": "stdout",
     "output_type": "stream",
     "text": [
      "You will have your first one million dollars at the age of 43.\n"
     ]
    }
   ],
   "source": [
    "# Declare variables\n",
    "Age = 25\n",
    "Annual_salary = 3000\n",
    "Annual_saving_percentage = 0.3  # 30% of earnings saved\n",
    "Invest_in_Jan = 0  # Assuming no initial investment in January\n",
    "Amount_in_Dec = 0  # Amount accumulated in December\n",
    "\n",
    "while Amount_in_Dec < 1000000:\n",
    "    Earnings = Annual_salary * 15 #12 months + 3 bonus\n",
    "    Savings = Earnings * Annual_saving_percentage\n",
    "    Savings += Invest_in_Jan\n",
    "    Amount_in_Dec += Savings\n",
    "    Invest_in_Jan = Amount_in_Dec * 0.10  \n",
    "    Annual_salary *= 1.10\n",
    "    Age += 1\n",
    "\n",
    "print(f\"You will have your first one million dollars at the age of {Age}.\")"
   ]
  }
 ],
 "metadata": {
  "kernelspec": {
   "display_name": "Python 3",
   "language": "python",
   "name": "python3"
  },
  "language_info": {
   "codemirror_mode": {
    "name": "ipython",
    "version": 3
   },
   "file_extension": ".py",
   "mimetype": "text/x-python",
   "name": "python",
   "nbconvert_exporter": "python",
   "pygments_lexer": "ipython3",
   "version": "3.9.12"
  }
 },
 "nbformat": 4,
 "nbformat_minor": 2
}
