{
 "cells": [
  {
   "cell_type": "markdown",
   "metadata": {},
   "source": [
    "# Practical 6b: Numerical Differentiation\n",
    "\n",
    "In practice, finding the numerical value of the derivative of a function $y=f(x)$ at $x=a$ may be more important than finding the expression of $f'(x)$. While we have learnt that we can differentiate $f(x)$ with respect to $x$ to get $f'(x)$ before substituting $x=a$, we can also make use of numerical differentiation to estimate $f'(a)$,\n",
    "\\begin{equation}\n",
    "    f'(a) \\approx \\frac{f(a+\\epsilon)-f(a-\\epsilon)}{2\\epsilon} \\approx \\frac{f(a+\\epsilon)-f(a)}{\\epsilon} \\approx \\frac{f(a)-f(a-\\epsilon)}{\\epsilon},\n",
    "\\end{equation}\n",
    "where $\\epsilon>0$ is a very small number. \n",
    "\n",
    "For example, given that $f(x)=x\\sin{x}$, $f'(x)=\\sin{x}+x\\cos{x}$. At $x=2$, $f'(2)=0.0770$. Implementing numerical differentiation in Python in the following,"
   ]
  },
  {
   "cell_type": "code",
   "execution_count": null,
   "metadata": {},
   "outputs": [],
   "source": [
    "import numpy as np\n",
    "\n",
    "epsilon = 0.001 # small constant\n",
    "func = lambda x: x*np.sin(x) # function of which derivative is estimated\n",
    "\n",
    "a=2 # point at which derivative is estimated\n",
    "sym_diff_quo = (func(a+epsilon)-func(a-epsilon))/(2*epsilon) # estimate using symmetric difference quotient\n",
    "sym_diff_quo"
   ]
  },
  {
   "cell_type": "markdown",
   "metadata": {},
   "source": [
    "The above approximation uses the symmetric difference quotient. Are you able to modify the code to estimate derivatives using the other two approximations? Compare with the approximation above."
   ]
  },
  {
   "cell_type": "code",
   "execution_count": null,
   "metadata": {},
   "outputs": [],
   "source": [
    "import numpy as np\n",
    "\n",
    "epsilon = 0.001 # small constant\n",
    "func = lambda x: x*np.sin(x) # function of which derivative is estimated\n",
    "\n",
    "a=2 # point at which derivative is estimated\n",
    "for_diff_quo =  # student to fill in this line # estimate using forward difference\n",
    "for_diff_quo"
   ]
  },
  {
   "cell_type": "code",
   "execution_count": null,
   "metadata": {},
   "outputs": [],
   "source": [
    "import numpy as np\n",
    "\n",
    "epsilon = 0.001 # small constant\n",
    "func = lambda x: x*np.sin(x) # function of which derivative is estimated\n",
    "\n",
    "a=2 # point at which derivative is estimated\n",
    "back_diff_quo =  # student to fill in this line # estimate using backward difference\n",
    "back_diff_quo"
   ]
  },
  {
   "cell_type": "code",
   "execution_count": null,
   "metadata": {},
   "outputs": [],
   "source": []
  }
 ],
 "metadata": {
  "kernelspec": {
   "display_name": "Python 3",
   "language": "python",
   "name": "python3"
  },
  "language_info": {
   "codemirror_mode": {
    "name": "ipython",
    "version": 3
   },
   "file_extension": ".py",
   "mimetype": "text/x-python",
   "name": "python",
   "nbconvert_exporter": "python",
   "pygments_lexer": "ipython3",
   "version": "3.8.5"
  }
 },
 "nbformat": 4,
 "nbformat_minor": 2
}
