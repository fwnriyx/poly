{
 "cells": [
  {
   "cell_type": "markdown",
   "id": "70718620-a434-4f43-bb98-6ce3e5915724",
   "metadata": {},
   "source": [
    "Before getting into the graphs, I will analyse the different data sets first by displaying the total amount of columns and rows, analysing the different columns and rows as well as finidng the amount of unique values in each column."
   ]
  },
  {
   "cell_type": "code",
   "execution_count": 68,
   "id": "632d8d35-8359-4730-9a11-adf6f1538766",
   "metadata": {},
   "outputs": [
    {
     "name": "stdout",
     "output_type": "stream",
     "text": [
      "Goverment expenditure on education\n",
      "There are 40 rows and 2 columns in this dataset\n",
      "The names of the columns are: \n",
      "-year <class 'int'> isnumeric: False\n",
      "-total-expenditure-on-education <class 'int'> isnumeric: False\n",
      "40 unique values in year column\n",
      "40 unique values in total_expenditures_on_education column\n"
     ]
    }
   ],
   "source": [
    "import numpy as np\n",
    "\n",
    "filename = \"datasets/government-expenditure-on-education.csv\"\n",
    "data = np.genfromtxt(filename, dtype=['i4','i4'],\n",
    "delimiter=',', names=True)\n",
    "\n",
    "print(\"Goverment expenditure on education\")\n",
    "num_cols = len(data[0])\n",
    "num_rows = len(data)\n",
    "\n",
    "year_base = data['year'][0]\n",
    "pyyear = year_base.item()\n",
    "year = data['year']\n",
    "iny = str(year).isnumeric()\n",
    "\n",
    "govtype = data['total_expenditure_on_education'][0]\n",
    "pytotal = govtype.item()\n",
    "gov_org = data['total_expenditure_on_education']\n",
    "ine = str(gov_org).isnumeric()\n",
    "\n",
    "uvals = len(np.unique(data['year']))\n",
    "uvals1 = len(np.unique(data['total_expenditure_on_education']))\n",
    "print(f\"There are {num_rows} rows and {num_cols} columns in this dataset\")\n",
    "print(f'The names of the columns are: \\n-year {type(pyyear)} isnumeric: {iny}\\n-total-expenditure-on-education {type(pytotal)} isnumeric: {ine}')\n",
    "print(f'{uvals} unique values in year column\\n{uvals1} unique values in total_expenditures_on_education column')"
   ]
  },
  {
   "cell_type": "code",
   "execution_count": 77,
   "id": "4cd2ae1e-a7f5-48a0-b899-81496db47e7e",
   "metadata": {},
   "outputs": [
    {
     "name": "stdout",
     "output_type": "stream",
     "text": [
      "Percentage of gce O level students who passed english language\n",
      "There are 120 rows and 3 columns in this dataset\n",
      "The names of the columns are: \n",
      "-year <class 'int'> isnumeric: False\n",
      "-race <class 'str'> isnumeric: False\n",
      "-percentage_pass_eng <class 'float'> isnumeric: False\n",
      "\n",
      "24 unique values in year column\n",
      "5 unique values in race column\n",
      "86 unique values in percenage_pass_eng column\n"
     ]
    }
   ],
   "source": [
    "import numpy as np\n",
    "\n",
    "filename = \"datasets/percentage-of-gce-o-level-students-who-passed-english-language.csv\"\n",
    "data = np.genfromtxt(filename, dtype=['i8','U8', 'f8'],\n",
    "delimiter=',', names=True)\n",
    "\n",
    "print(\"Percentage of gce O level students who passed english language\")\n",
    "num_cols = len(data[0])\n",
    "num_rows = len(data)\n",
    "\n",
    "year_base = data['year'][0]\n",
    "pyyear = year_base.item()\n",
    "year = data['year']\n",
    "iny = str(year).isnumeric()\n",
    "\n",
    "race_base = data['race'][0]\n",
    "pyrace = race_base.item()\n",
    "race = data['race']\n",
    "inr = str(race).isnumeric()\n",
    "\n",
    "passtype = data['percentage_pass_eng'][0]\n",
    "pypercent = passtype.item()\n",
    "pass_org = data['percentage_pass_eng']\n",
    "ine = str(pass_org).isnumeric()\n",
    "\n",
    "uvals = len(np.unique(data['year']))\n",
    "uvals1 = len(np.unique(data['race']))\n",
    "uvals2 = len(np.unique(data['percentage_pass_eng']))\n",
    "print(f\"There are {num_rows} rows and {num_cols} columns in this dataset\")\n",
    "print(f'''The names of the columns are: \n",
    "-year {type(pyyear)} isnumeric: {iny}\n",
    "-race {type(pyrace)} isnumeric: {inr}\n",
    "-percentage_pass_eng {type(pypercent)} isnumeric: {ine}''')\n",
    "\n",
    "print(f'''\\n{uvals} unique values in year column\n",
    "{uvals1} unique values in race column\n",
    "{uvals2} unique values in percenage_pass_eng column''')"
   ]
  },
  {
   "cell_type": "code",
   "execution_count": 2,
   "id": "4a57884f-4ed1-4e1f-9536-9f5f37e164e1",
   "metadata": {
    "tags": []
   },
   "outputs": [
    {
     "name": "stdout",
     "output_type": "stream",
     "text": [
      "Percentage of O level cohort that progressed to post secondary education\n",
      "There are 65 rows and 3 columns in this dataset\n",
      "The names of the columns are: \n",
      "-year <class 'int'> isnumeric: False\n",
      "-race <class 'str'> isnumeric: False\n",
      "-percentage_progress_postsec <class 'float'> isnumeric: False\n",
      "\n",
      "13 unique values in year column\n",
      "5 unique values in race column\n",
      "34 unique values in percentage_progress_postsec column\n"
     ]
    }
   ],
   "source": [
    "import numpy as np\n",
    "\n",
    "filename = \"datasets/percentage-of-o-level-cohort-that-progressed-to-post-secondary-education.csv\"\n",
    "data = np.genfromtxt(filename, dtype=['i4','U8', 'f8'],\n",
    "delimiter=',', names=True)\n",
    "\n",
    "print(\"Percentage of O level cohort that progressed to post secondary education\")\n",
    "num_cols = len(data[0])\n",
    "num_rows = len(data)\n",
    "\n",
    "year_base = data['year'][0]\n",
    "pyyear = year_base.item()\n",
    "year = data['year']\n",
    "iny = str(year).isnumeric()\n",
    "\n",
    "race_base = data['race'][0]\n",
    "pyrace = race_base.item()\n",
    "race = data['race']\n",
    "inr = str(race).isnumeric()\n",
    "\n",
    "progtype = data['percentage_progress_postsec'][0]\n",
    "pyprog = progtype.item()\n",
    "prog_org = data['percentage_progress_postsec']\n",
    "inp = str(prog_org).isnumeric()\n",
    "\n",
    "uvals = len(np.unique(data['year']))\n",
    "uvals1 = len(np.unique(data['race']))\n",
    "uvals2 = len(np.unique(data['percentage_progress_postsec']))\n",
    "print(f\"There are {num_rows} rows and {num_cols} columns in this dataset\")\n",
    "print(f'''The names of the columns are: \n",
    "-year {type(pyyear)} isnumeric: {iny}\n",
    "-race {type(pyrace)} isnumeric: {inr}\n",
    "-percentage_progress_postsec {type(pyprog)} isnumeric: {inp}''')\n",
    "\n",
    "print(f'''\\n{uvals} unique values in year column\n",
    "{uvals1} unique values in race column\n",
    "{uvals2} unique values in percentage_progress_postsec column''')"
   ]
  },
  {
   "cell_type": "code",
   "execution_count": 8,
   "id": "69ac9464-fa90-4025-a61b-55832d8bf28d",
   "metadata": {},
   "outputs": [
    {
     "name": "stdout",
     "output_type": "stream",
     "text": [
      "Percentage of p1 cohort that progressed to post secondary education\n",
      "There are 130 rows and 3 columns in this dataset\n",
      "The names of the columns are: \n",
      "-year <class 'int'> isnumeric: False\n",
      "-race <class 'str'> isnumeric: False\n",
      "-percentage <class 'float'> isnumeric: False\n",
      "\n",
      "26 unique values in year column\n",
      "5 unique values in race column\n",
      "100 unique values in percentage column\n"
     ]
    }
   ],
   "source": [
    "import numpy as np\n",
    "\n",
    "filename = \"datasets/percentage-of-p1-cohort-that-progressed-to-post-secondary-education.csv\"\n",
    "data = np.genfromtxt(filename, dtype=['i4','U8', 'f8'],\n",
    "delimiter=',', names=True)\n",
    "\n",
    "print(\"Percentage of p1 cohort that progressed to post secondary education\")\n",
    "num_cols = len(data[0])\n",
    "num_rows = len(data)\n",
    "\n",
    "year_base = data['year'][0]\n",
    "pyyear = year_base.item()\n",
    "year = data['year']\n",
    "iny = str(year).isnumeric()\n",
    "\n",
    "race_base = data['race'][0]\n",
    "pyrace = race_base.item()\n",
    "race = data['race']\n",
    "inr = str(race).isnumeric()\n",
    "\n",
    "progtype = data['percentage'][0]\n",
    "pyprog = progtype.item()\n",
    "prog_org = data['percentage']\n",
    "inp = str(prog_org).isnumeric()\n",
    "\n",
    "uvals = len(np.unique(data['year']))\n",
    "uvals1 = len(np.unique(data['race']))\n",
    "uvals2 = len(np.unique(data['percentage']))\n",
    "print(f\"There are {num_rows} rows and {num_cols} columns in this dataset\")\n",
    "print(f'''The names of the columns are: \n",
    "-year {type(pyyear)} isnumeric: {iny}\n",
    "-race {type(pyrace)} isnumeric: {inr}\n",
    "-percentage {type(pyprog)} isnumeric: {inp}''')\n",
    "\n",
    "print(f'''\\n{uvals} unique values in year column\n",
    "{uvals1} unique values in race column\n",
    "{uvals2} unique values in percentage column''')"
   ]
  },
  {
   "cell_type": "code",
   "execution_count": 5,
   "id": "50858210-674c-4ffa-8a3f-1b0c5edee867",
   "metadata": {},
   "outputs": [
    {
     "name": "stdout",
     "output_type": "stream",
     "text": [
      "Goverment expenditure on education\n",
      "There are 20 rows and 2 columns in this dataset\n",
      "The names of the columns are: \n",
      "-year <class 'int'> isnumeric: False\n",
      "-percentage <class 'float'> isnumeric: False\n",
      "20 unique values in year column\n",
      "13 unique values in percentage column\n"
     ]
    }
   ],
   "source": [
    "import numpy as np\n",
    "\n",
    "filename= \"datasets/percentage-of-p1-cohort-who-had-at-least-5-n-level-passes-or-3-o-level-passes.csv\"\n",
    "data = np.genfromtxt(filename, dtype=['i4','f8'],\n",
    "delimiter=',', names=True)\n",
    "\n",
    "print(\"Goverment expenditure on education\")\n",
    "num_cols = len(data[0])\n",
    "num_rows = len(data)\n",
    "\n",
    "year_base = data['year'][0]\n",
    "pyyear = year_base.item()\n",
    "year = data['year']\n",
    "iny = str(year).isnumeric()\n",
    "\n",
    "passtype = data['percentage'][0]\n",
    "pypass = passtype.item()\n",
    "pass_org = data['percentage']\n",
    "inp = str(pass_org).isnumeric()\n",
    "\n",
    "uvals = len(np.unique(data['year']))\n",
    "uvals1 = len(np.unique(data['percentage']))\n",
    "\n",
    "print(f\"There are {num_rows} rows and {num_cols} columns in this dataset\")\n",
    "print(f'The names of the columns are: \\n-year {type(pyyear)} isnumeric: {iny}\\n-percentage {type(pypass)} isnumeric: {inp}')\n",
    "print(f'{uvals} unique values in year column\\n{uvals1} unique values in percentage column')"
   ]
  },
  {
   "cell_type": "code",
   "execution_count": 6,
   "id": "44fd99e8-0740-4d0f-8014-ace8a9f7093b",
   "metadata": {},
   "outputs": [
    {
     "name": "stdout",
     "output_type": "stream",
     "text": [
      "Pupils per teacher in secondary schools\n",
      "There are 40 rows and 2 columns in this dataset\n",
      "The names of the columns are: \n",
      "-year <class 'int'> isnumeric: False\n",
      "-sec_pupil_to_teacher <class 'float'> isnumeric: False\n",
      "40 unique values in year column\n",
      "34 unique values in sec_pupil_to_teacher column\n"
     ]
    }
   ],
   "source": [
    "import numpy as np\n",
    "\n",
    "filename = \"datasets/pupils-per-teacher-in-secondary-schools.csv\"\n",
    "data = np.genfromtxt(filename, dtype=['i4','f8'],\n",
    "delimiter=',', names=True)\n",
    "\n",
    "print(\"Pupils per teacher in secondary schools\")\n",
    "num_cols = len(data[0])\n",
    "num_rows = len(data)\n",
    "\n",
    "year_base = data['year'][0]\n",
    "pyyear = year_base.item()\n",
    "year = data['year']\n",
    "iny = str(year).isnumeric()\n",
    "\n",
    "ratiotype = data['sec_pupil_to_teacher'][0]\n",
    "pyratio = ratiotype.item()\n",
    "ratio_org = data['sec_pupil_to_teacher']\n",
    "inr = str(ratio_org).isnumeric()\n",
    "\n",
    "uvals = len(np.unique(data['year']))\n",
    "uvals1 = len(np.unique(data['sec_pupil_to_teacher']))\n",
    "\n",
    "print(f\"There are {num_rows} rows and {num_cols} columns in this dataset\")\n",
    "print(f'The names of the columns are: \\n-year {type(pyyear)} isnumeric: {iny}\\n-sec_pupil_to_teacher {type(pypass)} isnumeric: {inp}')\n",
    "print(f'{uvals} unique values in year column\\n{uvals1} unique values in sec_pupil_to_teacher column')"
   ]
  }
 ],
 "metadata": {
  "kernelspec": {
   "display_name": "Python 3 (ipykernel)",
   "language": "python",
   "name": "python3"
  },
  "language_info": {
   "codemirror_mode": {
    "name": "ipython",
    "version": 3
   },
   "file_extension": ".py",
   "mimetype": "text/x-python",
   "name": "python",
   "nbconvert_exporter": "python",
   "pygments_lexer": "ipython3",
   "version": "3.9.13"
  }
 },
 "nbformat": 4,
 "nbformat_minor": 5
}
