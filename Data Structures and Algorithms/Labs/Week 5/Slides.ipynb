{
 "cells": [
  {
   "cell_type": "code",
   "execution_count": 1,
   "metadata": {},
   "outputs": [
    {
     "name": "stdout",
     "output_type": "stream",
     "text": [
      "Hello 1\n",
      "Hello 2\n",
      "Hello 3\n"
     ]
    }
   ],
   "source": [
    "def printHello(n):\n",
    "    # print('Hello %d'%n)\n",
    "    if n>1:\n",
    "        printHello(n-1)\n",
    "    print('Hello %d'%n)\n",
    "\n",
    "printHello(3)"
   ]
  },
  {
   "cell_type": "code",
   "execution_count": 15,
   "metadata": {},
   "outputs": [
    {
     "ename": "IndexError",
     "evalue": "tuple index out of range",
     "output_type": "error",
     "traceback": [
      "\u001b[1;31m---------------------------------------------------------------------------\u001b[0m",
      "\u001b[1;31mIndexError\u001b[0m                                Traceback (most recent call last)",
      "\u001b[1;32mc:\\Users\\Fitri\\OneDrive\\Documents\\GitHub\\poly\\Data Structures and Algorithms\\Labs\\Week 5\\Slides.ipynb Cell 2\u001b[0m line \u001b[0;36m4\n\u001b[0;32m      <a href='vscode-notebook-cell:/c%3A/Users/Fitri/OneDrive/Documents/GitHub/poly/Data%20Structures%20and%20Algorithms/Labs/Week%205/Slides.ipynb#W2sZmlsZQ%3D%3D?line=0'>1</a>\u001b[0m \u001b[39mdef\u001b[39;00m \u001b[39mproduct\u001b[39m(l):\n\u001b[0;32m      <a href='vscode-notebook-cell:/c%3A/Users/Fitri/OneDrive/Documents/GitHub/poly/Data%20Structures%20and%20Algorithms/Labs/Week%205/Slides.ipynb#W2sZmlsZQ%3D%3D?line=1'>2</a>\u001b[0m     \u001b[39mreturn\u001b[39;00m l[\u001b[39m0\u001b[39m] \u001b[39m*\u001b[39m product(l[\u001b[39m1\u001b[39m:])\n\u001b[1;32m----> <a href='vscode-notebook-cell:/c%3A/Users/Fitri/OneDrive/Documents/GitHub/poly/Data%20Structures%20and%20Algorithms/Labs/Week%205/Slides.ipynb#W2sZmlsZQ%3D%3D?line=3'>4</a>\u001b[0m product((\u001b[39m1\u001b[39;49m,\u001b[39m2\u001b[39;49m,\u001b[39m3\u001b[39;49m))\n",
      "\u001b[1;32mc:\\Users\\Fitri\\OneDrive\\Documents\\GitHub\\poly\\Data Structures and Algorithms\\Labs\\Week 5\\Slides.ipynb Cell 2\u001b[0m line \u001b[0;36m2\n\u001b[0;32m      <a href='vscode-notebook-cell:/c%3A/Users/Fitri/OneDrive/Documents/GitHub/poly/Data%20Structures%20and%20Algorithms/Labs/Week%205/Slides.ipynb#W2sZmlsZQ%3D%3D?line=0'>1</a>\u001b[0m \u001b[39mdef\u001b[39;00m \u001b[39mproduct\u001b[39m(l):\n\u001b[1;32m----> <a href='vscode-notebook-cell:/c%3A/Users/Fitri/OneDrive/Documents/GitHub/poly/Data%20Structures%20and%20Algorithms/Labs/Week%205/Slides.ipynb#W2sZmlsZQ%3D%3D?line=1'>2</a>\u001b[0m     \u001b[39mreturn\u001b[39;00m l[\u001b[39m0\u001b[39m] \u001b[39m*\u001b[39m product(l[\u001b[39m1\u001b[39;49m:])\n",
      "\u001b[1;32mc:\\Users\\Fitri\\OneDrive\\Documents\\GitHub\\poly\\Data Structures and Algorithms\\Labs\\Week 5\\Slides.ipynb Cell 2\u001b[0m line \u001b[0;36m2\n\u001b[0;32m      <a href='vscode-notebook-cell:/c%3A/Users/Fitri/OneDrive/Documents/GitHub/poly/Data%20Structures%20and%20Algorithms/Labs/Week%205/Slides.ipynb#W2sZmlsZQ%3D%3D?line=0'>1</a>\u001b[0m \u001b[39mdef\u001b[39;00m \u001b[39mproduct\u001b[39m(l):\n\u001b[1;32m----> <a href='vscode-notebook-cell:/c%3A/Users/Fitri/OneDrive/Documents/GitHub/poly/Data%20Structures%20and%20Algorithms/Labs/Week%205/Slides.ipynb#W2sZmlsZQ%3D%3D?line=1'>2</a>\u001b[0m     \u001b[39mreturn\u001b[39;00m l[\u001b[39m0\u001b[39m] \u001b[39m*\u001b[39m product(l[\u001b[39m1\u001b[39;49m:])\n",
      "    \u001b[1;31m[... skipping similar frames: product at line 2 (1 times)]\u001b[0m\n",
      "\u001b[1;32mc:\\Users\\Fitri\\OneDrive\\Documents\\GitHub\\poly\\Data Structures and Algorithms\\Labs\\Week 5\\Slides.ipynb Cell 2\u001b[0m line \u001b[0;36m2\n\u001b[0;32m      <a href='vscode-notebook-cell:/c%3A/Users/Fitri/OneDrive/Documents/GitHub/poly/Data%20Structures%20and%20Algorithms/Labs/Week%205/Slides.ipynb#W2sZmlsZQ%3D%3D?line=0'>1</a>\u001b[0m \u001b[39mdef\u001b[39;00m \u001b[39mproduct\u001b[39m(l):\n\u001b[1;32m----> <a href='vscode-notebook-cell:/c%3A/Users/Fitri/OneDrive/Documents/GitHub/poly/Data%20Structures%20and%20Algorithms/Labs/Week%205/Slides.ipynb#W2sZmlsZQ%3D%3D?line=1'>2</a>\u001b[0m     \u001b[39mreturn\u001b[39;00m l[\u001b[39m0\u001b[39;49m] \u001b[39m*\u001b[39m product(l[\u001b[39m1\u001b[39m:])\n",
      "\u001b[1;31mIndexError\u001b[0m: tuple index out of range"
     ]
    }
   ],
   "source": [
    "def product(l):\n",
    "    return l[0] * product(l[1:])\n"
   ]
  },
  {
   "cell_type": "code",
   "execution_count": 45,
   "metadata": {},
   "outputs": [
    {
     "name": "stdout",
     "output_type": "stream",
     "text": [
      "1\n",
      "10\n",
      "11\n",
      "100\n",
      "1001\n"
     ]
    }
   ],
   "source": [
    "#Converting decimal to binary using recursion\n",
    "\n",
    "def decimalToBinary(n):\n",
    "    #n=10\n",
    "    if n > 1:\n",
    "        decimalToBinary( n//2 )\n",
    "        #n = 5\n",
    "        # print(n)\n",
    "\n",
    "    print(n % 2, end='')\n",
    "    #n =\n",
    "    return ''\n",
    "\n",
    "#This function converts decimal number to binary by calling itself recursively. Firstly, it divides the decimal number by 2 and calls itself again with the quotient, \n",
    "# which is the integer value of decimal number divided by two. \n",
    "# Then the remainder of dividing the decimal number by 2 is printed. This process continues until the decimal number reaches zero.\n",
    "print(decimalToBinary(1))\n",
    "print(decimalToBinary(2))\n",
    "print(decimalToBinary(3))\n",
    "print(decimalToBinary(4))\n",
    "print(decimalToBinary(9))"
   ]
  }
 ],
 "metadata": {
  "kernelspec": {
   "display_name": "base",
   "language": "python",
   "name": "python3"
  },
  "language_info": {
   "codemirror_mode": {
    "name": "ipython",
    "version": 3
   },
   "file_extension": ".py",
   "mimetype": "text/x-python",
   "name": "python",
   "nbconvert_exporter": "python",
   "pygments_lexer": "ipython3",
   "version": "3.9.12"
  }
 },
 "nbformat": 4,
 "nbformat_minor": 2
}
