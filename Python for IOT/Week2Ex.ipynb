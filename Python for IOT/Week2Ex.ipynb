{
 "cells": [
  {
   "cell_type": "code",
   "execution_count": 1,
   "metadata": {},
   "outputs": [
    {
     "name": "stdout",
     "output_type": "stream",
     "text": [
      "9223372036854775808\n"
     ]
    }
   ],
   "source": [
    "\"\"\"\n",
    "An ancient king was a big chess enthusiast and had the habit of challenging wise\n",
    "visitors to a game of chess. One day a traveling sage was challenged by the king. To\n",
    "motivate his opponent the king offered any reward that the sage could name. The\n",
    "sage modestly asked just for a few grains of rice in the following manner: the king\n",
    "was to put a single grain of rice on the first chess square and double it on every\n",
    "consequent one.\n",
    "Having lost the game and being a man of his word the king ordered a bag of rice to\n",
    "be brought to the chess board. Then he started placing rice grains according to the\n",
    "arrangement: 1 grain on the first square, 2 on the second, 4 on the third, 8 on the\n",
    "fourth and so on.\n",
    "\"\"\"\n",
    "\n",
    "print(2**63)    "
   ]
  },
  {
   "cell_type": "code",
   "execution_count": 3,
   "metadata": {},
   "outputs": [
    {
     "name": "stdout",
     "output_type": "stream",
     "text": [
      "2 x 1 = 2\n",
      "2 x 2 = 4\n",
      "2 x 3 = 6\n",
      "2 x 4 = 8\n",
      "2 x 5 = 10\n",
      "2 x 6 = 12\n",
      "2 x 7 = 14\n",
      "2 x 8 = 16\n",
      "2 x 9 = 18\n",
      "2 x 10 = 20\n",
      "2 x 11 = 22\n",
      "2 x 12 = 24\n"
     ]
    }
   ],
   "source": [
    "\"\"\"\n",
    "Write a Python program to prompt the user for an integer (e.g. 5) and print out the multiplication table for that integer\n",
    "\"\"\"\n",
    "\n",
    "num = input(\"Enter an integer:\")\n",
    "\n",
    "for i in range(1,13):\n",
    "    print(num,'x',i,'=',int(num)*i)"
   ]
  },
  {
   "cell_type": "code",
   "execution_count": 16,
   "metadata": {},
   "outputs": [
    {
     "name": "stdout",
     "output_type": "stream",
     "text": [
      "You will have your first one million dollars at the age of 42.\n"
     ]
    }
   ],
   "source": [
    "\"\"\"\n",
    "Assuming you start working at 25 years old, and\n",
    "your starting salary is $3000 and get 3 month of\n",
    "bonus every year. Assuming also that you save\n",
    "30% of what you earn every year and invest it\n",
    "(for a 10% return) at the beginning of the\n",
    "following year. Assuming further that your pay\n",
    "goes up by 10% every year.\n",
    "Write a Python program to determine when you\n",
    "will have your first one million dollars.\n",
    "\n",
    "\"\"\"\n",
    "Age = 25\n",
    "Annual_salary = 3000\n",
    "Annual_saving_percentage = 0.3  # 30% of earnings saved\n",
    "Invest_in_Jan = 0  # Assuming no initial investment in January\n",
    "Amount_in_Dec = 0  # Amount accumulated in December\n",
    "\n",
    "while Amount_in_Dec < 1000000:\n",
    "    Earnings = Annual_salary * 15 #12 months + 3 bonus\n",
    "    Savings = Earnings * Annual_saving_percentage\n",
    "    Savings += Invest_in_Jan\n",
    "    Amount_in_Dec += Savings\n",
    "    Invest_in_Jan = Amount_in_Dec * 0.10  \n",
    "    Annual_salary *= 1.10\n",
    "    Age += 1\n",
    "\n",
    "print(f\"You will have your first one million dollars at the age of {Age}.\")"
   ]
  }
 ],
 "metadata": {
  "kernelspec": {
   "display_name": "Python 3",
   "language": "python",
   "name": "python3"
  },
  "language_info": {
   "codemirror_mode": {
    "name": "ipython",
    "version": 3
   },
   "file_extension": ".py",
   "mimetype": "text/x-python",
   "name": "python",
   "nbconvert_exporter": "python",
   "pygments_lexer": "ipython3",
   "version": "3.9.12"
  }
 },
 "nbformat": 4,
 "nbformat_minor": 2
}
