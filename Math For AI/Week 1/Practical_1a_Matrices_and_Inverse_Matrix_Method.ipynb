{
 "cells": [
  {
   "cell_type": "markdown",
   "metadata": {},
   "source": [
    "# Practical 1a: Matrices and Inverse Matrix Method\n"
   ]
  },
  {
   "cell_type": "markdown",
   "metadata": {},
   "source": [
    "Many machine learning algorithms make use of matrices to store and process data. \n",
    "For example, a deep learning algorithm makes use of matrices to store inputs such as \n",
    "images, tweets, or text to solve problems. An artificial neural network makes use of \n",
    "matrices to store information such as weights during training. A familiarity with \n",
    "matrices/vectors is hence important.\n",
    "\n",
    "In this practical we will learn some of the fundamentals of matrices/vectors and to use the \n",
    "inverse matrix method to solve systems of linear equations with unique solutions."
   ]
  },
  {
   "cell_type": "markdown",
   "metadata": {},
   "source": [
    "A **vector** can be represented as a list in Python.\n",
    "For example:"
   ]
  },
  {
   "cell_type": "code",
   "execution_count": 4,
   "metadata": {},
   "outputs": [
    {
     "name": "stdout",
     "output_type": "stream",
     "text": [
      "[1, 4, 2]\n"
     ]
    }
   ],
   "source": [
    "v = [ 1, 4, 2]\n",
    "print(v)"
   ]
  },
  {
   "cell_type": "markdown",
   "metadata": {},
   "source": [
    "A **matrix** is a 2D array which stores numbers. \n",
    "Alternatively, a matrix can also be thought of as \n",
    "a list of vectors.\n",
    "\n",
    "An example:"
   ]
  },
  {
   "cell_type": "code",
   "execution_count": 5,
   "metadata": {},
   "outputs": [
    {
     "name": "stdout",
     "output_type": "stream",
     "text": [
      "[[1, 4, 2], [0, 6, 3], [3, 5, 6]]\n"
     ]
    }
   ],
   "source": [
    "A = [[1,4,2],[0,6,3],[3,5,6]]\n",
    "print(A)"
   ]
  },
  {
   "cell_type": "markdown",
   "metadata": {},
   "source": [
    "An alternative way to work with vectors and matrices is\n",
    "to use the **NumPy** module in Python."
   ]
  },
  {
   "cell_type": "code",
   "execution_count": 6,
   "metadata": {},
   "outputs": [
    {
     "name": "stdout",
     "output_type": "stream",
     "text": [
      "[[1]\n",
      " [4]\n",
      " [2]]\n",
      "[[1 4 2]\n",
      " [0 6 3]\n",
      " [3 5 6]]\n"
     ]
    }
   ],
   "source": [
    "import numpy as np\n",
    "v = np.array([[1],\n",
    "               [4],\n",
    "               [2]])\n",
    "print(v)\n",
    "A = np.array([[1,4, 2], [0, 6, 3],[3, 5, 6]])\n",
    "print(A)"
   ]
  },
  {
   "cell_type": "markdown",
   "metadata": {},
   "source": [
    "We can check the order of **A** and **v** as follows:"
   ]
  },
  {
   "cell_type": "code",
   "execution_count": 7,
   "metadata": {},
   "outputs": [
    {
     "name": "stdout",
     "output_type": "stream",
     "text": [
      "A if of dimension:  (3, 3)\n",
      "v is of dimension:  (3, 1)\n"
     ]
    }
   ],
   "source": [
    "print(\"A if of dimension: \", A.shape)\n",
    "print(\"v is of dimension: \", v.shape)"
   ]
  },
  {
   "cell_type": "markdown",
   "metadata": {},
   "source": [
    "We can check any element of **A** as follows:"
   ]
  },
  {
   "cell_type": "code",
   "execution_count": 8,
   "metadata": {},
   "outputs": [
    {
     "name": "stdout",
     "output_type": "stream",
     "text": [
      "The element of A in row 1 and column 2:  4\n"
     ]
    }
   ],
   "source": [
    "print(\"The element of A in row 1 and column 2: \", A[0,1])"
   ]
  },
  {
   "cell_type": "markdown",
   "metadata": {},
   "source": [
    "There are a lot of matrix operations which we can make use\n",
    "of in **NumPy**. Some examples are given below."
   ]
  },
  {
   "cell_type": "code",
   "execution_count": 9,
   "metadata": {},
   "outputs": [
    {
     "name": "stdout",
     "output_type": "stream",
     "text": [
      "[[5 8]\n",
      " [6 9]]\n",
      "[[ 3  2]\n",
      " [ 4 -1]]\n",
      "[[ 8 10]\n",
      " [10  8]]\n"
     ]
    }
   ],
   "source": [
    "# Matrix Addition\n",
    "A = np.array([[5,8],[6,9]])\n",
    "print(A)\n",
    "B = np.array([[3,2],[4,-1]])\n",
    "print(B)\n",
    "C = A+B\n",
    "print(C)"
   ]
  },
  {
   "cell_type": "code",
   "execution_count": 10,
   "metadata": {},
   "outputs": [
    {
     "name": "stdout",
     "output_type": "stream",
     "text": [
      "[[ 2  6]\n",
      " [ 2 10]]\n"
     ]
    }
   ],
   "source": [
    "# Matrix Subtraction\n",
    "D = A - B\n",
    "print(D)"
   ]
  },
  {
   "cell_type": "code",
   "execution_count": 11,
   "metadata": {},
   "outputs": [
    {
     "name": "stdout",
     "output_type": "stream",
     "text": [
      "[[5 8]\n",
      " [6 9]]\n",
      "[[10 16]\n",
      " [12 18]]\n"
     ]
    }
   ],
   "source": [
    "# Matrix-Scalar Multiplication\n",
    "A = np.array([[5,8],[6,9]])\n",
    "print(A)\n",
    "b = 2\n",
    "E = A*2\n",
    "print(E)"
   ]
  },
  {
   "cell_type": "code",
   "execution_count": 12,
   "metadata": {},
   "outputs": [
    {
     "name": "stdout",
     "output_type": "stream",
     "text": [
      "[[5 8]\n",
      " [6 9]]\n",
      "[[1]\n",
      " [4]]\n",
      "[[37]\n",
      " [42]]\n",
      "[[37]\n",
      " [42]]\n"
     ]
    }
   ],
   "source": [
    "# Matrix-Vector Multiplication\n",
    "A = np.array([[5,8],[6,9]])\n",
    "print(A)\n",
    "v = np.array([[1],[4]])\n",
    "print(v)\n",
    "w = np.dot(A,v)\n",
    "print(w)\n",
    "z = np.matmul(A,v)\n",
    "print(z)"
   ]
  },
  {
   "cell_type": "code",
   "execution_count": 13,
   "metadata": {},
   "outputs": [
    {
     "name": "stdout",
     "output_type": "stream",
     "text": [
      "[[5 8]\n",
      " [6 9]]\n",
      "[[ 3  2]\n",
      " [ 4 -1]]\n",
      "[[47  2]\n",
      " [54  3]]\n",
      "[[47  2]\n",
      " [54  3]]\n"
     ]
    }
   ],
   "source": [
    "# Matrix-Matrix Multiplication\n",
    "A = np.array([[5,8],[6,9]])\n",
    "print(A)\n",
    "B = np.array([[3,2],[4,-1]])\n",
    "print(B)\n",
    "C = np.dot(A,B)\n",
    "print(C)\n",
    "D = np.matmul(A,B)\n",
    "print(D)"
   ]
  },
  {
   "cell_type": "code",
   "execution_count": 14,
   "metadata": {
    "scrolled": true
   },
   "outputs": [
    {
     "name": "stdout",
     "output_type": "stream",
     "text": [
      "[[5 8]\n",
      " [6 9]]\n",
      "[[5 6]\n",
      " [8 9]]\n"
     ]
    }
   ],
   "source": [
    "# Taking transpose\n",
    "print(A)\n",
    "B = A.T\n",
    "print(B)"
   ]
  },
  {
   "cell_type": "code",
   "execution_count": 15,
   "metadata": {},
   "outputs": [
    {
     "name": "stdout",
     "output_type": "stream",
     "text": [
      "[[5 8]\n",
      " [6 9]]\n",
      "-2.9999999999999982\n"
     ]
    }
   ],
   "source": [
    "# Finding Matrix Determinant\n",
    "A = np.array([[5,8],[6,9]])\n",
    "print(A)\n",
    "detA = np.linalg.det(A)\n",
    "print(detA)"
   ]
  },
  {
   "cell_type": "code",
   "execution_count": 16,
   "metadata": {},
   "outputs": [
    {
     "name": "stdout",
     "output_type": "stream",
     "text": [
      "[[5 8]\n",
      " [6 9]]\n",
      "[[-3.          2.66666667]\n",
      " [ 2.         -1.66666667]]\n"
     ]
    }
   ],
   "source": [
    "# Matrix Inverse\n",
    "print(A)\n",
    "B = np.linalg.inv(A)\n",
    "print(B)"
   ]
  },
  {
   "cell_type": "markdown",
   "metadata": {},
   "source": [
    "An **identity matrix** of order 3 can be created as follows:"
   ]
  },
  {
   "cell_type": "code",
   "execution_count": 17,
   "metadata": {},
   "outputs": [
    {
     "name": "stdout",
     "output_type": "stream",
     "text": [
      "[[1. 0. 0.]\n",
      " [0. 1. 0.]\n",
      " [0. 0. 1.]]\n"
     ]
    }
   ],
   "source": [
    "I3 = np.eye(3)\n",
    "print(I3)"
   ]
  },
  {
   "cell_type": "markdown",
   "metadata": {},
   "source": [
    "To create a 2x3 matrix of random numbers drawn from a normal distribution with mean 0 and variance 1, we use:"
   ]
  },
  {
   "cell_type": "code",
   "execution_count": 18,
   "metadata": {},
   "outputs": [
    {
     "name": "stdout",
     "output_type": "stream",
     "text": [
      "[[ 1.0142802  -0.15330032  0.84389782]\n",
      " [-1.69273687  0.04046349  0.21697742]]\n"
     ]
    }
   ],
   "source": [
    "weights = np.random.randn(2,3)\n",
    "print(weights)"
   ]
  },
  {
   "cell_type": "markdown",
   "metadata": {},
   "source": [
    "A 3x3 **diagonal matrix** with (1, 5, 1) along its principal diagonal can be constructed as follows:"
   ]
  },
  {
   "cell_type": "code",
   "execution_count": 19,
   "metadata": {},
   "outputs": [
    {
     "name": "stdout",
     "output_type": "stream",
     "text": [
      "[[1 0 0]\n",
      " [0 5 0]\n",
      " [0 0 1]]\n"
     ]
    }
   ],
   "source": [
    "A = np.diag((1, 5, 1))\n",
    "print(A)"
   ]
  },
  {
   "cell_type": "markdown",
   "metadata": {},
   "source": [
    "To create a 1x3 matrix of **ones**, we can do as follows:"
   ]
  },
  {
   "cell_type": "code",
   "execution_count": 20,
   "metadata": {},
   "outputs": [
    {
     "name": "stdout",
     "output_type": "stream",
     "text": [
      "[[1. 1. 1.]]\n"
     ]
    }
   ],
   "source": [
    "A = np.ones((1,3))\n",
    "print(A)"
   ]
  },
  {
   "cell_type": "markdown",
   "metadata": {},
   "source": [
    "### Task 1\n",
    "Determine if each of the following matrices is singular.<br>\n",
    "(a) $\\mathbf{A}=\\begin{bmatrix}1 & 2 & 3 \\\\ 4 & 5 & 6 \\\\ 7 & 8 & 9 \\end{bmatrix}$ <br><br>\n",
    "(b) $\\mathbf{A}=\\begin{bmatrix}0 & 1 & 3 & 4 \\\\ -2 & 1 & 2 & 1 \\\\ 2 & 0 & 1 & 0 \\\\ 0 & 8 & 3 & 1 \\end{bmatrix}$ <br>"
   ]
  },
  {
   "cell_type": "code",
   "execution_count": 31,
   "metadata": {},
   "outputs": [
    {
     "name": "stdout",
     "output_type": "stream",
     "text": [
      "-9.51619735392994e-16\n"
     ]
    }
   ],
   "source": [
    "# (a)\n",
    "import numpy as np\n",
    "A = np.array([[1,2,3],[4,5,6],[7,8,9]])\n",
    "detA = np.linalg.det(A)\n",
    "\n",
    "print(detA)"
   ]
  },
  {
   "cell_type": "code",
   "execution_count": 33,
   "metadata": {},
   "outputs": [
    {
     "name": "stdout",
     "output_type": "stream",
     "text": [
      "-126.0\n"
     ]
    }
   ],
   "source": [
    "# (b)\n",
    "import numpy as np\n",
    "A = np.array([[0,1,3,4],[-2,1,2,1],[2,0,1,0],[0,8,3,1]])\n",
    "detA = np.linalg.det(A)\n",
    "\n",
    "print(detA)\n",
    "\n"
   ]
  },
  {
   "cell_type": "markdown",
   "metadata": {},
   "source": [
    "### Task 2\n",
    "Find the inverse of each matrix and verify that $\\mathbf{A}\\mathbf{A}^{-1}=\\mathbf{A}^{-1}\\mathbf{A}=\\mathbf{I}$.<br>\n",
    "(a) $\\mathbf{A}=\\begin{bmatrix}2 & 1 \\\\ 3 & 5 \\end{bmatrix}$ <br><br>\n",
    "(b) $\\mathbf{A}=\\begin{bmatrix}1 & 1 & 2 \\\\ 2 & 1 & 1 \\\\ 1 & 2 & 1 \\end{bmatrix}$"
   ]
  },
  {
   "cell_type": "code",
   "execution_count": 34,
   "metadata": {},
   "outputs": [
    {
     "name": "stdout",
     "output_type": "stream",
     "text": [
      "[[ 0.71428571 -0.14285714]\n",
      " [-0.42857143  0.28571429]]\n"
     ]
    }
   ],
   "source": [
    "# (a) find inverse\n",
    "A = np.array([[2,1],[3,5]])\n",
    "invA = np.linalg.inv(A)\n",
    "\n",
    "print(invA)\n"
   ]
  },
  {
   "cell_type": "code",
   "execution_count": 35,
   "metadata": {},
   "outputs": [
    {
     "name": "stdout",
     "output_type": "stream",
     "text": [
      "[[ 1.00000000e+00 -1.11022302e-16]\n",
      " [ 0.00000000e+00  1.00000000e+00]]\n"
     ]
    }
   ],
   "source": [
    "# (a) verify\n",
    "\n",
    "D = np.matmul(A,invA)\n",
    "print(D)"
   ]
  },
  {
   "cell_type": "code",
   "execution_count": 36,
   "metadata": {},
   "outputs": [
    {
     "name": "stdout",
     "output_type": "stream",
     "text": [
      "[[-0.25  0.75 -0.25]\n",
      " [-0.25 -0.25  0.75]\n",
      " [ 0.75 -0.25 -0.25]]\n"
     ]
    }
   ],
   "source": [
    "# (a) find inverse\n",
    "\n",
    "A = np.array([[1,1,2],[2,1,1],[1,2,1]])\n",
    "invA = np.linalg.inv(A)\n",
    "\n",
    "print(invA)\n"
   ]
  },
  {
   "cell_type": "code",
   "execution_count": 37,
   "metadata": {},
   "outputs": [
    {
     "name": "stdout",
     "output_type": "stream",
     "text": [
      "[[ 1.00000000e+00 -1.11022302e-16  0.00000000e+00]\n",
      " [ 0.00000000e+00  1.00000000e+00  0.00000000e+00]\n",
      " [ 0.00000000e+00 -5.55111512e-17  1.00000000e+00]]\n"
     ]
    }
   ],
   "source": [
    "# (b) verify\n",
    "\n",
    "D = np.matmul(A,invA)\n",
    "print(D)"
   ]
  },
  {
   "cell_type": "markdown",
   "metadata": {},
   "source": [
    "### Task 3\n",
    "Solve the following system of linear equations.<br>\n",
    "\n",
    "$$\\begin{eqnarray}\n",
    "w\\ &+&  && y &+& z &=& 0 \\\\\n",
    "2w\\ &+& x &-& 2y &-& 3z &=& 3 \\\\\n",
    "4w\\ &-& 8x &-& y &+& 2z &=& 3 \\\\\n",
    "-3w\\ &+& 2x &+& y &+& 6z &=& 8 \\\\\n",
    "\\end{eqnarray}$$"
   ]
  },
  {
   "cell_type": "code",
   "execution_count": 41,
   "metadata": {},
   "outputs": [
    {
     "name": "stdout",
     "output_type": "stream",
     "text": [
      "[[ 1  0  1  1]\n",
      " [ 2  1 -2 -3]\n",
      " [ 4 -8 -1  2]\n",
      " [-3  2  1  6]]\n",
      "[[0]\n",
      " [3]\n",
      " [3]\n",
      " [8]]\n"
     ]
    }
   ],
   "source": [
    "# define A and b\n",
    "# students to fill in\n",
    "\n",
    "A = np.array([[1,0,1,1],[2,1,-2,-3],[4,-8,-1,2],[-3,2,1,6]])\n",
    "B = np.array([[0],[3],[3],[8]])\n",
    "\n",
    "print(A)\n",
    "print(B)"
   ]
  },
  {
   "cell_type": "code",
   "execution_count": 42,
   "metadata": {},
   "outputs": [
    {
     "name": "stdout",
     "output_type": "stream",
     "text": [
      "[[ 0.47236181  0.23115578  0.03517588  0.02512563]\n",
      " [ 0.20603015  0.18592965 -0.08040201  0.08542714]\n",
      " [ 0.4321608  -0.34170854 -0.09547739 -0.21105528]\n",
      " [ 0.09547739  0.11055276  0.06030151  0.18592965]]\n"
     ]
    }
   ],
   "source": [
    "# find inverse of A\n",
    "\n",
    "invA = np.linalg.inv(A)\n",
    "print(invA)"
   ]
  },
  {
   "cell_type": "code",
   "execution_count": 44,
   "metadata": {},
   "outputs": [
    {
     "name": "stdout",
     "output_type": "stream",
     "text": [
      "[[ 1.]\n",
      " [ 1.]\n",
      " [-3.]\n",
      " [ 2.]]\n"
     ]
    }
   ],
   "source": [
    "# solve for x\n",
    "\n",
    "x = np.matmul(invA,B)\n",
    "print(x)"
   ]
  },
  {
   "cell_type": "code",
   "execution_count": null,
   "metadata": {},
   "outputs": [],
   "source": []
  }
 ],
 "metadata": {
  "kernelspec": {
   "display_name": "base",
   "language": "python",
   "name": "python3"
  },
  "language_info": {
   "codemirror_mode": {
    "name": "ipython",
    "version": 3
   },
   "file_extension": ".py",
   "mimetype": "text/x-python",
   "name": "python",
   "nbconvert_exporter": "python",
   "pygments_lexer": "ipython3",
   "version": "3.9.13"
  },
  "vscode": {
   "interpreter": {
    "hash": "1250725a789e36b5bf02898958c38eeaa69823ea0ea25ecf809562ed992fd123"
   }
  }
 },
 "nbformat": 4,
 "nbformat_minor": 2
}
