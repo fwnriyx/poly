{
 "cells": [
  {
   "cell_type": "code",
   "execution_count": 1,
   "metadata": {},
   "outputs": [
    {
     "name": "stdout",
     "output_type": "stream",
     "text": [
      "Downloading data from https://storage.googleapis.com/tensorflow/tf-keras-datasets/mnist.npz\n",
      "11490434/11490434 [==============================] - 2s 0us/step\n"
     ]
    },
    {
     "data": {
      "image/png": "[encoded data removed]",
      "text/plain": [
       "<Figure size 640x480 with 4 Axes>"
      ]
     },
     "metadata": {},
     "output_type": "display_data"
    }
   ],
   "source": [
    "# Plot mnist instances\n",
    "from tensorflow.keras.datasets import mnist\n",
    "import matplotlib.pyplot as plt\n",
    "# load (downloaded if needed) the MNIST dataset\n",
    "(X_train, y_train), (X_test, y_test) = mnist.load_data()\n",
    "# plot 4 images as gray scale\n",
    "plt.subplot(221)\n",
    "plt.imshow(X_train[0], cmap=plt.get_cmap('gray'))\n",
    "plt.subplot(222)\n",
    "plt.imshow(X_train[1], cmap=plt.get_cmap('gray'))\n",
    "plt.subplot(223)\n",
    "plt.imshow(X_train[2], cmap=plt.get_cmap('gray'))\n",
    "plt.subplot(224)\n",
    "plt.imshow(X_train[3], cmap=plt.get_cmap('gray'))\n",
    "# show the plot\n",
    "plt.show()\n",
    "# Try plotting a 5x5 grid of images"
   ]
  },
  {
   "cell_type": "code",
   "execution_count": 2,
   "metadata": {},
   "outputs": [
    {
     "name": "stdout",
     "output_type": "stream",
     "text": [
      "Epoch 1/10\n",
      "300/300 - 6s - loss: 0.2792 - accuracy: 0.9201 - val_loss: 0.1416 - val_accuracy: 0.9558 - 6s/epoch - 20ms/step\n",
      "Epoch 2/10\n",
      "300/300 - 1s - loss: 0.1088 - accuracy: 0.9683 - val_loss: 0.0913 - val_accuracy: 0.9722 - 851ms/epoch - 3ms/step\n",
      "Epoch 3/10\n",
      "300/300 - 1s - loss: 0.0693 - accuracy: 0.9798 - val_loss: 0.0830 - val_accuracy: 0.9740 - 851ms/epoch - 3ms/step\n",
      "Epoch 4/10\n",
      "300/300 - 1s - loss: 0.0494 - accuracy: 0.9861 - val_loss: 0.0664 - val_accuracy: 0.9799 - 846ms/epoch - 3ms/step\n",
      "Epoch 5/10\n",
      "300/300 - 1s - loss: 0.0354 - accuracy: 0.9900 - val_loss: 0.0620 - val_accuracy: 0.9799 - 838ms/epoch - 3ms/step\n",
      "Epoch 6/10\n",
      "300/300 - 1s - loss: 0.0261 - accuracy: 0.9932 - val_loss: 0.0655 - val_accuracy: 0.9801 - 834ms/epoch - 3ms/step\n",
      "Epoch 7/10\n",
      "300/300 - 1s - loss: 0.0189 - accuracy: 0.9954 - val_loss: 0.0604 - val_accuracy: 0.9804 - 817ms/epoch - 3ms/step\n",
      "Epoch 8/10\n",
      "300/300 - 1s - loss: 0.0137 - accuracy: 0.9969 - val_loss: 0.0594 - val_accuracy: 0.9827 - 833ms/epoch - 3ms/step\n",
      "Epoch 9/10\n",
      "300/300 - 1s - loss: 0.0106 - accuracy: 0.9978 - val_loss: 0.0665 - val_accuracy: 0.9796 - 844ms/epoch - 3ms/step\n",
      "Epoch 10/10\n",
      "300/300 - 1s - loss: 0.0085 - accuracy: 0.9982 - val_loss: 0.0639 - val_accuracy: 0.9817 - 843ms/epoch - 3ms/step\n",
      "Baseline Error: 1.83%\n"
     ]
    }
   ],
   "source": [
    "import numpy as np\n",
    "from tensorflow.keras.datasets import mnist\n",
    "from tensorflow.keras.models import Sequential\n",
    "from tensorflow.keras.layers import Dense\n",
    "from tensorflow.keras.utils import to_categorical\n",
    "# fix random seed for reproducibility\n",
    "seed = 88\n",
    "np.random.seed(seed)\n",
    "# load data\n",
    "(X_train, y_train), (X_test, y_test) = mnist.load_data()\n",
    "\n",
    "# flatten 28*28 images to a 784 vector for each image\n",
    "num_pixels = X_train.shape[1] * X_train.shape[2]\n",
    "X_train = X_train.reshape(X_train.shape[0], num_pixels).astype('float32')\n",
    "X_test = X_test.reshape(X_test.shape[0], num_pixels).astype('float32')\n",
    "\n",
    "# normalize inputs from 0-255 to 0-1\n",
    "X_train = X_train / 255\n",
    "X_test = X_test / 255\n",
    "\n",
    "# one hot encode outputs\n",
    "y_train = to_categorical(y_train)\n",
    "y_test = to_categorical(y_test)\n",
    "num_classes = y_test.shape[1]\n",
    "\n",
    "# build the model\n",
    "# create model\n",
    "model = Sequential()\n",
    "model.add(Dense(num_pixels, input_shape=(num_pixels,),\n",
    "                kernel_initializer='normal', activation='relu'))\n",
    "model.add(Dense(num_classes, kernel_initializer='normal', activation='softmax'))\n",
    "\n",
    "# Compile model\n",
    "model.compile(loss='categorical_crossentropy',\n",
    " optimizer='adam', metrics=['accuracy'])\n",
    "\n",
    "# Fit the model\n",
    "model.fit(X_train, y_train, validation_data=(X_test, y_test),\n",
    " epochs=10, batch_size=200, verbose=2)\n",
    "\n",
    "# Final evaluation of the model\n",
    "scores = model.evaluate(X_test, y_test, verbose=0)\n",
    "print(\"Baseline Error: %.2f%%\" % (100-scores[1]*100))"
   ]
  },
  {
   "cell_type": "code",
   "execution_count": 3,
   "metadata": {},
   "outputs": [
    {
     "name": "stdout",
     "output_type": "stream",
     "text": [
      "Epoch 1/10\n",
      "300/300 - 1s - loss: 0.2806 - accuracy: 0.9204 - val_loss: 0.1328 - val_accuracy: 0.9617 - 1s/epoch - 4ms/step\n",
      "Epoch 2/10\n",
      "300/300 - 1s - loss: 0.1080 - accuracy: 0.9682 - val_loss: 0.0958 - val_accuracy: 0.9709 - 836ms/epoch - 3ms/step\n",
      "Epoch 3/10\n",
      "300/300 - 1s - loss: 0.0688 - accuracy: 0.9802 - val_loss: 0.0728 - val_accuracy: 0.9782 - 844ms/epoch - 3ms/step\n",
      "Epoch 4/10\n",
      "300/300 - 1s - loss: 0.0484 - accuracy: 0.9862 - val_loss: 0.0683 - val_accuracy: 0.9787 - 837ms/epoch - 3ms/step\n",
      "Epoch 5/10\n",
      "300/300 - 1s - loss: 0.0356 - accuracy: 0.9898 - val_loss: 0.0615 - val_accuracy: 0.9805 - 830ms/epoch - 3ms/step\n",
      "Epoch 6/10\n",
      "300/300 - 1s - loss: 0.0251 - accuracy: 0.9933 - val_loss: 0.0621 - val_accuracy: 0.9818 - 831ms/epoch - 3ms/step\n",
      "Epoch 7/10\n",
      "300/300 - 1s - loss: 0.0188 - accuracy: 0.9952 - val_loss: 0.0597 - val_accuracy: 0.9807 - 823ms/epoch - 3ms/step\n",
      "Epoch 8/10\n",
      "300/300 - 1s - loss: 0.0144 - accuracy: 0.9966 - val_loss: 0.0585 - val_accuracy: 0.9823 - 826ms/epoch - 3ms/step\n",
      "Epoch 9/10\n",
      "300/300 - 1s - loss: 0.0105 - accuracy: 0.9978 - val_loss: 0.0584 - val_accuracy: 0.9818 - 822ms/epoch - 3ms/step\n",
      "Epoch 10/10\n",
      "300/300 - 1s - loss: 0.0075 - accuracy: 0.9987 - val_loss: 0.0583 - val_accuracy: 0.9829 - 837ms/epoch - 3ms/step\n",
      "Baseline Error: 1.71%\n"
     ]
    }
   ],
   "source": [
    "import numpy as np\n",
    "from tensorflow.keras.datasets import mnist\n",
    "from tensorflow.keras.models import Sequential\n",
    "from tensorflow.keras.layers import Dense\n",
    "from tensorflow.keras.utils import to_categorical\n",
    "# fix random seed for reproducibility\n",
    "seed = 88\n",
    "np.random.seed(seed)\n",
    "\n",
    "# load data\n",
    "(X_train, y_train), (X_test, y_test) = mnist.load_data()\n",
    "\n",
    "# flatten 28*28 images to a 784 vector for each image\n",
    "num_pixels = X_train.shape[1] * X_train.shape[2]\n",
    "X_train = X_train.reshape(X_train.shape[0], num_pixels).astype('float32')\n",
    "X_test = X_test.reshape(X_test.shape[0], num_pixels).astype('float32')\n",
    "\n",
    "# normalize inputs from 0-255 to 0-1\n",
    "X_train = X_train / 255\n",
    "X_test = X_test / 255\n",
    "\n",
    "# one hot encode outputs\n",
    "y_train = to_categorical(y_train)\n",
    "y_test = to_categorical(y_test)\n",
    "num_classes = y_test.shape[1]\n",
    "\n",
    "# build the model\n",
    "# create model\n",
    "model = Sequential()\n",
    "model.add(Dense(num_pixels, input_shape=(num_pixels,),\n",
    " kernel_initializer='normal', activation='relu'))\n",
    "model.add(Dense(num_classes,\n",
    " kernel_initializer='normal', activation='softmax'))\n",
    "\n",
    "# Compile model\n",
    "model.compile(loss='categorical_crossentropy',\n",
    " optimizer='adam', metrics=['accuracy'])\n",
    "\n",
    "# Fit the model\n",
    "model.fit(X_train, y_train, validation_data=(X_test, y_test),\n",
    " epochs=10, batch_size=200, verbose=2)\n",
    " \n",
    "# Final evaluation of the model\n",
    "scores = model.evaluate(X_test, y_test, verbose=0)\n",
    "print(\"Baseline Error: %.2f%%\" % (100-scores[1]*100))"
   ]
  },
  {
   "cell_type": "code",
   "execution_count": 4,
   "metadata": {},
   "outputs": [
    {
     "name": "stdout",
     "output_type": "stream",
     "text": [
      "Epoch 1/10\n",
      "300/300 - 14s - loss: 0.3963 - accuracy: 0.8752 - val_loss: 0.0808 - val_accuracy: 0.9753 - 14s/epoch - 47ms/step\n",
      "Epoch 2/10\n",
      "300/300 - 1s - loss: 0.1001 - accuracy: 0.9690 - val_loss: 0.0521 - val_accuracy: 0.9830 - 1s/epoch - 4ms/step\n",
      "Epoch 3/10\n",
      "300/300 - 1s - loss: 0.0736 - accuracy: 0.9774 - val_loss: 0.0421 - val_accuracy: 0.9863 - 1s/epoch - 4ms/step\n",
      "Epoch 4/10\n",
      "300/300 - 1s - loss: 0.0592 - accuracy: 0.9816 - val_loss: 0.0336 - val_accuracy: 0.9894 - 1s/epoch - 4ms/step\n",
      "Epoch 5/10\n",
      "300/300 - 1s - loss: 0.0501 - accuracy: 0.9843 - val_loss: 0.0313 - val_accuracy: 0.9906 - 1s/epoch - 4ms/step\n",
      "Epoch 6/10\n",
      "300/300 - 1s - loss: 0.0445 - accuracy: 0.9859 - val_loss: 0.0346 - val_accuracy: 0.9891 - 1s/epoch - 4ms/step\n",
      "Epoch 7/10\n",
      "300/300 - 1s - loss: 0.0395 - accuracy: 0.9879 - val_loss: 0.0277 - val_accuracy: 0.9912 - 1s/epoch - 4ms/step\n",
      "Epoch 8/10\n",
      "300/300 - 1s - loss: 0.0350 - accuracy: 0.9890 - val_loss: 0.0254 - val_accuracy: 0.9922 - 1s/epoch - 4ms/step\n",
      "Epoch 9/10\n",
      "300/300 - 1s - loss: 0.0320 - accuracy: 0.9899 - val_loss: 0.0276 - val_accuracy: 0.9916 - 1s/epoch - 4ms/step\n",
      "Epoch 10/10\n",
      "300/300 - 1s - loss: 0.0312 - accuracy: 0.9899 - val_loss: 0.0251 - val_accuracy: 0.9919 - 1s/epoch - 4ms/step\n",
      "CNN Error: 0.81%\n"
     ]
    }
   ],
   "source": [
    "# Larger CNN Model\n",
    "import numpy as np\n",
    "from tensorflow.keras.datasets import mnist\n",
    "from tensorflow.keras.models import Sequential\n",
    "from tensorflow.keras.layers import Dense\n",
    "from tensorflow.keras.layers import Dropout\n",
    "from tensorflow.keras.layers import Flatten\n",
    "from tensorflow.keras.layers import Conv2D\n",
    "from tensorflow.keras.layers import MaxPooling2D\n",
    "from tensorflow.keras.utils import to_categorical\n",
    "# fix random seed for reproducibility\n",
    "seed = 88\n",
    "np.random.seed(seed)\n",
    "# load data\n",
    "(X_train, y_train), (X_test, y_test) = mnist.load_data()\n",
    "X_train = X_train.reshape(X_train.shape[0], 28, 28, 1).astype('float32')\n",
    "X_test = X_test.reshape(X_test.shape[0], 28, 28, 1).astype('float32')\n",
    "# normalize inputs from 0-255 to 0-1\n",
    "X_train = X_train / 255\n",
    "X_test = X_test / 255\n",
    "# one hot encode outputs\n",
    "y_train = to_categorical(y_train)\n",
    "y_test = to_categorical(y_test)\n",
    "num_classes = y_test.shape[1]\n",
    "# build the model\n",
    "# create model\n",
    "model = Sequential()\n",
    "model.add(Conv2D(30, (5, 5), input_shape=(28, 28, 1), activation='relu'))\n",
    "model.add(MaxPooling2D(pool_size=(2, 2)))\n",
    "model.add(Conv2D(15, (3, 3), activation='relu'))\n",
    "model.add(MaxPooling2D(pool_size=(2, 2)))\n",
    "model.add(Dropout(0.2))\n",
    "model.add(Flatten())\n",
    "model.add(Dense(128, activation='relu'))\n",
    "model.add(Dense(50, activation='relu'))\n",
    "model.add(Dense(num_classes, activation='softmax'))\n",
    "# Compile model\n",
    "model.compile(loss='categorical_crossentropy',\n",
    " optimizer='adam', metrics=['accuracy'])\n",
    "# Fit the model\n",
    "model.fit(X_train, y_train, validation_data=(X_test, y_test),\n",
    " epochs=10, batch_size=200, verbose=2)\n",
    "# Final evaluation of the model\n",
    "scores = model.evaluate(X_test, y_test, verbose=0)\n",
    "print(\"CNN Error: %.2f%%\" % (100-scores[1]*100))"
   ]
  }
 ],
 "metadata": {
  "kernelspec": {
   "display_name": "Python 3.8.18 ('gpu_env')",
   "language": "python",
   "name": "python3"
  },
  "language_info": {
   "codemirror_mode": {
    "name": "ipython",
    "version": 3
   },
   "file_extension": ".py",
   "mimetype": "text/x-python",
   "name": "python",
   "nbconvert_exporter": "python",
   "pygments_lexer": "ipython3",
   "version": "3.8.18"
  },
  "orig_nbformat": 4,
  "vscode": {
   "interpreter": {
    "hash": "8c3eecb18f7e3228069c3a202aa25cc258d8c69597e9d05719b4157516a81e9d"
   }
  }
 },
 "nbformat": 4,
 "nbformat_minor": 2
}
