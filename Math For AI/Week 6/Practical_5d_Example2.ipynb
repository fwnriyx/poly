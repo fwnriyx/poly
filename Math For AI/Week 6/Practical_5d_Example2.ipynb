{
 "cells": [
  {
   "cell_type": "markdown",
   "metadata": {},
   "source": [
    "# Practical 5D\n",
    "This practical is related to Example 2.\n",
    "<br>Obtain the PCA output table, scree plot and loading plot."
   ]
  },
  {
   "cell_type": "code",
   "execution_count": null,
   "metadata": {},
   "outputs": [],
   "source": [
    "import pandas as pd\n",
    "import matplotlib.pyplot as plt\n",
    "import seaborn as sns; sns.set()\n",
    "import numpy as np\n",
    "import os"
   ]
  },
  {
   "cell_type": "code",
   "execution_count": null,
   "metadata": {},
   "outputs": [],
   "source": [
    "os.chdir('D:/MS0240')"
   ]
  },
  {
   "cell_type": "markdown",
   "metadata": {},
   "source": [
    "Read in the correlation matrix"
   ]
  },
  {
   "cell_type": "code",
   "execution_count": null,
   "metadata": {
    "scrolled": true
   },
   "outputs": [],
   "source": [
    "correlation = pd.read_csv(\"Chp5Eg2.csv\", names=['0.5s', '1s', '3s', '6s', '15s'])\n",
    "correlation.index = ['0.5s', '1s', '3s', '6s', '15s']\n",
    "correlation"
   ]
  },
  {
   "cell_type": "markdown",
   "metadata": {},
   "source": [
    "Obtain the eigenvalues and eigenvectors and put them into dataframes."
   ]
  },
  {
   "cell_type": "code",
   "execution_count": null,
   "metadata": {},
   "outputs": [],
   "source": [
    "w, V =                    # Students to fill in\n",
    "w"
   ]
  },
  {
   "cell_type": "code",
   "execution_count": null,
   "metadata": {},
   "outputs": [],
   "source": [
    "#Put the eigenvalues into a dataframe\n",
    "w_df = pd.DataFrame(np.round(w,4), columns=['Eigenvalues'])\n",
    "w_df.index = ['PC{}'.format(i) for i in range(1,len(w_df)+1)]\n",
    "w_df"
   ]
  },
  {
   "cell_type": "code",
   "execution_count": null,
   "metadata": {
    "scrolled": true
   },
   "outputs": [],
   "source": [
    "V"
   ]
  },
  {
   "cell_type": "code",
   "execution_count": null,
   "metadata": {
    "scrolled": true
   },
   "outputs": [],
   "source": [
    "V_df = pd.DataFrame(np.round(V,4), columns=['PC{}'.format(i) for i in range(1,len(w_df)+1)])\n",
    "V_df.index = ['0.5s', '1s', '3s', '6s', '15s']\n",
    "V_df = V_df.T\n",
    "V_df"
   ]
  },
  {
   "cell_type": "markdown",
   "metadata": {},
   "source": [
    "## Task 1\n",
    "Using the eigenvalues and eigenvectors dataframes, write a function that can produce the PCA output table."
   ]
  },
  {
   "cell_type": "code",
   "execution_count": null,
   "metadata": {},
   "outputs": [],
   "source": [
    "# Computes the % variance explained and cumulative % variance explained.\n",
    "# Pass the eigenvalues and eigenvectors dataframes to this function.\n",
    "# This function returns a table summarising the eigenvalues, % variance explained, cumulative % variance explained and PCs\n",
    "\n",
    "def pca_results_matrix(eValues, eVectors):\n",
    "    \n",
    "    # Compute the % explained variance for each PC\n",
    "    \n",
    "        \n",
    "    # Compute the cumulative % variance explained\n",
    "    \n",
    "        \n",
    "    # Return a concatenated DataFrame\n",
    "    return pd.concat()"
   ]
  },
  {
   "cell_type": "code",
   "execution_count": null,
   "metadata": {},
   "outputs": [],
   "source": [
    "results = pca_results_matrix(w_df, V_df)\n",
    "results"
   ]
  },
  {
   "cell_type": "markdown",
   "metadata": {},
   "source": [
    "## Task 2\n",
    "Write the code to obtain the scree plot using the eigenvalues dataframe."
   ]
  },
  {
   "cell_type": "code",
   "execution_count": null,
   "metadata": {},
   "outputs": [],
   "source": [
    "#Scree plot\n"
   ]
  },
  {
   "cell_type": "markdown",
   "metadata": {},
   "source": [
    "## Task 3\n",
    "Using the eigenvectors dataframe, write a function that can produce the loading plot."
   ]
  },
  {
   "cell_type": "code",
   "execution_count": null,
   "metadata": {},
   "outputs": [],
   "source": [
    "# This function plots the loading plot from the eigenvectors/PCs dataframe.\n",
    "# Pass the eigenvectors/PCs dataframe to this function. Optional width, height and margin.\n",
    "# This function returns the axes of the loading plot\n",
    "\n",
    "def loadingplot_eVectors(eVectors, width=5, height=5, margin=0.5):\n",
    "\n",
    "    fig, ax = plt.subplots(figsize = (width, height))\n",
    "\n",
    "    #Set limits for figure\n",
    "    x_min = \n",
    "    x_max = \n",
    "    y_min = \n",
    "    y_max = \n",
    "\n",
    "    ax.set_xlim(x_min, x_max)\n",
    "    ax.set_ylim(y_min, y_max)\n",
    "\n",
    "    #Scaling factor for text position\n",
    "    text_pos = \n",
    "    \n",
    "    # Draw arrows and label them\n",
    "\n",
    "        \n",
    "    plt.plot([x_min, x_max], [0, 0], color='k', linestyle='--', linewidth=1)\n",
    "    plt.plot([0, 0], [y_min, y_max], color='k', linestyle='--', linewidth=1)\n",
    "    ax.set_xlabel(\"PC1\", fontsize=14)\n",
    "    ax.set_ylabel(\"PC2\", fontsize=14)\n",
    "    ax.set_title(\"Loading plot\", fontsize = 14)\n",
    "\n",
    "    return ax"
   ]
  },
  {
   "cell_type": "code",
   "execution_count": null,
   "metadata": {},
   "outputs": [],
   "source": [
    "plt.clf()\n",
    "ax2 = loadingplot_eVectors(V_df, width = 5, height = 5, margin = 0.2)\n",
    "plt.show()"
   ]
  },
  {
   "cell_type": "code",
   "execution_count": null,
   "metadata": {},
   "outputs": [],
   "source": []
  }
 ],
 "metadata": {
  "kernelspec": {
   "display_name": "Python 3",
   "language": "python",
   "name": "python3"
  },
  "language_info": {
   "codemirror_mode": {
    "name": "ipython",
    "version": 3
   },
   "file_extension": ".py",
   "mimetype": "text/x-python",
   "name": "python",
   "nbconvert_exporter": "python",
   "pygments_lexer": "ipython3",
   "version": "3.8.5"
  }
 },
 "nbformat": 4,
 "nbformat_minor": 2
}
