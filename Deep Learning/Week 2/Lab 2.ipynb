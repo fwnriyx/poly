{
 "cells": [
  {
   "cell_type": "code",
   "execution_count": 2,
   "metadata": {},
   "outputs": [
    {
     "name": "stdout",
     "output_type": "stream",
     "text": [
      "\n",
      "Note: you may need to restart the kernel to use updated packages.\n"
     ]
    }
   ],
   "source": [
    "conda activate gpu_env"
   ]
  },
  {
   "cell_type": "code",
   "execution_count": 3,
   "metadata": {},
   "outputs": [
    {
     "name": "stdout",
     "output_type": "stream",
     "text": [
      "Collecting tensorflow\n",
      "  Downloading tensorflow-2.14.0-cp310-cp310-win_amd64.whl (2.1 kB)\n",
      "Collecting tensorflow-intel==2.14.0\n",
      "  Downloading tensorflow_intel-2.14.0-cp310-cp310-win_amd64.whl (284.1 MB)\n",
      "     -------------------------------------- 284.1/284.1 MB 4.4 MB/s eta 0:00:00\n",
      "Collecting astunparse>=1.6.0\n",
      "  Downloading astunparse-1.6.3-py2.py3-none-any.whl (12 kB)\n",
      "Requirement already satisfied: six>=1.12.0 in c:\\users\\p2222811\\appdata\\local\\anaconda3\\lib\\site-packages (from tensorflow-intel==2.14.0->tensorflow) (1.16.0)\n",
      "Collecting termcolor>=1.1.0\n",
      "  Downloading termcolor-2.3.0-py3-none-any.whl (6.9 kB)\n",
      "Collecting google-pasta>=0.1.1\n",
      "  Downloading google_pasta-0.2.0-py3-none-any.whl (57 kB)\n",
      "     ---------------------------------------- 57.5/57.5 kB 1.5 MB/s eta 0:00:00\n",
      "Requirement already satisfied: wrapt<1.15,>=1.11.0 in c:\\users\\p2222811\\appdata\\local\\anaconda3\\lib\\site-packages (from tensorflow-intel==2.14.0->tensorflow) (1.14.1)\n",
      "Collecting tensorboard<2.15,>=2.14\n",
      "  Downloading tensorboard-2.14.1-py3-none-any.whl (5.5 MB)\n",
      "     ---------------------------------------- 5.5/5.5 MB 22.0 MB/s eta 0:00:00\n",
      "Requirement already satisfied: numpy>=1.23.5 in c:\\users\\p2222811\\appdata\\local\\anaconda3\\lib\\site-packages (from tensorflow-intel==2.14.0->tensorflow) (1.23.5)\n",
      "Collecting keras<2.15,>=2.14.0\n",
      "  Downloading keras-2.14.0-py3-none-any.whl (1.7 MB)\n",
      "     ---------------------------------------- 1.7/1.7 MB 3.3 MB/s eta 0:00:00\n",
      "Collecting tensorflow-io-gcs-filesystem>=0.23.1\n",
      "  Downloading tensorflow_io_gcs_filesystem-0.31.0-cp310-cp310-win_amd64.whl (1.5 MB)\n",
      "     ---------------------------------------- 1.5/1.5 MB 18.9 MB/s eta 0:00:00\n",
      "Requirement already satisfied: h5py>=2.9.0 in c:\\users\\p2222811\\appdata\\local\\anaconda3\\lib\\site-packages (from tensorflow-intel==2.14.0->tensorflow) (3.7.0)\n",
      "Collecting opt-einsum>=2.3.2\n",
      "  Downloading opt_einsum-3.3.0-py3-none-any.whl (65 kB)\n",
      "     ---------------------------------------- 65.5/65.5 kB 3.5 MB/s eta 0:00:00\n",
      "Collecting gast!=0.5.0,!=0.5.1,!=0.5.2,>=0.2.1\n",
      "  Downloading gast-0.5.4-py3-none-any.whl (19 kB)\n",
      "Requirement already satisfied: packaging in c:\\users\\p2222811\\appdata\\local\\anaconda3\\lib\\site-packages (from tensorflow-intel==2.14.0->tensorflow) (22.0)\n",
      "Requirement already satisfied: typing-extensions>=3.6.6 in c:\\users\\p2222811\\appdata\\local\\anaconda3\\lib\\site-packages (from tensorflow-intel==2.14.0->tensorflow) (4.4.0)\n",
      "Collecting absl-py>=1.0.0\n",
      "  Downloading absl_py-2.0.0-py3-none-any.whl (130 kB)\n",
      "     -------------------------------------- 130.2/130.2 kB 3.7 MB/s eta 0:00:00\n",
      "Collecting flatbuffers>=23.5.26\n",
      "  Downloading flatbuffers-23.5.26-py2.py3-none-any.whl (26 kB)\n",
      "Collecting tensorflow-estimator<2.15,>=2.14.0\n",
      "  Downloading tensorflow_estimator-2.14.0-py2.py3-none-any.whl (440 kB)\n",
      "     -------------------------------------- 440.7/440.7 kB 9.2 MB/s eta 0:00:00\n",
      "Collecting ml-dtypes==0.2.0\n",
      "  Downloading ml_dtypes-0.2.0-cp310-cp310-win_amd64.whl (938 kB)\n",
      "     -------------------------------------- 938.6/938.6 kB 4.9 MB/s eta 0:00:00\n",
      "Collecting grpcio<2.0,>=1.24.3\n",
      "  Downloading grpcio-1.59.0-cp310-cp310-win_amd64.whl (3.7 MB)\n",
      "     ---------------------------------------- 3.7/3.7 MB 21.2 MB/s eta 0:00:00\n",
      "Requirement already satisfied: setuptools in c:\\users\\p2222811\\appdata\\local\\anaconda3\\lib\\site-packages (from tensorflow-intel==2.14.0->tensorflow) (65.6.3)\n",
      "Collecting protobuf!=4.21.0,!=4.21.1,!=4.21.2,!=4.21.3,!=4.21.4,!=4.21.5,<5.0.0dev,>=3.20.3\n",
      "  Downloading protobuf-4.24.4-cp310-abi3-win_amd64.whl (430 kB)\n",
      "     ------------------------------------ 430.5/430.5 kB 866.5 kB/s eta 0:00:00\n",
      "Collecting libclang>=13.0.0\n",
      "  Downloading libclang-16.0.6-py2.py3-none-win_amd64.whl (24.4 MB)\n",
      "     ---------------------------------------- 24.4/24.4 MB 8.7 MB/s eta 0:00:00\n",
      "Requirement already satisfied: wheel<1.0,>=0.23.0 in c:\\users\\p2222811\\appdata\\local\\anaconda3\\lib\\site-packages (from astunparse>=1.6.0->tensorflow-intel==2.14.0->tensorflow) (0.38.4)\n",
      "Requirement already satisfied: werkzeug>=1.0.1 in c:\\users\\p2222811\\appdata\\local\\anaconda3\\lib\\site-packages (from tensorboard<2.15,>=2.14->tensorflow-intel==2.14.0->tensorflow) (2.2.2)\n",
      "Requirement already satisfied: markdown>=2.6.8 in c:\\users\\p2222811\\appdata\\local\\anaconda3\\lib\\site-packages (from tensorboard<2.15,>=2.14->tensorflow-intel==2.14.0->tensorflow) (3.4.1)\n",
      "Collecting tensorboard-data-server<0.8.0,>=0.7.0\n",
      "  Downloading tensorboard_data_server-0.7.2-py3-none-any.whl (2.4 kB)\n",
      "Requirement already satisfied: requests<3,>=2.21.0 in c:\\users\\p2222811\\appdata\\local\\anaconda3\\lib\\site-packages (from tensorboard<2.15,>=2.14->tensorflow-intel==2.14.0->tensorflow) (2.28.1)\n",
      "Collecting google-auth<3,>=1.6.3\n",
      "  Downloading google_auth-2.23.3-py2.py3-none-any.whl (182 kB)\n",
      "     -------------------------------------- 182.3/182.3 kB 5.6 MB/s eta 0:00:00\n",
      "Collecting google-auth-oauthlib<1.1,>=0.5\n",
      "  Downloading google_auth_oauthlib-1.0.0-py2.py3-none-any.whl (18 kB)\n",
      "Collecting cachetools<6.0,>=2.0.0\n",
      "  Downloading cachetools-5.3.2-py3-none-any.whl (9.3 kB)\n",
      "Collecting rsa<5,>=3.1.4\n",
      "  Downloading rsa-4.9-py3-none-any.whl (34 kB)\n",
      "Requirement already satisfied: pyasn1-modules>=0.2.1 in c:\\users\\p2222811\\appdata\\local\\anaconda3\\lib\\site-packages (from google-auth<3,>=1.6.3->tensorboard<2.15,>=2.14->tensorflow-intel==2.14.0->tensorflow) (0.2.8)\n",
      "Collecting requests-oauthlib>=0.7.0\n",
      "  Downloading requests_oauthlib-1.3.1-py2.py3-none-any.whl (23 kB)\n",
      "Requirement already satisfied: idna<4,>=2.5 in c:\\users\\p2222811\\appdata\\local\\anaconda3\\lib\\site-packages (from requests<3,>=2.21.0->tensorboard<2.15,>=2.14->tensorflow-intel==2.14.0->tensorflow) (3.4)\n",
      "Requirement already satisfied: certifi>=2017.4.17 in c:\\users\\p2222811\\appdata\\local\\anaconda3\\lib\\site-packages (from requests<3,>=2.21.0->tensorboard<2.15,>=2.14->tensorflow-intel==2.14.0->tensorflow) (2022.12.7)\n",
      "Requirement already satisfied: charset-normalizer<3,>=2 in c:\\users\\p2222811\\appdata\\local\\anaconda3\\lib\\site-packages (from requests<3,>=2.21.0->tensorboard<2.15,>=2.14->tensorflow-intel==2.14.0->tensorflow) (2.0.4)\n",
      "Requirement already satisfied: urllib3<1.27,>=1.21.1 in c:\\users\\p2222811\\appdata\\local\\anaconda3\\lib\\site-packages (from requests<3,>=2.21.0->tensorboard<2.15,>=2.14->tensorflow-intel==2.14.0->tensorflow) (1.26.14)\n",
      "Requirement already satisfied: MarkupSafe>=2.1.1 in c:\\users\\p2222811\\appdata\\local\\anaconda3\\lib\\site-packages (from werkzeug>=1.0.1->tensorboard<2.15,>=2.14->tensorflow-intel==2.14.0->tensorflow) (2.1.1)\n",
      "Requirement already satisfied: pyasn1<0.5.0,>=0.4.6 in c:\\users\\p2222811\\appdata\\local\\anaconda3\\lib\\site-packages (from pyasn1-modules>=0.2.1->google-auth<3,>=1.6.3->tensorboard<2.15,>=2.14->tensorflow-intel==2.14.0->tensorflow) (0.4.8)\n",
      "Collecting oauthlib>=3.0.0\n",
      "  Downloading oauthlib-3.2.2-py3-none-any.whl (151 kB)\n",
      "     -------------------------------------- 151.7/151.7 kB 4.4 MB/s eta 0:00:00\n",
      "Installing collected packages: libclang, flatbuffers, termcolor, tensorflow-io-gcs-filesystem, tensorflow-estimator, tensorboard-data-server, rsa, protobuf, opt-einsum, oauthlib, ml-dtypes, keras, grpcio, google-pasta, gast, cachetools, astunparse, absl-py, requests-oauthlib, google-auth, google-auth-oauthlib, tensorboard, tensorflow-intel, tensorflow\n",
      "Successfully installed absl-py-2.0.0 astunparse-1.6.3 cachetools-5.3.2 flatbuffers-23.5.26 gast-0.5.4 google-auth-2.23.3 google-auth-oauthlib-1.0.0 google-pasta-0.2.0 grpcio-1.59.0 keras-2.14.0 libclang-16.0.6 ml-dtypes-0.2.0 oauthlib-3.2.2 opt-einsum-3.3.0 protobuf-4.24.4 requests-oauthlib-1.3.1 rsa-4.9 tensorboard-2.14.1 tensorboard-data-server-0.7.2 tensorflow-2.14.0 tensorflow-estimator-2.14.0 tensorflow-intel-2.14.0 tensorflow-io-gcs-filesystem-0.31.0 termcolor-2.3.0\n",
      "Note: you may need to restart the kernel to use updated packages.\n"
     ]
    }
   ],
   "source": [
    "pip install tensorflow"
   ]
  },
  {
   "cell_type": "code",
   "execution_count": 1,
   "metadata": {},
   "outputs": [
    {
     "name": "stdout",
     "output_type": "stream",
     "text": [
      "42\n"
     ]
    }
   ],
   "source": [
    "import tensorflow as tf\n",
    "tf.compat.v1.disable_eager_execution() # need to disable eager in TF2.x\n",
    "import tensorflow.compat.v1 as tf\n",
    "sess = tf.Session()\n",
    "a = tf.constant(10)\n",
    "b = tf.constant(32)\n",
    "print(sess.run(a+b))"
   ]
  },
  {
   "cell_type": "code",
   "execution_count": 2,
   "metadata": {},
   "outputs": [
    {
     "name": "stdout",
     "output_type": "stream",
     "text": [
      "Tensor(\"add_1:0\", shape=(), dtype=int32)\n"
     ]
    }
   ],
   "source": [
    "# TensorFlow Hello World\n",
    "import tensorflow as tf\n",
    "#sess = tf.Session() # This is only needed for TF 1.X\n",
    "# Computational Graph to be compiled and then run using the session\n",
    "a = tf.constant(10)\n",
    "b = tf.constant(32)\n",
    "# print(sess.run(a+b)) # Not session.run not needed in TF2.X\n",
    "# In TF2.X eager execution compiles the computation graph in the background\n",
    "print(a+b) # TF 2.X is more direct. Just write a+b"
   ]
  },
  {
   "cell_type": "code",
   "execution_count": 4,
   "metadata": {},
   "outputs": [
    {
     "name": "stdout",
     "output_type": "stream",
     "text": [
      "WARNING:tensorflow:From c:\\Users\\p2222811\\AppData\\Local\\anaconda3\\envs\\gpu_env\\lib\\site-packages\\tensorflow\\python\\util\\tf_should_use.py:243: initialize_all_variables (from tensorflow.python.ops.variables) is deprecated and will be removed after 2017-03-02.\n",
      "Instructions for updating:\n",
      "Use `tf.global_variables_initializer` instead.\n",
      "0 [0.74766] [-0.05419043]\n",
      "20 [0.23702556] [0.22937894]\n",
      "40 [0.12862347] [0.28524786]\n",
      "60 [0.10597921] [0.29691842]\n",
      "80 [0.10124902] [0.29935628]\n",
      "100 [0.10026093] [0.29986554]\n",
      "120 [0.1000545] [0.29997194]\n",
      "140 [0.10001139] [0.29999414]\n",
      "160 [0.10000239] [0.2999988]\n",
      "180 [0.1000005] [0.29999974]\n",
      "200 [0.10000011] [0.29999995]\n"
     ]
    }
   ],
   "source": [
    "# Linear Regression using Tensorflow\n",
    "import tensorflow as tf\n",
    "# Force TF1.X compatibility mode when using TF 2.X library\n",
    "tf.compat.v1.disable_eager_execution()\n",
    "import tensorflow.compat.v1 as tf\n",
    "import numpy as np\n",
    "\n",
    "# Create 100 phony x, y data points in NumPy, y = x * 0.1 + 0.3\n",
    "x_data = np.random.rand(100).astype(np.float32)\n",
    "y_data = x_data * 0.1 + 0.3\n",
    "\n",
    "# Try to find values for W and b that compute y_data = W * x_data + b\n",
    "# (We know that W should be 0.1 and b 0.3, but Tensorflow will\n",
    "# figure that out for us.)\n",
    "\n",
    "W = tf.Variable(tf.random_uniform([1], -1.0, 1.0))\n",
    "b = tf.Variable(tf.zeros([1]))\n",
    "y = W * x_data + b\n",
    "\n",
    "# Minimize the mean squared errors.\n",
    "loss = tf.reduce_mean(tf.square(y - y_data))\n",
    "optimizer = tf.train.GradientDescentOptimizer(0.5)\n",
    "train = optimizer.minimize(loss)\n",
    "\n",
    "# Before starting, initialize the variables. We will 'run' this first.\n",
    "init = tf.initialize_all_variables()\n",
    "\n",
    "# Launch the graph.\n",
    "sess = tf.Session()\n",
    "sess.run(init)\n",
    "\n",
    "# Fit the line.\n",
    "for step in range(201):\n",
    "    sess.run(train)\n",
    "    if step % 20 == 0:\n",
    "        print(step, sess.run(W), sess.run(b))\n",
    "# Learns best fit is W: [0.1], b: [0.3]"
   ]
  },
  {
   "cell_type": "code",
   "execution_count": 7,
   "metadata": {},
   "outputs": [
    {
     "name": "stderr",
     "output_type": "stream",
     "text": [
      "UsageError: Line magic function `%tensorflow_version` not found.\n"
     ]
    }
   ],
   "source": [
    "%tensorflow_version 1.x\n",
    "import tensorflow as tf\n",
    "# Set up a linear classifier.\n",
    "classifier = tf.estimator.LinearClassifier()\n",
    "# Train the model on some example data.\n",
    "classifier.train(input_fn=train_input_fn, steps=2000)\n",
    "# Use it to predict.\n",
    "predictions = classifier.predict(input_fn=predict_input_fn)"
   ]
  },
  {
   "cell_type": "code",
   "execution_count": 9,
   "metadata": {},
   "outputs": [
    {
     "name": "stdout",
     "output_type": "stream",
     "text": [
      "Collecting scikit-learn\n",
      "  Downloading scikit_learn-1.3.2-cp38-cp38-win_amd64.whl.metadata (11 kB)\n",
      "Requirement already satisfied: numpy<2.0,>=1.17.3 in c:\\users\\p2222811\\appdata\\local\\anaconda3\\envs\\gpu_env\\lib\\site-packages (from scikit-learn) (1.24.4)\n",
      "Collecting scipy>=1.5.0 (from scikit-learn)\n",
      "  Downloading scipy-1.10.1-cp38-cp38-win_amd64.whl (42.2 MB)\n",
      "     ---------------------------------------- 0.0/42.2 MB ? eta -:--:--\n",
      "     ---------------------------------------- 0.0/42.2 MB 1.3 MB/s eta 0:00:33\n",
      "     ---------------------------------------- 0.5/42.2 MB 8.1 MB/s eta 0:00:06\n",
      "     - -------------------------------------- 1.7/42.2 MB 13.4 MB/s eta 0:00:04\n",
      "     -- ------------------------------------- 2.9/42.2 MB 18.5 MB/s eta 0:00:03\n",
      "     --- ------------------------------------ 3.9/42.2 MB 18.9 MB/s eta 0:00:03\n",
      "     --- ------------------------------------ 4.1/42.2 MB 15.5 MB/s eta 0:00:03\n",
      "     ---- ----------------------------------- 5.1/42.2 MB 17.2 MB/s eta 0:00:03\n",
      "     ----- ---------------------------------- 6.2/42.2 MB 18.0 MB/s eta 0:00:02\n",
      "     ------ --------------------------------- 7.3/42.2 MB 18.7 MB/s eta 0:00:02\n",
      "     ------- -------------------------------- 7.8/42.2 MB 17.7 MB/s eta 0:00:02\n",
      "     -------- ------------------------------- 8.9/42.2 MB 17.9 MB/s eta 0:00:02\n",
      "     --------- ----------------------------- 10.1/42.2 MB 19.0 MB/s eta 0:00:02\n",
      "     ---------- ---------------------------- 11.6/42.2 MB 21.8 MB/s eta 0:00:02\n",
      "     ------------ -------------------------- 13.1/42.2 MB 21.1 MB/s eta 0:00:02\n",
      "     ------------- ------------------------- 14.7/42.2 MB 25.2 MB/s eta 0:00:02\n",
      "     --------------- ----------------------- 16.5/42.2 MB 28.5 MB/s eta 0:00:01\n",
      "     ---------------- ---------------------- 18.3/42.2 MB 32.8 MB/s eta 0:00:01\n",
      "     ------------------ -------------------- 20.0/42.2 MB 34.4 MB/s eta 0:00:01\n",
      "     -------------------- ------------------ 22.1/42.2 MB 36.4 MB/s eta 0:00:01\n",
      "     ---------------------- ---------------- 23.8/42.2 MB 38.5 MB/s eta 0:00:01\n",
      "     ----------------------- --------------- 25.9/42.2 MB 38.6 MB/s eta 0:00:01\n",
      "     ------------------------- ------------- 27.4/42.2 MB 40.9 MB/s eta 0:00:01\n",
      "     --------------------------- ----------- 29.3/42.2 MB 38.5 MB/s eta 0:00:01\n",
      "     ---------------------------- ---------- 31.3/42.2 MB 38.5 MB/s eta 0:00:01\n",
      "     ------------------------------ -------- 33.0/42.2 MB 40.9 MB/s eta 0:00:01\n",
      "     -------------------------------- ------ 34.8/42.2 MB 40.9 MB/s eta 0:00:01\n",
      "     --------------------------------- ----- 36.7/42.2 MB 40.9 MB/s eta 0:00:01\n",
      "     ----------------------------------- --- 38.6/42.2 MB 40.9 MB/s eta 0:00:01\n",
      "     ------------------------------------- - 40.7/42.2 MB 40.9 MB/s eta 0:00:01\n",
      "     --------------------------------------  42.2/42.2 MB 40.9 MB/s eta 0:00:01\n",
      "     --------------------------------------  42.2/42.2 MB 40.9 MB/s eta 0:00:01\n",
      "     --------------------------------------  42.2/42.2 MB 40.9 MB/s eta 0:00:01\n",
      "     --------------------------------------  42.2/42.2 MB 40.9 MB/s eta 0:00:01\n",
      "     --------------------------------------  42.2/42.2 MB 40.9 MB/s eta 0:00:01\n",
      "     --------------------------------------  42.2/42.2 MB 40.9 MB/s eta 0:00:01\n",
      "     --------------------------------------  42.2/42.2 MB 40.9 MB/s eta 0:00:01\n",
      "     --------------------------------------  42.2/42.2 MB 40.9 MB/s eta 0:00:01\n",
      "     --------------------------------------  42.2/42.2 MB 40.9 MB/s eta 0:00:01\n",
      "     --------------------------------------  42.2/42.2 MB 40.9 MB/s eta 0:00:01\n",
      "     --------------------------------------  42.2/42.2 MB 40.9 MB/s eta 0:00:01\n",
      "     --------------------------------------  42.2/42.2 MB 40.9 MB/s eta 0:00:01\n",
      "     --------------------------------------  42.2/42.2 MB 40.9 MB/s eta 0:00:01\n",
      "     --------------------------------------  42.2/42.2 MB 40.9 MB/s eta 0:00:01\n",
      "     --------------------------------------  42.2/42.2 MB 40.9 MB/s eta 0:00:01\n",
      "     --------------------------------------  42.2/42.2 MB 40.9 MB/s eta 0:00:01\n",
      "     --------------------------------------  42.2/42.2 MB 40.9 MB/s eta 0:00:01\n",
      "     --------------------------------------  42.2/42.2 MB 40.9 MB/s eta 0:00:01\n",
      "     --------------------------------------  42.2/42.2 MB 40.9 MB/s eta 0:00:01\n",
      "     ---------------------------------------- 42.2/42.2 MB 9.1 MB/s eta 0:00:00\n",
      "Collecting joblib>=1.1.1 (from scikit-learn)\n",
      "  Downloading joblib-1.3.2-py3-none-any.whl.metadata (5.4 kB)\n",
      "Collecting threadpoolctl>=2.0.0 (from scikit-learn)\n",
      "  Downloading threadpoolctl-3.2.0-py3-none-any.whl.metadata (10.0 kB)\n",
      "Downloading scikit_learn-1.3.2-cp38-cp38-win_amd64.whl (9.3 MB)\n",
      "   ---------------------------------------- 0.0/9.3 MB ? eta -:--:--\n",
      "   ------ --------------------------------- 1.5/9.3 MB 32.5 MB/s eta 0:00:01\n",
      "   -------------- ------------------------- 3.3/9.3 MB 41.9 MB/s eta 0:00:01\n",
      "   ----------------------- ---------------- 5.4/9.3 MB 42.8 MB/s eta 0:00:01\n",
      "   ------------------------------ --------- 7.2/9.3 MB 38.0 MB/s eta 0:00:01\n",
      "   -------------------------------------- - 8.9/9.3 MB 40.7 MB/s eta 0:00:01\n",
      "   ---------------------------------------  9.3/9.3 MB 39.3 MB/s eta 0:00:01\n",
      "   ---------------------------------------  9.3/9.3 MB 39.3 MB/s eta 0:00:01\n",
      "   ---------------------------------------- 9.3/9.3 MB 24.7 MB/s eta 0:00:00\n",
      "Downloading joblib-1.3.2-py3-none-any.whl (302 kB)\n",
      "   ---------------------------------------- 0.0/302.2 kB ? eta -:--:--\n",
      "   --------------------------------------  297.0/302.2 kB 17.9 MB/s eta 0:00:01\n",
      "   --------------------------------------  297.0/302.2 kB 17.9 MB/s eta 0:00:01\n",
      "   ---------------------------------------- 302.2/302.2 kB 2.3 MB/s eta 0:00:00\n",
      "Downloading threadpoolctl-3.2.0-py3-none-any.whl (15 kB)\n",
      "Installing collected packages: threadpoolctl, scipy, joblib, scikit-learn\n",
      "Successfully installed joblib-1.3.2 scikit-learn-1.3.2 scipy-1.10.1 threadpoolctl-3.2.0\n",
      "Note: you may need to restart the kernel to use updated packages.\n"
     ]
    }
   ],
   "source": [
    "pip install scikit-learn"
   ]
  },
  {
   "cell_type": "code",
   "execution_count": 39,
   "metadata": {},
   "outputs": [
    {
     "name": "stdout",
     "output_type": "stream",
     "text": [
      "INFO:tensorflow:Using default config.\n",
      "WARNING:tensorflow:Using temporary folder as model directory: C:\\Users\\p2222811\\AppData\\Local\\Temp\\tmpvzcf8yf9\n",
      "INFO:tensorflow:Using config: {'_model_dir': 'C:\\\\Users\\\\p2222811\\\\AppData\\\\Local\\\\Temp\\\\tmpvzcf8yf9', '_tf_random_seed': None, '_save_summary_steps': 100, '_save_checkpoints_steps': None, '_save_checkpoints_secs': 600, '_session_config': allow_soft_placement: true\n",
      "graph_options {\n",
      "  rewrite_options {\n",
      "    meta_optimizer_iterations: ONE\n",
      "  }\n",
      "}\n",
      ", '_keep_checkpoint_max': 5, '_keep_checkpoint_every_n_hours': 10000, '_log_step_count_steps': 100, '_train_distribute': None, '_device_fn': None, '_protocol': None, '_eval_distribute': None, '_experimental_distribute': None, '_experimental_max_worker_delay_secs': None, '_session_creation_timeout_secs': 7200, '_checkpoint_save_graph_def': True, '_service': None, '_cluster_spec': ClusterSpec({}), '_task_type': 'worker', '_task_id': 0, '_global_id_in_cluster': 0, '_master': '', '_evaluation_master': '', '_is_chief': True, '_num_ps_replicas': 0, '_num_worker_replicas': 1}\n",
      "INFO:tensorflow:Calling model_fn.\n",
      "INFO:tensorflow:Done calling model_fn.\n",
      "INFO:tensorflow:Create CheckpointSaverHook.\n",
      "INFO:tensorflow:Graph was finalized.\n",
      "INFO:tensorflow:Running local_init_op.\n",
      "INFO:tensorflow:Done running local_init_op.\n",
      "INFO:tensorflow:Calling checkpoint listeners before saving checkpoint 0...\n",
      "INFO:tensorflow:Saving checkpoints for 0 into C:\\Users\\p2222811\\AppData\\Local\\Temp\\tmpvzcf8yf9\\model.ckpt.\n",
      "INFO:tensorflow:Calling checkpoint listeners after saving checkpoint 0...\n",
      "INFO:tensorflow:loss = 0.8401592, step = 0\n",
      "INFO:tensorflow:global_step/sec: 300.259\n",
      "INFO:tensorflow:loss = 0.8560073, step = 100 (0.334 sec)\n",
      "INFO:tensorflow:global_step/sec: 338.889\n",
      "INFO:tensorflow:loss = 1.1952877, step = 200 (0.296 sec)\n",
      "INFO:tensorflow:global_step/sec: 343.127\n",
      "INFO:tensorflow:loss = 0.91206944, step = 300 (0.290 sec)\n",
      "INFO:tensorflow:global_step/sec: 357.623\n",
      "INFO:tensorflow:loss = 1.1493543, step = 400 (0.280 sec)\n",
      "INFO:tensorflow:global_step/sec: 341.871\n",
      "INFO:tensorflow:loss = 0.700587, step = 500 (0.293 sec)\n",
      "INFO:tensorflow:global_step/sec: 344.147\n",
      "INFO:tensorflow:loss = 0.6203359, step = 600 (0.290 sec)\n",
      "INFO:tensorflow:global_step/sec: 341.347\n",
      "INFO:tensorflow:loss = 1.0240602, step = 700 (0.292 sec)\n",
      "INFO:tensorflow:global_step/sec: 350.48\n",
      "INFO:tensorflow:loss = 0.6033195, step = 800 (0.286 sec)\n",
      "INFO:tensorflow:global_step/sec: 348.131\n",
      "INFO:tensorflow:loss = 1.0551803, step = 900 (0.287 sec)\n",
      "INFO:tensorflow:Calling checkpoint listeners before saving checkpoint 1000...\n",
      "INFO:tensorflow:Saving checkpoints for 1000 into C:\\Users\\p2222811\\AppData\\Local\\Temp\\tmpvzcf8yf9\\model.ckpt.\n",
      "INFO:tensorflow:Calling checkpoint listeners after saving checkpoint 1000...\n",
      "INFO:tensorflow:Loss for final step: 1.0282048.\n",
      "INFO:tensorflow:Calling model_fn.\n",
      "INFO:tensorflow:Done calling model_fn.\n",
      "INFO:tensorflow:Starting evaluation at 2023-10-26T15:52:34\n",
      "INFO:tensorflow:Graph was finalized.\n",
      "INFO:tensorflow:Restoring parameters from C:\\Users\\p2222811\\AppData\\Local\\Temp\\tmpvzcf8yf9\\model.ckpt-1000\n",
      "INFO:tensorflow:Running local_init_op.\n",
      "INFO:tensorflow:Done running local_init_op.\n",
      "INFO:tensorflow:Inference Time : 1.03780s\n",
      "INFO:tensorflow:Finished evaluation at 2023-10-26-15:52:35\n",
      "INFO:tensorflow:Saving dict for global step 1000: accuracy = 0.73333335, average_loss = 0.8903813, global_step = 1000, loss = 0.8903813\n",
      "INFO:tensorflow:Saving 'checkpoint_path' summary for global step 1000: C:\\Users\\p2222811\\AppData\\Local\\Temp\\tmpvzcf8yf9\\model.ckpt-1000\n",
      "Accuracy (tensorflow): 0.733333\n"
     ]
    }
   ],
   "source": [
    "\n",
    "\n",
    "# Using TensorFLow for iris data classification\n",
    "from sklearn import datasets\n",
    "from sklearn import model_selection\n",
    "from sklearn import preprocessing\n",
    "import tensorflow as tf\n",
    "\n",
    "# Load dataset\n",
    "iris = datasets.load_iris()\n",
    "x, y = iris.data, iris.target\n",
    "\n",
    "# Split dataset into train / test\n",
    "x_train, x_test, y_train, y_test = model_selection.train_test_split(\n",
    "    x, y, test_size=0.2, random_state=42)\n",
    "\n",
    "# Scale data (training set) to 0 mean and unit standard deviation.\n",
    "scaler = preprocessing.StandardScaler()\n",
    "x_train = scaler.fit_transform(x_train)\n",
    "x_test = scaler.fit_transform(x_test)\n",
    "\n",
    "# Set the feature columns\n",
    "# We use the shape value to define x as 4 column numeric feature input (0..3)\n",
    "feature_columns = [\n",
    "        tf.feature_column.numeric_column(\"x\", shape=4)]\n",
    "\n",
    "# Build 3 layer DNN with 10, 20, 10 units respectively.\n",
    "classifier = tf.estimator.DNNClassifier(\n",
    "    feature_columns=feature_columns, hidden_units=[20, 30, 20], n_classes=3, optimizer= \"Adagrad\")\n",
    "\n",
    "# Train.\n",
    "train_input_fn = tf.compat.v1.estimator.inputs.numpy_input_fn(x={\"x\" : x_train},\n",
    "                                                        y = y_train,\n",
    "                                                        batch_size = 1,\n",
    "                                                        num_epochs= 10,\n",
    "                                                        shuffle = True)\n",
    "classifier.train(input_fn=train_input_fn, steps=1000)\n",
    "\n",
    "# Eval.\n",
    "test_input_fn = tf.compat.v1.estimator.inputs.numpy_input_fn(x={ \"x\" : x_test},\n",
    "                                                        y = y_test,\n",
    "                                                        batch_size = 1,\n",
    "                                                        num_epochs = 10,\n",
    "                                                        shuffle = True)\n",
    "scores = classifier.evaluate(input_fn=test_input_fn)\n",
    "print('Accuracy (tensorflow): {0:f}'.format(scores['accuracy']))"
   ]
  },
  {
   "cell_type": "code",
   "execution_count": 29,
   "metadata": {},
   "outputs": [],
   "source": [
    "from keras.models import Sequential\n",
    "from keras.layers import Dense\n",
    "# create model\n",
    "model = Sequential([\n",
    "Dense(12, input_dim=8, activation='relu'),\n",
    "Dense(8, activation='relu'),\n",
    "Dense(1, activation='sigmoid')\n",
    "])"
   ]
  },
  {
   "cell_type": "code",
   "execution_count": 30,
   "metadata": {},
   "outputs": [],
   "source": [
    "model.add(Dense(32, input_shape=(784,)))"
   ]
  },
  {
   "cell_type": "code",
   "execution_count": 31,
   "metadata": {},
   "outputs": [
    {
     "name": "stdout",
     "output_type": "stream",
     "text": [
      "Collecting pandasNote: you may need to restart the kernel to use updated packages.\n",
      "\n",
      "  Downloading pandas-2.0.3-cp38-cp38-win_amd64.whl.metadata (18 kB)\n",
      "Requirement already satisfied: python-dateutil>=2.8.2 in c:\\users\\p2222811\\appdata\\local\\anaconda3\\envs\\gpu_env\\lib\\site-packages (from pandas) (2.8.2)\n",
      "Collecting pytz>=2020.1 (from pandas)\n",
      "  Downloading pytz-2023.3.post1-py2.py3-none-any.whl.metadata (22 kB)\n",
      "Collecting tzdata>=2022.1 (from pandas)\n",
      "  Downloading tzdata-2023.3-py2.py3-none-any.whl (341 kB)\n",
      "     ---------------------------------------- 0.0/341.8 kB ? eta -:--:--\n",
      "     ----------------------------- -------- 266.2/341.8 kB 5.4 MB/s eta 0:00:01\n",
      "     -------------------------------------  337.9/341.8 kB 7.0 MB/s eta 0:00:01\n",
      "     -------------------------------------- 341.8/341.8 kB 3.0 MB/s eta 0:00:00\n",
      "Requirement already satisfied: numpy>=1.20.3 in c:\\users\\p2222811\\appdata\\local\\anaconda3\\envs\\gpu_env\\lib\\site-packages (from pandas) (1.24.4)\n",
      "Requirement already satisfied: six>=1.5 in c:\\users\\p2222811\\appdata\\local\\anaconda3\\envs\\gpu_env\\lib\\site-packages (from python-dateutil>=2.8.2->pandas) (1.16.0)\n",
      "Downloading pandas-2.0.3-cp38-cp38-win_amd64.whl (10.8 MB)\n",
      "   ---------------------------------------- 0.0/10.8 MB ? eta -:--:--\n",
      "   -- ------------------------------------- 0.7/10.8 MB 15.7 MB/s eta 0:00:01\n",
      "   ------ --------------------------------- 1.7/10.8 MB 17.6 MB/s eta 0:00:01\n",
      "   --------- ------------------------------ 2.7/10.8 MB 18.7 MB/s eta 0:00:01\n",
      "   -------------- ------------------------- 3.8/10.8 MB 20.1 MB/s eta 0:00:01\n",
      "   ----------------- ---------------------- 4.7/10.8 MB 21.6 MB/s eta 0:00:01\n",
      "   ---------------------- ----------------- 6.1/10.8 MB 22.7 MB/s eta 0:00:01\n",
      "   -------------------------- ------------- 7.0/10.8 MB 22.5 MB/s eta 0:00:01\n",
      "   ----------------------------- ---------- 8.1/10.8 MB 22.4 MB/s eta 0:00:01\n",
      "   ---------------------------------- ----- 9.2/10.8 MB 22.7 MB/s eta 0:00:01\n",
      "   ---------------------------------------  10.5/10.8 MB 22.6 MB/s eta 0:00:01\n",
      "   ---------------------------------------  10.8/10.8 MB 23.4 MB/s eta 0:00:01\n",
      "   ---------------------------------------  10.8/10.8 MB 23.4 MB/s eta 0:00:01\n",
      "   ---------------------------------------  10.8/10.8 MB 23.4 MB/s eta 0:00:01\n",
      "   ---------------------------------------- 10.8/10.8 MB 17.7 MB/s eta 0:00:00\n",
      "Downloading pytz-2023.3.post1-py2.py3-none-any.whl (502 kB)\n",
      "   ---------------------------------------- 0.0/502.5 kB ? eta -:--:--\n",
      "   --------------------------------------  501.8/502.5 kB 30.7 MB/s eta 0:00:01\n",
      "   ---------------------------------------- 502.5/502.5 kB 6.3 MB/s eta 0:00:00\n",
      "Installing collected packages: pytz, tzdata, pandas\n",
      "Successfully installed pandas-2.0.3 pytz-2023.3.post1 tzdata-2023.3\n"
     ]
    }
   ],
   "source": [
    "pip install pandas"
   ]
  },
  {
   "cell_type": "code",
   "execution_count": 33,
   "metadata": {},
   "outputs": [
    {
     "name": "stdout",
     "output_type": "stream",
     "text": [
      "Epoch 1/10\n",
      "8/8 [==============================] - 1s 4ms/step - loss: 0.8036 - accuracy: 0.0375\n",
      "Epoch 2/10\n",
      "8/8 [==============================] - 0s 4ms/step - loss: 0.7604 - accuracy: 0.0500\n",
      "Epoch 3/10\n",
      "8/8 [==============================] - 0s 4ms/step - loss: 0.7280 - accuracy: 0.1625\n",
      "Epoch 4/10\n",
      "8/8 [==============================] - 0s 4ms/step - loss: 0.7009 - accuracy: 0.4875\n",
      "Epoch 5/10\n",
      "8/8 [==============================] - 0s 4ms/step - loss: 0.6765 - accuracy: 0.8000\n",
      "Epoch 6/10\n",
      "8/8 [==============================] - 0s 4ms/step - loss: 0.6528 - accuracy: 0.9375\n",
      "Epoch 7/10\n",
      "8/8 [==============================] - 0s 4ms/step - loss: 0.6313 - accuracy: 0.9750\n",
      "Epoch 8/10\n",
      "8/8 [==============================] - 0s 4ms/step - loss: 0.6079 - accuracy: 0.9750\n",
      "Epoch 9/10\n",
      "8/8 [==============================] - 0s 4ms/step - loss: 0.5833 - accuracy: 0.9875\n",
      "Epoch 10/10\n",
      "8/8 [==============================] - 0s 4ms/step - loss: 0.5576 - accuracy: 0.9875\n",
      "1/1 [==============================] - 0s 200ms/step - loss: 0.5483 - accuracy: 0.9000\n",
      "\n",
      "accuracy: 90.00%\n",
      "1/1 [==============================] - 0s 88ms/step\n",
      "[0, 1, 1, 1, 0, 0, 1, 0, 1, 1, 0, 1, 1, 1, 0, 1, 0, 1, 0, 1]\n"
     ]
    }
   ],
   "source": [
    "from keras.models import Sequential\n",
    "from keras.layers import Dense\n",
    "from sklearn import datasets\n",
    "from sklearn import model_selection\n",
    "from sklearn import preprocessing\n",
    "import pandas as pd\n",
    "import numpy as np\n",
    "\n",
    "# loading and pre-processing of the data\n",
    "# We use the 2 class version of iris data set\n",
    "iris = pd.read_csv(\"IrisTwoClass.csv\")\n",
    "x = np.array(iris.drop(\"Class\",axis=1))\n",
    "y = np.array(iris[\"Class\"])\n",
    "\n",
    "# Split dataset into train / test\n",
    "x_train, x_test, y_train, y_test = model_selection.train_test_split(\n",
    "    x, y, test_size=0.2, random_state=42)\n",
    "\n",
    "# Scale data (training set) to 0 mean and unit standard deviation.\n",
    "scaler = preprocessing.StandardScaler()\n",
    "x_train = scaler.fit_transform(x_train)\n",
    "x_test = scaler.fit_transform(x_test)\n",
    "\n",
    "# create model\n",
    "model = Sequential()\n",
    "model.add(Dense(10, input_dim=4, activation='relu'))\n",
    "model.add(Dense(20, activation='relu'))\n",
    "model.add(Dense(10, activation='relu'))\n",
    "model.add(Dense(1, activation='sigmoid'))\n",
    "\n",
    "# Compile model\n",
    "model.compile(loss='binary_crossentropy', optimizer='adam',\n",
    "metrics=['accuracy'])\n",
    "\n",
    "# training the model\n",
    "model.fit(x_train, y_train, epochs=10, batch_size=10)\n",
    "\n",
    "# eval model\n",
    "scores = model.evaluate(x_test, y_test)\n",
    "print(\"\\n%s: %.2f%%\" % (model.metrics_names[1], scores[1]*100))\n",
    "\n",
    "# calculate predictions\n",
    "predictions = model.predict(x_test)\n",
    "\n",
    "# round predictions\n",
    "rounded = [round(x[0]) for x in predictions]\n",
    "print(rounded)"
   ]
  },
  {
   "cell_type": "code",
   "execution_count": 41,
   "metadata": {},
   "outputs": [
    {
     "name": "stdout",
     "output_type": "stream",
     "text": [
      "Epoch 1/10\n",
      "12/12 [==============================] - 0s 6ms/step - loss: 0.1570 - accuracy: 0.6500\n",
      "Epoch 2/10\n",
      "12/12 [==============================] - 0s 6ms/step - loss: -0.3788 - accuracy: 0.6750\n",
      "Epoch 3/10\n",
      "12/12 [==============================] - 0s 6ms/step - loss: -0.8854 - accuracy: 0.6750\n",
      "Epoch 4/10\n",
      "12/12 [==============================] - 0s 6ms/step - loss: -1.4829 - accuracy: 0.6750\n",
      "Epoch 5/10\n",
      "12/12 [==============================] - 0s 6ms/step - loss: -2.1795 - accuracy: 0.6750\n",
      "Epoch 6/10\n",
      "12/12 [==============================] - 0s 6ms/step - loss: -3.0491 - accuracy: 0.6750\n",
      "Epoch 7/10\n",
      "12/12 [==============================] - 0s 6ms/step - loss: -4.1391 - accuracy: 0.6750\n",
      "Epoch 8/10\n",
      "12/12 [==============================] - 0s 5ms/step - loss: -5.4027 - accuracy: 0.6750\n",
      "Epoch 9/10\n",
      "12/12 [==============================] - 0s 6ms/step - loss: -6.7769 - accuracy: 0.6750\n",
      "Epoch 10/10\n",
      "12/12 [==============================] - 0s 6ms/step - loss: -8.4642 - accuracy: 0.6750\n",
      "1/1 [==============================] - 0s 50ms/step\n",
      "[[9.9999762e-01]\n",
      " [1.1977748e-03]\n",
      " [1.0000000e+00]\n",
      " [9.9999785e-01]\n",
      " [1.0000000e+00]\n",
      " [2.5373597e-03]\n",
      " [9.8930758e-01]\n",
      " [1.0000000e+00]\n",
      " [1.0000000e+00]\n",
      " [9.9992526e-01]\n",
      " [1.0000000e+00]\n",
      " [1.0604742e-03]\n",
      " [1.2232554e-03]\n",
      " [1.0843793e-03]\n",
      " [4.5286401e-04]\n",
      " [9.9999523e-01]\n",
      " [1.0000000e+00]\n",
      " [9.9998021e-01]\n",
      " [9.9996710e-01]\n",
      " [1.0000000e+00]\n",
      " [9.0300443e-04]\n",
      " [1.0000000e+00]\n",
      " [1.4609820e-03]\n",
      " [1.0000000e+00]\n",
      " [1.0000000e+00]\n",
      " [1.0000000e+00]\n",
      " [1.0000000e+00]\n",
      " [1.0000000e+00]\n",
      " [1.7892426e-03]\n",
      " [1.2927245e-03]]\n"
     ]
    }
   ],
   "source": [
    "from tensorflow.keras.layers import Input, Dense\n",
    "from tensorflow.keras.models import Model\n",
    "\n",
    "# This returns a tensor\n",
    "inputs = Input(shape=(4,))\n",
    "\n",
    "# a layer instance is callable on a tensor, and returns a tensor\n",
    "x = Dense(64, activation='relu')(inputs)\n",
    "x = Dense(64, activation='relu')(x)\n",
    "predictions = Dense(1, activation='sigmoid')(x)\n",
    "\n",
    "# This creates a model that includes\n",
    "# the Input layer and three Dense layers\n",
    "model = Model(inputs=inputs, outputs=predictions)\n",
    "model.compile(optimizer='rmsprop',\n",
    "            loss='binary_crossentropy',\n",
    "            metrics=['accuracy'])\n",
    "history = model.fit(x_train, y_train,epochs=10, batch_size=10) # starts training\n",
    "\n",
    "predictions = model.predict(x_test)\n",
    "print(predictions)"
   ]
  },
  {
   "cell_type": "code",
   "execution_count": 43,
   "metadata": {},
   "outputs": [
    {
     "name": "stdout",
     "output_type": "stream",
     "text": [
      "Collecting matplotlib\n",
      "  Downloading matplotlib-3.7.3-cp38-cp38-win_amd64.whl.metadata (5.8 kB)\n",
      "Collecting contourpy>=1.0.1 (from matplotlib)\n",
      "  Downloading contourpy-1.1.1-cp38-cp38-win_amd64.whl.metadata (5.9 kB)\n",
      "Collecting cycler>=0.10 (from matplotlib)\n",
      "  Downloading cycler-0.12.1-py3-none-any.whl.metadata (3.8 kB)\n",
      "Collecting fonttools>=4.22.0 (from matplotlib)\n",
      "  Downloading fonttools-4.43.1-cp38-cp38-win_amd64.whl.metadata (155 kB)\n",
      "     ---------------------------------------- 0.0/155.5 kB ? eta -:--:--\n",
      "     ------- ------------------------------- 30.7/155.5 kB 1.4 MB/s eta 0:00:01\n",
      "     -------------------------------------  153.6/155.5 kB 3.1 MB/s eta 0:00:01\n",
      "     -------------------------------------- 155.5/155.5 kB 1.3 MB/s eta 0:00:00\n",
      "Collecting kiwisolver>=1.0.1 (from matplotlib)\n",
      "  Downloading kiwisolver-1.4.5-cp38-cp38-win_amd64.whl.metadata (6.5 kB)\n",
      "Requirement already satisfied: numpy<2,>=1.20 in c:\\users\\p2222811\\appdata\\local\\anaconda3\\envs\\gpu_env\\lib\\site-packages (from matplotlib) (1.24.4)\n",
      "Requirement already satisfied: packaging>=20.0 in c:\\users\\p2222811\\appdata\\local\\anaconda3\\envs\\gpu_env\\lib\\site-packages (from matplotlib) (23.2)\n",
      "Collecting pillow>=6.2.0 (from matplotlib)\n",
      "  Downloading Pillow-10.1.0-cp38-cp38-win_amd64.whl.metadata (9.6 kB)\n",
      "Collecting pyparsing>=2.3.1 (from matplotlib)\n",
      "  Downloading pyparsing-3.1.1-py3-none-any.whl.metadata (5.1 kB)\n",
      "Requirement already satisfied: python-dateutil>=2.7 in c:\\users\\p2222811\\appdata\\local\\anaconda3\\envs\\gpu_env\\lib\\site-packages (from matplotlib) (2.8.2)\n",
      "Collecting importlib-resources>=3.2.0 (from matplotlib)\n",
      "  Downloading importlib_resources-6.1.0-py3-none-any.whl.metadata (4.1 kB)\n",
      "Requirement already satisfied: zipp>=3.1.0 in c:\\users\\p2222811\\appdata\\local\\anaconda3\\envs\\gpu_env\\lib\\site-packages (from importlib-resources>=3.2.0->matplotlib) (3.17.0)\n",
      "Requirement already satisfied: six>=1.5 in c:\\users\\p2222811\\appdata\\local\\anaconda3\\envs\\gpu_env\\lib\\site-packages (from python-dateutil>=2.7->matplotlib) (1.16.0)\n",
      "Downloading matplotlib-3.7.3-cp38-cp38-win_amd64.whl (7.5 MB)\n",
      "   ---------------------------------------- 0.0/7.5 MB ? eta -:--:--\n",
      "   ------- -------------------------------- 1.4/7.5 MB 43.8 MB/s eta 0:00:01\n",
      "   ------------------ --------------------- 3.4/7.5 MB 36.2 MB/s eta 0:00:01\n",
      "   --------------------------- ------------ 5.2/7.5 MB 41.2 MB/s eta 0:00:01\n",
      "   ------------------------------------ --- 6.9/7.5 MB 39.9 MB/s eta 0:00:01\n",
      "   ---------------------------------------  7.5/7.5 MB 39.9 MB/s eta 0:00:01\n",
      "   ---------------------------------------  7.5/7.5 MB 39.9 MB/s eta 0:00:01\n",
      "   ---------------------------------------  7.5/7.5 MB 39.9 MB/s eta 0:00:01\n",
      "   ---------------------------------------- 7.5/7.5 MB 22.9 MB/s eta 0:00:00\n",
      "Downloading contourpy-1.1.1-cp38-cp38-win_amd64.whl (477 kB)\n",
      "   ---------------------------------------- 0.0/477.9 kB ? eta -:--:--\n",
      "   ---------------------------------------  471.0/477.9 kB ? eta -:--:--\n",
      "   ---------------------------------------- 477.9/477.9 kB 7.5 MB/s eta 0:00:00\n",
      "Downloading cycler-0.12.1-py3-none-any.whl (8.3 kB)\n",
      "Downloading fonttools-4.43.1-cp38-cp38-win_amd64.whl (1.5 MB)\n",
      "   ---------------------------------------- 0.0/1.5 MB ? eta -:--:--\n",
      "   -------------------------------- ------- 1.2/1.5 MB 38.6 MB/s eta 0:00:01\n",
      "   ---------------------------------------  1.5/1.5 MB 30.9 MB/s eta 0:00:01\n",
      "   ---------------------------------------- 1.5/1.5 MB 11.7 MB/s eta 0:00:00\n",
      "Downloading importlib_resources-6.1.0-py3-none-any.whl (33 kB)\n",
      "Downloading kiwisolver-1.4.5-cp38-cp38-win_amd64.whl (56 kB)\n",
      "   ---------------------------------------- 0.0/56.2 kB ? eta -:--:--\n",
      "   ------------------------------------ --- 51.2/56.2 kB ? eta -:--:--\n",
      "   ---------------------------------------- 56.2/56.2 kB 977.8 kB/s eta 0:00:00\n",
      "Downloading Pillow-10.1.0-cp38-cp38-win_amd64.whl (2.6 MB)\n",
      "   ---------------------------------------- 0.0/2.6 MB ? eta -:--:--\n",
      "   ---------------------------- ----------- 1.9/2.6 MB 39.2 MB/s eta 0:00:01\n",
      "   ---------------------------------------  2.6/2.6 MB 41.8 MB/s eta 0:00:01\n",
      "   ---------------------------------------  2.6/2.6 MB 41.8 MB/s eta 0:00:01\n",
      "   ---------------------------------------- 2.6/2.6 MB 16.7 MB/s eta 0:00:00\n",
      "Downloading pyparsing-3.1.1-py3-none-any.whl (103 kB)\n",
      "   ---------------------------------------- 0.0/103.1 kB ? eta -:--:--\n",
      "   ---------------------------------------  102.4/103.1 kB 5.8 MB/s eta 0:00:01\n",
      "   ---------------------------------------- 103.1/103.1 kB 1.5 MB/s eta 0:00:00\n",
      "Installing collected packages: pyparsing, pillow, kiwisolver, importlib-resources, fonttools, cycler, contourpy, matplotlib\n",
      "Successfully installed contourpy-1.1.1 cycler-0.12.1 fonttools-4.43.1 importlib-resources-6.1.0 kiwisolver-1.4.5 matplotlib-3.7.3 pillow-10.1.0 pyparsing-3.1.1\n",
      "Note: you may need to restart the kernel to use updated packages.\n"
     ]
    }
   ],
   "source": [
    "pip install matplotlib"
   ]
  },
  {
   "cell_type": "code",
   "execution_count": 44,
   "metadata": {},
   "outputs": [
    {
     "data": {
      "text/plain": [
       "[<matplotlib.lines.Line2D at 0x2ebafe64640>]"
      ]
     },
     "execution_count": 44,
     "metadata": {},
     "output_type": "execute_result"
    },
    {
     "data": {
      "image/png": "[encoded data removed]",
      "text/plain": [
       "<Figure size 640x480 with 1 Axes>"
      ]
     },
     "metadata": {},
     "output_type": "display_data"
    }
   ],
   "source": [
    "import matplotlib.pyplot as plt\n",
    "plt.plot(history.history['loss'])\n"
   ]
  },
  {
   "cell_type": "code",
   "execution_count": 37,
   "metadata": {},
   "outputs": [
    {
     "name": "stdout",
     "output_type": "stream",
     "text": [
      "Model: \"model_2\"\n",
      "_________________________________________________________________\n",
      " Layer (type)                Output Shape              Param #   \n",
      "=================================================================\n",
      " input_3 (InputLayer)        [(None, 4)]               0         \n",
      "                                                                 \n",
      " dense_14 (Dense)            (None, 64)                320       \n",
      "                                                                 \n",
      " dense_15 (Dense)            (None, 64)                4160      \n",
      "                                                                 \n",
      " dense_16 (Dense)            (None, 1)                 65        \n",
      "                                                                 \n",
      "=================================================================\n",
      "Total params: 4,545\n",
      "Trainable params: 4,545\n",
      "Non-trainable params: 0\n",
      "_________________________________________________________________\n"
     ]
    }
   ],
   "source": [
    "model.summary()"
   ]
  },
  {
   "cell_type": "code",
   "execution_count": 45,
   "metadata": {},
   "outputs": [
    {
     "name": "stdout",
     "output_type": "stream",
     "text": [
      "Collecting visualkerasNote: you may need to restart the kernel to use updated packages.\n",
      "\n",
      "  Downloading visualkeras-0.0.2-py3-none-any.whl (12 kB)\n",
      "Requirement already satisfied: pillow>=6.2.0 in c:\\users\\p2222811\\appdata\\local\\anaconda3\\envs\\gpu_env\\lib\\site-packages (from visualkeras) (10.1.0)\n",
      "Requirement already satisfied: numpy>=1.18.1 in c:\\users\\p2222811\\appdata\\local\\anaconda3\\envs\\gpu_env\\lib\\site-packages (from visualkeras) (1.24.4)\n",
      "Collecting aggdraw>=1.3.11 (from visualkeras)\n",
      "  Downloading aggdraw-1.3.16-cp38-cp38-win_amd64.whl (43 kB)\n",
      "     ---------------------------------------- 0.0/43.2 kB ? eta -:--:--\n",
      "     ----------------- -------------------- 20.5/43.2 kB 330.3 kB/s eta 0:00:01\n",
      "     ----------------------------------- -- 41.0/43.2 kB 487.6 kB/s eta 0:00:01\n",
      "     -------------------------------------- 43.2/43.2 kB 264.1 kB/s eta 0:00:00\n",
      "Installing collected packages: aggdraw, visualkeras\n",
      "Successfully installed aggdraw-1.3.16 visualkeras-0.0.2\n"
     ]
    }
   ],
   "source": [
    "pip install visualkeras"
   ]
  },
  {
   "cell_type": "code",
   "execution_count": 48,
   "metadata": {},
   "outputs": [
    {
     "data": {
      "image/png": "[encoded data removed]",
      "text/plain": [
       "<PIL.Image.Image image mode=RGBA size=137x27>"
      ]
     },
     "execution_count": 48,
     "metadata": {},
     "output_type": "execute_result"
    }
   ],
   "source": [
    "import visualkeras\n",
    "visualkeras.layered_view(model)"
   ]
  }
 ],
 "metadata": {
  "kernelspec": {
   "display_name": "Python 3.8.18 ('gpu_env')",
   "language": "python",
   "name": "python3"
  },
  "language_info": {
   "codemirror_mode": {
    "name": "ipython",
    "version": 3
   },
   "file_extension": ".py",
   "mimetype": "text/x-python",
   "name": "python",
   "nbconvert_exporter": "python",
   "pygments_lexer": "ipython3",
   "version": "3.8.18"
  },
  "orig_nbformat": 4,
  "vscode": {
   "interpreter": {
    "hash": "8c3eecb18f7e3228069c3a202aa25cc258d8c69597e9d05719b4157516a81e9d"
   }
  }
 },
 "nbformat": 4,
 "nbformat_minor": 2
}
