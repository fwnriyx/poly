{
 "cells": [
  {
   "cell_type": "code",
   "execution_count": 113,
   "metadata": {},
   "outputs": [],
   "source": [
    "import numpy as np\n",
    "import pandas as pd\n",
    "import matplotlib.pyplot as plt\n",
    "import seaborn as sns\n",
    "from sklearn.preprocessing import StandardScaler\n",
    "from sklearn.decomposition import PCA\n",
    "import plotly.express as px\n",
    "import plotly.graph_objects as go\n",
    "import matplotlib.ticker as ticker\n",
    "\n",
    "food_df = pd.read_excel('dataset_1/dairy_nutrition_1.xlsx')"
   ]
  },
  {
   "attachments": {},
   "cell_type": "markdown",
   "metadata": {},
   "source": [
    "<font size = 6>\n",
    "\n",
    "**a)Present your PCA analysis with all the necessary outputs and graphs. Explain all decisions made in the analysis.**\n"
   ]
  },
  {
   "attachments": {},
   "cell_type": "markdown",
   "metadata": {},
   "source": [
    "## Checking the dataset\n",
    "Firstly, to find out what I'm working with such as the types of columns in the dataset and other details about the dataset, I used head and info. <br>\n",
    "As we can see from the next results, we have a total of 10 columns, 2 descriptive columns, `Type` and `Description`, and 8 float/int columns which are all the nutritional info of the type of food."
   ]
  },
  {
   "cell_type": "code",
   "execution_count": 114,
   "metadata": {},
   "outputs": [
    {
     "data": {
      "text/html": [
       "<div>\n",
       "<style scoped>\n",
       "    .dataframe tbody tr th:only-of-type {\n",
       "        vertical-align: middle;\n",
       "    }\n",
       "\n",
       "    .dataframe tbody tr th {\n",
       "        vertical-align: top;\n",
       "    }\n",
       "\n",
       "    .dataframe thead th {\n",
       "        text-align: right;\n",
       "    }\n",
       "</style>\n",
       "<table border=\"1\" class=\"dataframe\">\n",
       "  <thead>\n",
       "    <tr style=\"text-align: right;\">\n",
       "      <th></th>\n",
       "      <th>Type</th>\n",
       "      <th>Description</th>\n",
       "      <th>Protein_g</th>\n",
       "      <th>Fat_g</th>\n",
       "      <th>Carb_g</th>\n",
       "      <th>Sugar_g</th>\n",
       "      <th>VitA_mcg</th>\n",
       "      <th>VitB6_mg</th>\n",
       "      <th>VitB12_mcg</th>\n",
       "      <th>Calcium_mg</th>\n",
       "    </tr>\n",
       "  </thead>\n",
       "  <tbody>\n",
       "    <tr>\n",
       "      <th>0</th>\n",
       "      <td>Cheese</td>\n",
       "      <td>Cheese food, cold pack, American</td>\n",
       "      <td>19.66</td>\n",
       "      <td>24.46</td>\n",
       "      <td>8.32</td>\n",
       "      <td>0.00</td>\n",
       "      <td>0</td>\n",
       "      <td>0.141</td>\n",
       "      <td>1.28</td>\n",
       "      <td>497</td>\n",
       "    </tr>\n",
       "    <tr>\n",
       "      <th>1</th>\n",
       "      <td>Cream</td>\n",
       "      <td>Cream, whipped, cream topping, pressurized</td>\n",
       "      <td>3.20</td>\n",
       "      <td>22.22</td>\n",
       "      <td>12.49</td>\n",
       "      <td>8.00</td>\n",
       "      <td>188</td>\n",
       "      <td>0.041</td>\n",
       "      <td>0.29</td>\n",
       "      <td>101</td>\n",
       "    </tr>\n",
       "    <tr>\n",
       "      <th>2</th>\n",
       "      <td>Ice cream</td>\n",
       "      <td>Fat free ice cream, no sugar added, flavors ot...</td>\n",
       "      <td>4.41</td>\n",
       "      <td>0.00</td>\n",
       "      <td>27.94</td>\n",
       "      <td>8.82</td>\n",
       "      <td>133</td>\n",
       "      <td>0.029</td>\n",
       "      <td>0.52</td>\n",
       "      <td>147</td>\n",
       "    </tr>\n",
       "    <tr>\n",
       "      <th>3</th>\n",
       "      <td>Milk</td>\n",
       "      <td>Milk, whole, 3.25% milkfat, with added vitamin D</td>\n",
       "      <td>3.15</td>\n",
       "      <td>3.25</td>\n",
       "      <td>4.80</td>\n",
       "      <td>5.05</td>\n",
       "      <td>46</td>\n",
       "      <td>0.036</td>\n",
       "      <td>0.45</td>\n",
       "      <td>113</td>\n",
       "    </tr>\n",
       "    <tr>\n",
       "      <th>4</th>\n",
       "      <td>Milk</td>\n",
       "      <td>Milk, whole, 3.25% milkfat, without added vita...</td>\n",
       "      <td>3.15</td>\n",
       "      <td>3.27</td>\n",
       "      <td>4.78</td>\n",
       "      <td>5.05</td>\n",
       "      <td>46</td>\n",
       "      <td>0.036</td>\n",
       "      <td>0.45</td>\n",
       "      <td>113</td>\n",
       "    </tr>\n",
       "  </tbody>\n",
       "</table>\n",
       "</div>"
      ],
      "text/plain": [
       "        Type                                        Description  Protein_g  \\\n",
       "0     Cheese                   Cheese food, cold pack, American      19.66   \n",
       "1      Cream         Cream, whipped, cream topping, pressurized       3.20   \n",
       "2  Ice cream  Fat free ice cream, no sugar added, flavors ot...       4.41   \n",
       "3       Milk   Milk, whole, 3.25% milkfat, with added vitamin D       3.15   \n",
       "4       Milk  Milk, whole, 3.25% milkfat, without added vita...       3.15   \n",
       "\n",
       "   Fat_g  Carb_g  Sugar_g  VitA_mcg  VitB6_mg  VitB12_mcg  Calcium_mg  \n",
       "0  24.46    8.32     0.00         0     0.141        1.28         497  \n",
       "1  22.22   12.49     8.00       188     0.041        0.29         101  \n",
       "2   0.00   27.94     8.82       133     0.029        0.52         147  \n",
       "3   3.25    4.80     5.05        46     0.036        0.45         113  \n",
       "4   3.27    4.78     5.05        46     0.036        0.45         113  "
      ]
     },
     "execution_count": 114,
     "metadata": {},
     "output_type": "execute_result"
    }
   ],
   "source": [
    "food_df.head()"
   ]
  },
  {
   "cell_type": "code",
   "execution_count": 115,
   "metadata": {},
   "outputs": [
    {
     "name": "stdout",
     "output_type": "stream",
     "text": [
      "<class 'pandas.core.frame.DataFrame'>\n",
      "RangeIndex: 167 entries, 0 to 166\n",
      "Data columns (total 10 columns):\n",
      " #   Column       Non-Null Count  Dtype  \n",
      "---  ------       --------------  -----  \n",
      " 0   Type         167 non-null    object \n",
      " 1   Description  167 non-null    object \n",
      " 2   Protein_g    167 non-null    float64\n",
      " 3   Fat_g        167 non-null    float64\n",
      " 4   Carb_g       167 non-null    float64\n",
      " 5   Sugar_g      167 non-null    float64\n",
      " 6   VitA_mcg     167 non-null    int64  \n",
      " 7   VitB6_mg     167 non-null    float64\n",
      " 8   VitB12_mcg   167 non-null    float64\n",
      " 9   Calcium_mg   167 non-null    int64  \n",
      "dtypes: float64(6), int64(2), object(2)\n",
      "memory usage: 13.2+ KB\n"
     ]
    }
   ],
   "source": [
    "food_df.info()"
   ]
  },
  {
   "attachments": {},
   "cell_type": "markdown",
   "metadata": {},
   "source": [
    "## Cleaning the Data\n",
    "\n",
    "- Dropping descriptive columns, noting units used in different columns\n",
    "- Scaling the data appropriately, depending if the range of the data is too huge\n",
    "- Visualise the data if needed\n",
    "- Checking the details of different features using `describe()` as we may need the values later on"
   ]
  },
  {
   "cell_type": "code",
   "execution_count": 116,
   "metadata": {},
   "outputs": [
    {
     "data": {
      "text/html": [
       "<div>\n",
       "<style scoped>\n",
       "    .dataframe tbody tr th:only-of-type {\n",
       "        vertical-align: middle;\n",
       "    }\n",
       "\n",
       "    .dataframe tbody tr th {\n",
       "        vertical-align: top;\n",
       "    }\n",
       "\n",
       "    .dataframe thead th {\n",
       "        text-align: right;\n",
       "    }\n",
       "</style>\n",
       "<table border=\"1\" class=\"dataframe\">\n",
       "  <thead>\n",
       "    <tr style=\"text-align: right;\">\n",
       "      <th></th>\n",
       "      <th>Protein_g</th>\n",
       "      <th>Fat_g</th>\n",
       "      <th>Carb_g</th>\n",
       "      <th>Sugar_g</th>\n",
       "      <th>VitA_mcg</th>\n",
       "      <th>VitB6_mg</th>\n",
       "      <th>VitB12_mcg</th>\n",
       "      <th>Calcium_mg</th>\n",
       "    </tr>\n",
       "  </thead>\n",
       "  <tbody>\n",
       "    <tr>\n",
       "      <th>count</th>\n",
       "      <td>167.000000</td>\n",
       "      <td>167.000000</td>\n",
       "      <td>167.000000</td>\n",
       "      <td>167.000000</td>\n",
       "      <td>167.000000</td>\n",
       "      <td>167.000000</td>\n",
       "      <td>167.000000</td>\n",
       "      <td>167.000000</td>\n",
       "    </tr>\n",
       "    <tr>\n",
       "      <th>mean</th>\n",
       "      <td>12.858862</td>\n",
       "      <td>13.423713</td>\n",
       "      <td>11.591078</td>\n",
       "      <td>7.901557</td>\n",
       "      <td>125.508982</td>\n",
       "      <td>0.075443</td>\n",
       "      <td>0.861557</td>\n",
       "      <td>379.808383</td>\n",
       "    </tr>\n",
       "    <tr>\n",
       "      <th>std</th>\n",
       "      <td>10.343437</td>\n",
       "      <td>12.207545</td>\n",
       "      <td>13.944322</td>\n",
       "      <td>12.272961</td>\n",
       "      <td>128.388335</td>\n",
       "      <td>0.084590</td>\n",
       "      <td>0.848805</td>\n",
       "      <td>342.706238</td>\n",
       "    </tr>\n",
       "    <tr>\n",
       "      <th>min</th>\n",
       "      <td>0.680000</td>\n",
       "      <td>0.000000</td>\n",
       "      <td>0.000000</td>\n",
       "      <td>0.000000</td>\n",
       "      <td>0.000000</td>\n",
       "      <td>0.000000</td>\n",
       "      <td>0.000000</td>\n",
       "      <td>3.000000</td>\n",
       "    </tr>\n",
       "    <tr>\n",
       "      <th>25%</th>\n",
       "      <td>3.565000</td>\n",
       "      <td>1.325000</td>\n",
       "      <td>3.390000</td>\n",
       "      <td>0.505000</td>\n",
       "      <td>14.000000</td>\n",
       "      <td>0.038000</td>\n",
       "      <td>0.345000</td>\n",
       "      <td>115.000000</td>\n",
       "    </tr>\n",
       "    <tr>\n",
       "      <th>50%</th>\n",
       "      <td>8.120000</td>\n",
       "      <td>9.970000</td>\n",
       "      <td>5.480000</td>\n",
       "      <td>3.240000</td>\n",
       "      <td>73.000000</td>\n",
       "      <td>0.050000</td>\n",
       "      <td>0.520000</td>\n",
       "      <td>171.000000</td>\n",
       "    </tr>\n",
       "    <tr>\n",
       "      <th>75%</th>\n",
       "      <td>22.385000</td>\n",
       "      <td>25.630000</td>\n",
       "      <td>12.565000</td>\n",
       "      <td>9.545000</td>\n",
       "      <td>225.000000</td>\n",
       "      <td>0.076000</td>\n",
       "      <td>1.245000</td>\n",
       "      <td>673.500000</td>\n",
       "    </tr>\n",
       "    <tr>\n",
       "      <th>max</th>\n",
       "      <td>37.860000</td>\n",
       "      <td>37.000000</td>\n",
       "      <td>75.420000</td>\n",
       "      <td>58.010000</td>\n",
       "      <td>709.000000</td>\n",
       "      <td>0.567000</td>\n",
       "      <td>4.030000</td>\n",
       "      <td>1257.000000</td>\n",
       "    </tr>\n",
       "  </tbody>\n",
       "</table>\n",
       "</div>"
      ],
      "text/plain": [
       "        Protein_g       Fat_g      Carb_g     Sugar_g    VitA_mcg    VitB6_mg  \\\n",
       "count  167.000000  167.000000  167.000000  167.000000  167.000000  167.000000   \n",
       "mean    12.858862   13.423713   11.591078    7.901557  125.508982    0.075443   \n",
       "std     10.343437   12.207545   13.944322   12.272961  128.388335    0.084590   \n",
       "min      0.680000    0.000000    0.000000    0.000000    0.000000    0.000000   \n",
       "25%      3.565000    1.325000    3.390000    0.505000   14.000000    0.038000   \n",
       "50%      8.120000    9.970000    5.480000    3.240000   73.000000    0.050000   \n",
       "75%     22.385000   25.630000   12.565000    9.545000  225.000000    0.076000   \n",
       "max     37.860000   37.000000   75.420000   58.010000  709.000000    0.567000   \n",
       "\n",
       "       VitB12_mcg   Calcium_mg  \n",
       "count  167.000000   167.000000  \n",
       "mean     0.861557   379.808383  \n",
       "std      0.848805   342.706238  \n",
       "min      0.000000     3.000000  \n",
       "25%      0.345000   115.000000  \n",
       "50%      0.520000   171.000000  \n",
       "75%      1.245000   673.500000  \n",
       "max      4.030000  1257.000000  "
      ]
     },
     "execution_count": 116,
     "metadata": {},
     "output_type": "execute_result"
    }
   ],
   "source": [
    "#Dropping Type and Description\n",
    "cleaned_food = food_df.drop(['Type', 'Description'], axis=1)\n",
    "\n",
    "cleaned_food.describe()"
   ]
  },
  {
   "attachments": {},
   "cell_type": "markdown",
   "metadata": {},
   "source": [
    "To properly display the range of values in the features, I will use a boxplot."
   ]
  },
  {
   "cell_type": "code",
   "execution_count": 117,
   "metadata": {},
   "outputs": [
    {
     "data": {
      "image/png": "[encoded data removed]",
      "text/plain": [
       "<Figure size 1500x1100 with 1 Axes>"
      ]
     },
     "metadata": {},
     "output_type": "display_data"
    }
   ],
   "source": [
    "subset_df = cleaned_food[['Protein_g', 'Fat_g', 'Carb_g', 'Sugar_g','VitA_mcg', 'VitB6_mg', 'VitB12_mcg', 'Calcium_mg']]\n",
    "\n",
    "plt.figure(figsize=(15, 11))\n",
    "sns.boxplot(data=subset_df)\n",
    "plt.xlabel('Nutrients')\n",
    "plt.ylabel('Value')\n",
    "plt.title('Boxplot of Nutrients')\n",
    "plt.show()"
   ]
  },
  {
   "attachments": {},
   "cell_type": "markdown",
   "metadata": {},
   "source": [
    "As we can see from the boxplot, Vitamin A and Calcium have a range much higher than the other nutrients. Therefore, we will need to scale the data accordingly before we can perform PCA on the data. However, first, we will plot a countplot to see if there is enough data in order to classify the different types of food by clustering."
   ]
  },
  {
   "attachments": {},
   "cell_type": "markdown",
   "metadata": {},
   "source": [
    "Next, we will use standard scaler, a scaler by scikitlearn, to scale our data such that the features with larger values do not sway the evaluation too much."
   ]
  },
  {
   "cell_type": "code",
   "execution_count": 118,
   "metadata": {},
   "outputs": [
    {
     "data": {
      "text/html": [
       "<div>\n",
       "<style scoped>\n",
       "    .dataframe tbody tr th:only-of-type {\n",
       "        vertical-align: middle;\n",
       "    }\n",
       "\n",
       "    .dataframe tbody tr th {\n",
       "        vertical-align: top;\n",
       "    }\n",
       "\n",
       "    .dataframe thead th {\n",
       "        text-align: right;\n",
       "    }\n",
       "</style>\n",
       "<table border=\"1\" class=\"dataframe\">\n",
       "  <thead>\n",
       "    <tr style=\"text-align: right;\">\n",
       "      <th></th>\n",
       "      <th>Protein_g</th>\n",
       "      <th>Fat_g</th>\n",
       "      <th>Carb_g</th>\n",
       "      <th>Sugar_g</th>\n",
       "      <th>VitA_mcg</th>\n",
       "      <th>VitB6_mg</th>\n",
       "      <th>VitB12_mcg</th>\n",
       "      <th>Calcium_mg</th>\n",
       "    </tr>\n",
       "  </thead>\n",
       "  <tbody>\n",
       "    <tr>\n",
       "      <th>0</th>\n",
       "      <td>0.659509</td>\n",
       "      <td>0.906774</td>\n",
       "      <td>-0.235287</td>\n",
       "      <td>-0.645755</td>\n",
       "      <td>-0.980513</td>\n",
       "      <td>0.777323</td>\n",
       "      <td>0.494462</td>\n",
       "      <td>0.342988</td>\n",
       "    </tr>\n",
       "    <tr>\n",
       "      <th>1</th>\n",
       "      <td>-0.936624</td>\n",
       "      <td>0.722729</td>\n",
       "      <td>0.064659</td>\n",
       "      <td>0.008045</td>\n",
       "      <td>0.488198</td>\n",
       "      <td>-0.408400</td>\n",
       "      <td>-0.675392</td>\n",
       "      <td>-0.815996</td>\n",
       "    </tr>\n",
       "    <tr>\n",
       "      <th>2</th>\n",
       "      <td>-0.819290</td>\n",
       "      <td>-1.102931</td>\n",
       "      <td>1.175969</td>\n",
       "      <td>0.075060</td>\n",
       "      <td>0.058522</td>\n",
       "      <td>-0.550687</td>\n",
       "      <td>-0.403608</td>\n",
       "      <td>-0.681367</td>\n",
       "    </tr>\n",
       "    <tr>\n",
       "      <th>3</th>\n",
       "      <td>-0.941473</td>\n",
       "      <td>-0.835902</td>\n",
       "      <td>-0.488479</td>\n",
       "      <td>-0.233043</td>\n",
       "      <td>-0.621148</td>\n",
       "      <td>-0.467686</td>\n",
       "      <td>-0.486325</td>\n",
       "      <td>-0.780875</td>\n",
       "    </tr>\n",
       "    <tr>\n",
       "      <th>4</th>\n",
       "      <td>-0.941473</td>\n",
       "      <td>-0.834259</td>\n",
       "      <td>-0.489917</td>\n",
       "      <td>-0.233043</td>\n",
       "      <td>-0.621148</td>\n",
       "      <td>-0.467686</td>\n",
       "      <td>-0.486325</td>\n",
       "      <td>-0.780875</td>\n",
       "    </tr>\n",
       "  </tbody>\n",
       "</table>\n",
       "</div>"
      ],
      "text/plain": [
       "   Protein_g     Fat_g    Carb_g   Sugar_g  VitA_mcg  VitB6_mg  VitB12_mcg  \\\n",
       "0   0.659509  0.906774 -0.235287 -0.645755 -0.980513  0.777323    0.494462   \n",
       "1  -0.936624  0.722729  0.064659  0.008045  0.488198 -0.408400   -0.675392   \n",
       "2  -0.819290 -1.102931  1.175969  0.075060  0.058522 -0.550687   -0.403608   \n",
       "3  -0.941473 -0.835902 -0.488479 -0.233043 -0.621148 -0.467686   -0.486325   \n",
       "4  -0.941473 -0.834259 -0.489917 -0.233043 -0.621148 -0.467686   -0.486325   \n",
       "\n",
       "   Calcium_mg  \n",
       "0    0.342988  \n",
       "1   -0.815996  \n",
       "2   -0.681367  \n",
       "3   -0.780875  \n",
       "4   -0.780875  "
      ]
     },
     "execution_count": 118,
     "metadata": {},
     "output_type": "execute_result"
    }
   ],
   "source": [
    "scaler = StandardScaler() # StandardScaler object\n",
    "scaler.fit(cleaned_food) # fit scaler on original data\n",
    "\n",
    "scaled_data = pd.DataFrame(scaler.transform(cleaned_food), columns = cleaned_food.columns) # standardize data\n",
    "scaled_data.head()"
   ]
  },
  {
   "cell_type": "code",
   "execution_count": 119,
   "metadata": {},
   "outputs": [
    {
     "data": {
      "image/png": "[encoded data removed]",
      "text/plain": [
       "<Figure size 1500x1100 with 1 Axes>"
      ]
     },
     "metadata": {},
     "output_type": "display_data"
    }
   ],
   "source": [
    "import seaborn as sns\n",
    "import matplotlib.pyplot as plt\n",
    "\n",
    "plt.figure(figsize=(15, 11))\n",
    "sns.countplot(data = food_df, x='Type')\n",
    "plt.xlabel('Type of Food')\n",
    "plt.ylabel('Count')\n",
    "plt.title('Count of Different Types of Food')\n",
    "plt.xticks(rotation=45)\n",
    "plt.show()"
   ]
  },
  {
   "attachments": {},
   "cell_type": "markdown",
   "metadata": {},
   "source": [
    "## Performing PCA\n",
    "- use sklearn's PCA, apply PCA on all 8 of our variables\n",
    "- display values of PCA\n",
    "- using kaiser's rule, the scree plot or cumulative explained variance, decide which PCs to use"
   ]
  },
  {
   "cell_type": "code",
   "execution_count": 120,
   "metadata": {},
   "outputs": [],
   "source": [
    "# implementing PCA using sklearn\n",
    "\n",
    "from sklearn.decomposition import PCA\n",
    "\n",
    "pca = PCA(n_components = 8).fit(scaled_data)\n",
    "#Note that pca.transform() returns scores based on centred data\n",
    "pca_samples = pca.transform(scaled_data)"
   ]
  },
  {
   "cell_type": "code",
   "execution_count": 121,
   "metadata": {},
   "outputs": [],
   "source": [
    "def pca_results(data, pca):\n",
    "    \n",
    "    # Dimension indexing\n",
    "    dimensions = ['PC {}'.format(i) for i in range(1,len(pca.components_)+1)]\n",
    "    \n",
    "    # PCA components\n",
    "    components = pd.DataFrame(np.round(pca.components_, 4), columns = data.keys()) \n",
    "    components.index = dimensions\n",
    "\n",
    "    #PCA eigenvalues\n",
    "    ev = pca.explained_variance_.reshape(len(pca.components_), 1)\n",
    "    eigenvalues = pd.DataFrame(np.round(ev, 4), columns = ['Eigenvalue']) \n",
    "    eigenvalues.index = dimensions\n",
    "    \n",
    "    # PCA explained variance\n",
    "    ratios = pca.explained_variance_ratio_.reshape(len(pca.components_), 1) \n",
    "    variance_ratios = pd.DataFrame(np.round(ratios, 4), columns = ['Explained Variance']) \n",
    "    variance_ratios.index = dimensions\n",
    "\n",
    "    # Return a concatenated DataFrame\n",
    "    return pd.concat([eigenvalues, variance_ratios, components], axis = 1)"
   ]
  },
  {
   "cell_type": "code",
   "execution_count": 122,
   "metadata": {},
   "outputs": [
    {
     "data": {
      "text/plain": [
       "<Figure size 640x480 with 0 Axes>"
      ]
     },
     "metadata": {},
     "output_type": "display_data"
    },
    {
     "data": {
      "image/png": "[encoded data removed]",
      "text/plain": [
       "<Figure size 640x480 with 1 Axes>"
      ]
     },
     "metadata": {},
     "output_type": "display_data"
    },
    {
     "data": {
      "text/html": [
       "<div>\n",
       "<style scoped>\n",
       "    .dataframe tbody tr th:only-of-type {\n",
       "        vertical-align: middle;\n",
       "    }\n",
       "\n",
       "    .dataframe tbody tr th {\n",
       "        vertical-align: top;\n",
       "    }\n",
       "\n",
       "    .dataframe thead th {\n",
       "        text-align: right;\n",
       "    }\n",
       "</style>\n",
       "<table border=\"1\" class=\"dataframe\">\n",
       "  <thead>\n",
       "    <tr style=\"text-align: right;\">\n",
       "      <th></th>\n",
       "      <th>Eigenvalue</th>\n",
       "      <th>Explained Variance</th>\n",
       "      <th>Protein_g</th>\n",
       "      <th>Fat_g</th>\n",
       "      <th>Carb_g</th>\n",
       "      <th>Sugar_g</th>\n",
       "      <th>VitA_mcg</th>\n",
       "      <th>VitB6_mg</th>\n",
       "      <th>VitB12_mcg</th>\n",
       "      <th>Calcium_mg</th>\n",
       "    </tr>\n",
       "  </thead>\n",
       "  <tbody>\n",
       "    <tr>\n",
       "      <th>PC 1</th>\n",
       "      <td>3.8033</td>\n",
       "      <td>0.4726</td>\n",
       "      <td>0.4672</td>\n",
       "      <td>0.2910</td>\n",
       "      <td>0.0722</td>\n",
       "      <td>0.0973</td>\n",
       "      <td>0.3685</td>\n",
       "      <td>0.3653</td>\n",
       "      <td>0.4428</td>\n",
       "      <td>0.4658</td>\n",
       "    </tr>\n",
       "    <tr>\n",
       "      <th>PC 2</th>\n",
       "      <td>2.1864</td>\n",
       "      <td>0.2717</td>\n",
       "      <td>-0.1304</td>\n",
       "      <td>-0.3270</td>\n",
       "      <td>0.6181</td>\n",
       "      <td>0.6013</td>\n",
       "      <td>-0.1793</td>\n",
       "      <td>0.2452</td>\n",
       "      <td>0.1731</td>\n",
       "      <td>-0.1013</td>\n",
       "    </tr>\n",
       "    <tr>\n",
       "      <th>PC 3</th>\n",
       "      <td>0.8770</td>\n",
       "      <td>0.1090</td>\n",
       "      <td>0.1499</td>\n",
       "      <td>-0.5816</td>\n",
       "      <td>-0.2952</td>\n",
       "      <td>-0.3342</td>\n",
       "      <td>-0.4485</td>\n",
       "      <td>0.3675</td>\n",
       "      <td>0.3054</td>\n",
       "      <td>0.1048</td>\n",
       "    </tr>\n",
       "    <tr>\n",
       "      <th>PC 4</th>\n",
       "      <td>0.4553</td>\n",
       "      <td>0.0566</td>\n",
       "      <td>-0.3557</td>\n",
       "      <td>-0.0411</td>\n",
       "      <td>-0.0879</td>\n",
       "      <td>-0.1750</td>\n",
       "      <td>0.5117</td>\n",
       "      <td>0.6183</td>\n",
       "      <td>-0.0237</td>\n",
       "      <td>-0.4345</td>\n",
       "    </tr>\n",
       "    <tr>\n",
       "      <th>PC 5</th>\n",
       "      <td>0.3374</td>\n",
       "      <td>0.0419</td>\n",
       "      <td>0.0185</td>\n",
       "      <td>-0.6631</td>\n",
       "      <td>-0.0425</td>\n",
       "      <td>0.0488</td>\n",
       "      <td>0.6043</td>\n",
       "      <td>-0.3922</td>\n",
       "      <td>0.0352</td>\n",
       "      <td>0.1882</td>\n",
       "    </tr>\n",
       "    <tr>\n",
       "      <th>PC 6</th>\n",
       "      <td>0.1738</td>\n",
       "      <td>0.0216</td>\n",
       "      <td>-0.1596</td>\n",
       "      <td>0.1216</td>\n",
       "      <td>0.2826</td>\n",
       "      <td>-0.3722</td>\n",
       "      <td>0.0149</td>\n",
       "      <td>-0.3497</td>\n",
       "      <td>0.7240</td>\n",
       "      <td>-0.3077</td>\n",
       "    </tr>\n",
       "    <tr>\n",
       "      <th>PC 7</th>\n",
       "      <td>0.1382</td>\n",
       "      <td>0.0172</td>\n",
       "      <td>0.4297</td>\n",
       "      <td>-0.1099</td>\n",
       "      <td>0.6124</td>\n",
       "      <td>-0.5143</td>\n",
       "      <td>0.0459</td>\n",
       "      <td>0.0749</td>\n",
       "      <td>-0.3875</td>\n",
       "      <td>-0.0765</td>\n",
       "    </tr>\n",
       "    <tr>\n",
       "      <th>PC 8</th>\n",
       "      <td>0.0769</td>\n",
       "      <td>0.0095</td>\n",
       "      <td>-0.6365</td>\n",
       "      <td>0.0427</td>\n",
       "      <td>0.2474</td>\n",
       "      <td>-0.2851</td>\n",
       "      <td>-0.0395</td>\n",
       "      <td>0.0857</td>\n",
       "      <td>-0.0674</td>\n",
       "      <td>0.6611</td>\n",
       "    </tr>\n",
       "  </tbody>\n",
       "</table>\n",
       "</div>"
      ],
      "text/plain": [
       "      Eigenvalue  Explained Variance  Protein_g   Fat_g  Carb_g  Sugar_g  \\\n",
       "PC 1      3.8033              0.4726     0.4672  0.2910  0.0722   0.0973   \n",
       "PC 2      2.1864              0.2717    -0.1304 -0.3270  0.6181   0.6013   \n",
       "PC 3      0.8770              0.1090     0.1499 -0.5816 -0.2952  -0.3342   \n",
       "PC 4      0.4553              0.0566    -0.3557 -0.0411 -0.0879  -0.1750   \n",
       "PC 5      0.3374              0.0419     0.0185 -0.6631 -0.0425   0.0488   \n",
       "PC 6      0.1738              0.0216    -0.1596  0.1216  0.2826  -0.3722   \n",
       "PC 7      0.1382              0.0172     0.4297 -0.1099  0.6124  -0.5143   \n",
       "PC 8      0.0769              0.0095    -0.6365  0.0427  0.2474  -0.2851   \n",
       "\n",
       "      VitA_mcg  VitB6_mg  VitB12_mcg  Calcium_mg  \n",
       "PC 1    0.3685    0.3653      0.4428      0.4658  \n",
       "PC 2   -0.1793    0.2452      0.1731     -0.1013  \n",
       "PC 3   -0.4485    0.3675      0.3054      0.1048  \n",
       "PC 4    0.5117    0.6183     -0.0237     -0.4345  \n",
       "PC 5    0.6043   -0.3922      0.0352      0.1882  \n",
       "PC 6    0.0149   -0.3497      0.7240     -0.3077  \n",
       "PC 7    0.0459    0.0749     -0.3875     -0.0765  \n",
       "PC 8   -0.0395    0.0857     -0.0674      0.6611  "
      ]
     },
     "execution_count": 122,
     "metadata": {},
     "output_type": "execute_result"
    }
   ],
   "source": [
    "plt.clf()\n",
    "fig1, ax1 = plt.subplots()\n",
    "ax1.plot(np.arange(1, len(pca.explained_variance_)+1), pca.explained_variance_)\n",
    "ax1.xaxis.set_major_locator(ticker.MultipleLocator(1))\n",
    "ax1.set(xlabel = 'Component number', ylabel = 'Eigenvalue', title = 'Screeplot')\n",
    "plt.show()\n",
    "\n",
    "pca_results = pca_results(scaled_data, pca) # use function created to show table\n",
    "pca_results"
   ]
  },
  {
   "cell_type": "code",
   "execution_count": 123,
   "metadata": {},
   "outputs": [
    {
     "data": {
      "text/html": [
       "<div>\n",
       "<style scoped>\n",
       "    .dataframe tbody tr th:only-of-type {\n",
       "        vertical-align: middle;\n",
       "    }\n",
       "\n",
       "    .dataframe tbody tr th {\n",
       "        vertical-align: top;\n",
       "    }\n",
       "\n",
       "    .dataframe thead th {\n",
       "        text-align: right;\n",
       "    }\n",
       "</style>\n",
       "<table border=\"1\" class=\"dataframe\">\n",
       "  <thead>\n",
       "    <tr style=\"text-align: right;\">\n",
       "      <th></th>\n",
       "      <th>Protein_g</th>\n",
       "      <th>Fat_g</th>\n",
       "      <th>Carb_g</th>\n",
       "      <th>Sugar_g</th>\n",
       "      <th>VitA_mcg</th>\n",
       "      <th>VitB6_mg</th>\n",
       "      <th>VitB12_mcg</th>\n",
       "      <th>Calcium_mg</th>\n",
       "    </tr>\n",
       "  </thead>\n",
       "  <tbody>\n",
       "    <tr>\n",
       "      <th>PC1</th>\n",
       "      <td>0.467243</td>\n",
       "      <td>0.290999</td>\n",
       "      <td>0.07220</td>\n",
       "      <td>0.097287</td>\n",
       "      <td>0.368496</td>\n",
       "      <td>0.365326</td>\n",
       "      <td>0.442831</td>\n",
       "      <td>0.465805</td>\n",
       "    </tr>\n",
       "    <tr>\n",
       "      <th>PC2</th>\n",
       "      <td>-0.130419</td>\n",
       "      <td>-0.327025</td>\n",
       "      <td>0.61808</td>\n",
       "      <td>0.601273</td>\n",
       "      <td>-0.179329</td>\n",
       "      <td>0.245191</td>\n",
       "      <td>0.173100</td>\n",
       "      <td>-0.101260</td>\n",
       "    </tr>\n",
       "  </tbody>\n",
       "</table>\n",
       "</div>"
      ],
      "text/plain": [
       "     Protein_g     Fat_g   Carb_g   Sugar_g  VitA_mcg  VitB6_mg  VitB12_mcg  \\\n",
       "PC1   0.467243  0.290999  0.07220  0.097287  0.368496  0.365326    0.442831   \n",
       "PC2  -0.130419 -0.327025  0.61808  0.601273 -0.179329  0.245191    0.173100   \n",
       "\n",
       "     Calcium_mg  \n",
       "PC1    0.465805  \n",
       "PC2   -0.101260  "
      ]
     },
     "execution_count": 123,
     "metadata": {},
     "output_type": "execute_result"
    }
   ],
   "source": [
    "pca2 = PCA(n_components = 2).fit(scaled_data) # fit a PCA object to extract first 2 PCs\n",
    "pca2_results = pca2.transform(scaled_data)\n",
    "pca_components_df = pd.DataFrame(pca2.components_, columns = scaled_data.columns) # Linear system for PC1 and PC2\n",
    "pca_components_df = pca_components_df.rename(index = {0:'PC1', 1:'PC2'})\n",
    "pca_components_df"
   ]
  },
  {
   "cell_type": "code",
   "execution_count": 124,
   "metadata": {},
   "outputs": [],
   "source": [
    "# This function plots the loading plot.\n",
    "# Pass original data dataframe and returns of PCA to this function. Optional width, height and margin\n",
    "# This function returns the axes of the loading plot\n",
    "\n",
    "def loadingplot(data, pca, width=5, height=5, margin=0.5):\n",
    "\n",
    "    fig, ax = plt.subplots(figsize = (width,height))\n",
    "\n",
    "    #Set limits for figure\n",
    "    x_min = min(pca.components_[0,:].min(),0)-margin\n",
    "    x_max = max(pca.components_[0,:].max(),0)+margin\n",
    "    y_min = min(pca.components_[1,:].min(),0)-margin\n",
    "    y_max = max(pca.components_[1,:].max(),0)+margin\n",
    "\n",
    "    ax.set_xlim(x_min, x_max)\n",
    "    ax.set_ylim(y_min, y_max)\n",
    "\n",
    "    #Scaling factor for text position\n",
    "    text_pos = 0.2\n",
    "\n",
    "    for i, v in enumerate(pca.components_.T):\n",
    "        ax.arrow(0, 0, v[0], v[1], head_width=0.1, head_length=0.1, linewidth=2, color='red')\n",
    "        ax.text(v[0], v[1]+text_pos, data.columns[i], color='black', ha='center', va='center', fontsize=12)\n",
    "\n",
    "    plt.plot([x_min, x_max], [0, 0], color='k', linestyle='--', linewidth=1)\n",
    "    plt.plot([0, 0], [y_min, y_max], color='k', linestyle='--', linewidth=1)\n",
    "    ax.set_xlabel(\"PC1\", fontsize=14)\n",
    "    ax.set_ylabel(\"PC2\", fontsize=14)\n",
    "    ax.set_title(\"Loading plot\", fontsize = 14)\n",
    "    \n",
    "    return ax\n"
   ]
  },
  {
   "attachments": {},
   "cell_type": "markdown",
   "metadata": {},
   "source": [
    "<font size = 5>\n",
    "\n",
    "**(b) Which type(s) of dairy product has/have the following attributes?** <br>\n",
    "- (i) Low carbohydrates and sugar but high in other nutrients.<br>\n",
    "- (ii) High carbohydrates and sugar but low in other nutrients.<br>\n",
    "\n"
   ]
  },
  {
   "cell_type": "code",
   "execution_count": 125,
   "metadata": {},
   "outputs": [
    {
     "data": {
      "application/vnd.plotly.v1+json": {
       "config": {
        "plotlyServerURL": "https://plot.ly"
       },
       "data": [
        {
         "hovertemplate": "color=Cheese<br>0=%{x}<br>1=%{y}<extra></extra>",
         "legendgroup": "Cheese",
         "marker": {
          "color": "#636efa",
          "symbol": "circle"
         },
         "mode": "markers",
         "name": "Cheese",
         "orientation": "v",
         "showlegend": true,
         "type": "scatter",
         "x": [
          0.7935996852825353,
          -1.259120851972635,
          -0.4922115019460618,
          1.1027444582416575,
          1.4342101256592485,
          2.271212882258486,
          0.6514503017485858,
          -0.6412914939490447,
          1.8025902322484235,
          1.4284721529965925,
          1.5407453685761088,
          2.6280372158712217,
          2.343367932148217,
          2.607519283757008,
          1.2825893269684463,
          2.7918392132924805,
          2.098546545916694,
          2.107433592489407,
          2.0755058467065655,
          2.1623958803031913,
          2.8092848466553404,
          3.2654720160755133,
          0.86211396390277,
          0.9624224907807177,
          1.5576830155640171,
          1.6861884912383331,
          1.4561674916727338,
          1.8833077920767574,
          1.5208535154465834,
          1.957463247493891,
          1.573723456305697,
          1.963585501015849,
          1.9813039798187524,
          1.292572586799034,
          1.3909483100802624,
          2.105157464487955,
          -0.20881557583772703,
          1.6956039040754198,
          1.6564878346384502,
          1.8598530778711166,
          1.4778489908772436,
          1.7490173279168628,
          1.9179475204737086,
          1.4322191687005579,
          1.7136153535690135,
          1.6368495017624078,
          0.9068984591685822,
          1.5293399894124327,
          1.6488002746161545,
          -1.322761584548649,
          0.9838752418931136,
          1.7981792631594944,
          0.866377360001359,
          1.3645421285376114,
          -0.8530388210988251,
          1.3310693048955349,
          -1.3939646358197,
          1.395910944266113,
          1.6235838336139148,
          -0.07965965204528772,
          2.276015174976031,
          1.9334653038880822,
          -1.3105175486101834,
          -1.0317504263203725,
          -0.7904727819257205,
          0.9021730626613003,
          2.0932121970362143,
          -1.7255898760961426,
          0.6516451044629543,
          3.0279443250957745,
          0.938299228146145,
          0.5813374643608131,
          1.1740701075800013
         ],
         "xaxis": "x",
         "y": [
          -0.49896279264331095,
          -0.138737658695889,
          -1.0906403744821125,
          -1.0030559181168888,
          -1.5247706178473455,
          -1.5083201464664877,
          -0.6941409118904169,
          0.11733211058155324,
          -0.8210378058459384,
          -0.6492102176550103,
          -0.7038479704568225,
          1.19014424484869,
          -1.0710556517644114,
          -2.3155898228535334,
          -0.3947268201442372,
          -1.8162279386634022,
          -1.4914889172090293,
          -1.3898326753364763,
          -1.1649508707642773,
          -1.1148642034468865,
          -1.5820137171961148,
          -1.605568689956503,
          -0.9673593729635016,
          -1.9899906170110473,
          -0.7290796122330211,
          -0.8734085767730833,
          -1.5882108768402219,
          -1.6655889336569523,
          -1.6548739608586387,
          -1.6523250133217844,
          -1.8733521547743104,
          -1.4377362263245788,
          -1.446551071677045,
          -1.6724705822315882,
          -1.4230912006658991,
          -1.3484136543605096,
          -0.8490111931306883,
          -1.7503542229530975,
          -1.610884903075629,
          -1.234190852739879,
          -1.4683321128102311,
          -1.7760123294042378,
          -1.447365599862465,
          -1.0468815830021305,
          -1.2233973835048135,
          -1.103428371329774,
          -1.3800675182840412,
          -1.015879014451367,
          -1.6843163974189594,
          -0.12389720145275582,
          -1.0817846599390075,
          -1.5918719340046819,
          -1.178286690055065,
          -1.0267353619657087,
          -0.8651024348329743,
          -1.7631865062076328,
          -0.3168967367101383,
          -1.000811646242402,
          -1.084514970153645,
          -1.5326786899969835,
          0.40101886418464056,
          -1.187317206330758,
          -0.16702927817583865,
          -0.713337371992921,
          -0.770645357914574,
          -0.9379986089114501,
          -0.8084026682186094,
          -0.12669509202551926,
          -0.5045555400618074,
          1.6875109093919218,
          -0.2709284945116969,
          0.030312395331242886,
          0.7755413536311165
         ],
         "yaxis": "y"
        },
        {
         "hovertemplate": "color=Cream<br>0=%{x}<br>1=%{y}<extra></extra>",
         "legendgroup": "Cream",
         "marker": {
          "color": "#EF553B",
          "symbol": "circle"
         },
         "mode": "markers",
         "name": "Cream",
         "orientation": "v",
         "showlegend": true,
         "type": "scatter",
         "x": [
          -0.8703456294148375,
          -1.029895394636484,
          -1.6693740934447407,
          -1.2118885901622543,
          -1.4749601915482584,
          -1.8589599558775989,
          -0.19051233298899087,
          -0.6838680843526629,
          -1.1455231108859998,
          -1.578102657143096,
          -1.453729136182698,
          -2.016642883370681,
          -1.739464369386665,
          -2.3167597177500916,
          -2.234916351391796,
          -1.834573530706955,
          -0.8608989018723135,
          -1.2621371365834526
         ],
         "xaxis": "x",
         "y": [
          -0.2913619062116318,
          -0.8303851274991205,
          -0.45651228183271,
          -0.7178813095382158,
          -0.5138865595933203,
          2.3336341863041534,
          -1.7290609207208425,
          -1.3573850528877554,
          -0.8418726144441171,
          -0.7156519726430448,
          -0.41754396750271694,
          -0.42263473334628626,
          0.32922060915818513,
          -0.27032477561902857,
          0.293079788170474,
          0.16624701073228237,
          3.6259330097267504,
          5.140794338794006
         ],
         "yaxis": "y"
        },
        {
         "hovertemplate": "color=Ice cream<br>0=%{x}<br>1=%{y}<extra></extra>",
         "legendgroup": "Ice cream",
         "marker": {
          "color": "#00cc96",
          "symbol": "circle"
         },
         "mode": "markers",
         "name": "Ice cream",
         "orientation": "v",
         "showlegend": true,
         "type": "scatter",
         "x": [
          -1.287280628755045,
          -0.9890119335346801,
          -0.9811683065288719,
          -0.9307314986891811,
          -1.43125331757639,
          -1.631193316845629,
          -1.6973595917725315,
          -1.538942737100964,
          -0.788691656723322,
          -1.4226085573945202
         ],
         "xaxis": "x",
         "y": [
          1.0931227189707,
          0.9649685355899638,
          1.7595722255932689,
          1.7506817446671565,
          1.737368959692803,
          2.084102268733898,
          1.9063317483308126,
          1.4192490818413317,
          1.1141888712437071,
          1.3528150097900236
         ],
         "yaxis": "y"
        },
        {
         "hovertemplate": "color=Milk<br>0=%{x}<br>1=%{y}<extra></extra>",
         "legendgroup": "Milk",
         "marker": {
          "color": "#ab63fa",
          "symbol": "circle"
         },
         "mode": "markers",
         "name": "Milk",
         "orientation": "v",
         "showlegend": true,
         "type": "scatter",
         "x": [
          -1.7199270012079846,
          -1.7195526810149657,
          -1.7540178524439534,
          -1.7527305888745635,
          -1.6034032958809898,
          -1.6979901651576823,
          -1.7955138127918997,
          -1.8936652250220258,
          -1.8574131337225002,
          -1.6574379261471401,
          -1.735165536932959,
          -1.6986554045019222,
          -1.868504628070934,
          4.647707900941798,
          4.647707900941798,
          2.9599232286525297,
          6.922762777975093,
          5.060178919514911,
          6.911828443338665,
          4.882274161708947,
          -1.7818924070505484,
          -1.8446859082812732,
          -1.7385270937851758,
          -1.724449619370335,
          -1.823257881148288,
          -1.6965906635713979,
          -1.6861696549185599,
          -1.6508022625276717,
          -1.195966254391721,
          -1.7812788229641678,
          -1.745807383089827,
          -1.637833593799447,
          -1.6568999102037076,
          -2.1483304610688028,
          -1.48575162698807,
          -1.2188038658491454,
          -1.2188038658491454,
          -1.0883965409698508,
          -1.63813876542531,
          -0.3505202166102437,
          4.490077071791728
         ],
         "xaxis": "x",
         "y": [
          -0.05428939674026223,
          -0.05571594540915131,
          0.4475459565927532,
          0.42262619655478484,
          0.4686042110431013,
          0.5623358889115395,
          -0.30630162789427684,
          -0.2667016406883302,
          -0.0321706888024003,
          -0.014075838566798976,
          0.023750297988301666,
          0.02663579847358158,
          0.10929291168657931,
          2.9690562924273083,
          2.9690562924273083,
          2.955832578090479,
          4.486229371483281,
          5.392655680785138,
          4.395186430350407,
          5.382868884844702,
          -0.19872144401371233,
          -0.10025846584990455,
          -0.24860552741599196,
          -0.2699284685277096,
          0.06828112864931607,
          0.006638535744707602,
          0.016154348424424536,
          -0.47354655200982043,
          -0.31204454802134307,
          -0.19922127079383622,
          0.10578460457307214,
          -0.21740561852190643,
          -0.1915832911596389,
          -0.026017993910768894,
          -0.2296082058376665,
          0.17268429142592367,
          0.17268429142592367,
          0.43175052717761636,
          0.42235531496063783,
          4.320865217876209,
          3.108903183410969
         ],
         "yaxis": "y"
        },
        {
         "hovertemplate": "color=Yogurt<br>0=%{x}<br>1=%{y}<extra></extra>",
         "legendgroup": "Yogurt",
         "marker": {
          "color": "#FFA15A",
          "symbol": "circle"
         },
         "mode": "markers",
         "name": "Yogurt",
         "orientation": "v",
         "showlegend": true,
         "type": "scatter",
         "x": [
          -1.6969658374172933,
          -1.4242123978558705,
          -1.349651437782303,
          -1.812236459617048,
          -1.520787538771716,
          -1.8195606552179078,
          -1.8195606552179078,
          -1.4926249472179445,
          -1.5829102716950696,
          -1.46190646942093,
          -1.498896734835228,
          -1.4850874652251993,
          -1.575295383457654,
          -1.508747434911982,
          -1.508747434911982,
          -1.2583868900167088,
          -1.2583868900167088,
          -1.6353911592073118,
          -1.6254134437499586,
          -1.6254134437499586,
          -1.5972625265915346,
          -1.5538939588240521,
          -1.5538939588240521,
          -1.6100784220240754,
          -1.6969658374172933
         ],
         "xaxis": "x",
         "y": [
          1.4624505775069199,
          0.39139869205979505,
          -0.004973940293802354,
          -0.08747016628138579,
          0.24658375131197627,
          0.3112157451277156,
          0.3112157451277156,
          0.37115279941035895,
          0.6660928667601265,
          0.6221308380025063,
          0.774725615664684,
          0.7770530134616707,
          0.468707326095571,
          0.8800006382152452,
          0.8800006382152452,
          0.39124104248536834,
          0.39124104248536834,
          0.4272266656948572,
          1.315179782748777,
          1.315179782748777,
          1.394452386649419,
          1.3646589074032631,
          1.3646589074032631,
          1.0974697966539693,
          1.4624505775069199
         ],
         "yaxis": "y"
        }
       ],
       "layout": {
        "annotations": [
         {
          "ax": 0,
          "ay": 0,
          "text": "Protein_g",
          "x": 0.911219309000639,
          "xanchor": "center",
          "y": -0.19284130772041796,
          "yanchor": "bottom"
         },
         {
          "ax": 0,
          "ay": 0,
          "text": "Fat_g",
          "x": 0.5675080492332917,
          "xanchor": "center",
          "y": -0.4835491877378698,
          "yanchor": "bottom"
         },
         {
          "ax": 0,
          "ay": 0,
          "text": "Carb_g",
          "x": 0.14080551085510543,
          "xanchor": "center",
          "y": 0.9139119136988194,
          "yanchor": "bottom"
         },
         {
          "ax": 0,
          "ay": 0,
          "text": "Sugar_g",
          "x": 0.18972940096037158,
          "xanchor": "center",
          "y": 0.8890605827680608,
          "yanchor": "bottom"
         },
         {
          "ax": 0,
          "ay": 0,
          "text": "VitA_mcg",
          "x": 0.718642976518709,
          "xanchor": "center",
          "y": -0.2651609693029275,
          "yanchor": "bottom"
         },
         {
          "ax": 0,
          "ay": 0,
          "text": "VitB6_mg",
          "x": 0.7124606570599964,
          "xanchor": "center",
          "y": 0.36254738871792724,
          "yanchor": "bottom"
         },
         {
          "ax": 0,
          "ay": 0,
          "text": "VitB12_mcg",
          "x": 0.8636113082582815,
          "xanchor": "center",
          "y": 0.2559518710701238,
          "yanchor": "bottom"
         },
         {
          "ax": 0,
          "ay": 0,
          "text": "Calcium_mg",
          "x": 0.9084148215769179,
          "xanchor": "center",
          "y": -0.14972630983341823,
          "yanchor": "bottom"
         }
        ],
        "height": 900,
        "legend": {
         "title": {
          "text": "Type"
         },
         "tracegroupgap": 0
        },
        "margin": {
         "t": 60
        },
        "shapes": [
         {
          "type": "line",
          "x0": 0,
          "x1": 0.911219309000639,
          "y0": 0,
          "y1": -0.19284130772041796
         },
         {
          "type": "line",
          "x0": 0,
          "x1": 0.5675080492332917,
          "y0": 0,
          "y1": -0.4835491877378698
         },
         {
          "type": "line",
          "x0": 0,
          "x1": 0.14080551085510543,
          "y0": 0,
          "y1": 0.9139119136988194
         },
         {
          "type": "line",
          "x0": 0,
          "x1": 0.18972940096037158,
          "y0": 0,
          "y1": 0.8890605827680608
         },
         {
          "type": "line",
          "x0": 0,
          "x1": 0.718642976518709,
          "y0": 0,
          "y1": -0.2651609693029275
         },
         {
          "type": "line",
          "x0": 0,
          "x1": 0.7124606570599964,
          "y0": 0,
          "y1": 0.36254738871792724
         },
         {
          "type": "line",
          "x0": 0,
          "x1": 0.8636113082582815,
          "y0": 0,
          "y1": 0.2559518710701238
         },
         {
          "type": "line",
          "x0": 0,
          "x1": 0.9084148215769179,
          "y0": 0,
          "y1": -0.14972630983341823
         }
        ],
        "template": {
         "data": {
          "bar": [
           {
            "error_x": {
             "color": "#2a3f5f"
            },
            "error_y": {
             "color": "#2a3f5f"
            },
            "marker": {
             "line": {
              "color": "#E5ECF6",
              "width": 0.5
             },
             "pattern": {
              "fillmode": "overlay",
              "size": 10,
              "solidity": 0.2
             }
            },
            "type": "bar"
           }
          ],
          "barpolar": [
           {
            "marker": {
             "line": {
              "color": "#E5ECF6",
              "width": 0.5
             },
             "pattern": {
              "fillmode": "overlay",
              "size": 10,
              "solidity": 0.2
             }
            },
            "type": "barpolar"
           }
          ],
          "carpet": [
           {
            "aaxis": {
             "endlinecolor": "#2a3f5f",
             "gridcolor": "white",
             "linecolor": "white",
             "minorgridcolor": "white",
             "startlinecolor": "#2a3f5f"
            },
            "baxis": {
             "endlinecolor": "#2a3f5f",
             "gridcolor": "white",
             "linecolor": "white",
             "minorgridcolor": "white",
             "startlinecolor": "#2a3f5f"
            },
            "type": "carpet"
           }
          ],
          "choropleth": [
           {
            "colorbar": {
             "outlinewidth": 0,
             "ticks": ""
            },
            "type": "choropleth"
           }
          ],
          "contour": [
           {
            "colorbar": {
             "outlinewidth": 0,
             "ticks": ""
            },
            "colorscale": [
             [
              0,
              "#0d0887"
             ],
             [
              0.1111111111111111,
              "#46039f"
             ],
             [
              0.2222222222222222,
              "#7201a8"
             ],
             [
              0.3333333333333333,
              "#9c179e"
             ],
             [
              0.4444444444444444,
              "#bd3786"
             ],
             [
              0.5555555555555556,
              "#d8576b"
             ],
             [
              0.6666666666666666,
              "#ed7953"
             ],
             [
              0.7777777777777778,
              "#fb9f3a"
             ],
             [
              0.8888888888888888,
              "#fdca26"
             ],
             [
              1,
              "#f0f921"
             ]
            ],
            "type": "contour"
           }
          ],
          "contourcarpet": [
           {
            "colorbar": {
             "outlinewidth": 0,
             "ticks": ""
            },
            "type": "contourcarpet"
           }
          ],
          "heatmap": [
           {
            "colorbar": {
             "outlinewidth": 0,
             "ticks": ""
            },
            "colorscale": [
             [
              0,
              "#0d0887"
             ],
             [
              0.1111111111111111,
              "#46039f"
             ],
             [
              0.2222222222222222,
              "#7201a8"
             ],
             [
              0.3333333333333333,
              "#9c179e"
             ],
             [
              0.4444444444444444,
              "#bd3786"
             ],
             [
              0.5555555555555556,
              "#d8576b"
             ],
             [
              0.6666666666666666,
              "#ed7953"
             ],
             [
              0.7777777777777778,
              "#fb9f3a"
             ],
             [
              0.8888888888888888,
              "#fdca26"
             ],
             [
              1,
              "#f0f921"
             ]
            ],
            "type": "heatmap"
           }
          ],
          "heatmapgl": [
           {
            "colorbar": {
             "outlinewidth": 0,
             "ticks": ""
            },
            "colorscale": [
             [
              0,
              "#0d0887"
             ],
             [
              0.1111111111111111,
              "#46039f"
             ],
             [
              0.2222222222222222,
              "#7201a8"
             ],
             [
              0.3333333333333333,
              "#9c179e"
             ],
             [
              0.4444444444444444,
              "#bd3786"
             ],
             [
              0.5555555555555556,
              "#d8576b"
             ],
             [
              0.6666666666666666,
              "#ed7953"
             ],
             [
              0.7777777777777778,
              "#fb9f3a"
             ],
             [
              0.8888888888888888,
              "#fdca26"
             ],
             [
              1,
              "#f0f921"
             ]
            ],
            "type": "heatmapgl"
           }
          ],
          "histogram": [
           {
            "marker": {
             "pattern": {
              "fillmode": "overlay",
              "size": 10,
              "solidity": 0.2
             }
            },
            "type": "histogram"
           }
          ],
          "histogram2d": [
           {
            "colorbar": {
             "outlinewidth": 0,
             "ticks": ""
            },
            "colorscale": [
             [
              0,
              "#0d0887"
             ],
             [
              0.1111111111111111,
              "#46039f"
             ],
             [
              0.2222222222222222,
              "#7201a8"
             ],
             [
              0.3333333333333333,
              "#9c179e"
             ],
             [
              0.4444444444444444,
              "#bd3786"
             ],
             [
              0.5555555555555556,
              "#d8576b"
             ],
             [
              0.6666666666666666,
              "#ed7953"
             ],
             [
              0.7777777777777778,
              "#fb9f3a"
             ],
             [
              0.8888888888888888,
              "#fdca26"
             ],
             [
              1,
              "#f0f921"
             ]
            ],
            "type": "histogram2d"
           }
          ],
          "histogram2dcontour": [
           {
            "colorbar": {
             "outlinewidth": 0,
             "ticks": ""
            },
            "colorscale": [
             [
              0,
              "#0d0887"
             ],
             [
              0.1111111111111111,
              "#46039f"
             ],
             [
              0.2222222222222222,
              "#7201a8"
             ],
             [
              0.3333333333333333,
              "#9c179e"
             ],
             [
              0.4444444444444444,
              "#bd3786"
             ],
             [
              0.5555555555555556,
              "#d8576b"
             ],
             [
              0.6666666666666666,
              "#ed7953"
             ],
             [
              0.7777777777777778,
              "#fb9f3a"
             ],
             [
              0.8888888888888888,
              "#fdca26"
             ],
             [
              1,
              "#f0f921"
             ]
            ],
            "type": "histogram2dcontour"
           }
          ],
          "mesh3d": [
           {
            "colorbar": {
             "outlinewidth": 0,
             "ticks": ""
            },
            "type": "mesh3d"
           }
          ],
          "parcoords": [
           {
            "line": {
             "colorbar": {
              "outlinewidth": 0,
              "ticks": ""
             }
            },
            "type": "parcoords"
           }
          ],
          "pie": [
           {
            "automargin": true,
            "type": "pie"
           }
          ],
          "scatter": [
           {
            "fillpattern": {
             "fillmode": "overlay",
             "size": 10,
             "solidity": 0.2
            },
            "type": "scatter"
           }
          ],
          "scatter3d": [
           {
            "line": {
             "colorbar": {
              "outlinewidth": 0,
              "ticks": ""
             }
            },
            "marker": {
             "colorbar": {
              "outlinewidth": 0,
              "ticks": ""
             }
            },
            "type": "scatter3d"
           }
          ],
          "scattercarpet": [
           {
            "marker": {
             "colorbar": {
              "outlinewidth": 0,
              "ticks": ""
             }
            },
            "type": "scattercarpet"
           }
          ],
          "scattergeo": [
           {
            "marker": {
             "colorbar": {
              "outlinewidth": 0,
              "ticks": ""
             }
            },
            "type": "scattergeo"
           }
          ],
          "scattergl": [
           {
            "marker": {
             "colorbar": {
              "outlinewidth": 0,
              "ticks": ""
             }
            },
            "type": "scattergl"
           }
          ],
          "scattermapbox": [
           {
            "marker": {
             "colorbar": {
              "outlinewidth": 0,
              "ticks": ""
             }
            },
            "type": "scattermapbox"
           }
          ],
          "scatterpolar": [
           {
            "marker": {
             "colorbar": {
              "outlinewidth": 0,
              "ticks": ""
             }
            },
            "type": "scatterpolar"
           }
          ],
          "scatterpolargl": [
           {
            "marker": {
             "colorbar": {
              "outlinewidth": 0,
              "ticks": ""
             }
            },
            "type": "scatterpolargl"
           }
          ],
          "scatterternary": [
           {
            "marker": {
             "colorbar": {
              "outlinewidth": 0,
              "ticks": ""
             }
            },
            "type": "scatterternary"
           }
          ],
          "surface": [
           {
            "colorbar": {
             "outlinewidth": 0,
             "ticks": ""
            },
            "colorscale": [
             [
              0,
              "#0d0887"
             ],
             [
              0.1111111111111111,
              "#46039f"
             ],
             [
              0.2222222222222222,
              "#7201a8"
             ],
             [
              0.3333333333333333,
              "#9c179e"
             ],
             [
              0.4444444444444444,
              "#bd3786"
             ],
             [
              0.5555555555555556,
              "#d8576b"
             ],
             [
              0.6666666666666666,
              "#ed7953"
             ],
             [
              0.7777777777777778,
              "#fb9f3a"
             ],
             [
              0.8888888888888888,
              "#fdca26"
             ],
             [
              1,
              "#f0f921"
             ]
            ],
            "type": "surface"
           }
          ],
          "table": [
           {
            "cells": {
             "fill": {
              "color": "#EBF0F8"
             },
             "line": {
              "color": "white"
             }
            },
            "header": {
             "fill": {
              "color": "#C8D4E3"
             },
             "line": {
              "color": "white"
             }
            },
            "type": "table"
           }
          ]
         },
         "layout": {
          "annotationdefaults": {
           "arrowcolor": "#2a3f5f",
           "arrowhead": 0,
           "arrowwidth": 1
          },
          "autotypenumbers": "strict",
          "coloraxis": {
           "colorbar": {
            "outlinewidth": 0,
            "ticks": ""
           }
          },
          "colorscale": {
           "diverging": [
            [
             0,
             "#8e0152"
            ],
            [
             0.1,
             "#c51b7d"
            ],
            [
             0.2,
             "#de77ae"
            ],
            [
             0.3,
             "#f1b6da"
            ],
            [
             0.4,
             "#fde0ef"
            ],
            [
             0.5,
             "#f7f7f7"
            ],
            [
             0.6,
             "#e6f5d0"
            ],
            [
             0.7,
             "#b8e186"
            ],
            [
             0.8,
             "#7fbc41"
            ],
            [
             0.9,
             "#4d9221"
            ],
            [
             1,
             "#276419"
            ]
           ],
           "sequential": [
            [
             0,
             "#0d0887"
            ],
            [
             0.1111111111111111,
             "#46039f"
            ],
            [
             0.2222222222222222,
             "#7201a8"
            ],
            [
             0.3333333333333333,
             "#9c179e"
            ],
            [
             0.4444444444444444,
             "#bd3786"
            ],
            [
             0.5555555555555556,
             "#d8576b"
            ],
            [
             0.6666666666666666,
             "#ed7953"
            ],
            [
             0.7777777777777778,
             "#fb9f3a"
            ],
            [
             0.8888888888888888,
             "#fdca26"
            ],
            [
             1,
             "#f0f921"
            ]
           ],
           "sequentialminus": [
            [
             0,
             "#0d0887"
            ],
            [
             0.1111111111111111,
             "#46039f"
            ],
            [
             0.2222222222222222,
             "#7201a8"
            ],
            [
             0.3333333333333333,
             "#9c179e"
            ],
            [
             0.4444444444444444,
             "#bd3786"
            ],
            [
             0.5555555555555556,
             "#d8576b"
            ],
            [
             0.6666666666666666,
             "#ed7953"
            ],
            [
             0.7777777777777778,
             "#fb9f3a"
            ],
            [
             0.8888888888888888,
             "#fdca26"
            ],
            [
             1,
             "#f0f921"
            ]
           ]
          },
          "colorway": [
           "#636efa",
           "#EF553B",
           "#00cc96",
           "#ab63fa",
           "#FFA15A",
           "#19d3f3",
           "#FF6692",
           "#B6E880",
           "#FF97FF",
           "#FECB52"
          ],
          "font": {
           "color": "#2a3f5f"
          },
          "geo": {
           "bgcolor": "white",
           "lakecolor": "white",
           "landcolor": "#E5ECF6",
           "showlakes": true,
           "showland": true,
           "subunitcolor": "white"
          },
          "hoverlabel": {
           "align": "left"
          },
          "hovermode": "closest",
          "mapbox": {
           "style": "light"
          },
          "paper_bgcolor": "white",
          "plot_bgcolor": "#E5ECF6",
          "polar": {
           "angularaxis": {
            "gridcolor": "white",
            "linecolor": "white",
            "ticks": ""
           },
           "bgcolor": "#E5ECF6",
           "radialaxis": {
            "gridcolor": "white",
            "linecolor": "white",
            "ticks": ""
           }
          },
          "scene": {
           "xaxis": {
            "backgroundcolor": "#E5ECF6",
            "gridcolor": "white",
            "gridwidth": 2,
            "linecolor": "white",
            "showbackground": true,
            "ticks": "",
            "zerolinecolor": "white"
           },
           "yaxis": {
            "backgroundcolor": "#E5ECF6",
            "gridcolor": "white",
            "gridwidth": 2,
            "linecolor": "white",
            "showbackground": true,
            "ticks": "",
            "zerolinecolor": "white"
           },
           "zaxis": {
            "backgroundcolor": "#E5ECF6",
            "gridcolor": "white",
            "gridwidth": 2,
            "linecolor": "white",
            "showbackground": true,
            "ticks": "",
            "zerolinecolor": "white"
           }
          },
          "shapedefaults": {
           "line": {
            "color": "#2a3f5f"
           }
          },
          "ternary": {
           "aaxis": {
            "gridcolor": "white",
            "linecolor": "white",
            "ticks": ""
           },
           "baxis": {
            "gridcolor": "white",
            "linecolor": "white",
            "ticks": ""
           },
           "bgcolor": "#E5ECF6",
           "caxis": {
            "gridcolor": "white",
            "linecolor": "white",
            "ticks": ""
           }
          },
          "title": {
           "x": 0.05
          },
          "xaxis": {
           "automargin": true,
           "gridcolor": "white",
           "linecolor": "white",
           "ticks": "",
           "title": {
            "standoff": 15
           },
           "zerolinecolor": "white",
           "zerolinewidth": 2
          },
          "yaxis": {
           "automargin": true,
           "gridcolor": "white",
           "linecolor": "white",
           "ticks": "",
           "title": {
            "standoff": 15
           },
           "zerolinecolor": "white",
           "zerolinewidth": 2
          }
         }
        },
        "title": {
         "text": "Biplot: Low in carbohydrates and sugar, high in other nutrients"
        },
        "width": 1200,
        "xaxis": {
         "anchor": "y",
         "domain": [
          0,
          1
         ],
         "title": {
          "text": "PC1"
         }
        },
        "yaxis": {
         "anchor": "x",
         "domain": [
          0,
          1
         ],
         "title": {
          "text": "PC2"
         }
        }
       }
      }
     },
     "metadata": {},
     "output_type": "display_data"
    }
   ],
   "source": [
    "type_data = pd.concat([food_df['Type'], scaled_data], axis = 1) # combine original data with standardized data\n",
    "\n",
    "def calc_line(protein, fat, carb, sugar, vitA, vitB6, vitB12, calcium): # calculate direction on biplot using nutrient values\n",
    "    variables = pd.DataFrame([[protein, fat, carb, sugar, vitA, vitB6, vitB12, calcium]], columns=cleaned_food.columns) \n",
    "    variables_scaled = scaler.transform(variables)[0] # standardize the values (using fit from original data) and make into 1d array\n",
    "    calc_pc1 = np.dot(np.array(pca2.components_)[0], variables_scaled)\n",
    "    calc_pc2 = np.dot(np.array(pca2.components_)[1], variables_scaled) \n",
    "\n",
    "    return calc_pc1, calc_pc2\n",
    "\n",
    "fig = px.scatter(pca2_results, x = 0, y = 1, color = type_data['Type']) # create 2D scoreplot for PC1 and PC2\n",
    "fig.update_layout(\n",
    "    title='Biplot: Low in carbohydrates and sugar, high in other nutrients',\n",
    "    xaxis_title = \"PC1\",\n",
    "    yaxis_title = \"PC2\",\n",
    "    legend_title = \"Type\",\n",
    "    width = 1200, \n",
    "    height = 900\n",
    ")\n",
    "\n",
    "loadings = pca2.components_.T * np.sqrt(pca2.explained_variance_) # calculate loadings for the PCA\n",
    "\n",
    "# add loadings to the plot\n",
    "features = list(scaled_data.columns) \n",
    "for i, feature in enumerate(features):\n",
    "    fig.add_shape(\n",
    "        type = 'line',\n",
    "        x0 = 0, y0 = 0,\n",
    "        x1 = loadings[i, 0],\n",
    "        y1 = loadings[i, 1]\n",
    "    )\n",
    "    fig.add_annotation(\n",
    "        x = loadings[i, 0],\n",
    "        y = loadings[i, 1],\n",
    "        ax = 0, ay = 0,\n",
    "        xanchor = \"center\",\n",
    "        yanchor = \"bottom\",\n",
    "        text = feature,\n",
    "    )\n",
    "\n",
    "fig.show()"
   ]
  },
  {
   "cell_type": "code",
   "execution_count": 129,
   "metadata": {},
   "outputs": [
    {
     "data": {
      "text/plain": [
       "array([[ 1.42497828, -1.05805442]])"
      ]
     },
     "execution_count": 129,
     "metadata": {},
     "output_type": "execute_result"
    }
   ],
   "source": [
    "values = np.array([[22.17, 22.35, 2.22, 1.01, 181, 0.034, 2.28, 505]]) # put values in numpy array\n",
    "scaled_values = scaler.transform(pd.DataFrame(values, columns = scaled_data.columns)) # standardize values\n",
    "pc_equations = np.array(pca2.components_).T # transpose linear equations for PC1 and PC2\n",
    "\n",
    "score = np.dot(scaled_values, pc_equations) # matrix multiplication to get vector from nutrient values given\n",
    "score"
   ]
  },
  {
   "cell_type": "code",
   "execution_count": 130,
   "metadata": {},
   "outputs": [
    {
     "data": {
      "application/vnd.plotly.v1+json": {
       "config": {
        "plotlyServerURL": "https://plot.ly"
       },
       "data": [
        {
         "hovertemplate": "color=Cheese<br>0=%{x}<br>1=%{y}<extra></extra>",
         "legendgroup": "Cheese",
         "marker": {
          "color": "#636efa",
          "symbol": "circle"
         },
         "mode": "markers",
         "name": "Cheese",
         "orientation": "v",
         "showlegend": true,
         "type": "scatter",
         "x": [
          0.7935996852825353,
          -1.259120851972635,
          -0.4922115019460618,
          1.1027444582416575,
          1.4342101256592485,
          2.271212882258486,
          0.6514503017485858,
          -0.6412914939490447,
          1.8025902322484235,
          1.4284721529965925,
          1.5407453685761088,
          2.6280372158712217,
          2.343367932148217,
          2.607519283757008,
          1.2825893269684463,
          2.7918392132924805,
          2.098546545916694,
          2.107433592489407,
          2.0755058467065655,
          2.1623958803031913,
          2.8092848466553404,
          3.2654720160755133,
          0.86211396390277,
          0.9624224907807177,
          1.5576830155640171,
          1.6861884912383331,
          1.4561674916727338,
          1.8833077920767574,
          1.5208535154465834,
          1.957463247493891,
          1.573723456305697,
          1.963585501015849,
          1.9813039798187524,
          1.292572586799034,
          1.3909483100802624,
          2.105157464487955,
          -0.20881557583772703,
          1.6956039040754198,
          1.6564878346384502,
          1.8598530778711166,
          1.4778489908772436,
          1.7490173279168628,
          1.9179475204737086,
          1.4322191687005579,
          1.7136153535690135,
          1.6368495017624078,
          0.9068984591685822,
          1.5293399894124327,
          1.6488002746161545,
          -1.322761584548649,
          0.9838752418931136,
          1.7981792631594944,
          0.866377360001359,
          1.3645421285376114,
          -0.8530388210988251,
          1.3310693048955349,
          -1.3939646358197,
          1.395910944266113,
          1.6235838336139148,
          -0.07965965204528772,
          2.276015174976031,
          1.9334653038880822,
          -1.3105175486101834,
          -1.0317504263203725,
          -0.7904727819257205,
          0.9021730626613003,
          2.0932121970362143,
          -1.7255898760961426,
          0.6516451044629543,
          3.0279443250957745,
          0.938299228146145,
          0.5813374643608131,
          1.1740701075800013
         ],
         "xaxis": "x",
         "y": [
          -0.49896279264331095,
          -0.138737658695889,
          -1.0906403744821125,
          -1.0030559181168888,
          -1.5247706178473455,
          -1.5083201464664877,
          -0.6941409118904169,
          0.11733211058155324,
          -0.8210378058459384,
          -0.6492102176550103,
          -0.7038479704568225,
          1.19014424484869,
          -1.0710556517644114,
          -2.3155898228535334,
          -0.3947268201442372,
          -1.8162279386634022,
          -1.4914889172090293,
          -1.3898326753364763,
          -1.1649508707642773,
          -1.1148642034468865,
          -1.5820137171961148,
          -1.605568689956503,
          -0.9673593729635016,
          -1.9899906170110473,
          -0.7290796122330211,
          -0.8734085767730833,
          -1.5882108768402219,
          -1.6655889336569523,
          -1.6548739608586387,
          -1.6523250133217844,
          -1.8733521547743104,
          -1.4377362263245788,
          -1.446551071677045,
          -1.6724705822315882,
          -1.4230912006658991,
          -1.3484136543605096,
          -0.8490111931306883,
          -1.7503542229530975,
          -1.610884903075629,
          -1.234190852739879,
          -1.4683321128102311,
          -1.7760123294042378,
          -1.447365599862465,
          -1.0468815830021305,
          -1.2233973835048135,
          -1.103428371329774,
          -1.3800675182840412,
          -1.015879014451367,
          -1.6843163974189594,
          -0.12389720145275582,
          -1.0817846599390075,
          -1.5918719340046819,
          -1.178286690055065,
          -1.0267353619657087,
          -0.8651024348329743,
          -1.7631865062076328,
          -0.3168967367101383,
          -1.000811646242402,
          -1.084514970153645,
          -1.5326786899969835,
          0.40101886418464056,
          -1.187317206330758,
          -0.16702927817583865,
          -0.713337371992921,
          -0.770645357914574,
          -0.9379986089114501,
          -0.8084026682186094,
          -0.12669509202551926,
          -0.5045555400618074,
          1.6875109093919218,
          -0.2709284945116969,
          0.030312395331242886,
          0.7755413536311165
         ],
         "yaxis": "y"
        },
        {
         "hovertemplate": "color=Cream<br>0=%{x}<br>1=%{y}<extra></extra>",
         "legendgroup": "Cream",
         "marker": {
          "color": "#EF553B",
          "symbol": "circle"
         },
         "mode": "markers",
         "name": "Cream",
         "orientation": "v",
         "showlegend": true,
         "type": "scatter",
         "x": [
          -0.8703456294148375,
          -1.029895394636484,
          -1.6693740934447407,
          -1.2118885901622543,
          -1.4749601915482584,
          -1.8589599558775989,
          -0.19051233298899087,
          -0.6838680843526629,
          -1.1455231108859998,
          -1.578102657143096,
          -1.453729136182698,
          -2.016642883370681,
          -1.739464369386665,
          -2.3167597177500916,
          -2.234916351391796,
          -1.834573530706955,
          -0.8608989018723135,
          -1.2621371365834526
         ],
         "xaxis": "x",
         "y": [
          -0.2913619062116318,
          -0.8303851274991205,
          -0.45651228183271,
          -0.7178813095382158,
          -0.5138865595933203,
          2.3336341863041534,
          -1.7290609207208425,
          -1.3573850528877554,
          -0.8418726144441171,
          -0.7156519726430448,
          -0.41754396750271694,
          -0.42263473334628626,
          0.32922060915818513,
          -0.27032477561902857,
          0.293079788170474,
          0.16624701073228237,
          3.6259330097267504,
          5.140794338794006
         ],
         "yaxis": "y"
        },
        {
         "hovertemplate": "color=Ice cream<br>0=%{x}<br>1=%{y}<extra></extra>",
         "legendgroup": "Ice cream",
         "marker": {
          "color": "#00cc96",
          "symbol": "circle"
         },
         "mode": "markers",
         "name": "Ice cream",
         "orientation": "v",
         "showlegend": true,
         "type": "scatter",
         "x": [
          -1.287280628755045,
          -0.9890119335346801,
          -0.9811683065288719,
          -0.9307314986891811,
          -1.43125331757639,
          -1.631193316845629,
          -1.6973595917725315,
          -1.538942737100964,
          -0.788691656723322,
          -1.4226085573945202
         ],
         "xaxis": "x",
         "y": [
          1.0931227189707,
          0.9649685355899638,
          1.7595722255932689,
          1.7506817446671565,
          1.737368959692803,
          2.084102268733898,
          1.9063317483308126,
          1.4192490818413317,
          1.1141888712437071,
          1.3528150097900236
         ],
         "yaxis": "y"
        },
        {
         "hovertemplate": "color=Milk<br>0=%{x}<br>1=%{y}<extra></extra>",
         "legendgroup": "Milk",
         "marker": {
          "color": "#ab63fa",
          "symbol": "circle"
         },
         "mode": "markers",
         "name": "Milk",
         "orientation": "v",
         "showlegend": true,
         "type": "scatter",
         "x": [
          -1.7199270012079846,
          -1.7195526810149657,
          -1.7540178524439534,
          -1.7527305888745635,
          -1.6034032958809898,
          -1.6979901651576823,
          -1.7955138127918997,
          -1.8936652250220258,
          -1.8574131337225002,
          -1.6574379261471401,
          -1.735165536932959,
          -1.6986554045019222,
          -1.868504628070934,
          4.647707900941798,
          4.647707900941798,
          2.9599232286525297,
          6.922762777975093,
          5.060178919514911,
          6.911828443338665,
          4.882274161708947,
          -1.7818924070505484,
          -1.8446859082812732,
          -1.7385270937851758,
          -1.724449619370335,
          -1.823257881148288,
          -1.6965906635713979,
          -1.6861696549185599,
          -1.6508022625276717,
          -1.195966254391721,
          -1.7812788229641678,
          -1.745807383089827,
          -1.637833593799447,
          -1.6568999102037076,
          -2.1483304610688028,
          -1.48575162698807,
          -1.2188038658491454,
          -1.2188038658491454,
          -1.0883965409698508,
          -1.63813876542531,
          -0.3505202166102437,
          4.490077071791728
         ],
         "xaxis": "x",
         "y": [
          -0.05428939674026223,
          -0.05571594540915131,
          0.4475459565927532,
          0.42262619655478484,
          0.4686042110431013,
          0.5623358889115395,
          -0.30630162789427684,
          -0.2667016406883302,
          -0.0321706888024003,
          -0.014075838566798976,
          0.023750297988301666,
          0.02663579847358158,
          0.10929291168657931,
          2.9690562924273083,
          2.9690562924273083,
          2.955832578090479,
          4.486229371483281,
          5.392655680785138,
          4.395186430350407,
          5.382868884844702,
          -0.19872144401371233,
          -0.10025846584990455,
          -0.24860552741599196,
          -0.2699284685277096,
          0.06828112864931607,
          0.006638535744707602,
          0.016154348424424536,
          -0.47354655200982043,
          -0.31204454802134307,
          -0.19922127079383622,
          0.10578460457307214,
          -0.21740561852190643,
          -0.1915832911596389,
          -0.026017993910768894,
          -0.2296082058376665,
          0.17268429142592367,
          0.17268429142592367,
          0.43175052717761636,
          0.42235531496063783,
          4.320865217876209,
          3.108903183410969
         ],
         "yaxis": "y"
        },
        {
         "hovertemplate": "color=Yogurt<br>0=%{x}<br>1=%{y}<extra></extra>",
         "legendgroup": "Yogurt",
         "marker": {
          "color": "#FFA15A",
          "symbol": "circle"
         },
         "mode": "markers",
         "name": "Yogurt",
         "orientation": "v",
         "showlegend": true,
         "type": "scatter",
         "x": [
          -1.6969658374172933,
          -1.4242123978558705,
          -1.349651437782303,
          -1.812236459617048,
          -1.520787538771716,
          -1.8195606552179078,
          -1.8195606552179078,
          -1.4926249472179445,
          -1.5829102716950696,
          -1.46190646942093,
          -1.498896734835228,
          -1.4850874652251993,
          -1.575295383457654,
          -1.508747434911982,
          -1.508747434911982,
          -1.2583868900167088,
          -1.2583868900167088,
          -1.6353911592073118,
          -1.6254134437499586,
          -1.6254134437499586,
          -1.5972625265915346,
          -1.5538939588240521,
          -1.5538939588240521,
          -1.6100784220240754,
          -1.6969658374172933
         ],
         "xaxis": "x",
         "y": [
          1.4624505775069199,
          0.39139869205979505,
          -0.004973940293802354,
          -0.08747016628138579,
          0.24658375131197627,
          0.3112157451277156,
          0.3112157451277156,
          0.37115279941035895,
          0.6660928667601265,
          0.6221308380025063,
          0.774725615664684,
          0.7770530134616707,
          0.468707326095571,
          0.8800006382152452,
          0.8800006382152452,
          0.39124104248536834,
          0.39124104248536834,
          0.4272266656948572,
          1.315179782748777,
          1.315179782748777,
          1.394452386649419,
          1.3646589074032631,
          1.3646589074032631,
          1.0974697966539693,
          1.4624505775069199
         ],
         "yaxis": "y"
        },
        {
         "marker": {
          "color": "darkslateblue",
          "size": 14
         },
         "mode": "markers",
         "name": "Point Calculated",
         "showlegend": true,
         "type": "scatter",
         "x": [
          1.424978283811382
         ],
         "y": [
          -1.058054422199467
         ]
        }
       ],
       "layout": {
        "legend": {
         "title": {
          "text": "Type"
         },
         "tracegroupgap": 0
        },
        "margin": {
         "t": 60
        },
        "template": {
         "data": {
          "bar": [
           {
            "error_x": {
             "color": "#2a3f5f"
            },
            "error_y": {
             "color": "#2a3f5f"
            },
            "marker": {
             "line": {
              "color": "#E5ECF6",
              "width": 0.5
             },
             "pattern": {
              "fillmode": "overlay",
              "size": 10,
              "solidity": 0.2
             }
            },
            "type": "bar"
           }
          ],
          "barpolar": [
           {
            "marker": {
             "line": {
              "color": "#E5ECF6",
              "width": 0.5
             },
             "pattern": {
              "fillmode": "overlay",
              "size": 10,
              "solidity": 0.2
             }
            },
            "type": "barpolar"
           }
          ],
          "carpet": [
           {
            "aaxis": {
             "endlinecolor": "#2a3f5f",
             "gridcolor": "white",
             "linecolor": "white",
             "minorgridcolor": "white",
             "startlinecolor": "#2a3f5f"
            },
            "baxis": {
             "endlinecolor": "#2a3f5f",
             "gridcolor": "white",
             "linecolor": "white",
             "minorgridcolor": "white",
             "startlinecolor": "#2a3f5f"
            },
            "type": "carpet"
           }
          ],
          "choropleth": [
           {
            "colorbar": {
             "outlinewidth": 0,
             "ticks": ""
            },
            "type": "choropleth"
           }
          ],
          "contour": [
           {
            "colorbar": {
             "outlinewidth": 0,
             "ticks": ""
            },
            "colorscale": [
             [
              0,
              "#0d0887"
             ],
             [
              0.1111111111111111,
              "#46039f"
             ],
             [
              0.2222222222222222,
              "#7201a8"
             ],
             [
              0.3333333333333333,
              "#9c179e"
             ],
             [
              0.4444444444444444,
              "#bd3786"
             ],
             [
              0.5555555555555556,
              "#d8576b"
             ],
             [
              0.6666666666666666,
              "#ed7953"
             ],
             [
              0.7777777777777778,
              "#fb9f3a"
             ],
             [
              0.8888888888888888,
              "#fdca26"
             ],
             [
              1,
              "#f0f921"
             ]
            ],
            "type": "contour"
           }
          ],
          "contourcarpet": [
           {
            "colorbar": {
             "outlinewidth": 0,
             "ticks": ""
            },
            "type": "contourcarpet"
           }
          ],
          "heatmap": [
           {
            "colorbar": {
             "outlinewidth": 0,
             "ticks": ""
            },
            "colorscale": [
             [
              0,
              "#0d0887"
             ],
             [
              0.1111111111111111,
              "#46039f"
             ],
             [
              0.2222222222222222,
              "#7201a8"
             ],
             [
              0.3333333333333333,
              "#9c179e"
             ],
             [
              0.4444444444444444,
              "#bd3786"
             ],
             [
              0.5555555555555556,
              "#d8576b"
             ],
             [
              0.6666666666666666,
              "#ed7953"
             ],
             [
              0.7777777777777778,
              "#fb9f3a"
             ],
             [
              0.8888888888888888,
              "#fdca26"
             ],
             [
              1,
              "#f0f921"
             ]
            ],
            "type": "heatmap"
           }
          ],
          "heatmapgl": [
           {
            "colorbar": {
             "outlinewidth": 0,
             "ticks": ""
            },
            "colorscale": [
             [
              0,
              "#0d0887"
             ],
             [
              0.1111111111111111,
              "#46039f"
             ],
             [
              0.2222222222222222,
              "#7201a8"
             ],
             [
              0.3333333333333333,
              "#9c179e"
             ],
             [
              0.4444444444444444,
              "#bd3786"
             ],
             [
              0.5555555555555556,
              "#d8576b"
             ],
             [
              0.6666666666666666,
              "#ed7953"
             ],
             [
              0.7777777777777778,
              "#fb9f3a"
             ],
             [
              0.8888888888888888,
              "#fdca26"
             ],
             [
              1,
              "#f0f921"
             ]
            ],
            "type": "heatmapgl"
           }
          ],
          "histogram": [
           {
            "marker": {
             "pattern": {
              "fillmode": "overlay",
              "size": 10,
              "solidity": 0.2
             }
            },
            "type": "histogram"
           }
          ],
          "histogram2d": [
           {
            "colorbar": {
             "outlinewidth": 0,
             "ticks": ""
            },
            "colorscale": [
             [
              0,
              "#0d0887"
             ],
             [
              0.1111111111111111,
              "#46039f"
             ],
             [
              0.2222222222222222,
              "#7201a8"
             ],
             [
              0.3333333333333333,
              "#9c179e"
             ],
             [
              0.4444444444444444,
              "#bd3786"
             ],
             [
              0.5555555555555556,
              "#d8576b"
             ],
             [
              0.6666666666666666,
              "#ed7953"
             ],
             [
              0.7777777777777778,
              "#fb9f3a"
             ],
             [
              0.8888888888888888,
              "#fdca26"
             ],
             [
              1,
              "#f0f921"
             ]
            ],
            "type": "histogram2d"
           }
          ],
          "histogram2dcontour": [
           {
            "colorbar": {
             "outlinewidth": 0,
             "ticks": ""
            },
            "colorscale": [
             [
              0,
              "#0d0887"
             ],
             [
              0.1111111111111111,
              "#46039f"
             ],
             [
              0.2222222222222222,
              "#7201a8"
             ],
             [
              0.3333333333333333,
              "#9c179e"
             ],
             [
              0.4444444444444444,
              "#bd3786"
             ],
             [
              0.5555555555555556,
              "#d8576b"
             ],
             [
              0.6666666666666666,
              "#ed7953"
             ],
             [
              0.7777777777777778,
              "#fb9f3a"
             ],
             [
              0.8888888888888888,
              "#fdca26"
             ],
             [
              1,
              "#f0f921"
             ]
            ],
            "type": "histogram2dcontour"
           }
          ],
          "mesh3d": [
           {
            "colorbar": {
             "outlinewidth": 0,
             "ticks": ""
            },
            "type": "mesh3d"
           }
          ],
          "parcoords": [
           {
            "line": {
             "colorbar": {
              "outlinewidth": 0,
              "ticks": ""
             }
            },
            "type": "parcoords"
           }
          ],
          "pie": [
           {
            "automargin": true,
            "type": "pie"
           }
          ],
          "scatter": [
           {
            "fillpattern": {
             "fillmode": "overlay",
             "size": 10,
             "solidity": 0.2
            },
            "type": "scatter"
           }
          ],
          "scatter3d": [
           {
            "line": {
             "colorbar": {
              "outlinewidth": 0,
              "ticks": ""
             }
            },
            "marker": {
             "colorbar": {
              "outlinewidth": 0,
              "ticks": ""
             }
            },
            "type": "scatter3d"
           }
          ],
          "scattercarpet": [
           {
            "marker": {
             "colorbar": {
              "outlinewidth": 0,
              "ticks": ""
             }
            },
            "type": "scattercarpet"
           }
          ],
          "scattergeo": [
           {
            "marker": {
             "colorbar": {
              "outlinewidth": 0,
              "ticks": ""
             }
            },
            "type": "scattergeo"
           }
          ],
          "scattergl": [
           {
            "marker": {
             "colorbar": {
              "outlinewidth": 0,
              "ticks": ""
             }
            },
            "type": "scattergl"
           }
          ],
          "scattermapbox": [
           {
            "marker": {
             "colorbar": {
              "outlinewidth": 0,
              "ticks": ""
             }
            },
            "type": "scattermapbox"
           }
          ],
          "scatterpolar": [
           {
            "marker": {
             "colorbar": {
              "outlinewidth": 0,
              "ticks": ""
             }
            },
            "type": "scatterpolar"
           }
          ],
          "scatterpolargl": [
           {
            "marker": {
             "colorbar": {
              "outlinewidth": 0,
              "ticks": ""
             }
            },
            "type": "scatterpolargl"
           }
          ],
          "scatterternary": [
           {
            "marker": {
             "colorbar": {
              "outlinewidth": 0,
              "ticks": ""
             }
            },
            "type": "scatterternary"
           }
          ],
          "surface": [
           {
            "colorbar": {
             "outlinewidth": 0,
             "ticks": ""
            },
            "colorscale": [
             [
              0,
              "#0d0887"
             ],
             [
              0.1111111111111111,
              "#46039f"
             ],
             [
              0.2222222222222222,
              "#7201a8"
             ],
             [
              0.3333333333333333,
              "#9c179e"
             ],
             [
              0.4444444444444444,
              "#bd3786"
             ],
             [
              0.5555555555555556,
              "#d8576b"
             ],
             [
              0.6666666666666666,
              "#ed7953"
             ],
             [
              0.7777777777777778,
              "#fb9f3a"
             ],
             [
              0.8888888888888888,
              "#fdca26"
             ],
             [
              1,
              "#f0f921"
             ]
            ],
            "type": "surface"
           }
          ],
          "table": [
           {
            "cells": {
             "fill": {
              "color": "#EBF0F8"
             },
             "line": {
              "color": "white"
             }
            },
            "header": {
             "fill": {
              "color": "#C8D4E3"
             },
             "line": {
              "color": "white"
             }
            },
            "type": "table"
           }
          ]
         },
         "layout": {
          "annotationdefaults": {
           "arrowcolor": "#2a3f5f",
           "arrowhead": 0,
           "arrowwidth": 1
          },
          "autotypenumbers": "strict",
          "coloraxis": {
           "colorbar": {
            "outlinewidth": 0,
            "ticks": ""
           }
          },
          "colorscale": {
           "diverging": [
            [
             0,
             "#8e0152"
            ],
            [
             0.1,
             "#c51b7d"
            ],
            [
             0.2,
             "#de77ae"
            ],
            [
             0.3,
             "#f1b6da"
            ],
            [
             0.4,
             "#fde0ef"
            ],
            [
             0.5,
             "#f7f7f7"
            ],
            [
             0.6,
             "#e6f5d0"
            ],
            [
             0.7,
             "#b8e186"
            ],
            [
             0.8,
             "#7fbc41"
            ],
            [
             0.9,
             "#4d9221"
            ],
            [
             1,
             "#276419"
            ]
           ],
           "sequential": [
            [
             0,
             "#0d0887"
            ],
            [
             0.1111111111111111,
             "#46039f"
            ],
            [
             0.2222222222222222,
             "#7201a8"
            ],
            [
             0.3333333333333333,
             "#9c179e"
            ],
            [
             0.4444444444444444,
             "#bd3786"
            ],
            [
             0.5555555555555556,
             "#d8576b"
            ],
            [
             0.6666666666666666,
             "#ed7953"
            ],
            [
             0.7777777777777778,
             "#fb9f3a"
            ],
            [
             0.8888888888888888,
             "#fdca26"
            ],
            [
             1,
             "#f0f921"
            ]
           ],
           "sequentialminus": [
            [
             0,
             "#0d0887"
            ],
            [
             0.1111111111111111,
             "#46039f"
            ],
            [
             0.2222222222222222,
             "#7201a8"
            ],
            [
             0.3333333333333333,
             "#9c179e"
            ],
            [
             0.4444444444444444,
             "#bd3786"
            ],
            [
             0.5555555555555556,
             "#d8576b"
            ],
            [
             0.6666666666666666,
             "#ed7953"
            ],
            [
             0.7777777777777778,
             "#fb9f3a"
            ],
            [
             0.8888888888888888,
             "#fdca26"
            ],
            [
             1,
             "#f0f921"
            ]
           ]
          },
          "colorway": [
           "#636efa",
           "#EF553B",
           "#00cc96",
           "#ab63fa",
           "#FFA15A",
           "#19d3f3",
           "#FF6692",
           "#B6E880",
           "#FF97FF",
           "#FECB52"
          ],
          "font": {
           "color": "#2a3f5f"
          },
          "geo": {
           "bgcolor": "white",
           "lakecolor": "white",
           "landcolor": "#E5ECF6",
           "showlakes": true,
           "showland": true,
           "subunitcolor": "white"
          },
          "hoverlabel": {
           "align": "left"
          },
          "hovermode": "closest",
          "mapbox": {
           "style": "light"
          },
          "paper_bgcolor": "white",
          "plot_bgcolor": "#E5ECF6",
          "polar": {
           "angularaxis": {
            "gridcolor": "white",
            "linecolor": "white",
            "ticks": ""
           },
           "bgcolor": "#E5ECF6",
           "radialaxis": {
            "gridcolor": "white",
            "linecolor": "white",
            "ticks": ""
           }
          },
          "scene": {
           "xaxis": {
            "backgroundcolor": "#E5ECF6",
            "gridcolor": "white",
            "gridwidth": 2,
            "linecolor": "white",
            "showbackground": true,
            "ticks": "",
            "zerolinecolor": "white"
           },
           "yaxis": {
            "backgroundcolor": "#E5ECF6",
            "gridcolor": "white",
            "gridwidth": 2,
            "linecolor": "white",
            "showbackground": true,
            "ticks": "",
            "zerolinecolor": "white"
           },
           "zaxis": {
            "backgroundcolor": "#E5ECF6",
            "gridcolor": "white",
            "gridwidth": 2,
            "linecolor": "white",
            "showbackground": true,
            "ticks": "",
            "zerolinecolor": "white"
           }
          },
          "shapedefaults": {
           "line": {
            "color": "#2a3f5f"
           }
          },
          "ternary": {
           "aaxis": {
            "gridcolor": "white",
            "linecolor": "white",
            "ticks": ""
           },
           "baxis": {
            "gridcolor": "white",
            "linecolor": "white",
            "ticks": ""
           },
           "bgcolor": "#E5ECF6",
           "caxis": {
            "gridcolor": "white",
            "linecolor": "white",
            "ticks": ""
           }
          },
          "title": {
           "x": 0.05
          },
          "xaxis": {
           "automargin": true,
           "gridcolor": "white",
           "linecolor": "white",
           "ticks": "",
           "title": {
            "standoff": 15
           },
           "zerolinecolor": "white",
           "zerolinewidth": 2
          },
          "yaxis": {
           "automargin": true,
           "gridcolor": "white",
           "linecolor": "white",
           "ticks": "",
           "title": {
            "standoff": 15
           },
           "zerolinecolor": "white",
           "zerolinewidth": 2
          }
         }
        },
        "title": {
         "text": "Score Plot with Point Calculated"
        },
        "xaxis": {
         "anchor": "y",
         "domain": [
          0,
          1
         ],
         "title": {
          "text": "PC1"
         }
        },
        "yaxis": {
         "anchor": "x",
         "domain": [
          0,
          1
         ],
         "title": {
          "text": "PC2"
         }
        }
       }
      }
     },
     "metadata": {},
     "output_type": "display_data"
    }
   ],
   "source": [
    "fig = px.scatter(pca2_results, x = 0, y = 1, color = type_data['Type']) # create 2D scoreplot for PC1 and PC2\n",
    "fig.update_layout(\n",
    "    title = 'Score Plot with Point Calculated',\n",
    "    xaxis_title = \"PC1\",\n",
    "    yaxis_title = \"PC2\",\n",
    "    legend_title = \"Type\"\n",
    ")\n",
    "\n",
    "fig.add_trace( # plot the calculated score on the score plot\n",
    "    go.Scatter(\n",
    "        mode = 'markers',\n",
    "        x = [score[0, 0]],\n",
    "        y = [score[0, 1]],\n",
    "        marker = dict(\n",
    "            color = 'darkslateblue',\n",
    "            size = 14,\n",
    "        ),\n",
    "        showlegend = True,\n",
    "        name = 'Point Calculated'\n",
    "    )\n",
    ")\n",
    "\n",
    "fig.show()"
   ]
  },
  {
   "cell_type": "code",
   "execution_count": 131,
   "metadata": {},
   "outputs": [
    {
     "data": {
      "text/plain": [
       "array([[-1.54450575,  1.35179668]])"
      ]
     },
     "execution_count": 131,
     "metadata": {},
     "output_type": "execute_result"
    }
   ],
   "source": [
    "values = np.array([[4.32, 1.42, 23.0, 14.58, 13, 0.047, 0.53, 114]]) # put values in numpy array\n",
    "scaled_values = scaler.transform(pd.DataFrame(values, columns = scaled_data.columns)) # standardize values\n",
    "pc_equations = np.array(pca2.components_).T # transpose linear equations for PC1 and PC2\n",
    "\n",
    "score = np.dot(scaled_values, pc_equations) # matrix multiplication to get vector from nutrient values given\n",
    "score"
   ]
  },
  {
   "cell_type": "code",
   "execution_count": 127,
   "metadata": {},
   "outputs": [
    {
     "data": {
      "application/vnd.plotly.v1+json": {
       "config": {
        "plotlyServerURL": "https://plot.ly"
       },
       "data": [
        {
         "hovertemplate": "color=Cheese<br>0=%{x}<br>1=%{y}<extra></extra>",
         "legendgroup": "Cheese",
         "marker": {
          "color": "#636efa",
          "symbol": "circle"
         },
         "mode": "markers",
         "name": "Cheese",
         "orientation": "v",
         "showlegend": true,
         "type": "scatter",
         "x": [
          0.7935996852825353,
          -1.259120851972635,
          -0.4922115019460618,
          1.1027444582416575,
          1.4342101256592485,
          2.271212882258486,
          0.6514503017485858,
          -0.6412914939490447,
          1.8025902322484235,
          1.4284721529965925,
          1.5407453685761088,
          2.6280372158712217,
          2.343367932148217,
          2.607519283757008,
          1.2825893269684463,
          2.7918392132924805,
          2.098546545916694,
          2.107433592489407,
          2.0755058467065655,
          2.1623958803031913,
          2.8092848466553404,
          3.2654720160755133,
          0.86211396390277,
          0.9624224907807177,
          1.5576830155640171,
          1.6861884912383331,
          1.4561674916727338,
          1.8833077920767574,
          1.5208535154465834,
          1.957463247493891,
          1.573723456305697,
          1.963585501015849,
          1.9813039798187524,
          1.292572586799034,
          1.3909483100802624,
          2.105157464487955,
          -0.20881557583772703,
          1.6956039040754198,
          1.6564878346384502,
          1.8598530778711166,
          1.4778489908772436,
          1.7490173279168628,
          1.9179475204737086,
          1.4322191687005579,
          1.7136153535690135,
          1.6368495017624078,
          0.9068984591685822,
          1.5293399894124327,
          1.6488002746161545,
          -1.322761584548649,
          0.9838752418931136,
          1.7981792631594944,
          0.866377360001359,
          1.3645421285376114,
          -0.8530388210988251,
          1.3310693048955349,
          -1.3939646358197,
          1.395910944266113,
          1.6235838336139148,
          -0.07965965204528772,
          2.276015174976031,
          1.9334653038880822,
          -1.3105175486101834,
          -1.0317504263203725,
          -0.7904727819257205,
          0.9021730626613003,
          2.0932121970362143,
          -1.7255898760961426,
          0.6516451044629543,
          3.0279443250957745,
          0.938299228146145,
          0.5813374643608131,
          1.1740701075800013
         ],
         "xaxis": "x",
         "y": [
          -0.49896279264331095,
          -0.138737658695889,
          -1.0906403744821125,
          -1.0030559181168888,
          -1.5247706178473455,
          -1.5083201464664877,
          -0.6941409118904169,
          0.11733211058155324,
          -0.8210378058459384,
          -0.6492102176550103,
          -0.7038479704568225,
          1.19014424484869,
          -1.0710556517644114,
          -2.3155898228535334,
          -0.3947268201442372,
          -1.8162279386634022,
          -1.4914889172090293,
          -1.3898326753364763,
          -1.1649508707642773,
          -1.1148642034468865,
          -1.5820137171961148,
          -1.605568689956503,
          -0.9673593729635016,
          -1.9899906170110473,
          -0.7290796122330211,
          -0.8734085767730833,
          -1.5882108768402219,
          -1.6655889336569523,
          -1.6548739608586387,
          -1.6523250133217844,
          -1.8733521547743104,
          -1.4377362263245788,
          -1.446551071677045,
          -1.6724705822315882,
          -1.4230912006658991,
          -1.3484136543605096,
          -0.8490111931306883,
          -1.7503542229530975,
          -1.610884903075629,
          -1.234190852739879,
          -1.4683321128102311,
          -1.7760123294042378,
          -1.447365599862465,
          -1.0468815830021305,
          -1.2233973835048135,
          -1.103428371329774,
          -1.3800675182840412,
          -1.015879014451367,
          -1.6843163974189594,
          -0.12389720145275582,
          -1.0817846599390075,
          -1.5918719340046819,
          -1.178286690055065,
          -1.0267353619657087,
          -0.8651024348329743,
          -1.7631865062076328,
          -0.3168967367101383,
          -1.000811646242402,
          -1.084514970153645,
          -1.5326786899969835,
          0.40101886418464056,
          -1.187317206330758,
          -0.16702927817583865,
          -0.713337371992921,
          -0.770645357914574,
          -0.9379986089114501,
          -0.8084026682186094,
          -0.12669509202551926,
          -0.5045555400618074,
          1.6875109093919218,
          -0.2709284945116969,
          0.030312395331242886,
          0.7755413536311165
         ],
         "yaxis": "y"
        },
        {
         "hovertemplate": "color=Cream<br>0=%{x}<br>1=%{y}<extra></extra>",
         "legendgroup": "Cream",
         "marker": {
          "color": "#EF553B",
          "symbol": "circle"
         },
         "mode": "markers",
         "name": "Cream",
         "orientation": "v",
         "showlegend": true,
         "type": "scatter",
         "x": [
          -0.8703456294148375,
          -1.029895394636484,
          -1.6693740934447407,
          -1.2118885901622543,
          -1.4749601915482584,
          -1.8589599558775989,
          -0.19051233298899087,
          -0.6838680843526629,
          -1.1455231108859998,
          -1.578102657143096,
          -1.453729136182698,
          -2.016642883370681,
          -1.739464369386665,
          -2.3167597177500916,
          -2.234916351391796,
          -1.834573530706955,
          -0.8608989018723135,
          -1.2621371365834526
         ],
         "xaxis": "x",
         "y": [
          -0.2913619062116318,
          -0.8303851274991205,
          -0.45651228183271,
          -0.7178813095382158,
          -0.5138865595933203,
          2.3336341863041534,
          -1.7290609207208425,
          -1.3573850528877554,
          -0.8418726144441171,
          -0.7156519726430448,
          -0.41754396750271694,
          -0.42263473334628626,
          0.32922060915818513,
          -0.27032477561902857,
          0.293079788170474,
          0.16624701073228237,
          3.6259330097267504,
          5.140794338794006
         ],
         "yaxis": "y"
        },
        {
         "hovertemplate": "color=Ice cream<br>0=%{x}<br>1=%{y}<extra></extra>",
         "legendgroup": "Ice cream",
         "marker": {
          "color": "#00cc96",
          "symbol": "circle"
         },
         "mode": "markers",
         "name": "Ice cream",
         "orientation": "v",
         "showlegend": true,
         "type": "scatter",
         "x": [
          -1.287280628755045,
          -0.9890119335346801,
          -0.9811683065288719,
          -0.9307314986891811,
          -1.43125331757639,
          -1.631193316845629,
          -1.6973595917725315,
          -1.538942737100964,
          -0.788691656723322,
          -1.4226085573945202
         ],
         "xaxis": "x",
         "y": [
          1.0931227189707,
          0.9649685355899638,
          1.7595722255932689,
          1.7506817446671565,
          1.737368959692803,
          2.084102268733898,
          1.9063317483308126,
          1.4192490818413317,
          1.1141888712437071,
          1.3528150097900236
         ],
         "yaxis": "y"
        },
        {
         "hovertemplate": "color=Milk<br>0=%{x}<br>1=%{y}<extra></extra>",
         "legendgroup": "Milk",
         "marker": {
          "color": "#ab63fa",
          "symbol": "circle"
         },
         "mode": "markers",
         "name": "Milk",
         "orientation": "v",
         "showlegend": true,
         "type": "scatter",
         "x": [
          -1.7199270012079846,
          -1.7195526810149657,
          -1.7540178524439534,
          -1.7527305888745635,
          -1.6034032958809898,
          -1.6979901651576823,
          -1.7955138127918997,
          -1.8936652250220258,
          -1.8574131337225002,
          -1.6574379261471401,
          -1.735165536932959,
          -1.6986554045019222,
          -1.868504628070934,
          4.647707900941798,
          4.647707900941798,
          2.9599232286525297,
          6.922762777975093,
          5.060178919514911,
          6.911828443338665,
          4.882274161708947,
          -1.7818924070505484,
          -1.8446859082812732,
          -1.7385270937851758,
          -1.724449619370335,
          -1.823257881148288,
          -1.6965906635713979,
          -1.6861696549185599,
          -1.6508022625276717,
          -1.195966254391721,
          -1.7812788229641678,
          -1.745807383089827,
          -1.637833593799447,
          -1.6568999102037076,
          -2.1483304610688028,
          -1.48575162698807,
          -1.2188038658491454,
          -1.2188038658491454,
          -1.0883965409698508,
          -1.63813876542531,
          -0.3505202166102437,
          4.490077071791728
         ],
         "xaxis": "x",
         "y": [
          -0.05428939674026223,
          -0.05571594540915131,
          0.4475459565927532,
          0.42262619655478484,
          0.4686042110431013,
          0.5623358889115395,
          -0.30630162789427684,
          -0.2667016406883302,
          -0.0321706888024003,
          -0.014075838566798976,
          0.023750297988301666,
          0.02663579847358158,
          0.10929291168657931,
          2.9690562924273083,
          2.9690562924273083,
          2.955832578090479,
          4.486229371483281,
          5.392655680785138,
          4.395186430350407,
          5.382868884844702,
          -0.19872144401371233,
          -0.10025846584990455,
          -0.24860552741599196,
          -0.2699284685277096,
          0.06828112864931607,
          0.006638535744707602,
          0.016154348424424536,
          -0.47354655200982043,
          -0.31204454802134307,
          -0.19922127079383622,
          0.10578460457307214,
          -0.21740561852190643,
          -0.1915832911596389,
          -0.026017993910768894,
          -0.2296082058376665,
          0.17268429142592367,
          0.17268429142592367,
          0.43175052717761636,
          0.42235531496063783,
          4.320865217876209,
          3.108903183410969
         ],
         "yaxis": "y"
        },
        {
         "hovertemplate": "color=Yogurt<br>0=%{x}<br>1=%{y}<extra></extra>",
         "legendgroup": "Yogurt",
         "marker": {
          "color": "#FFA15A",
          "symbol": "circle"
         },
         "mode": "markers",
         "name": "Yogurt",
         "orientation": "v",
         "showlegend": true,
         "type": "scatter",
         "x": [
          -1.6969658374172933,
          -1.4242123978558705,
          -1.349651437782303,
          -1.812236459617048,
          -1.520787538771716,
          -1.8195606552179078,
          -1.8195606552179078,
          -1.4926249472179445,
          -1.5829102716950696,
          -1.46190646942093,
          -1.498896734835228,
          -1.4850874652251993,
          -1.575295383457654,
          -1.508747434911982,
          -1.508747434911982,
          -1.2583868900167088,
          -1.2583868900167088,
          -1.6353911592073118,
          -1.6254134437499586,
          -1.6254134437499586,
          -1.5972625265915346,
          -1.5538939588240521,
          -1.5538939588240521,
          -1.6100784220240754,
          -1.6969658374172933
         ],
         "xaxis": "x",
         "y": [
          1.4624505775069199,
          0.39139869205979505,
          -0.004973940293802354,
          -0.08747016628138579,
          0.24658375131197627,
          0.3112157451277156,
          0.3112157451277156,
          0.37115279941035895,
          0.6660928667601265,
          0.6221308380025063,
          0.774725615664684,
          0.7770530134616707,
          0.468707326095571,
          0.8800006382152452,
          0.8800006382152452,
          0.39124104248536834,
          0.39124104248536834,
          0.4272266656948572,
          1.315179782748777,
          1.315179782748777,
          1.394452386649419,
          1.3646589074032631,
          1.3646589074032631,
          1.0974697966539693,
          1.4624505775069199
         ],
         "yaxis": "y"
        },
        {
         "marker": {
          "color": "darkslateblue",
          "size": 14
         },
         "mode": "markers",
         "name": "Point Calculated",
         "showlegend": true,
         "type": "scatter",
         "x": [
          -1.5445057516672949
         ],
         "y": [
          1.3517966773810608
         ]
        }
       ],
       "layout": {
        "legend": {
         "title": {
          "text": "Type"
         },
         "tracegroupgap": 0
        },
        "margin": {
         "t": 60
        },
        "template": {
         "data": {
          "bar": [
           {
            "error_x": {
             "color": "#2a3f5f"
            },
            "error_y": {
             "color": "#2a3f5f"
            },
            "marker": {
             "line": {
              "color": "#E5ECF6",
              "width": 0.5
             },
             "pattern": {
              "fillmode": "overlay",
              "size": 10,
              "solidity": 0.2
             }
            },
            "type": "bar"
           }
          ],
          "barpolar": [
           {
            "marker": {
             "line": {
              "color": "#E5ECF6",
              "width": 0.5
             },
             "pattern": {
              "fillmode": "overlay",
              "size": 10,
              "solidity": 0.2
             }
            },
            "type": "barpolar"
           }
          ],
          "carpet": [
           {
            "aaxis": {
             "endlinecolor": "#2a3f5f",
             "gridcolor": "white",
             "linecolor": "white",
             "minorgridcolor": "white",
             "startlinecolor": "#2a3f5f"
            },
            "baxis": {
             "endlinecolor": "#2a3f5f",
             "gridcolor": "white",
             "linecolor": "white",
             "minorgridcolor": "white",
             "startlinecolor": "#2a3f5f"
            },
            "type": "carpet"
           }
          ],
          "choropleth": [
           {
            "colorbar": {
             "outlinewidth": 0,
             "ticks": ""
            },
            "type": "choropleth"
           }
          ],
          "contour": [
           {
            "colorbar": {
             "outlinewidth": 0,
             "ticks": ""
            },
            "colorscale": [
             [
              0,
              "#0d0887"
             ],
             [
              0.1111111111111111,
              "#46039f"
             ],
             [
              0.2222222222222222,
              "#7201a8"
             ],
             [
              0.3333333333333333,
              "#9c179e"
             ],
             [
              0.4444444444444444,
              "#bd3786"
             ],
             [
              0.5555555555555556,
              "#d8576b"
             ],
             [
              0.6666666666666666,
              "#ed7953"
             ],
             [
              0.7777777777777778,
              "#fb9f3a"
             ],
             [
              0.8888888888888888,
              "#fdca26"
             ],
             [
              1,
              "#f0f921"
             ]
            ],
            "type": "contour"
           }
          ],
          "contourcarpet": [
           {
            "colorbar": {
             "outlinewidth": 0,
             "ticks": ""
            },
            "type": "contourcarpet"
           }
          ],
          "heatmap": [
           {
            "colorbar": {
             "outlinewidth": 0,
             "ticks": ""
            },
            "colorscale": [
             [
              0,
              "#0d0887"
             ],
             [
              0.1111111111111111,
              "#46039f"
             ],
             [
              0.2222222222222222,
              "#7201a8"
             ],
             [
              0.3333333333333333,
              "#9c179e"
             ],
             [
              0.4444444444444444,
              "#bd3786"
             ],
             [
              0.5555555555555556,
              "#d8576b"
             ],
             [
              0.6666666666666666,
              "#ed7953"
             ],
             [
              0.7777777777777778,
              "#fb9f3a"
             ],
             [
              0.8888888888888888,
              "#fdca26"
             ],
             [
              1,
              "#f0f921"
             ]
            ],
            "type": "heatmap"
           }
          ],
          "heatmapgl": [
           {
            "colorbar": {
             "outlinewidth": 0,
             "ticks": ""
            },
            "colorscale": [
             [
              0,
              "#0d0887"
             ],
             [
              0.1111111111111111,
              "#46039f"
             ],
             [
              0.2222222222222222,
              "#7201a8"
             ],
             [
              0.3333333333333333,
              "#9c179e"
             ],
             [
              0.4444444444444444,
              "#bd3786"
             ],
             [
              0.5555555555555556,
              "#d8576b"
             ],
             [
              0.6666666666666666,
              "#ed7953"
             ],
             [
              0.7777777777777778,
              "#fb9f3a"
             ],
             [
              0.8888888888888888,
              "#fdca26"
             ],
             [
              1,
              "#f0f921"
             ]
            ],
            "type": "heatmapgl"
           }
          ],
          "histogram": [
           {
            "marker": {
             "pattern": {
              "fillmode": "overlay",
              "size": 10,
              "solidity": 0.2
             }
            },
            "type": "histogram"
           }
          ],
          "histogram2d": [
           {
            "colorbar": {
             "outlinewidth": 0,
             "ticks": ""
            },
            "colorscale": [
             [
              0,
              "#0d0887"
             ],
             [
              0.1111111111111111,
              "#46039f"
             ],
             [
              0.2222222222222222,
              "#7201a8"
             ],
             [
              0.3333333333333333,
              "#9c179e"
             ],
             [
              0.4444444444444444,
              "#bd3786"
             ],
             [
              0.5555555555555556,
              "#d8576b"
             ],
             [
              0.6666666666666666,
              "#ed7953"
             ],
             [
              0.7777777777777778,
              "#fb9f3a"
             ],
             [
              0.8888888888888888,
              "#fdca26"
             ],
             [
              1,
              "#f0f921"
             ]
            ],
            "type": "histogram2d"
           }
          ],
          "histogram2dcontour": [
           {
            "colorbar": {
             "outlinewidth": 0,
             "ticks": ""
            },
            "colorscale": [
             [
              0,
              "#0d0887"
             ],
             [
              0.1111111111111111,
              "#46039f"
             ],
             [
              0.2222222222222222,
              "#7201a8"
             ],
             [
              0.3333333333333333,
              "#9c179e"
             ],
             [
              0.4444444444444444,
              "#bd3786"
             ],
             [
              0.5555555555555556,
              "#d8576b"
             ],
             [
              0.6666666666666666,
              "#ed7953"
             ],
             [
              0.7777777777777778,
              "#fb9f3a"
             ],
             [
              0.8888888888888888,
              "#fdca26"
             ],
             [
              1,
              "#f0f921"
             ]
            ],
            "type": "histogram2dcontour"
           }
          ],
          "mesh3d": [
           {
            "colorbar": {
             "outlinewidth": 0,
             "ticks": ""
            },
            "type": "mesh3d"
           }
          ],
          "parcoords": [
           {
            "line": {
             "colorbar": {
              "outlinewidth": 0,
              "ticks": ""
             }
            },
            "type": "parcoords"
           }
          ],
          "pie": [
           {
            "automargin": true,
            "type": "pie"
           }
          ],
          "scatter": [
           {
            "fillpattern": {
             "fillmode": "overlay",
             "size": 10,
             "solidity": 0.2
            },
            "type": "scatter"
           }
          ],
          "scatter3d": [
           {
            "line": {
             "colorbar": {
              "outlinewidth": 0,
              "ticks": ""
             }
            },
            "marker": {
             "colorbar": {
              "outlinewidth": 0,
              "ticks": ""
             }
            },
            "type": "scatter3d"
           }
          ],
          "scattercarpet": [
           {
            "marker": {
             "colorbar": {
              "outlinewidth": 0,
              "ticks": ""
             }
            },
            "type": "scattercarpet"
           }
          ],
          "scattergeo": [
           {
            "marker": {
             "colorbar": {
              "outlinewidth": 0,
              "ticks": ""
             }
            },
            "type": "scattergeo"
           }
          ],
          "scattergl": [
           {
            "marker": {
             "colorbar": {
              "outlinewidth": 0,
              "ticks": ""
             }
            },
            "type": "scattergl"
           }
          ],
          "scattermapbox": [
           {
            "marker": {
             "colorbar": {
              "outlinewidth": 0,
              "ticks": ""
             }
            },
            "type": "scattermapbox"
           }
          ],
          "scatterpolar": [
           {
            "marker": {
             "colorbar": {
              "outlinewidth": 0,
              "ticks": ""
             }
            },
            "type": "scatterpolar"
           }
          ],
          "scatterpolargl": [
           {
            "marker": {
             "colorbar": {
              "outlinewidth": 0,
              "ticks": ""
             }
            },
            "type": "scatterpolargl"
           }
          ],
          "scatterternary": [
           {
            "marker": {
             "colorbar": {
              "outlinewidth": 0,
              "ticks": ""
             }
            },
            "type": "scatterternary"
           }
          ],
          "surface": [
           {
            "colorbar": {
             "outlinewidth": 0,
             "ticks": ""
            },
            "colorscale": [
             [
              0,
              "#0d0887"
             ],
             [
              0.1111111111111111,
              "#46039f"
             ],
             [
              0.2222222222222222,
              "#7201a8"
             ],
             [
              0.3333333333333333,
              "#9c179e"
             ],
             [
              0.4444444444444444,
              "#bd3786"
             ],
             [
              0.5555555555555556,
              "#d8576b"
             ],
             [
              0.6666666666666666,
              "#ed7953"
             ],
             [
              0.7777777777777778,
              "#fb9f3a"
             ],
             [
              0.8888888888888888,
              "#fdca26"
             ],
             [
              1,
              "#f0f921"
             ]
            ],
            "type": "surface"
           }
          ],
          "table": [
           {
            "cells": {
             "fill": {
              "color": "#EBF0F8"
             },
             "line": {
              "color": "white"
             }
            },
            "header": {
             "fill": {
              "color": "#C8D4E3"
             },
             "line": {
              "color": "white"
             }
            },
            "type": "table"
           }
          ]
         },
         "layout": {
          "annotationdefaults": {
           "arrowcolor": "#2a3f5f",
           "arrowhead": 0,
           "arrowwidth": 1
          },
          "autotypenumbers": "strict",
          "coloraxis": {
           "colorbar": {
            "outlinewidth": 0,
            "ticks": ""
           }
          },
          "colorscale": {
           "diverging": [
            [
             0,
             "#8e0152"
            ],
            [
             0.1,
             "#c51b7d"
            ],
            [
             0.2,
             "#de77ae"
            ],
            [
             0.3,
             "#f1b6da"
            ],
            [
             0.4,
             "#fde0ef"
            ],
            [
             0.5,
             "#f7f7f7"
            ],
            [
             0.6,
             "#e6f5d0"
            ],
            [
             0.7,
             "#b8e186"
            ],
            [
             0.8,
             "#7fbc41"
            ],
            [
             0.9,
             "#4d9221"
            ],
            [
             1,
             "#276419"
            ]
           ],
           "sequential": [
            [
             0,
             "#0d0887"
            ],
            [
             0.1111111111111111,
             "#46039f"
            ],
            [
             0.2222222222222222,
             "#7201a8"
            ],
            [
             0.3333333333333333,
             "#9c179e"
            ],
            [
             0.4444444444444444,
             "#bd3786"
            ],
            [
             0.5555555555555556,
             "#d8576b"
            ],
            [
             0.6666666666666666,
             "#ed7953"
            ],
            [
             0.7777777777777778,
             "#fb9f3a"
            ],
            [
             0.8888888888888888,
             "#fdca26"
            ],
            [
             1,
             "#f0f921"
            ]
           ],
           "sequentialminus": [
            [
             0,
             "#0d0887"
            ],
            [
             0.1111111111111111,
             "#46039f"
            ],
            [
             0.2222222222222222,
             "#7201a8"
            ],
            [
             0.3333333333333333,
             "#9c179e"
            ],
            [
             0.4444444444444444,
             "#bd3786"
            ],
            [
             0.5555555555555556,
             "#d8576b"
            ],
            [
             0.6666666666666666,
             "#ed7953"
            ],
            [
             0.7777777777777778,
             "#fb9f3a"
            ],
            [
             0.8888888888888888,
             "#fdca26"
            ],
            [
             1,
             "#f0f921"
            ]
           ]
          },
          "colorway": [
           "#636efa",
           "#EF553B",
           "#00cc96",
           "#ab63fa",
           "#FFA15A",
           "#19d3f3",
           "#FF6692",
           "#B6E880",
           "#FF97FF",
           "#FECB52"
          ],
          "font": {
           "color": "#2a3f5f"
          },
          "geo": {
           "bgcolor": "white",
           "lakecolor": "white",
           "landcolor": "#E5ECF6",
           "showlakes": true,
           "showland": true,
           "subunitcolor": "white"
          },
          "hoverlabel": {
           "align": "left"
          },
          "hovermode": "closest",
          "mapbox": {
           "style": "light"
          },
          "paper_bgcolor": "white",
          "plot_bgcolor": "#E5ECF6",
          "polar": {
           "angularaxis": {
            "gridcolor": "white",
            "linecolor": "white",
            "ticks": ""
           },
           "bgcolor": "#E5ECF6",
           "radialaxis": {
            "gridcolor": "white",
            "linecolor": "white",
            "ticks": ""
           }
          },
          "scene": {
           "xaxis": {
            "backgroundcolor": "#E5ECF6",
            "gridcolor": "white",
            "gridwidth": 2,
            "linecolor": "white",
            "showbackground": true,
            "ticks": "",
            "zerolinecolor": "white"
           },
           "yaxis": {
            "backgroundcolor": "#E5ECF6",
            "gridcolor": "white",
            "gridwidth": 2,
            "linecolor": "white",
            "showbackground": true,
            "ticks": "",
            "zerolinecolor": "white"
           },
           "zaxis": {
            "backgroundcolor": "#E5ECF6",
            "gridcolor": "white",
            "gridwidth": 2,
            "linecolor": "white",
            "showbackground": true,
            "ticks": "",
            "zerolinecolor": "white"
           }
          },
          "shapedefaults": {
           "line": {
            "color": "#2a3f5f"
           }
          },
          "ternary": {
           "aaxis": {
            "gridcolor": "white",
            "linecolor": "white",
            "ticks": ""
           },
           "baxis": {
            "gridcolor": "white",
            "linecolor": "white",
            "ticks": ""
           },
           "bgcolor": "#E5ECF6",
           "caxis": {
            "gridcolor": "white",
            "linecolor": "white",
            "ticks": ""
           }
          },
          "title": {
           "x": 0.05
          },
          "xaxis": {
           "automargin": true,
           "gridcolor": "white",
           "linecolor": "white",
           "ticks": "",
           "title": {
            "standoff": 15
           },
           "zerolinecolor": "white",
           "zerolinewidth": 2
          },
          "yaxis": {
           "automargin": true,
           "gridcolor": "white",
           "linecolor": "white",
           "ticks": "",
           "title": {
            "standoff": 15
           },
           "zerolinecolor": "white",
           "zerolinewidth": 2
          }
         }
        },
        "title": {
         "text": "Score Plot with Point Calculated"
        },
        "xaxis": {
         "anchor": "y",
         "domain": [
          0,
          1
         ],
         "title": {
          "text": "PC1"
         }
        },
        "yaxis": {
         "anchor": "x",
         "domain": [
          0,
          1
         ],
         "title": {
          "text": "PC2"
         }
        }
       }
      }
     },
     "metadata": {},
     "output_type": "display_data"
    }
   ],
   "source": [
    "fig = px.scatter(pca2_results, x = 0, y = 1, color = type_data['Type']) # create 2D scoreplot for PC1 and PC2\n",
    "fig.update_layout(\n",
    "    title = 'Score Plot with Point Calculated',\n",
    "    xaxis_title = \"PC1\",\n",
    "    yaxis_title = \"PC2\",\n",
    "    legend_title = \"Type\"\n",
    ")\n",
    "\n",
    "fig.add_trace( # plot the calculated score on the score plot\n",
    "    go.Scatter(\n",
    "        mode = 'markers',\n",
    "        x = [score[0, 0]],\n",
    "        y = [score[0, 1]],\n",
    "        marker = dict(\n",
    "            color = 'darkslateblue',\n",
    "            size = 14,\n",
    "        ),\n",
    "        showlegend = True,\n",
    "        name = 'Point Calculated'\n",
    "    )\n",
    ")\n",
    "\n",
    "fig.show()"
   ]
  },
  {
   "cell_type": "code",
   "execution_count": null,
   "metadata": {},
   "outputs": [],
   "source": []
  }
 ],
 "metadata": {
  "kernelspec": {
   "display_name": "Python 3",
   "language": "python",
   "name": "python3"
  },
  "language_info": {
   "codemirror_mode": {
    "name": "ipython",
    "version": 3
   },
   "file_extension": ".py",
   "mimetype": "text/x-python",
   "name": "python",
   "nbconvert_exporter": "python",
   "pygments_lexer": "ipython3",
   "version": "3.10.9"
  },
  "orig_nbformat": 4
 },
 "nbformat": 4,
 "nbformat_minor": 2
}
