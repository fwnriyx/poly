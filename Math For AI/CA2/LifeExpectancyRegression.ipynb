{
 "cells": [
  {
   "cell_type": "markdown",
   "metadata": {},
   "source": [
    "# **Life Expectancy Regression**\n",
    "\n",
    "|Name|Admin Number|Class|\n",
    "|:----:|:----:|:----:|\n",
    "|Fitri Amir|2222811|DAAA/FT/2A/06|\n",
    "\n",
    "## **Exploring and Cleaning Data**"
   ]
  },
  {
   "cell_type": "code",
   "execution_count": 69,
   "metadata": {},
   "outputs": [],
   "source": [
    "import numpy as np \n",
    "import pandas as pd \n",
    "import sympy as sp \n",
    "import seaborn as sns\n",
    "import matplotlib.pyplot as plt\n",
    "import warnings\n",
    "import plotly.express as px\n",
    "import math\n",
    "warnings.filterwarnings('ignore')\n",
    "\n",
    "\n",
    "sns.set_theme()"
   ]
  },
  {
   "cell_type": "code",
   "execution_count": 70,
   "metadata": {},
   "outputs": [],
   "source": [
    "df = pd.read_excel(\"./6. Life Table 2003_2022 SG/6. Life Table 2003_2022 SG.xlsx\")"
   ]
  },
  {
   "cell_type": "code",
   "execution_count": 71,
   "metadata": {},
   "outputs": [
    {
     "name": "stdout",
     "output_type": "stream",
     "text": [
      "<class 'pandas.core.frame.DataFrame'>\n",
      "RangeIndex: 500 entries, 0 to 499\n",
      "Data columns (total 7 columns):\n",
      " #   Column                                                             Non-Null Count  Dtype  \n",
      "---  ------                                                             --------------  -----  \n",
      " 0   Year                                                               500 non-null    int64  \n",
      " 1   age_x                                                              500 non-null    int64  \n",
      " 2   Expectation of life at age x                                       500 non-null    float64\n",
      " 3   Unnamed: 3                                                         0 non-null      float64\n",
      " 4   Unnamed: 4                                                         0 non-null      float64\n",
      " 5   Complete Life Tables for Singapore Resident Population, 2018-2022  1 non-null      object \n",
      " 6   Unnamed: 6                                                         1 non-null      object \n",
      "dtypes: float64(3), int64(2), object(2)\n",
      "memory usage: 27.5+ KB\n"
     ]
    }
   ],
   "source": [
    "df.info()"
   ]
  },
  {
   "cell_type": "code",
   "execution_count": 164,
   "metadata": {},
   "outputs": [
    {
     "data": {
      "text/html": [
       "<div>\n",
       "<style scoped>\n",
       "    .dataframe tbody tr th:only-of-type {\n",
       "        vertical-align: middle;\n",
       "    }\n",
       "\n",
       "    .dataframe tbody tr th {\n",
       "        vertical-align: top;\n",
       "    }\n",
       "\n",
       "    .dataframe thead th {\n",
       "        text-align: right;\n",
       "    }\n",
       "</style>\n",
       "<table border=\"1\" class=\"dataframe\">\n",
       "  <thead>\n",
       "    <tr style=\"text-align: right;\">\n",
       "      <th></th>\n",
       "      <th>Year</th>\n",
       "      <th>age_x</th>\n",
       "      <th>Expectation of life at age x</th>\n",
       "      <th>Unnamed: 3</th>\n",
       "      <th>Unnamed: 4</th>\n",
       "    </tr>\n",
       "  </thead>\n",
       "  <tbody>\n",
       "    <tr>\n",
       "      <th>count</th>\n",
       "      <td>500.00000</td>\n",
       "      <td>500.000000</td>\n",
       "      <td>500.000000</td>\n",
       "      <td>0.0</td>\n",
       "      <td>0.0</td>\n",
       "    </tr>\n",
       "    <tr>\n",
       "      <th>mean</th>\n",
       "      <td>2020.00000</td>\n",
       "      <td>49.500000</td>\n",
       "      <td>37.340200</td>\n",
       "      <td>NaN</td>\n",
       "      <td>NaN</td>\n",
       "    </tr>\n",
       "    <tr>\n",
       "      <th>std</th>\n",
       "      <td>1.41563</td>\n",
       "      <td>28.894979</td>\n",
       "      <td>25.179194</td>\n",
       "      <td>NaN</td>\n",
       "      <td>NaN</td>\n",
       "    </tr>\n",
       "    <tr>\n",
       "      <th>min</th>\n",
       "      <td>2018.00000</td>\n",
       "      <td>0.000000</td>\n",
       "      <td>2.300000</td>\n",
       "      <td>NaN</td>\n",
       "      <td>NaN</td>\n",
       "    </tr>\n",
       "    <tr>\n",
       "      <th>25%</th>\n",
       "      <td>2019.00000</td>\n",
       "      <td>24.750000</td>\n",
       "      <td>13.600000</td>\n",
       "      <td>NaN</td>\n",
       "      <td>NaN</td>\n",
       "    </tr>\n",
       "    <tr>\n",
       "      <th>50%</th>\n",
       "      <td>2020.00000</td>\n",
       "      <td>49.500000</td>\n",
       "      <td>34.900000</td>\n",
       "      <td>NaN</td>\n",
       "      <td>NaN</td>\n",
       "    </tr>\n",
       "    <tr>\n",
       "      <th>75%</th>\n",
       "      <td>2021.00000</td>\n",
       "      <td>74.250000</td>\n",
       "      <td>59.175000</td>\n",
       "      <td>NaN</td>\n",
       "      <td>NaN</td>\n",
       "    </tr>\n",
       "    <tr>\n",
       "      <th>max</th>\n",
       "      <td>2022.00000</td>\n",
       "      <td>99.000000</td>\n",
       "      <td>83.700000</td>\n",
       "      <td>NaN</td>\n",
       "      <td>NaN</td>\n",
       "    </tr>\n",
       "  </tbody>\n",
       "</table>\n",
       "</div>"
      ],
      "text/plain": [
       "             Year       age_x  Expectation of life at age x  Unnamed: 3  \\\n",
       "count   500.00000  500.000000                    500.000000         0.0   \n",
       "mean   2020.00000   49.500000                     37.340200         NaN   \n",
       "std       1.41563   28.894979                     25.179194         NaN   \n",
       "min    2018.00000    0.000000                      2.300000         NaN   \n",
       "25%    2019.00000   24.750000                     13.600000         NaN   \n",
       "50%    2020.00000   49.500000                     34.900000         NaN   \n",
       "75%    2021.00000   74.250000                     59.175000         NaN   \n",
       "max    2022.00000   99.000000                     83.700000         NaN   \n",
       "\n",
       "       Unnamed: 4  \n",
       "count         0.0  \n",
       "mean          NaN  \n",
       "std           NaN  \n",
       "min           NaN  \n",
       "25%           NaN  \n",
       "50%           NaN  \n",
       "75%           NaN  \n",
       "max           NaN  "
      ]
     },
     "execution_count": 164,
     "metadata": {},
     "output_type": "execute_result"
    }
   ],
   "source": [
    "df.describe()"
   ]
  },
  {
   "cell_type": "code",
   "execution_count": 72,
   "metadata": {},
   "outputs": [
    {
     "data": {
      "text/html": [
       "<div>\n",
       "<style scoped>\n",
       "    .dataframe tbody tr th:only-of-type {\n",
       "        vertical-align: middle;\n",
       "    }\n",
       "\n",
       "    .dataframe tbody tr th {\n",
       "        vertical-align: top;\n",
       "    }\n",
       "\n",
       "    .dataframe thead th {\n",
       "        text-align: right;\n",
       "    }\n",
       "</style>\n",
       "<table border=\"1\" class=\"dataframe\">\n",
       "  <thead>\n",
       "    <tr style=\"text-align: right;\">\n",
       "      <th></th>\n",
       "      <th>Year</th>\n",
       "      <th>age_x</th>\n",
       "      <th>Expectation of life at age x</th>\n",
       "      <th>Unnamed: 3</th>\n",
       "      <th>Unnamed: 4</th>\n",
       "      <th>Complete Life Tables for Singapore Resident Population, 2018-2022</th>\n",
       "      <th>Unnamed: 6</th>\n",
       "    </tr>\n",
       "  </thead>\n",
       "  <tbody>\n",
       "    <tr>\n",
       "      <th>0</th>\n",
       "      <td>2022</td>\n",
       "      <td>0</td>\n",
       "      <td>83.0</td>\n",
       "      <td>NaN</td>\n",
       "      <td>NaN</td>\n",
       "      <td>Source:</td>\n",
       "      <td>https://www.singstat.gov.sg/publications/popul...</td>\n",
       "    </tr>\n",
       "    <tr>\n",
       "      <th>1</th>\n",
       "      <td>2022</td>\n",
       "      <td>1</td>\n",
       "      <td>82.1</td>\n",
       "      <td>NaN</td>\n",
       "      <td>NaN</td>\n",
       "      <td>NaN</td>\n",
       "      <td>NaN</td>\n",
       "    </tr>\n",
       "    <tr>\n",
       "      <th>2</th>\n",
       "      <td>2022</td>\n",
       "      <td>2</td>\n",
       "      <td>81.1</td>\n",
       "      <td>NaN</td>\n",
       "      <td>NaN</td>\n",
       "      <td>NaN</td>\n",
       "      <td>NaN</td>\n",
       "    </tr>\n",
       "    <tr>\n",
       "      <th>3</th>\n",
       "      <td>2022</td>\n",
       "      <td>3</td>\n",
       "      <td>80.1</td>\n",
       "      <td>NaN</td>\n",
       "      <td>NaN</td>\n",
       "      <td>NaN</td>\n",
       "      <td>NaN</td>\n",
       "    </tr>\n",
       "    <tr>\n",
       "      <th>4</th>\n",
       "      <td>2022</td>\n",
       "      <td>4</td>\n",
       "      <td>79.1</td>\n",
       "      <td>NaN</td>\n",
       "      <td>NaN</td>\n",
       "      <td>NaN</td>\n",
       "      <td>NaN</td>\n",
       "    </tr>\n",
       "  </tbody>\n",
       "</table>\n",
       "</div>"
      ],
      "text/plain": [
       "   Year  age_x  Expectation of life at age x  Unnamed: 3  Unnamed: 4  \\\n",
       "0  2022      0                          83.0         NaN         NaN   \n",
       "1  2022      1                          82.1         NaN         NaN   \n",
       "2  2022      2                          81.1         NaN         NaN   \n",
       "3  2022      3                          80.1         NaN         NaN   \n",
       "4  2022      4                          79.1         NaN         NaN   \n",
       "\n",
       "  Complete Life Tables for Singapore Resident Population, 2018-2022  \\\n",
       "0                                           Source:                   \n",
       "1                                                NaN                  \n",
       "2                                                NaN                  \n",
       "3                                                NaN                  \n",
       "4                                                NaN                  \n",
       "\n",
       "                                          Unnamed: 6  \n",
       "0  https://www.singstat.gov.sg/publications/popul...  \n",
       "1                                                NaN  \n",
       "2                                                NaN  \n",
       "3                                                NaN  \n",
       "4                                                NaN  "
      ]
     },
     "execution_count": 72,
     "metadata": {},
     "output_type": "execute_result"
    }
   ],
   "source": [
    "df.head()"
   ]
  },
  {
   "cell_type": "markdown",
   "metadata": {},
   "source": [
    "As we can see, we will need to drop the last 4 columns as they were metadeta provided by the authors of the dataset. "
   ]
  },
  {
   "cell_type": "code",
   "execution_count": 73,
   "metadata": {},
   "outputs": [],
   "source": [
    "cleaned_data = df.drop(df.columns[[3,4,5,6]], axis=1)"
   ]
  },
  {
   "cell_type": "code",
   "execution_count": 74,
   "metadata": {},
   "outputs": [
    {
     "data": {
      "text/html": [
       "<div>\n",
       "<style scoped>\n",
       "    .dataframe tbody tr th:only-of-type {\n",
       "        vertical-align: middle;\n",
       "    }\n",
       "\n",
       "    .dataframe tbody tr th {\n",
       "        vertical-align: top;\n",
       "    }\n",
       "\n",
       "    .dataframe thead th {\n",
       "        text-align: right;\n",
       "    }\n",
       "</style>\n",
       "<table border=\"1\" class=\"dataframe\">\n",
       "  <thead>\n",
       "    <tr style=\"text-align: right;\">\n",
       "      <th></th>\n",
       "      <th>Year</th>\n",
       "      <th>age_x</th>\n",
       "      <th>Expectation of life at age x</th>\n",
       "    </tr>\n",
       "  </thead>\n",
       "  <tbody>\n",
       "    <tr>\n",
       "      <th>0</th>\n",
       "      <td>2022</td>\n",
       "      <td>0</td>\n",
       "      <td>83.0</td>\n",
       "    </tr>\n",
       "    <tr>\n",
       "      <th>1</th>\n",
       "      <td>2022</td>\n",
       "      <td>1</td>\n",
       "      <td>82.1</td>\n",
       "    </tr>\n",
       "    <tr>\n",
       "      <th>2</th>\n",
       "      <td>2022</td>\n",
       "      <td>2</td>\n",
       "      <td>81.1</td>\n",
       "    </tr>\n",
       "    <tr>\n",
       "      <th>3</th>\n",
       "      <td>2022</td>\n",
       "      <td>3</td>\n",
       "      <td>80.1</td>\n",
       "    </tr>\n",
       "    <tr>\n",
       "      <th>4</th>\n",
       "      <td>2022</td>\n",
       "      <td>4</td>\n",
       "      <td>79.1</td>\n",
       "    </tr>\n",
       "  </tbody>\n",
       "</table>\n",
       "</div>"
      ],
      "text/plain": [
       "   Year  age_x  Expectation of life at age x\n",
       "0  2022      0                          83.0\n",
       "1  2022      1                          82.1\n",
       "2  2022      2                          81.1\n",
       "3  2022      3                          80.1\n",
       "4  2022      4                          79.1"
      ]
     },
     "execution_count": 74,
     "metadata": {},
     "output_type": "execute_result"
    }
   ],
   "source": [
    "cleaned_data.head()"
   ]
  },
  {
   "cell_type": "markdown",
   "metadata": {},
   "source": [
    "## Model 1:  SLR with intercept $a$ fixed => $\\hat{y} = bx_i$"
   ]
  },
  {
   "cell_type": "code",
   "execution_count": 136,
   "metadata": {},
   "outputs": [
    {
     "name": "stdout",
     "output_type": "stream",
     "text": [
      "Iteration 1: b-value = 6.829106860000001, E(b) = 139778.53488696832\n",
      "Iteration 2: b-value = 4.699376482519, E(b) = 63956.64525875404\n",
      "Iteration 3: b-value = 3.2689430744838868, E(b) = 29752.35038158626\n",
      "Iteration 4: b-value = 2.308192475977103, E(b) = 14322.323594059391\n",
      "Iteration 5: b-value = 1.6629043364900207, E(b) = 7361.626771663418\n",
      "Iteration 6: b-value = 1.2294965576035222, E(b) = 4221.56091691845\n",
      "Iteration 7: b-value = 0.9383982229144057, E(b) = 2805.0341202893046\n",
      "Iteration 8: b-value = 0.7428820264204605, E(b) = 2166.0194440409336\n",
      "Iteration 9: b-value = 0.6115635730453024, E(b) = 1877.7511547063948\n",
      "Iteration 10: b-value = 0.5233635338358773, E(b) = 1747.7093736259878\n",
      "Iteration 11: b-value = 0.46412397750086704, E(b) = 1689.0457416822712\n",
      "Iteration 12: b-value = 0.4243357294884573, E(b) = 1662.5817723007726\n",
      "Iteration 13: b-value = 0.39761195271092237, E(b) = 1650.643512560959\n",
      "Iteration 14: b-value = 0.379662928038291, E(b) = 1645.2579997695611\n",
      "Iteration 15: b-value = 0.36760746561691815, E(b) = 1642.8285210466618\n",
      "Iteration 16: b-value = 0.3595104142816031, E(b) = 1641.732549856242\n",
      "Iteration 17: b-value = 0.3540720297522387, E(b) = 1641.2381422127762\n",
      "Iteration 18: b-value = 0.35041933878309117, E(b) = 1641.0151081403003\n",
      "Iteration 19: b-value = 0.3479660088936632, E(b) = 1640.9144944096208\n",
      "Iteration 20: b-value = 0.3463182298734289, E(b) = 1640.8691061750403\n",
      "Iteration 21: b-value = 0.34521149909448856, E(b) = 1640.848630919581\n",
      "Iteration 22: b-value = 0.34446816336681324, E(b) = 1640.8393942508717\n",
      "Iteration 23: b-value = 0.34396890192532015, E(b) = 1640.835227462866\n",
      "Iteration 24: b-value = 0.3436335729781413, E(b) = 1640.8333477676179\n",
      "Iteration 25: b-value = 0.3434083492907686, E(b) = 1640.8324998112982\n",
      "The local minimum occurs at b = 0.3434083492907686\n",
      "In 24 iterations, the local minimum occurs at b = 0.3434083492907686 with a minimum error of E(b) = 1640.8324998112982\n"
     ]
    }
   ],
   "source": [
    "b = 10 \n",
    "alpha = 0.00005 \n",
    "epsilon = 0.001 \n",
    "max_iters = 1000 \n",
    "\n",
    "def E(b):\n",
    "    summation = 0\n",
    "    for rownum in np.arange(len(df)):\n",
    "        x = cleaned_data.loc[rownum, 'age_x']\n",
    "        y = cleaned_data.loc[rownum, 'Expectation of life at age x']\n",
    "        summation += (y - b*x)**2\n",
    "    return 1/len(cleaned_data) * summation\n",
    "\n",
    "def Eprime(b):\n",
    "    summation = 0\n",
    "    for rownum in np.arange(len(df)):\n",
    "        x = cleaned_data.loc[rownum, 'age_x']\n",
    "        y = cleaned_data.loc[rownum, 'Expectation of life at age x']\n",
    "        summation += x * (y - b*x)\n",
    "    return -2/len(cleaned_data) * summation\n",
    "\n",
    "model1_gradientdesc = pd.DataFrame(columns=['b', 'E(b)'])\n",
    "\n",
    "for iter in range(max_iters): \n",
    "    new_b = b - alpha * Eprime(b)\n",
    "    print(f\"Iteration {iter + 1}: b-value = {new_b}, E(b) = {E(new_b)}\")\n",
    "    diff = abs(E(new_b) - E(b)) \n",
    "    model1_gradientdesc = pd.concat([model1_gradientdesc, pd.DataFrame({'b': [new_b], 'E(b)': [E(new_b)]})], ignore_index=True)\n",
    "    if diff < epsilon: \n",
    "        print(f\"The local minimum occurs at b = {new_b}\")\n",
    "        break\n",
    "    b = new_b\n",
    "\n",
    "print(f\"In {iter} iterations, the local minimum occurs at b = {new_b} with a minimum error of E(b) = {E(new_b)}\")"
   ]
  },
  {
   "cell_type": "code",
   "execution_count": 76,
   "metadata": {},
   "outputs": [
    {
     "data": {
      "image/png": "[encoded data removed]",
      "text/plain": [
       "<Figure size 1000x600 with 1 Axes>"
      ]
     },
     "metadata": {},
     "output_type": "display_data"
    }
   ],
   "source": [
    "b_values = np.linspace(-10, 11, 50) # values of b to be plotted\n",
    "error_func = [E(b) for b in b_values] # values of error function for each value of b\n",
    "\n",
    "plt.figure(figsize=(10,6))\n",
    "plt.plot(b_values, error_func) # plot error function against b\n",
    "\n",
    "plt.scatter(b, 0, color='r', alpha=1) # location of local minimum\n",
    "plt.annotate(text=f'Local Minimum at\\nb = {b}', xy=(b, 100), xytext=(-2.5, 10**5), size=12, \n",
    "                arrowprops=dict(arrowstyle=\"->\", color='red'))\n",
    "                \n",
    "plt.xlabel('b')\n",
    "plt.ylabel('E(b)')\n",
    "plt.title('E(b) against b', size=15)\n",
    "plt.show()"
   ]
  },
  {
   "cell_type": "code",
   "execution_count": 77,
   "metadata": {},
   "outputs": [
    {
     "name": "stdout",
     "output_type": "stream",
     "text": [
      "      alpha  Starting b-value  Iterations         b         E(b)\n",
      "5   0.00005               1.0        19.0  0.343289  1640.832186\n",
      "13  0.00005               1.8        21.0  0.343289  1640.832186\n",
      "3   0.00005               0.8        18.0  0.343301  1640.832213\n",
      "14  0.00005               1.9        21.0  0.343313  1640.832240\n",
      "9   0.00005               1.4        20.0  0.343317  1640.832250\n",
      "6   0.00005               1.1        19.0  0.343341  1640.832311\n",
      "0   0.00005               0.5        15.0  0.343349  1640.832331\n",
      "10  0.00005               1.5        20.0  0.343351  1640.832338\n",
      "2   0.00005               0.7        17.0  0.343359  1640.832358\n",
      "4   0.00005               0.9        18.0  0.343379  1640.832413\n",
      "11  0.00005               1.6        20.0  0.343386  1640.832435\n",
      "1   0.00005               0.6        16.0  0.343389  1640.832441\n",
      "7   0.00005               1.2        19.0  0.343393  1640.832454\n",
      "12  0.00005               1.7        20.0  0.343421  1640.832540\n",
      "8   0.00005               1.3        19.0  0.343445  1640.832615\n"
     ]
    }
   ],
   "source": [
    "def model1hyperparam(b, alpha, epsilon, max_iters):\n",
    "    b_val_array = b\n",
    "    alpha_array = alpha \n",
    "    epsilon = epsilon \n",
    "    max_iters = max_iters \n",
    "    first_test = pd.DataFrame(columns=['alpha', 'Starting b-value', 'Iterations', 'b', 'E(b)']) \n",
    "    final_test = pd.DataFrame(columns=['alpha', 'Starting b-value', 'Iterations', 'b', 'E(b)'])\n",
    "\n",
    "    for alpha in alpha_array: \n",
    "        for starting_b in b_val_array:\n",
    "            b = starting_b\n",
    "            for iter in range(max_iters): \n",
    "                b_new = b - alpha * E_prime(b) \n",
    "                diff = abs(E(b_new) - E(b)) \n",
    "                if diff < epsilon:\n",
    "                    first_test.loc[len(first_test)] = [alpha, starting_b, iter + 1, b_new, E(b_new)]\n",
    "                    break\n",
    "                b = b_new\n",
    "    first_test.sort_values(by=['E(b)'], inplace=True)            \n",
    "    finalTestVal = first_test.iloc[0]['Starting b-value'] \n",
    "    b_FinalTest = np.arange(finalTestVal/2, finalTestVal * 2, finalTestVal/10) \n",
    "\n",
    "    for starting_b in b_FinalTest:\n",
    "            b = starting_b\n",
    "            for iter in range(max_iters): \n",
    "                b_new = b - alpha * E_prime(b) \n",
    "                diff = abs(E(b_new) - E(b)) \n",
    "                if diff < epsilon:\n",
    "                    final_test.loc[len(final_test)] = [alpha, starting_b, iter + 1, b_new, E(b_new)]\n",
    "                    break\n",
    "                b = b_new\n",
    "    final_test.sort_values(by=['E(b)'], inplace=True)\n",
    "\n",
    "    return final_test\n",
    "\n",
    "results_df = model1hyperparam([-1000, -100, -1, 0, 1, 100, 1000], [0.00005], 0.001, 1000)\n",
    "# results_df.sort_values(by=['E(b)'], inplace=True) # sort results by error function\n",
    "print(results_df)"
   ]
  },
  {
   "cell_type": "markdown",
   "metadata": {},
   "source": [
    "## Model 2:  SLR  => $\\hat{y} = a + bx_i$\n",
    "\n",
    "a) Express Error function $E(a,b)$ in terms of a and b.  Hence, derive $E_a(a,b)$ and $E_b(a,b)$."
   ]
  },
  {
   "cell_type": "code",
   "execution_count": 161,
   "metadata": {},
   "outputs": [
    {
     "name": "stdout",
     "output_type": "stream",
     "text": [
      "Iteration 1: a = 79.999146804, b = -0.056678628, E(a,b) = 2141.815821604243\n",
      "Iteration 2: a = 79.99834973690565, b = -0.1096343258352, E(a,b) = 1870.5338145698495\n",
      "Iteration 3: a = 79.99760511189349, b = -0.15911163389713906, E(a,b) = 1633.7196357167797\n",
      "Iteration 4: a = 79.99690948430882, b = -0.20533902995988854, E(a,b) = 1426.9939633447534\n",
      "Iteration 5: a = 79.99625963575879, b = -0.24852998425188838, E(a,b) = 1246.5338919701892\n",
      "Iteration 6: a = 79.99565255925049, b = -0.288883945225468, E(a,b) = 1089.0022366734552\n",
      "Iteration 7: a = 79.99508544530508, b = -0.3265872605761695, E(a,b) = 951.4858197064631\n",
      "Iteration 8: a = 79.99455566898415, b = -0.36181403776498444, E(a,b) = 831.4415981164423\n",
      "Iteration 9: a = 79.99406077776815, b = -0.3947269480172523, E(a,b) = 726.6496361429096\n",
      "Iteration 10: a = 79.99359848023114, b = -0.4254779775109498, E(a,b) = 635.1720527228209\n",
      "Iteration 11: a = 79.99316663545927, b = -0.45420912922323453, E(a,b) = 555.3171849345063\n",
      "Iteration 12: a = 79.9927632431645, b = -0.48105307867624936, E(a,b) = 485.60830466748894\n",
      "Iteration 13: a = 79.99238643444752, b = -0.5061337866103129, E(a,b) = 424.7563100065233\n",
      "Iteration 14: a = 79.99203446316758, b = -0.5295670714137167, E(a,b) = 371.63588632118507\n",
      "Iteration 15: a = 79.99170569787903, b = -0.5514611439525139, E(a,b) = 325.2646962163603\n",
      "Iteration 16: a = 79.99139861429758, b = -0.5719171072700525, E(a,b) = 284.78521351070765\n",
      "Iteration 17: a = 79.99111178826149, b = -0.5910294234637827, E(a,b) = 249.44886530520046\n",
      "Iteration 18: a = 79.99084388915496, b = -0.608886349895295, E(a,b) = 218.60218888656658\n",
      "Iteration 19: a = 79.99059367376357, b = -0.6255703467479343, E(a,b) = 191.67474747010414\n",
      "Iteration 20: a = 79.99035998053337, b = -0.6411584578140234, E(a,b) = 168.16858131192635\n",
      "Iteration 21: a = 79.99014172420699, b = -0.6557226662701044, E(a,b) = 147.6489991137473\n",
      "Iteration 22: a = 79.98993789081212, b = -0.6693302270831116, E(a,b) = 129.73653942888285\n",
      "Iteration 23: a = 79.98974753297911, b = -0.6820439775824677, E(a,b) = 114.09995341456376\n",
      "Iteration 24: a = 79.98956976556626, b = -0.6939226276322764, E(a,b) = 100.45007916305134\n",
      "Iteration 25: a = 79.9894037615723, b = -0.7050210307435754, E(a,b) = 88.53449433171089\n",
      "Iteration 26: a = 79.98924874831751, b = -0.7153904373786013, E(a,b) = 78.13284818499942\n",
      "Iteration 27: a = 79.98910400387554, b = -0.7250787316167829, E(a,b) = 69.05278672545553\n",
      "Iteration 28: a = 79.98896885373976, b = -0.7341306522753456, E(a,b) = 61.126395558565946\n",
      "Iteration 29: a = 79.98884266770844, b = -0.742587999505626, E(a,b) = 54.20709471065152\n",
      "Iteration 30: a = 79.9887248569746, b = -0.750489827819123, E(a,b) = 48.16692797673112\n",
      "Iteration 31: a = 79.988614871407, b = -0.757872626434646, E(a,b) = 42.89419667121861\n",
      "Iteration 32: a = 79.98851219700974, b = -0.7647704877793757, E(a,b) = 38.29139402323465\n",
      "Iteration 33: a = 79.9884163535487, b = -0.7712152649219438, E(a,b) = 34.27340201802883\n",
      "Iteration 34: a = 79.9883268923339, b = -0.777236718664533, E(a,b) = 30.765917339332056\n",
      "Iteration 35: a = 79.98824339414753, b = -0.7828626549732437, E(a,b) = 27.704077304141396\n",
      "Iteration 36: a = 79.98816546730808, b = -0.7881190533813568, E(a,b) = 25.031260379830986\n",
      "Iteration 37: a = 79.98809274586158, b = -0.7930301869584381, E(a,b) = 22.69803910197146\n",
      "Iteration 38: a = 79.98802488789175, b = -0.7976187343992804, E(a,b) = 20.66126602953502\n",
      "Iteration 39: a = 79.98796157394105, b = -0.8019058847502926, E(a,b) = 18.88327583437318\n",
      "Iteration 40: a = 79.98790250553547, b = -0.8059114352569425, E(a,b) = 17.331188769490034\n",
      "Iteration 41: a = 79.98784740380627, b = -0.8096538827840992, E(a,b) = 15.976302635391633\n",
      "Iteration 42: a = 79.98779600820215, b = -0.8131505092314356, E(a,b) = 14.793562000359119\n",
      "Iteration 43: a = 79.98774807528613, b = -0.8164174613383274, E(a,b) = 13.761094859121608\n",
      "Iteration 44: a = 79.98770337761135, b = -0.8194698252467727, E(a,b) = 12.859808161519815\n",
      "Iteration 45: a = 79.98766170267079, b = -0.8223216961666524, E(a,b) = 12.07303473141388\n",
      "Iteration 46: a = 79.98762285191594, b = -0.8249862434650325, E(a,b) = 11.386225046429766\n",
      "Iteration 47: a = 79.98758663983993, b = -0.8274757714800806, E(a,b) = 10.786678178735816\n",
      "Iteration 48: a = 79.9875528931209, b = -0.8298017763404252, E(a,b) = 10.263306921230743\n",
      "Iteration 49: a = 79.98752144982161, b = -0.8319749990523392, E(a,b) = 9.806432755704087\n",
      "Iteration 50: a = 79.98749215864169, b = -0.8340054750998954, E(a,b) = 9.407606871387665\n",
      "Iteration 51: a = 79.98746487821886, b = -0.8359025807871405, E(a,b) = 9.059453924055322\n",
      "Iteration 52: a = 79.98743947647627, b = -0.8376750765362857, E(a,b) = 8.755535646364706\n",
      "Iteration 53: a = 79.98741583001251, b = -0.8393311473418593, E(a,b) = 8.490231787232988\n",
      "Iteration 54: a = 79.98739382353178, b = -0.8408784405676318, E(a,b) = 8.25863617850121\n",
      "Iteration 55: a = 79.98737334931147, b = -0.8423241012608519, E(a,b) = 8.056466006884195\n",
      "Iteration 56: a = 79.98735430670473, b = -0.8436748051468701, E(a,b) = 7.879982613403705\n",
      "Iteration 57: a = 79.9873366016757, b = -0.8449367894565128, E(a,b) = 7.725922355676936\n",
      "Iteration 58: a = 79.98732014636522, b = -0.8461158817285626, E(a,b) = 7.591436254520477\n",
      "Iteration 59: a = 79.9873048586852, b = -0.8472175267203494, E(a,b) = 7.474037308775583\n",
      "Iteration 60: a = 79.98729066193948, b = -0.8482468115507225, E(a,b) = 7.371554504066528\n",
      "Iteration 61: a = 79.98727748446967, b = -0.8492084891915066, E(a,b) = 7.28209266499172\n",
      "Iteration 62: a = 79.98726525932429, b = -0.8501070004159254, E(a,b) = 7.203997408308573\n",
      "Iteration 63: a = 79.98725392394951, b = -0.8509464943053425, E(a,b) = 7.135824549003226\n",
      "Iteration 64: a = 79.9872434199004, b = -0.8517308474090207, E(a,b) = 7.076313393482855\n",
      "Iteration 65: a = 79.98723369257092, b = -0.8524636816453717, E(a,b) = 7.024363426010285\n",
      "Iteration 66: a = 79.9872246909419, b = -0.8531483810273653, E(a,b) = 6.9790139572518335\n",
      "Iteration 67: a = 79.9872163673453, b = -0.8537881072893307, E(a,b) = 6.939426358585691\n",
      "Iteration 68: a = 79.98720867724417, b = -0.8543858144873122, E(a,b) = 6.904868553636504\n",
      "Iteration 69: a = 79.98720157902697, b = -0.8549442626404021, E(a,b) = 6.874701480243216\n",
      "Iteration 70: a = 79.98719503381541, b = -0.8554660304760436, E(a,b) = 6.848367272506212\n",
      "Iteration 71: a = 79.9871890052849, b = -0.8559535273381591, E(a,b) = 6.825378944368624\n",
      "Iteration 72: a = 79.98718345949686, b = -0.8564090043130943, E(a,b) = 6.805311383953639\n",
      "Iteration 73: a = 79.98717836474194, b = -0.8568345646247553, E(a,b) = 6.78779349211934\n",
      "Iteration 74: a = 79.98717369139362, b = -0.8572321733469421, E(a,b) = 6.772501319852245\n",
      "Iteration 75: a = 79.9871694117714, b = -0.8576036664777281, E(a,b) = 6.759152077591605\n",
      "Iteration 76: a = 79.98716550001298, b = -0.8579507594177894, E(a,b) = 6.747498905701041\n",
      "Iteration 77: a = 79.9871619319548, b = -0.8582750548918361, E(a,b) = 6.7373263093797044\n",
      "Iteration 78: a = 79.9871586850205, b = -0.8585780503497245, E(a,b) = 6.728446173592418\n",
      "Iteration 79: a = 79.98715573811666, b = -0.8588611448814284, E(a,b) = 6.720694284324104\n",
      "Iteration 80: a = 79.98715307153533, b = -0.8591256456778005, E(a,b) = 6.713927291827605\n",
      "Iteration 81: a = 79.98715066686312, b = -0.8593727740669593, E(a,b) = 6.708020059706855\n",
      "Iteration 82: a = 79.9871485068961, b = -0.8596036711541766, E(a,b) = 6.702863350813474\n",
      "Iteration 83: a = 79.98714657556042, b = -0.8598194030913089, E(a,b) = 6.698361807162255\n",
      "Iteration 84: a = 79.98714485783796, b = -0.8600209660001075, E(a,b) = 6.694432186509496\n",
      "Iteration 85: a = 79.98714333969714, b = -0.86020929057214, E(a,b) = 6.6910018229831625\n",
      "Iteration 86: a = 79.98714200802802, b = -0.8603852463665678, E(a,b) = 6.688007283298554\n",
      "Iteration 87: a = 79.98714085058175, b = -0.860549645825623, E(a,b) = 6.68539319370856\n",
      "Iteration 88: a = 79.98713985591411, b = -0.8607032480263302, E(a,b) = 6.683111215996507\n",
      "Iteration 89: a = 79.98713901333254, b = -0.8608467621857961, E(a,b) = 6.681119153574351\n",
      "Iteration 90: a = 79.98713831284684, b = -0.8609808509362541, E(a,b) = 6.679380171155993\n",
      "Iteration 91: a = 79.98713774512301, b = -0.8611061333849886, E(a,b) = 6.677862113575211\n",
      "Iteration 92: a = 79.98713730144016, b = -0.8612231879732682, E(a,b) = 6.676536911151386\n",
      "Iteration 93: a = 79.98713697365022, b = -0.8613325551474895, E(a,b) = 6.67538006060683\n",
      "Iteration 94: a = 79.98713675414035, b = -0.8614347398548676, E(a,b) = 6.674370171936163\n",
      "Iteration 95: a = 79.98713663579773, b = -0.8615302138751975, E(a,b) = 6.673488572848425\n",
      "Iteration 95: a = 79.98713663579773, b = -0.8615302138751975, E(a,b) = 6.673488572848425\n",
      "The local minimum occurs at a = 79.98713663579773, b = -0.8615302138751975\n",
      "In 94 iterations, the local minimum occurs at a = 79.98713663579773 b = -0.8615302138751975 with a minimum error of E(b) = 6.673488572848425\n"
     ]
    }
   ],
   "source": [
    "a = 80 \n",
    "b = 0 \n",
    "alpha = 0.00001 \n",
    "epsilon = 0.001\n",
    "max_iters = 1000 \n",
    "\n",
    "def E(a, b):\n",
    "    summation = 0\n",
    "    for rownum in np.arange(len(cleaned_data)):\n",
    "        x = cleaned_data.loc[rownum, 'age_x']\n",
    "        y = cleaned_data.loc[rownum, 'Expectation of life at age x']\n",
    "        summation += (y - a - b*x)**2\n",
    "    return 1/len(cleaned_data) * summation \n",
    "\n",
    "def partial_E_a(a, b): # wrt a\n",
    "    summation = 0\n",
    "    for rownum in np.arange(len(cleaned_data)):\n",
    "        x = cleaned_data.loc[rownum, 'age_x']\n",
    "        y = cleaned_data.loc[rownum, 'Expectation of life at age x']\n",
    "        summation += y - a - b*x\n",
    "    return -2/len(cleaned_data) * summation\n",
    "\n",
    "def partial_E_b(a, b): # wrt b\n",
    "    summation = 0\n",
    "    for rownum in np.arange(len(cleaned_data)):\n",
    "        x = cleaned_data.loc[rownum, 'age_x']\n",
    "        y = cleaned_data.loc[rownum, 'Expectation of life at age x']\n",
    "        summation += x * (y - a - b*x)\n",
    "    return -2/len(cleaned_data) * summation\n",
    "\n",
    "model2_gradientdesc = pd.DataFrame(columns=['a-value', 'b-value', 'E(a,b)']) \n",
    "\n",
    "for iter in range(max_iters):\n",
    "    new_a = a - alpha * partial_E_a(a, b)\n",
    "    new_b = b - alpha * partial_E_b(a, b)\n",
    "    diff = abs(E(new_a, new_b) - E(a, b))\n",
    "    print(f\"Iteration {iter+1}: a = {new_a}, b = {new_b}, E(a,b) = {E(new_a, new_b)}\")\n",
    "    model2_gradientdesc.loc[len(model2_gradientdesc)] = [new_a, new_b, E(new_a, new_b)]\n",
    "    if diff < epsilon:\n",
    "        print(f\"Iteration {iter + 1}: a = {new_a}, b = {new_b}, E(a,b) = {E(new_a, new_b)}\")\n",
    "        print(f\"The local minimum occurs at a = {new_a}, b = {new_b}\")\n",
    "        break\n",
    "    a = new_a\n",
    "    b = new_b\n",
    "\n",
    "print(f\"In {iter} iterations, the local minimum occurs at a = {new_a} b = {new_b} with a minimum error of E(b) = {E(new_a, new_b)}\")"
   ]
  },
  {
   "cell_type": "code",
   "execution_count": 143,
   "metadata": {},
   "outputs": [
    {
     "data": {
      "application/vnd.plotly.v1+json": {
       "config": {
        "plotlyServerURL": "https://plot.ly"
       },
       "data": [
        {
         "hovertemplate": "a-value=%{x}<br>b-value=%{y}<br>E(a,b)=%{z}<extra></extra>",
         "legendgroup": "",
         "marker": {
          "color": "#636efa",
          "symbol": "circle"
         },
         "mode": "markers",
         "name": "",
         "scene": "scene",
         "showlegend": false,
         "type": "scatter3d",
         "x": [
          79.999146804,
          79.99834973690565,
          79.99760511189349,
          79.99690948430882,
          79.99625963575879,
          79.99565255925049,
          79.99508544530508,
          79.99455566898415,
          79.99406077776815,
          79.99359848023114,
          79.99316663545927,
          79.9927632431645,
          79.99238643444752,
          79.99203446316758,
          79.99170569787903,
          79.99139861429758,
          79.99111178826149,
          79.99084388915496,
          79.99059367376357,
          79.99035998053337,
          79.99014172420699,
          79.98993789081212,
          79.98974753297911,
          79.98956976556626,
          79.9894037615723,
          79.98924874831751,
          79.98910400387554,
          79.98896885373976,
          79.98884266770844,
          79.9887248569746,
          79.988614871407,
          79.98851219700974,
          79.9884163535487,
          79.9883268923339,
          79.98824339414753,
          79.98816546730808,
          79.98809274586158,
          79.98802488789175,
          79.98796157394105,
          79.98790250553547,
          79.98784740380627,
          79.98779600820215,
          79.98774807528613,
          79.98770337761135,
          79.98766170267079,
          79.98762285191594,
          79.98758663983993,
          79.9875528931209,
          79.98752144982161,
          79.98749215864169,
          79.98746487821886,
          79.98743947647627,
          79.98741583001251,
          79.98739382353178,
          79.98737334931147,
          79.98735430670473,
          79.9873366016757,
          79.98732014636522,
          79.9873048586852,
          79.98729066193948,
          79.98727748446967,
          79.98726525932429,
          79.98725392394951,
          79.9872434199004,
          79.98723369257092,
          79.9872246909419,
          79.9872163673453,
          79.98720867724417,
          79.98720157902697,
          79.98719503381541,
          79.9871890052849,
          79.98718345949686,
          79.98717836474194,
          79.98717369139362,
          79.9871694117714,
          79.98716550001298,
          79.9871619319548,
          79.9871586850205,
          79.98715573811666,
          79.98715307153533,
          79.98715066686312,
          79.9871485068961,
          79.98714657556042,
          79.98714485783796,
          79.98714333969714,
          79.98714200802802,
          79.98714085058175,
          79.98713985591411,
          79.98713901333254,
          79.98713831284684,
          79.98713774512301,
          79.98713730144016,
          79.98713697365022,
          79.98713675414035,
          79.98713663579773
         ],
         "y": [
          -0.056678628,
          -0.1096343258352,
          -0.15911163389713906,
          -0.20533902995988854,
          -0.24852998425188838,
          -0.288883945225468,
          -0.3265872605761695,
          -0.36181403776498444,
          -0.3947269480172523,
          -0.4254779775109498,
          -0.45420912922323453,
          -0.48105307867624936,
          -0.5061337866103129,
          -0.5295670714137167,
          -0.5514611439525139,
          -0.5719171072700525,
          -0.5910294234637827,
          -0.608886349895295,
          -0.6255703467479343,
          -0.6411584578140234,
          -0.6557226662701044,
          -0.6693302270831116,
          -0.6820439775824677,
          -0.6939226276322764,
          -0.7050210307435754,
          -0.7153904373786013,
          -0.7250787316167829,
          -0.7341306522753456,
          -0.742587999505626,
          -0.750489827819123,
          -0.757872626434646,
          -0.7647704877793757,
          -0.7712152649219438,
          -0.777236718664533,
          -0.7828626549732437,
          -0.7881190533813568,
          -0.7930301869584381,
          -0.7976187343992804,
          -0.8019058847502926,
          -0.8059114352569425,
          -0.8096538827840992,
          -0.8131505092314356,
          -0.8164174613383274,
          -0.8194698252467727,
          -0.8223216961666524,
          -0.8249862434650325,
          -0.8274757714800806,
          -0.8298017763404252,
          -0.8319749990523392,
          -0.8340054750998954,
          -0.8359025807871405,
          -0.8376750765362857,
          -0.8393311473418593,
          -0.8408784405676318,
          -0.8423241012608519,
          -0.8436748051468701,
          -0.8449367894565128,
          -0.8461158817285626,
          -0.8472175267203494,
          -0.8482468115507225,
          -0.8492084891915066,
          -0.8501070004159254,
          -0.8509464943053425,
          -0.8517308474090207,
          -0.8524636816453717,
          -0.8531483810273653,
          -0.8537881072893307,
          -0.8543858144873122,
          -0.8549442626404021,
          -0.8554660304760436,
          -0.8559535273381591,
          -0.8564090043130943,
          -0.8568345646247553,
          -0.8572321733469421,
          -0.8576036664777281,
          -0.8579507594177894,
          -0.8582750548918361,
          -0.8585780503497245,
          -0.8588611448814284,
          -0.8591256456778005,
          -0.8593727740669593,
          -0.8596036711541766,
          -0.8598194030913089,
          -0.8600209660001075,
          -0.86020929057214,
          -0.8603852463665678,
          -0.860549645825623,
          -0.8607032480263302,
          -0.8608467621857961,
          -0.8609808509362541,
          -0.8611061333849886,
          -0.8612231879732682,
          -0.8613325551474895,
          -0.8614347398548676,
          -0.8615302138751975
         ],
         "z": [
          2141.815821604243,
          1870.5338145698495,
          1633.7196357167797,
          1426.9939633447534,
          1246.5338919701892,
          1089.0022366734552,
          951.4858197064631,
          831.4415981164423,
          726.6496361429096,
          635.1720527228209,
          555.3171849345063,
          485.60830466748894,
          424.7563100065233,
          371.63588632118507,
          325.2646962163603,
          284.78521351070765,
          249.44886530520046,
          218.60218888656658,
          191.67474747010414,
          168.16858131192635,
          147.6489991137473,
          129.73653942888285,
          114.09995341456376,
          100.45007916305134,
          88.53449433171089,
          78.13284818499942,
          69.05278672545553,
          61.126395558565946,
          54.20709471065152,
          48.16692797673112,
          42.89419667121861,
          38.29139402323465,
          34.27340201802883,
          30.765917339332056,
          27.704077304141396,
          25.031260379830986,
          22.69803910197146,
          20.66126602953502,
          18.88327583437318,
          17.331188769490034,
          15.976302635391633,
          14.793562000359119,
          13.761094859121608,
          12.859808161519815,
          12.07303473141388,
          11.386225046429766,
          10.786678178735816,
          10.263306921230743,
          9.806432755704087,
          9.407606871387665,
          9.059453924055322,
          8.755535646364706,
          8.490231787232988,
          8.25863617850121,
          8.056466006884195,
          7.879982613403705,
          7.725922355676936,
          7.591436254520477,
          7.474037308775583,
          7.371554504066528,
          7.28209266499172,
          7.203997408308573,
          7.135824549003226,
          7.076313393482855,
          7.024363426010285,
          6.9790139572518335,
          6.939426358585691,
          6.904868553636504,
          6.874701480243216,
          6.848367272506212,
          6.825378944368624,
          6.805311383953639,
          6.78779349211934,
          6.772501319852245,
          6.759152077591605,
          6.747498905701041,
          6.7373263093797044,
          6.728446173592418,
          6.720694284324104,
          6.713927291827605,
          6.708020059706855,
          6.702863350813474,
          6.698361807162255,
          6.694432186509496,
          6.6910018229831625,
          6.688007283298554,
          6.68539319370856,
          6.683111215996507,
          6.681119153574351,
          6.679380171155993,
          6.677862113575211,
          6.676536911151386,
          6.67538006060683,
          6.674370171936163,
          6.673488572848425
         ]
        }
       ],
       "layout": {
        "legend": {
         "tracegroupgap": 0
        },
        "margin": {
         "t": 60
        },
        "scene": {
         "domain": {
          "x": [
           0,
           1
          ],
          "y": [
           0,
           1
          ]
         },
         "xaxis": {
          "title": {
           "text": "a-value"
          }
         },
         "yaxis": {
          "title": {
           "text": "b-value"
          }
         },
         "zaxis": {
          "title": {
           "text": "E(a,b)"
          }
         }
        },
        "template": {
         "data": {
          "bar": [
           {
            "error_x": {
             "color": "#2a3f5f"
            },
            "error_y": {
             "color": "#2a3f5f"
            },
            "marker": {
             "line": {
              "color": "#E5ECF6",
              "width": 0.5
             },
             "pattern": {
              "fillmode": "overlay",
              "size": 10,
              "solidity": 0.2
             }
            },
            "type": "bar"
           }
          ],
          "barpolar": [
           {
            "marker": {
             "line": {
              "color": "#E5ECF6",
              "width": 0.5
             },
             "pattern": {
              "fillmode": "overlay",
              "size": 10,
              "solidity": 0.2
             }
            },
            "type": "barpolar"
           }
          ],
          "carpet": [
           {
            "aaxis": {
             "endlinecolor": "#2a3f5f",
             "gridcolor": "white",
             "linecolor": "white",
             "minorgridcolor": "white",
             "startlinecolor": "#2a3f5f"
            },
            "baxis": {
             "endlinecolor": "#2a3f5f",
             "gridcolor": "white",
             "linecolor": "white",
             "minorgridcolor": "white",
             "startlinecolor": "#2a3f5f"
            },
            "type": "carpet"
           }
          ],
          "choropleth": [
           {
            "colorbar": {
             "outlinewidth": 0,
             "ticks": ""
            },
            "type": "choropleth"
           }
          ],
          "contour": [
           {
            "colorbar": {
             "outlinewidth": 0,
             "ticks": ""
            },
            "colorscale": [
             [
              0,
              "#0d0887"
             ],
             [
              0.1111111111111111,
              "#46039f"
             ],
             [
              0.2222222222222222,
              "#7201a8"
             ],
             [
              0.3333333333333333,
              "#9c179e"
             ],
             [
              0.4444444444444444,
              "#bd3786"
             ],
             [
              0.5555555555555556,
              "#d8576b"
             ],
             [
              0.6666666666666666,
              "#ed7953"
             ],
             [
              0.7777777777777778,
              "#fb9f3a"
             ],
             [
              0.8888888888888888,
              "#fdca26"
             ],
             [
              1,
              "#f0f921"
             ]
            ],
            "type": "contour"
           }
          ],
          "contourcarpet": [
           {
            "colorbar": {
             "outlinewidth": 0,
             "ticks": ""
            },
            "type": "contourcarpet"
           }
          ],
          "heatmap": [
           {
            "colorbar": {
             "outlinewidth": 0,
             "ticks": ""
            },
            "colorscale": [
             [
              0,
              "#0d0887"
             ],
             [
              0.1111111111111111,
              "#46039f"
             ],
             [
              0.2222222222222222,
              "#7201a8"
             ],
             [
              0.3333333333333333,
              "#9c179e"
             ],
             [
              0.4444444444444444,
              "#bd3786"
             ],
             [
              0.5555555555555556,
              "#d8576b"
             ],
             [
              0.6666666666666666,
              "#ed7953"
             ],
             [
              0.7777777777777778,
              "#fb9f3a"
             ],
             [
              0.8888888888888888,
              "#fdca26"
             ],
             [
              1,
              "#f0f921"
             ]
            ],
            "type": "heatmap"
           }
          ],
          "heatmapgl": [
           {
            "colorbar": {
             "outlinewidth": 0,
             "ticks": ""
            },
            "colorscale": [
             [
              0,
              "#0d0887"
             ],
             [
              0.1111111111111111,
              "#46039f"
             ],
             [
              0.2222222222222222,
              "#7201a8"
             ],
             [
              0.3333333333333333,
              "#9c179e"
             ],
             [
              0.4444444444444444,
              "#bd3786"
             ],
             [
              0.5555555555555556,
              "#d8576b"
             ],
             [
              0.6666666666666666,
              "#ed7953"
             ],
             [
              0.7777777777777778,
              "#fb9f3a"
             ],
             [
              0.8888888888888888,
              "#fdca26"
             ],
             [
              1,
              "#f0f921"
             ]
            ],
            "type": "heatmapgl"
           }
          ],
          "histogram": [
           {
            "marker": {
             "pattern": {
              "fillmode": "overlay",
              "size": 10,
              "solidity": 0.2
             }
            },
            "type": "histogram"
           }
          ],
          "histogram2d": [
           {
            "colorbar": {
             "outlinewidth": 0,
             "ticks": ""
            },
            "colorscale": [
             [
              0,
              "#0d0887"
             ],
             [
              0.1111111111111111,
              "#46039f"
             ],
             [
              0.2222222222222222,
              "#7201a8"
             ],
             [
              0.3333333333333333,
              "#9c179e"
             ],
             [
              0.4444444444444444,
              "#bd3786"
             ],
             [
              0.5555555555555556,
              "#d8576b"
             ],
             [
              0.6666666666666666,
              "#ed7953"
             ],
             [
              0.7777777777777778,
              "#fb9f3a"
             ],
             [
              0.8888888888888888,
              "#fdca26"
             ],
             [
              1,
              "#f0f921"
             ]
            ],
            "type": "histogram2d"
           }
          ],
          "histogram2dcontour": [
           {
            "colorbar": {
             "outlinewidth": 0,
             "ticks": ""
            },
            "colorscale": [
             [
              0,
              "#0d0887"
             ],
             [
              0.1111111111111111,
              "#46039f"
             ],
             [
              0.2222222222222222,
              "#7201a8"
             ],
             [
              0.3333333333333333,
              "#9c179e"
             ],
             [
              0.4444444444444444,
              "#bd3786"
             ],
             [
              0.5555555555555556,
              "#d8576b"
             ],
             [
              0.6666666666666666,
              "#ed7953"
             ],
             [
              0.7777777777777778,
              "#fb9f3a"
             ],
             [
              0.8888888888888888,
              "#fdca26"
             ],
             [
              1,
              "#f0f921"
             ]
            ],
            "type": "histogram2dcontour"
           }
          ],
          "mesh3d": [
           {
            "colorbar": {
             "outlinewidth": 0,
             "ticks": ""
            },
            "type": "mesh3d"
           }
          ],
          "parcoords": [
           {
            "line": {
             "colorbar": {
              "outlinewidth": 0,
              "ticks": ""
             }
            },
            "type": "parcoords"
           }
          ],
          "pie": [
           {
            "automargin": true,
            "type": "pie"
           }
          ],
          "scatter": [
           {
            "fillpattern": {
             "fillmode": "overlay",
             "size": 10,
             "solidity": 0.2
            },
            "type": "scatter"
           }
          ],
          "scatter3d": [
           {
            "line": {
             "colorbar": {
              "outlinewidth": 0,
              "ticks": ""
             }
            },
            "marker": {
             "colorbar": {
              "outlinewidth": 0,
              "ticks": ""
             }
            },
            "type": "scatter3d"
           }
          ],
          "scattercarpet": [
           {
            "marker": {
             "colorbar": {
              "outlinewidth": 0,
              "ticks": ""
             }
            },
            "type": "scattercarpet"
           }
          ],
          "scattergeo": [
           {
            "marker": {
             "colorbar": {
              "outlinewidth": 0,
              "ticks": ""
             }
            },
            "type": "scattergeo"
           }
          ],
          "scattergl": [
           {
            "marker": {
             "colorbar": {
              "outlinewidth": 0,
              "ticks": ""
             }
            },
            "type": "scattergl"
           }
          ],
          "scattermapbox": [
           {
            "marker": {
             "colorbar": {
              "outlinewidth": 0,
              "ticks": ""
             }
            },
            "type": "scattermapbox"
           }
          ],
          "scatterpolar": [
           {
            "marker": {
             "colorbar": {
              "outlinewidth": 0,
              "ticks": ""
             }
            },
            "type": "scatterpolar"
           }
          ],
          "scatterpolargl": [
           {
            "marker": {
             "colorbar": {
              "outlinewidth": 0,
              "ticks": ""
             }
            },
            "type": "scatterpolargl"
           }
          ],
          "scatterternary": [
           {
            "marker": {
             "colorbar": {
              "outlinewidth": 0,
              "ticks": ""
             }
            },
            "type": "scatterternary"
           }
          ],
          "surface": [
           {
            "colorbar": {
             "outlinewidth": 0,
             "ticks": ""
            },
            "colorscale": [
             [
              0,
              "#0d0887"
             ],
             [
              0.1111111111111111,
              "#46039f"
             ],
             [
              0.2222222222222222,
              "#7201a8"
             ],
             [
              0.3333333333333333,
              "#9c179e"
             ],
             [
              0.4444444444444444,
              "#bd3786"
             ],
             [
              0.5555555555555556,
              "#d8576b"
             ],
             [
              0.6666666666666666,
              "#ed7953"
             ],
             [
              0.7777777777777778,
              "#fb9f3a"
             ],
             [
              0.8888888888888888,
              "#fdca26"
             ],
             [
              1,
              "#f0f921"
             ]
            ],
            "type": "surface"
           }
          ],
          "table": [
           {
            "cells": {
             "fill": {
              "color": "#EBF0F8"
             },
             "line": {
              "color": "white"
             }
            },
            "header": {
             "fill": {
              "color": "#C8D4E3"
             },
             "line": {
              "color": "white"
             }
            },
            "type": "table"
           }
          ]
         },
         "layout": {
          "annotationdefaults": {
           "arrowcolor": "#2a3f5f",
           "arrowhead": 0,
           "arrowwidth": 1
          },
          "autotypenumbers": "strict",
          "coloraxis": {
           "colorbar": {
            "outlinewidth": 0,
            "ticks": ""
           }
          },
          "colorscale": {
           "diverging": [
            [
             0,
             "#8e0152"
            ],
            [
             0.1,
             "#c51b7d"
            ],
            [
             0.2,
             "#de77ae"
            ],
            [
             0.3,
             "#f1b6da"
            ],
            [
             0.4,
             "#fde0ef"
            ],
            [
             0.5,
             "#f7f7f7"
            ],
            [
             0.6,
             "#e6f5d0"
            ],
            [
             0.7,
             "#b8e186"
            ],
            [
             0.8,
             "#7fbc41"
            ],
            [
             0.9,
             "#4d9221"
            ],
            [
             1,
             "#276419"
            ]
           ],
           "sequential": [
            [
             0,
             "#0d0887"
            ],
            [
             0.1111111111111111,
             "#46039f"
            ],
            [
             0.2222222222222222,
             "#7201a8"
            ],
            [
             0.3333333333333333,
             "#9c179e"
            ],
            [
             0.4444444444444444,
             "#bd3786"
            ],
            [
             0.5555555555555556,
             "#d8576b"
            ],
            [
             0.6666666666666666,
             "#ed7953"
            ],
            [
             0.7777777777777778,
             "#fb9f3a"
            ],
            [
             0.8888888888888888,
             "#fdca26"
            ],
            [
             1,
             "#f0f921"
            ]
           ],
           "sequentialminus": [
            [
             0,
             "#0d0887"
            ],
            [
             0.1111111111111111,
             "#46039f"
            ],
            [
             0.2222222222222222,
             "#7201a8"
            ],
            [
             0.3333333333333333,
             "#9c179e"
            ],
            [
             0.4444444444444444,
             "#bd3786"
            ],
            [
             0.5555555555555556,
             "#d8576b"
            ],
            [
             0.6666666666666666,
             "#ed7953"
            ],
            [
             0.7777777777777778,
             "#fb9f3a"
            ],
            [
             0.8888888888888888,
             "#fdca26"
            ],
            [
             1,
             "#f0f921"
            ]
           ]
          },
          "colorway": [
           "#636efa",
           "#EF553B",
           "#00cc96",
           "#ab63fa",
           "#FFA15A",
           "#19d3f3",
           "#FF6692",
           "#B6E880",
           "#FF97FF",
           "#FECB52"
          ],
          "font": {
           "color": "#2a3f5f"
          },
          "geo": {
           "bgcolor": "white",
           "lakecolor": "white",
           "landcolor": "#E5ECF6",
           "showlakes": true,
           "showland": true,
           "subunitcolor": "white"
          },
          "hoverlabel": {
           "align": "left"
          },
          "hovermode": "closest",
          "mapbox": {
           "style": "light"
          },
          "paper_bgcolor": "white",
          "plot_bgcolor": "#E5ECF6",
          "polar": {
           "angularaxis": {
            "gridcolor": "white",
            "linecolor": "white",
            "ticks": ""
           },
           "bgcolor": "#E5ECF6",
           "radialaxis": {
            "gridcolor": "white",
            "linecolor": "white",
            "ticks": ""
           }
          },
          "scene": {
           "xaxis": {
            "backgroundcolor": "#E5ECF6",
            "gridcolor": "white",
            "gridwidth": 2,
            "linecolor": "white",
            "showbackground": true,
            "ticks": "",
            "zerolinecolor": "white"
           },
           "yaxis": {
            "backgroundcolor": "#E5ECF6",
            "gridcolor": "white",
            "gridwidth": 2,
            "linecolor": "white",
            "showbackground": true,
            "ticks": "",
            "zerolinecolor": "white"
           },
           "zaxis": {
            "backgroundcolor": "#E5ECF6",
            "gridcolor": "white",
            "gridwidth": 2,
            "linecolor": "white",
            "showbackground": true,
            "ticks": "",
            "zerolinecolor": "white"
           }
          },
          "shapedefaults": {
           "line": {
            "color": "#2a3f5f"
           }
          },
          "ternary": {
           "aaxis": {
            "gridcolor": "white",
            "linecolor": "white",
            "ticks": ""
           },
           "baxis": {
            "gridcolor": "white",
            "linecolor": "white",
            "ticks": ""
           },
           "bgcolor": "#E5ECF6",
           "caxis": {
            "gridcolor": "white",
            "linecolor": "white",
            "ticks": ""
           }
          },
          "title": {
           "x": 0.05
          },
          "xaxis": {
           "automargin": true,
           "gridcolor": "white",
           "linecolor": "white",
           "ticks": "",
           "title": {
            "standoff": 15
           },
           "zerolinecolor": "white",
           "zerolinewidth": 2
          },
          "yaxis": {
           "automargin": true,
           "gridcolor": "white",
           "linecolor": "white",
           "ticks": "",
           "title": {
            "standoff": 15
           },
           "zerolinecolor": "white",
           "zerolinewidth": 2
          }
         }
        },
        "title": {
         "text": "3D Gradient Descent of Model 2"
        }
       }
      }
     },
     "metadata": {},
     "output_type": "display_data"
    }
   ],
   "source": [
    "fig = px.scatter_3d(model2_gradientdesc, x='a-value', y='b-value', z='E(a,b)')\n",
    "\n",
    "fig.update_layout(title='3D Gradient Descent of Model 2')\n",
    "\n",
    "fig.show()\n",
    "    "
   ]
  },
  {
   "cell_type": "markdown",
   "metadata": {},
   "source": [
    "## Multiple Linear Regression\n",
    "\n",
    "### Model 3: MLR => $\\hat{y} = a + bx_i + cw_i$\n",
    "\n",
    "A linear regression model with more than one predictor is called Multiple Linear Regression (MLR) model. Apply the MLR model where intercept a, and slopes b and c are to be determined, when predicting Expectation of life at age x (y) using Age_x (x) and w as the predictors. Decide on a suitable variable w based on the context of your dataset.\n",
    "\n",
    "\n",
    "I decided to make a new variable using the ones given in the dataset, called the Life Expectancy Ratio. I used `Expectationf of life at age x`/ `age_x` to obtain it. For example, if the life expectancy at age x is 80 and the age_x is 60, the LERatio would be 80 / 60 = 1.33. This indicates that, on average, people of age 60 can expect to live around 1.33 times their current age. The variable provides insights into how life expectancy compares to the current age and can help identify patterns where life expectancy exceeds or falls short of the current age."
   ]
  },
  {
   "cell_type": "code",
   "execution_count": 168,
   "metadata": {},
   "outputs": [
    {
     "name": "stdout",
     "output_type": "stream",
     "text": [
      "     Year  age_x  Expectation of life at age x    LERatio\n",
      "0    2022      0                          83.0  83.000000\n",
      "1    2022      1                          82.1  82.100000\n",
      "2    2022      2                          81.1  40.550000\n",
      "3    2022      3                          80.1  26.700000\n",
      "4    2022      4                          79.1  19.775000\n",
      "..    ...    ...                           ...        ...\n",
      "495  2019     95                           3.6   0.037895\n",
      "496  2019     96                           3.3   0.034375\n",
      "497  2019     97                           3.1   0.031959\n",
      "498  2019     98                           2.8   0.028571\n",
      "499  2019     99                           2.6   0.026263\n",
      "\n",
      "[500 rows x 4 columns]\n"
     ]
    }
   ],
   "source": [
    "cleaned_data['LERatio'] = cleaned_data['Expectation of life at age x'] / cleaned_data['age_x']\n",
    "\n",
    "cleaned_data['LERatio'] = cleaned_data.apply(lambda row: row['Expectation of life at age x'] if row['age_x'] == 0 else row['LERatio'], axis=1)\n",
    "print(cleaned_data)"
   ]
  },
  {
   "cell_type": "code",
   "execution_count": 206,
   "metadata": {},
   "outputs": [
    {
     "name": "stdout",
     "output_type": "stream",
     "text": [
      "Iteration 1: a = 89.99736701, b = -0.16644657, c= -0.003159861780552354, E(a,b,c) = 2387.9744778722197\n",
      "Iteration 2: a = 89.99514677236752, b = -0.3055544899926935, c= -0.005987540119116798, E(a,b,c) = 1677.0167467714164\n",
      "Iteration 3: a = 89.99327153334936, b = -0.4218137107428978, c= -0.008535947251166284, E(a,b,c) = 1180.3929203184884\n",
      "Iteration 4: a = 89.99168466635128, b = -0.5189767810768453, c= -0.010849319870467432, E(a,b,c) = 833.4827028626291\n",
      "Iteration 5: a = 89.99033884448485, b = -0.6001799542207208, c= -0.01296464381961843, E(a,b,c) = 591.1484828716717\n",
      "Iteration 6: a = 89.98919451324383, b = -0.6680444043826236, c= -0.014912844799331975, E(a,b,c) = 421.8614032775909\n",
      "Iteration 7: a = 89.98821861401872, b = -0.7247608201486442, c= -0.01671978352408875, E(a,b,c) = 303.59839160621823\n",
      "Iteration 8: a = 89.98738351725339, b = -0.7721601047823725, c= -0.01840708744067119, E(a,b,c) = 220.97621456265384\n",
      "Iteration 9: a = 89.98666613081343, b = -0.8117724651441522, c= -0.019992845851470434, E(a,b,c) = 163.2496005179713\n",
      "Iteration 10: a = 89.98604715479058, b = -0.8448767962114132, c= -0.021492190876112736, E(a,b,c) = 122.91291783878526\n",
      "Iteration 11: a = 89.98551045869343, b = -0.8725419549905831, c= -0.02291778300060476, E(a,b,c) = 94.72344005617927\n",
      "Iteration 12: a = 89.98504256092441, b = -0.8956612558567815, c= -0.024280216883944626, E(a,b,c) = 75.01909159547964\n",
      "Iteration 13: a = 89.98463219374436, b = -0.9149813005921019, c= -0.0255883605186104, E(a,b,c) = 61.241889682071424\n",
      "Iteration 14: a = 89.98426993968445, b = -0.9311260735565726, c= -0.026849638690464098, E(a,b,c) = 51.60506607693162\n",
      "Iteration 15: a = 89.98394792767168, b = -0.9446170796171433, c= -0.02807026988598187, E(a,b,c) = 44.86054990718905\n",
      "Iteration 16: a = 89.98365957906071, b = -0.9558901747476606, c= -0.02925546429232471, E(a,b,c) = 40.13655323424421\n",
      "Iteration 17: a = 89.98339939537595, b = -0.9653096324751113, c= -0.030409589280112198, E(a,b,c) = 36.82412374219498\n",
      "Iteration 18: a = 89.98316278091347, b = -0.9731799001396565, c= -0.03153630770933023, E(a,b,c) = 34.497901209951436\n",
      "Iteration 19: a = 89.98294589447765, b = -0.9797554243791643, c= -0.03263869352172452, E(a,b,c) = 32.860765500997125\n",
      "Iteration 20: a = 89.98274552546773, b = -0.9852488629368751, c= -0.03371932834999823, E(a,b,c) = 31.705172900291373\n",
      "Iteration 21: a = 89.98255899031511, b = -0.9898379478125158, c= -0.03478038226148798, E(a,b,c) = 30.886149346917104\n",
      "Iteration 22: a = 89.98238404592904, b = -0.9936712212518802, c= -0.03582368124196482, E(a,b,c) = 30.302426067971837\n",
      "Iteration 23: a = 89.98221881735753, b = -0.9968728296929193, c= -0.036850763597271546, E(a,b,c) = 29.88326272134237\n",
      "Iteration 24: a = 89.98206173732876, b = -0.9995465303837425, c= -0.037862927092854104, E(a,b,c) = 29.579243292505492\n",
      "Iteration 25: a = 89.98191149572176, b = -1.0017790399784283, c= -0.03886126835232969, E(a,b,c) = 29.355846980330053\n",
      "Iteration 26: a = 89.98176699733571, b = -1.003642833180145, c= -0.03984671578641129, E(a,b,c) = 29.188957426890127\n",
      "Iteration 27: a = 89.98162732659497, b = -1.0051984817524084, c= -0.04082005711471468, E(a,b,c) = 29.061725890490912\n",
      "Iteration 28: a = 89.98149171805072, b = -1.0064966093855774, c= -0.041781962368471405, E(a,b,c) = 28.962380154962887\n",
      "Iteration 29: a = 89.9813595317271, b = -1.007579525508145, c= -0.04273300311632762, E(a,b,c) = 28.882694040588422\n",
      "Iteration 30: a = 89.98123023251648, b = -1.0084825907709516, c= -0.04367366853351801, E(a,b,c) = 28.816918348661936\n",
      "Iteration 31: a = 89.98110337295863, b = -1.009235358272698, c= -0.0446043788328313, E(a,b,c) = 28.761034119816415\n",
      "Iteration 32: a = 89.98097857884807, b = -1.0098625273576232, c= -0.045525496490642574, E(a,b,c) = 28.7122310301806\n",
      "Iteration 33: a = 89.98085553720527, b = -1.010384740767335, c= -0.04643733563012933, E(a,b,c) = 28.668543047477353\n",
      "Iteration 34: a = 89.9807339862233, b = -1.0108192508733418, c= -0.047340169864316155, E(a,b,c) = 28.62859393401093\n",
      "Iteration 35: a = 89.98061370686553, b = -1.0111804764916585, c= -0.04823423885188875, E(a,b,c) = 28.591419478283623\n",
      "Iteration 36: a = 89.98049451584333, b = -1.011480468249614, c= -0.04911975377717642, E(a,b,c) = 28.556343321968427\n",
      "Iteration 37: a = 89.98037625974703, b = -1.0117292975236787, c= -0.049996901930983516, E(a,b,c) = 28.52289022352694\n",
      "Iteration 38: a = 89.98025881014073, b = -1.011935381500539, c= -0.050865850539933366, E(a,b,c) = 28.49072547153105\n",
      "Iteration 39: a = 89.98014205946268, b = -1.0121057548521373, c= -0.051726749967737004, E(a,b,c) = 28.459612563701697\n",
      "Iteration 40: a = 89.98002591759901, b = -1.0122462967924741, c= -0.05257973639153053, E(a,b,c) = 28.42938364465852\n",
      "Iteration 41: a = 89.97991030902007, b = -1.0123619208439945, c= -0.053424934039485415, E(a,b,c) = 28.399918855710236\n",
      "Iteration 42: a = 89.97979517038715, b = -1.0124567334379047, c= -0.05426245706173824, E(a,b,c) = 28.371131909764298\n",
      "Iteration 43: a = 89.97968044855212, b = -1.0125341664669454, c= -0.055092411094854306, E(a,b,c) = 28.34296001452905\n",
      "Iteration 44: a = 89.97956609888573, b = -1.0125970880685056, c= -0.055914894570149955, E(a,b,c) = 28.3153568330341\n",
      "Iteration 45: a = 89.97945208388029, b = -1.012647895213393, c= -0.05672999980793379, E(a,b,c) = 28.288287565746668\n",
      "Iteration 46: a = 89.97933837198197, b = -1.0126885910883885, c= -0.05753781393281919, E(a,b,c) = 28.2617255146476\n",
      "Iteration 47: a = 89.97922493661473, b = -1.012720849769958, c= -0.05833841963948733, E(a,b,c) = 28.235649682476048\n",
      "Iteration 48: a = 89.97911175536461, b = -1.0127460702763444, c= -0.059131895833455086, E(a,b,c) = 28.210043095058655\n",
      "Iteration 49: a = 89.97899880929799, b = -1.0127654217424693, c= -0.059918318167369415, E(a,b,c) = 28.18489162872946\n",
      "Iteration 50: a = 89.9788860823917, b = -1.012779881175578, c= -0.06069775948997958, E(a,b,c) = 28.160183190570436\n",
      "Iteration 51: a = 89.97877356105681, b = -1.0127902650101221, c= -0.061470290222121915, E(a,b,c) = 28.135907145112025\n",
      "Iteration 52: a = 89.97866123374061, b = -1.0127972554802556, c= -0.06223597867169751, E(a,b,c) = 28.112053913199148\n",
      "Iteration 53: a = 89.97854909059384, b = -1.0128014226610633, c= -0.06299489129765572, E(a,b,c) = 28.088614691127063\n",
      "Iteration 54: a = 89.97843712319269, b = -1.0128032428898686, c= -0.06374709293135204, E(a,b,c) = 28.06558125379907\n",
      "Iteration 55: a = 89.97832532430635, b = -1.0128031141621279, c= -0.06449264696227443, E(a,b,c) = 28.04294581658452\n",
      "Iteration 56: a = 89.97821368770276, b = -1.012801368998792, c= -0.06523161549398375, E(a,b,c) = 28.02070093819069\n",
      "Iteration 57: a = 89.97810220798625, b = -1.0127982852004023, c= -0.06596405947515378, E(a,b,c) = 27.99883945219518\n",
      "Iteration 58: a = 89.9779908804618, b = -1.0127940948349916, c= -0.06669003880979413, E(a,b,c) = 27.977354418606808\n",
      "Iteration 59: a = 89.9778797010216, b = -1.0127889917498598, c= -0.06740961245006864, E(a,b,c) = 27.956239089429452\n",
      "Iteration 60: a = 89.97776866605027, b = -1.012783137849654, c= -0.06812283847456174, E(a,b,c) = 27.935486884015784\n",
      "Iteration 61: a = 89.9776577723455, b = -1.0127766683433654, c= -0.06882977415437634, E(a,b,c) = 27.91509137127053\n",
      "Iteration 62: a = 89.97754701705189, b = -1.012769696129587, c= -0.06953047600905597, E(a,b,c) = 27.895046256648385\n",
      "Iteration 63: a = 89.97743639760549, b = -1.0127623154615513, c= -0.07022499985399631, E(a,b,c) = 27.875345372510225\n",
      "Iteration 64: a = 89.97732591168752, b = -1.0127546050102412, c= -0.07091340084073781, E(a,b,c) = 27.85598267083601\n",
      "Iteration 65: a = 89.97721555718563, b = -1.0127466304244228, c= -0.07159573349130291, E(a,b,c) = 27.836952217592582\n",
      "Iteration 66: a = 89.97710533216154, b = -1.0127384464702287, c= -0.07227205172754993, E(a,b,c) = 27.81824818826734\n",
      "Iteration 67: a = 89.97699523482399, b = -1.01273009881934, c= -0.07294240889635642, E(a,b,c) = 27.799864864225686\n",
      "Iteration 68: a = 89.97688526350603, b = -1.0127216255434817, c= -0.07360685779131117, E(a,b,c) = 27.781796629652334\n",
      "Iteration 69: a = 89.9767754166462, b = -1.012713058363463, c= -0.07426545067148257, E(a,b,c) = 27.76403796891083\n",
      "Iteration 70: a = 89.9766656927726, b = -1.0127044236930756, c= -0.07491823927773796, E(a,b,c) = 27.74658346420211\n",
      "Iteration 71: a = 89.97655609048968, b = -1.0126957435115411, c= -0.07556527484701045, E(a,b,c) = 27.72942779344252\n",
      "Iteration 72: a = 89.97644660846714, b = -1.0126870360926647, c= -0.0762066081248451, E(a,b,c) = 27.712565728302202\n",
      "Iteration 73: a = 89.97633724543068, b = -1.0126783166142312, c= -0.07684228937650117, E(a,b,c) = 27.695992132364758\n",
      "Iteration 74: a = 89.9762280001542, b = -1.012669597667309, c= -0.0774723683968425, E(a,b,c) = 27.679701959379372\n",
      "Iteration 75: a = 89.9761188714533, b = -1.0126608896819018, c= -0.07809689451920956, E(a,b,c) = 27.663690251586132\n",
      "Iteration 76: a = 89.97600985817988, b = -1.0126522012826877, c= -0.07871591662343505, E(a,b,c) = 27.647952138099587\n",
      "Iteration 77: a = 89.9759009592175, b = -1.0126435395863258, c= -0.07932948314313845, E(a,b,c) = 27.632482833341435\n",
      "Iteration 78: a = 89.97579217347761, b = -1.0126349104499281, c= -0.0799376420724128, E(a,b,c) = 27.61727763551531\n",
      "Iteration 79: a = 89.97568349989632, b = -1.012626318678717, c= -0.08054044097199825, E(a,b,c) = 27.602331925117888\n",
      "Iteration 80: a = 89.97557493743169, b = -1.0126177681995714, c= -0.08113792697502151, E(a,b,c) = 27.587641163483237\n",
      "Iteration 81: a = 89.97546648506147, b = -1.0126092622060634, c= -0.08173014679236747, E(a,b,c) = 27.57320089135755\n",
      "Iteration 82: a = 89.97535814178124, b = -1.0126008032796685, c= -0.08231714671773839, E(a,b,c) = 27.559006727502243\n",
      "Iteration 83: a = 89.97524990660273, b = -1.0125923934910621, c= -0.08289897263244682, E(a,b,c) = 27.54505436732367\n",
      "Iteration 84: a = 89.9751417785525, b = -1.012584034484773, c= -0.08347567000998111, E(a,b,c) = 27.531339581528904\n",
      "Iteration 85: a = 89.97503375667085, b = -1.012575727549927, c= -0.08404728392037601, E(a,b,c) = 27.51785821480585\n",
      "Iteration 86: a = 89.97492584001078, b = -1.0125674736793653, c= -0.08461385903441533, E(a,b,c) = 27.50460618452721\n",
      "Iteration 87: a = 89.97481802763721, b = -1.012559273619048, c= -0.08517543962768957, E(a,b,c) = 27.491579479478073\n",
      "Iteration 88: a = 89.97471031862628, b = -1.0125511279093362, c= -0.08573206958452745, E(a,b,c) = 27.47877415860573\n",
      "Iteration 89: a = 89.97460271206474, b = -1.0125430369194877, c= -0.08628379240181734, E(a,b,c) = 27.466186349791947\n",
      "Iteration 90: a = 89.97449520704946, b = -1.012535000876482, c= -0.08683065119273202, E(a,b,c) = 27.453812248646585\n",
      "Iteration 91: a = 89.97438780268702, b = -1.0125270198891043, c= -0.08737268869036781, E(a,b,c) = 27.44164811732306\n",
      "Iteration 92: a = 89.97428049809331, b = -1.0125190939680675, c= -0.08790994725130777, E(a,b,c) = 27.429690283353715\n",
      "Iteration 93: a = 89.97417329239319, b = -1.0125112230428237, c= -0.0884424688591166, E(a,b,c) = 27.417935138506447\n",
      "Iteration 94: a = 89.97406618472024, b = -1.012503406975608, c= -0.08897029512777407, E(a,b,c) = 27.406379137661027\n",
      "Iteration 95: a = 89.97395917421652, b = -1.0124956455731704, c= -0.08949346730505264, E(a,b,c) = 27.39501879770499\n",
      "Iteration 96: a = 89.97385226003232, b = -1.0124879385965744, c= -0.09001202627584368, E(a,b,c) = 27.383850696449084\n",
      "Iteration 97: a = 89.973745441326, b = -1.0124802857693802, c= -0.09052601256543663, E(a,b,c) = 27.372871471561673\n",
      "Iteration 98: a = 89.97363871726382, b = -1.0124726867844782, c= -0.09103546634275432, E(a,b,c) = 27.362077819521783\n",
      "Iteration 99: a = 89.97353208701978, b = -1.0124651413097945, c= -0.0915404274235472, E(a,b,c) = 27.35146649459015\n",
      "Iteration 100: a = 89.97342554977546, b = -1.0124576489930524, c= -0.09204093527354916, E(a,b,c) = 27.341034307798903\n",
      "Iteration 101: a = 89.97331910471993, b = -1.0124502094657482, c= -0.09253702901159669, E(a,b,c) = 27.330778125958304\n",
      "Iteration 102: a = 89.97321275104967, b = -1.0124428223464657, c= -0.09302874741271343, E(a,b,c) = 27.320694870681354\n",
      "Iteration 103: a = 89.97310648796837, b = -1.0124354872436427, c= -0.09351612891116143, E(a,b,c) = 27.310781517425056\n",
      "Iteration 104: a = 89.9730003146869, b = -1.0124282037578767, c= -0.09399921160346053, E(a,b,c) = 27.30103509454864\n",
      "Iteration 105: a = 89.97289423042321, b = -1.0124209714838455, c= -0.09447803325137688, E(a,b,c) = 27.291452682388314\n",
      "Iteration 106: a = 89.97278823440223, b = -1.0124137900119086, c= -0.09495263128488167, E(a,b,c) = 27.282031412348122\n",
      "Iteration 107: a = 89.97268232585581, b = -1.0124066589294385, c= -0.09542304280508085, E(a,b,c) = 27.27276846600679\n",
      "Iteration 108: a = 89.97257650402263, b = -1.0123995778219286, c= -0.09588930458711663, E(a,b,c) = 27.263661074239845\n",
      "Iteration 109: a = 89.97247076814811, b = -1.0123925462739136, c= -0.09635145308304144, E(a,b,c) = 27.254706516357757\n",
      "Iteration 110: a = 89.97236511748437, b = -1.0123855638697334, c= -0.09680952442466483, E(a,b,c) = 27.24590211925844\n",
      "Iteration 111: a = 89.97225955129015, b = -1.0123786301941662, c= -0.09726355442637391, E(a,b,c) = 27.237245256594935\n",
      "Iteration 112: a = 89.97215406883072, b = -1.0123717448329521, c= -0.09771357858792791, E(a,b,c) = 27.228733347957974\n",
      "Iteration 113: a = 89.97204866937786, b = -1.012364907373226, c= -0.09815963209722699, E(a,b,c) = 27.220363858071945\n",
      "Iteration 114: a = 89.97194335220976, b = -1.0123581174038734, c= -0.09860174983305599, E(a,b,c) = 27.212134296005846\n",
      "Iteration 115: a = 89.97183811661101, b = -1.012351374515824, c= -0.0990399663678034, E(a,b,c) = 27.204042214397575\n",
      "Iteration 116: a = 89.97173296187246, b = -1.01234467830229, c= -0.09947431597015577, E(a,b,c) = 27.19608520869178\n",
      "Iteration 117: a = 89.97162788729122, b = -1.0123380283589625, c= -0.09990483260776792, E(a,b,c) = 27.188260916391055\n",
      "Iteration 118: a = 89.9715228921706, b = -1.0123314242841683, c= -0.10033154994990945, E(a,b,c) = 27.18056701632064\n",
      "Iteration 119: a = 89.97141797582002, b = -1.0123248656789983, c= -0.10075450137008746, E(a,b,c) = 27.173001227905267\n",
      "Iteration 120: a = 89.97131313755499, b = -1.0123183521474075, c= -0.10117371994864607, E(a,b,c) = 27.165561310459243\n",
      "Iteration 121: a = 89.97120837669704, b = -1.012311883296296, c= -0.10158923847534282, E(a,b,c) = 27.158245062488703\n",
      "Iteration 122: a = 89.97110369257365, b = -1.0123054587355704, c= -0.10200108945190221, E(a,b,c) = 27.151050321006068\n",
      "Iteration 123: a = 89.97099908451824, b = -1.0122990780781904, c= -0.10240930509454672, E(a,b,c) = 27.14397496085659\n",
      "Iteration 124: a = 89.97089455187009, b = -1.012292740940204, c= -0.10281391733650534, E(a,b,c) = 27.13701689405668\n",
      "Iteration 125: a = 89.97079009397426, b = -1.012286446940771, c= -0.10321495783050005, E(a,b,c) = 27.130174069143482\n",
      "Iteration 126: a = 89.97068571018158, b = -1.0122801957021788, c= -0.10361245795121032, E(a,b,c) = 27.12344447053632\n",
      "Iteration 127: a = 89.9705813998486, b = -1.01227398684985, c= -0.10400644879771584, E(a,b,c) = 27.116826117909106\n",
      "Iteration 128: a = 89.97047716233749, b = -1.0122678200123463, c= -0.10439696119591779, E(a,b,c) = 27.110317065573508\n",
      "Iteration 129: a = 89.97037299701606, b = -1.012261694821364, c= -0.10478402570093878, E(a,b,c) = 27.103915401873333\n",
      "Iteration 130: a = 89.97026890325765, b = -1.012255610911729, c= -0.10516767259950159, E(a,b,c) = 27.09761924858906\n",
      "Iteration 131: a = 89.97016488044112, b = -1.012249567921386, c= -0.10554793191228704, E(a,b,c) = 27.091426760353162\n",
      "Iteration 132: a = 89.97006092795078, b = -1.0122435654913855, c= -0.10592483339627107, E(a,b,c) = 27.085336124075354\n",
      "Iteration 133: a = 89.96995704517636, b = -1.0122376032658689, c= -0.10629840654704134, E(a,b,c) = 27.079345558378122\n",
      "Iteration 134: a = 89.96985323151293, b = -1.012231680892052, c= -0.10666868060109339, E(a,b,c) = 27.073453313042098\n",
      "Iteration 135: a = 89.9697494863609, b = -1.0122257980202058, c= -0.10703568453810657, E(a,b,c) = 27.06765766846089\n",
      "Iteration 136: a = 89.96964580912594, b = -1.0122199543036374, c= -0.10739944708320007, E(a,b,c) = 27.061956935105787\n",
      "Iteration 137: a = 89.96954219921892, b = -1.012214149398669, c= -0.10775999670916907, E(a,b,c) = 27.056349452999587\n",
      "Iteration 138: a = 89.96943865605591, b = -1.012208382964616, c= -0.1081173616387012, E(a,b,c) = 27.050833591199677\n",
      "Iteration 139: a = 89.9693351790581, b = -1.012202654663766, c= -0.10847156984657358, E(a,b,c) = 27.045407747290437\n",
      "Iteration 140: a = 89.96923176765178, b = -1.0121969641613544, c= -0.1088226490618305, E(a,b,c) = 27.040070346883834\n",
      "Iteration 141: a = 89.96912842126824, b = -1.0121913111255432, c= -0.10917062676994205, E(a,b,c) = 27.034819843129632\n",
      "Iteration 142: a = 89.9690251393438, b = -1.0121856952273967, c= -0.1095155302149436, E(a,b,c) = 27.029654716233523\n",
      "Iteration 143: a = 89.96892192131972, b = -1.0121801161408581, c= -0.10985738640155675, E(a,b,c) = 27.024573472983903\n",
      "Iteration 144: a = 89.96881876664217, b = -1.0121745735427263, c= -0.1101962220972914, E(a,b,c) = 27.019574646286745\n",
      "Iteration 145: a = 89.9687156747622, b = -1.0121690671126322, c= -0.1105320638345295, E(a,b,c) = 27.01465679470916\n",
      "Iteration 146: a = 89.96861264513565, b = -1.0121635965330145, c= -0.11086493791259043, E(a,b,c) = 27.00981850203044\n",
      "Iteration 147: a = 89.96850967722317, b = -1.0121581614890964, c= -0.11119487039977825, E(a,b,c) = 27.00505837680066\n",
      "Iteration 148: a = 89.96840677049012, b = -1.012152761668862, c= -0.11152188713541099, E(a,b,c) = 27.000375051908012\n",
      "Iteration 149: a = 89.96830392440658, b = -1.0121473967630323, c= -0.11184601373183203, E(a,b,c) = 26.99576718415271\n",
      "Iteration 150: a = 89.96820113844728, b = -1.012142066465043, c= -0.11216727557640396, E(a,b,c) = 26.991233453828933\n",
      "Iteration 151: a = 89.96809841209156, b = -1.0121367704710191, c= -0.11248569783348474, E(a,b,c) = 26.98677256431366\n",
      "Iteration 152: a = 89.96799574482333, b = -1.0121315084797537, c= -0.11280130544638665, E(a,b,c) = 26.9823832416634\n",
      "Iteration 153: a = 89.96789313613102, b = -1.0121262801926836, c= -0.11311412313931798, E(a,b,c) = 26.978064234216816\n",
      "Iteration 154: a = 89.9677905855076, b = -1.0121210853138667, c= -0.11342417541930762, E(a,b,c) = 26.973814312205704\n",
      "Iteration 155: a = 89.96768809245046, b = -1.0121159235499593, c= -0.11373148657811281, E(a,b,c) = 26.969632267371622\n",
      "Iteration 156: a = 89.9675856564614, b = -1.0121107946101937, c= -0.11403608069411014, E(a,b,c) = 26.965516912589695\n",
      "Iteration 157: a = 89.9674832770466, b = -1.0121056982063554, c= -0.11433798163416982, E(a,b,c) = 26.961467081499062\n",
      "Iteration 158: a = 89.96738095371659, b = -1.0121006340527607, c= -0.11463721305551364, E(a,b,c) = 26.957481628139643\n",
      "Iteration 159: a = 89.96727868598619, b = -1.012095601866235, c= -0.1149337984075565, E(a,b,c) = 26.95355942659549\n",
      "Iteration 160: a = 89.9671764733745, b = -1.0120906013660904, c= -0.11522776093373185, E(a,b,c) = 26.949699370643994\n",
      "Iteration 161: a = 89.9670743154048, b = -1.0120856322741045, c= -0.11551912367330099, E(a,b,c) = 26.945900373411256\n",
      "Iteration 162: a = 89.96697221160461, b = -1.0120806943144982, c= -0.11580790946314655, E(a,b,c) = 26.94216136703419\n",
      "Iteration 163: a = 89.96687016150557, b = -1.0120757872139148, c= -0.11609414093955024, E(a,b,c) = 26.93848130232754\n",
      "Iteration 164: a = 89.96676816464344, b = -1.0120709107013983, c= -0.11637784053995491, E(a,b,c) = 26.934859148457292\n",
      "Iteration 165: a = 89.96666622055805, b = -1.0120660645083728, c= -0.11665903050471117, E(a,b,c) = 26.931293892619905\n",
      "Iteration 166: a = 89.9665643287933, b = -1.0120612483686213, c= -0.11693773287880867, E(a,b,c) = 26.927784539726574\n",
      "Iteration 167: a = 89.96646248889705, b = -1.0120564620182653, c= -0.11721396951359216, E(a,b,c) = 26.924330112093752\n",
      "Iteration 168: a = 89.96636070042118, b = -1.0120517051957438, c= -0.11748776206846247, E(a,b,c) = 26.92092964913847\n",
      "Iteration 169: a = 89.96625896292147, b = -1.0120469776417937, c= -0.11775913201256259, E(a,b,c) = 26.91758220707938\n",
      "Iteration 170: a = 89.96615727595763, b = -1.012042279099429, c= -0.11802810062644892, E(a,b,c) = 26.914286858642683\n",
      "Iteration 171: a = 89.96605563909321, b = -1.012037609313921, c= -0.11829468900374775, E(a,b,c) = 26.911042692773584\n",
      "Iteration 172: a = 89.96595405189562, b = -1.0120329680327782, c= -0.11855891805279736, E(a,b,c) = 26.907848814352644\n",
      "Iteration 173: a = 89.96585251393606, b = -1.0120283550057276, c= -0.11882080849827557, E(a,b,c) = 26.9047043439168\n",
      "Iteration 174: a = 89.96575102478947, b = -1.0120237699846941, c= -0.11908038088281302, E(a,b,c) = 26.901608417385642\n",
      "Iteration 175: a = 89.96564958403457, b = -1.0120192127237817, c= -0.11933765556859226, E(a,b,c) = 26.898560185792554\n",
      "Iteration 176: a = 89.96554819125375, b = -1.0120146829792545, c= -0.1195926527389329, E(a,b,c) = 26.89555881502011\n",
      "Iteration 177: a = 89.96544684603307, b = -1.0120101805095174, c= -0.11984539239986268, E(a,b,c) = 26.89260348554028\n",
      "Iteration 178: a = 89.96534554796226, b = -1.012005705075098, c= -0.12009589438167485, E(a,b,c) = 26.88969339215979\n",
      "Iteration 179: a = 89.9652442966346, b = -1.0120012564386265, c= -0.12034417834047184, E(a,b,c) = 26.886827743768496\n",
      "Iteration 180: a = 89.96514309164696, b = -1.011996834364819, c= -0.12059026375969534, E(a,b,c) = 26.884005763093864\n",
      "Iteration 181: a = 89.9650419325998, b = -1.0119924386204577, c= -0.12083416995164296, E(a,b,c) = 26.881226686458646\n",
      "Iteration 182: a = 89.96494081909702, b = -1.011988068974374, c= -0.12107591605897165, E(a,b,c) = 26.87848976354286\n",
      "Iteration 183: a = 89.96483975074604, b = -1.0119837251974297, c= -0.12131552105618773, E(a,b,c) = 26.875794257150467\n",
      "Iteration 184: a = 89.96473872715771, b = -1.011979407062499, c= -0.121553003751124, E(a,b,c) = 26.873139442979884\n",
      "Iteration 185: a = 89.9646377479463, b = -1.0119751143444515, c= -0.12178838278640382, E(a,b,c) = 26.87052460939793\n",
      "Iteration 186: a = 89.96453681272949, b = -1.0119708468201345, c= -0.12202167664089228, E(a,b,c) = 26.867949057218983\n",
      "Iteration 187: a = 89.9644359211283, b = -1.011966604268355, c= -0.12225290363113468, E(a,b,c) = 26.865412099486594\n",
      "Iteration 188: a = 89.96433507276707, b = -1.0119623864698635, c= -0.12248208191278241, E(a,b,c) = 26.862913061259956\n",
      "Iteration 189: a = 89.96423426727345, b = -1.0119581932073358, c= -0.12270922948200617, E(a,b,c) = 26.860451279403602\n",
      "Iteration 190: a = 89.96413350427837, b = -1.0119540242653575, c= -0.12293436417689693, E(a,b,c) = 26.858026102381046\n",
      "Iteration 191: a = 89.96403278341599, b = -1.0119498794304056, c= -0.12315750367885446, E(a,b,c) = 26.855636890051795\n",
      "Iteration 192: a = 89.96393210432367, b = -1.0119457584908333, c= -0.12337866551396377, E(a,b,c) = 26.853283013471938\n",
      "Iteration 193: a = 89.963831466642, b = -1.0119416612368526, c= -0.12359786705435938, E(a,b,c) = 26.850963854698627\n",
      "Iteration 194: a = 89.9637308700147, b = -1.0119375874605183, c= -0.12381512551957763, E(a,b,c) = 26.848678806597267\n",
      "Iteration 195: a = 89.96363031408859, b = -1.0119335369557119, c= -0.12403045797789712, E(a,b,c) = 26.846427272652686\n",
      "Iteration 196: a = 89.96352979851365, b = -1.0119295095181255, c= -0.12424388134766737, E(a,b,c) = 26.84420866678348\n",
      "Iteration 197: a = 89.96342932294289, b = -1.0119255049452458, c= -0.1244554123986258, E(a,b,c) = 26.842022413159174\n",
      "Iteration 198: a = 89.96332888703238, b = -1.0119215230363383, c= -0.12466506775320318, E(a,b,c) = 26.839867946021286\n",
      "Iteration 199: a = 89.96322849044121, b = -1.011917563592432, c= -0.12487286388781754, E(a,b,c) = 26.837744709507007\n",
      "Iteration 200: a = 89.96312813283149, b = -1.0119136264163033, c= -0.12507881713415678, E(a,b,c) = 26.835652157476\n",
      "Iteration 201: a = 89.96302781386827, b = -1.0119097113124615, c= -0.12528294368045, E(a,b,c) = 26.833589753340693\n",
      "Iteration 202: a = 89.96292753321954, b = -1.0119058180871328, c= -0.12548525957272766, E(a,b,c) = 26.83155696989876\n",
      "Iteration 203: a = 89.96282729055622, b = -1.0119019465482455, c= -0.1256857807160706, E(a,b,c) = 26.829553289169173\n",
      "Iteration 204: a = 89.96272708555212, b = -1.0118980965054152, c= -0.1258845228758482, E(a,b,c) = 26.827578202231024\n",
      "Iteration 205: a = 89.96262691788391, b = -1.0118942677699296, c= -0.12608150167894566, E(a,b,c) = 26.825631209064827\n",
      "Iteration 206: a = 89.9625267872311, b = -1.0118904601547345, c= -0.12627673261498037, E(a,b,c) = 26.823711818397076\n",
      "Iteration 207: a = 89.96242669327602, b = -1.0118866734744185, c= -0.12647023103750776, E(a,b,c) = 26.82181954754691\n",
      "Iteration 208: a = 89.96232663570377, b = -1.011882907545199, c= -0.12666201216521641, E(a,b,c) = 26.819953922276206\n",
      "Iteration 209: a = 89.96222661420225, b = -1.0118791621849075, c= -0.12685209108311277, E(a,b,c) = 26.818114476641625\n",
      "Iteration 210: a = 89.96212662846207, b = -1.011875437212976, c= -0.12704048274369542, E(a,b,c) = 26.816300752849745\n",
      "Iteration 211: a = 89.9620266781766, b = -1.0118717324504223, c= -0.12722720196811904, E(a,b,c) = 26.814512301114384\n",
      "Iteration 212: a = 89.96192676304184, b = -1.011868047719837, c= -0.12741226344734813, E(a,b,c) = 26.812748679516474\n",
      "Iteration 213: a = 89.96182688275653, b = -1.0118643828453682, c= -0.12759568174330063, E(a,b,c) = 26.81100945386666\n",
      "Iteration 214: a = 89.96172703702199, b = -1.0118607376527093, c= -0.1277774712899815, E(a,b,c) = 26.80929419756986\n",
      "Iteration 215: a = 89.96162722554222, b = -1.011857111969085, c= -0.1279576463946062, E(a,b,c) = 26.80760249149276\n",
      "Iteration 216: a = 89.96152744802377, b = -1.0118535056232367, c= -0.12813622123871457, E(a,b,c) = 26.805933923832878\n",
      "Iteration 217: a = 89.96142770417582, b = -1.0118499184454115, c= -0.1283132098792747, E(a,b,c) = 26.804288089990663\n",
      "Iteration 218: a = 89.96132799371006, b = -1.0118463502673465, c= -0.1284886262497771, E(a,b,c) = 26.802664592443485\n",
      "Iteration 219: a = 89.96122831634074, b = -1.0118428009222573, c= -0.1286624841613196, E(a,b,c) = 26.801063040621738\n",
      "Iteration 220: a = 89.9611286717846, b = -1.0118392702448245, c= -0.12883479730368205, E(a,b,c) = 26.79948305078718\n",
      "Iteration 221: a = 89.9610290597609, b = -1.011835758071181, c= -0.12900557924639242, E(a,b,c) = 26.79792424591358\n",
      "Iteration 222: a = 89.96092947999132, b = -1.0118322642388988, c= -0.12917484343978275, E(a,b,c) = 26.796386255569345\n",
      "Iteration 223: a = 89.96082993220001, b = -1.011828788586977, c= -0.12934260321603638, E(a,b,c) = 26.794868715801897\n",
      "Iteration 224: a = 89.96073041611356, b = -1.0118253309558287, c= -0.12950887179022574, E(a,b,c) = 26.79337126902481\n",
      "Iteration 225: a = 89.96063093146093, b = -1.0118218911872692, c= -0.129673662261341, E(a,b,c) = 26.79189356390598\n",
      "Iteration 226: a = 89.96053147797348, b = -1.011818469124503, c= -0.1298369876133098, E(a,b,c) = 26.79043525525864\n",
      "Iteration 227: a = 89.96043205538491, b = -1.0118150646121116, c= -0.12999886071600797, E(a,b,c) = 26.78899600393351\n",
      "Iteration 228: a = 89.96033266343129, b = -1.0118116774960422, c= -0.13015929432626133, E(a,b,c) = 26.787575476713403\n",
      "Iteration 229: a = 89.96023330185098, b = -1.0118083076235953, c= -0.13031830108883877, E(a,b,c) = 26.786173346209512\n",
      "Iteration 230: a = 89.96013397038466, b = -1.0118049548434123, c= -0.13047589353743652, E(a,b,c) = 26.78478929075931\n",
      "Iteration 231: a = 89.96003466877528, b = -1.0118016190054642, c= -0.1306320840956539, E(a,b,c) = 26.783422994326607\n",
      "Iteration 232: a = 89.95993539676803, b = -1.0117982999610402, c= -0.13078688507796035, E(a,b,c) = 26.782074146402724\n",
      "Iteration 233: a = 89.95983615411036, b = -1.0117949975627356, c= -0.13094030869065404, E(a,b,c) = 26.780742441910274\n",
      "Iteration 234: a = 89.95973694055193, b = -1.0117917116644406, c= -0.13109236703281207, E(a,b,c) = 26.779427581107967\n",
      "Iteration 235: a = 89.95963775584461, b = -1.0117884421213283, c= -0.13124307209723238, E(a,b,c) = 26.77812926949729\n",
      "Iteration 236: a = 89.95953859974243, b = -1.0117851887898448, c= -0.13139243577136714, E(a,b,c) = 26.77684721773068\n",
      "Iteration 237: a = 89.95943947200159, b = -1.0117819515276967, c= -0.13154046983824827, E(a,b,c) = 26.775581141521723\n",
      "Iteration 238: a = 89.95934037238044, b = -1.0117787301938406, c= -0.13168718597740464, E(a,b,c) = 26.774330761556346\n",
      "Iteration 239: a = 89.95924130063945, b = -1.0117755246484719, c= -0.13183259576577122, E(a,b,c) = 26.773095803406015\n",
      "Iteration 240: a = 89.95914225654117, b = -1.0117723347530143, c= -0.13197671067859026, E(a,b,c) = 26.77187599744215\n",
      "Iteration 241: a = 89.95904323985027, b = -1.0117691603701089, c= -0.13211954209030463, E(a,b,c) = 26.77067107875226\n",
      "Iteration 242: a = 89.95894425033347, b = -1.0117660013636027, c= -0.13226110127544322, E(a,b,c) = 26.769480787057486\n",
      "Iteration 243: a = 89.95884528775954, b = -1.0117628575985396, c= -0.13240139940949852, E(a,b,c) = 26.76830486663145\n",
      "Iteration 244: a = 89.95874635189928, b = -1.011759728941148, c= -0.13254044756979672, E(a,b,c) = 26.767143066220754\n",
      "Iteration 245: a = 89.9586474425255, b = -1.011756615258832, c= -0.13267825673635983, E(a,b,c) = 26.765995138966524\n",
      "Iteration 246: a = 89.95854855941302, b = -1.0117535164201603, c= -0.13281483779276057, E(a,b,c) = 26.764860842327852\n",
      "Iteration 247: a = 89.95844970233861, b = -1.0117504322948563, c= -0.13295020152696946, E(a,b,c) = 26.76373993800599\n",
      "Iteration 248: a = 89.95835087108105, b = -1.0117473627537872, c= -0.13308435863219467, E(a,b,c) = 26.762632191870374\n",
      "Iteration 249: a = 89.95825206542101, b = -1.0117443076689547, c= -0.13321731970771444, E(a,b,c) = 26.761537373885535\n",
      "Iteration 250: a = 89.95815328514111, b = -1.0117412669134853, c= -0.13334909525970207, E(a,b,c) = 26.76045525803953\n",
      "Iteration 251: a = 89.95805453002589, b = -1.0117382403616195, c= -0.13347969570204382, E(a,b,c) = 26.75938562227381\n",
      "Iteration 252: a = 89.95795579986176, b = -1.0117352278887028, c= -0.1336091313571496, E(a,b,c) = 26.758328248413477\n",
      "Iteration 253: a = 89.95785709443703, b = -1.0117322293711755, c= -0.1337374124567565, E(a,b,c) = 26.75728292210002\n",
      "Iteration 254: a = 89.95775841354185, b = -1.011729244686563, c= -0.13386454914272514, E(a,b,c) = 26.756249432724207\n",
      "Iteration 255: a = 89.95765975696823, b = -1.011726273713467, c= -0.13399055146782934, E(a,b,c) = 26.755227573360486\n",
      "Iteration 256: a = 89.95756112450997, b = -1.011723316331555, c= -0.13411542939653853, E(a,b,c) = 26.754217140702615\n",
      "Iteration 257: a = 89.95746251596272, b = -1.0117203724215524, c= -0.1342391928057935, E(a,b,c) = 26.753217935000535\n",
      "The local minimum occurs at a = 89.95746251596272, b = -1.0117203724215524, c=-0.1342391928057935\n",
      "In 256 iterations, the local minimum occurs at a = 89.95746251596272 b = -1.0117203724215524 c = -0.1342391928057935 with a minimum error of E(b) = 26.753217935000535\n"
     ]
    }
   ],
   "source": [
    "a = 90 \n",
    "b = 0 \n",
    "c = 0\n",
    "alpha = 0.000025 \n",
    "epsilon = 0.001\n",
    "max_iters = 1000 \n",
    "\n",
    "def E(a, b, c):\n",
    "    summation = 0\n",
    "    for rownum in np.arange(len(cleaned_data)):\n",
    "        x = cleaned_data.loc[rownum, 'age_x']\n",
    "        y = cleaned_data.loc[rownum, 'Expectation of life at age x']\n",
    "        w = cleaned_data.loc[rownum, 'LERatio']\n",
    "        summation += (y - a - b*x - c*w)**2\n",
    "    return 1/len(cleaned_data) * summation\n",
    "\n",
    "def partialE_a(a, b, c): # 1st derivative of E(a, b, c) with respect to a\n",
    "    summation = 0\n",
    "    for rownum in np.arange(len(cleaned_data)):\n",
    "        x = cleaned_data.loc[rownum, 'age_x']\n",
    "        y = cleaned_data.loc[rownum, 'Expectation of life at age x']\n",
    "        w = cleaned_data.loc[rownum, 'LERatio']\n",
    "        summation += y - a - b*x - c*w\n",
    "    return -2/len(cleaned_data) * summation\n",
    "\n",
    "def partialE_b(a, b, c): # 1st derivative of E(a, b, c) with respect to b\n",
    "    summation = 0\n",
    "    for rownum in np.arange(len(cleaned_data)):\n",
    "        x = cleaned_data.loc[rownum, 'age_x']\n",
    "        y = cleaned_data.loc[rownum, 'Expectation of life at age x']\n",
    "        w = cleaned_data.loc[rownum, 'LERatio']\n",
    "        summation += x * (y - a - b*x - c*w)\n",
    "    return -2/len(cleaned_data) * summation\n",
    "\n",
    "def partialE_c(a, b, c): # 1st derivative of E(a, b, c) with respect to c\n",
    "    summation = 0\n",
    "    for rownum in np.arange(len(cleaned_data)):\n",
    "        x = cleaned_data.loc[rownum, 'age_x']\n",
    "        y = cleaned_data.loc[rownum, 'Expectation of life at age x']\n",
    "        w = cleaned_data.loc[rownum, 'LERatio']\n",
    "        summation += w * (y - a - b*x - c*w)\n",
    "    return -2/len(cleaned_data) * summation\n",
    "\n",
    "for iter in range(max_iters): # Gradient Descent\n",
    "    new_a = a - alpha * partialE_a(a, b, c) # update of a\n",
    "    new_b = b - alpha * partialE_b(a, b, c) # update of b\n",
    "    new_c = c - alpha * partialE_c(a, b, c) # update of c\n",
    "    diff = abs(E(new_a, new_b, new_c) - E(a, b, c)) # stopping criterion\n",
    "    print(f\"Iteration {iter+1}: a = {new_a}, b = {new_b}, c= {new_c}, E(a,b,c) = {E(new_a, new_b, new_c)}\")\n",
    "    if diff < epsilon:\n",
    "        print(f\"The local minimum occurs at a = {new_a}, b = {new_b}, c={new_c}\")\n",
    "        break\n",
    "    a = new_a\n",
    "    b = new_b\n",
    "    c = new_c\n",
    "\n",
    "print(f\"In {iter} iterations, the local minimum occurs at a = {new_a} b = {new_b} c = {new_c} with a minimum error of E(b) = {E(new_a, new_b, new_c)}\")"
   ]
  },
  {
   "cell_type": "code",
   "execution_count": 218,
   "metadata": {},
   "outputs": [
    {
     "data": {
      "image/png": "[encoded data removed]",
      "text/plain": [
       "<Figure size 1000x600 with 1 Axes>"
      ]
     },
     "metadata": {},
     "output_type": "display_data"
    }
   ],
   "source": [
    "a_model1 = 89.957\n",
    "b_model1 = -1.0117\n",
    "w_model1 = -0.13424\n",
    "x_model1 = cleaned_data['age_x']\n",
    "y_model1 = a_model1 + b_model1 * x_model1 + w_model1 * cleaned_data['LERatio']\n",
    "\n",
    "a_model2 = new_a  \n",
    "b_model2 = new_b \n",
    "x_model2 = cleaned_data['age_x']\n",
    "y_model2 = a_model2 + b_model2 * x_model2\n",
    "\n",
    "# Plotting both models\n",
    "plt.figure(figsize=(10, 6))\n",
    "\n",
    "# Plot actual values in blue\n",
    "plt.scatter(x_model1, cleaned_data['Expectation of life at age x'], color='blue', label='Actual')\n",
    "\n",
    "# Plot regression line of Model 1 in red\n",
    "plt.scatter(x_model1, y_model1, color='red', label='Model 2')\n",
    "\n",
    "# Plot regression line of Model 2 in green\n",
    "plt.plot(x_model2, y_model2, color='green', label='Model 3')\n",
    "\n",
    "plt.xlabel('Age_x')\n",
    "plt.ylabel('Expectation of life at age x')\n",
    "plt.title('Comparison of Regression Models')\n",
    "plt.legend()\n",
    "plt.show()"
   ]
  }
 ],
 "metadata": {
  "kernelspec": {
   "display_name": "Python 3",
   "language": "python",
   "name": "python3"
  },
  "language_info": {
   "codemirror_mode": {
    "name": "ipython",
    "version": 3
   },
   "file_extension": ".py",
   "mimetype": "text/x-python",
   "name": "python",
   "nbconvert_exporter": "python",
   "pygments_lexer": "ipython3",
   "version": "3.10.9"
  },
  "orig_nbformat": 4
 },
 "nbformat": 4,
 "nbformat_minor": 2
}
