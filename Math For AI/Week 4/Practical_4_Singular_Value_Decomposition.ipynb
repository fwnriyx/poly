{
 "cells": [
  {
   "attachments": {},
   "cell_type": "markdown",
   "metadata": {},
   "source": [
    "# Practical 4: Singular Value Decomposition"
   ]
  },
  {
   "cell_type": "code",
   "execution_count": null,
   "metadata": {},
   "outputs": [],
   "source": [
    "import matplotlib.pyplot as plt\n",
    "import matplotlib.image as image\n",
    "import numpy as np\n",
    "import os"
   ]
  },
  {
   "attachments": {},
   "cell_type": "markdown",
   "metadata": {},
   "source": [
    "### Reading an image\n",
    "\n",
    "We can use the matplotlib package to read an image as an array of numbers."
   ]
  },
  {
   "cell_type": "code",
   "execution_count": null,
   "metadata": {},
   "outputs": [],
   "source": [
    "os.chdir('D:/MS0240')"
   ]
  },
  {
   "cell_type": "code",
   "execution_count": null,
   "metadata": {},
   "outputs": [],
   "source": [
    "# load image as pixel array\n",
    "imgfull = image.imread('flower.jpg')\n",
    "print(np.shape(imgfull))\n",
    "\n",
    "# display the 3D array image\n",
    "plt.imshow(imgfull)\n",
    "plt.show()"
   ]
  },
  {
   "attachments": {},
   "cell_type": "markdown",
   "metadata": {},
   "source": [
    "Notice that the image is a 3D array of numbers, each number corresponding to intensity value of one pixel on either the red, green or blue channel. We will be working only on one channel later to illustrate image compression."
   ]
  },
  {
   "cell_type": "code",
   "execution_count": null,
   "metadata": {},
   "outputs": [],
   "source": [
    "# taking only the red channel image\n",
    "img = imgfull[:,:,0]  \n",
    "print(np.shape(img))\n",
    "\n",
    "# display the matrix image\n",
    "plt.imshow(img,cmap='gray')\n",
    "plt.show()"
   ]
  },
  {
   "attachments": {},
   "cell_type": "markdown",
   "metadata": {},
   "source": [
    "### Singular Value Decomposition\n",
    "\n",
    "We can use numpy.linalg.svd to find a singular value decomposition for a matrix $\\mathbf{A}=\\begin{bmatrix}1 & 2 & 1 \\\\ 0 & 1 & 4 \\\\ 1 & 4 & 9 \\\\ 1 & -1 & -11 \\end{bmatrix}$."
   ]
  },
  {
   "cell_type": "code",
   "execution_count": null,
   "metadata": {},
   "outputs": [],
   "source": [
    "# Define matrix A\n",
    "A = np.array([[1,2,1],[0,1,4],[1,4,9],[1,-1,-11]])\n",
    "m,n = np.shape(A)\n",
    "U,S,VT = np.linalg.svd(A)\n",
    "V = VT.T\n",
    "\n",
    "if m!=n:\n",
    "    Sigma = np.zeros([m,n])\n",
    "    for row in range(len(S)):\n",
    "        Sigma[row,row]=S[row]       \n",
    "else:\n",
    "    Sigma = np.diag(S)\n",
    "\n",
    "print(\"A is: \", A)\n",
    "print(\"U is: \", U)\n",
    "print(\"Sigma is: \", Sigma)\n",
    "print(\"V is: \", V)"
   ]
  },
  {
   "attachments": {},
   "cell_type": "markdown",
   "metadata": {},
   "source": [
    "We can verify that $\\mathbf{A}=\\mathbf{U\\Sigma V}^T$."
   ]
  },
  {
   "cell_type": "code",
   "execution_count": null,
   "metadata": {},
   "outputs": [],
   "source": [
    "print(np.matmul(np.matmul(U,Sigma),VT))"
   ]
  },
  {
   "attachments": {},
   "cell_type": "markdown",
   "metadata": {},
   "source": [
    "Notice that $\\mathbf{A}$ only has 2 positive singular values, 15.2 and 3.41."
   ]
  },
  {
   "attachments": {},
   "cell_type": "markdown",
   "metadata": {},
   "source": [
    "### Reduced Singular Value Decomposition\n",
    "\n",
    "Remove columns in $\\mathbf{U}$ and $\\mathbf{V}$ to obtain a reduced SVD for $\\mathbf{A}$, $\\mathbf{A}=\\mathbf{U}_r\\mathbf{\\Sigma}_r \\mathbf{V}_r^T$."
   ]
  },
  {
   "cell_type": "code",
   "execution_count": null,
   "metadata": {},
   "outputs": [],
   "source": [
    "# select only first r columns of U and V and first r columns and rows of Sigma\n",
    "r = 2\n",
    "U_r = U[:,0:r]\n",
    "Sigma_r = Sigma[0:r,0:r]\n",
    "V_r = V[:,0:r]\n",
    "print(\"U_r is: \", U_r)\n",
    "print(\"Sigma_r is: \", Sigma_r)\n",
    "print(\"V_r is: \", V_r)"
   ]
  },
  {
   "attachments": {},
   "cell_type": "markdown",
   "metadata": {},
   "source": [
    "We can verify that $\\mathbf{A}=\\mathbf{U}_r\\mathbf{\\Sigma}_r \\mathbf{V}_r^T$."
   ]
  },
  {
   "cell_type": "code",
   "execution_count": null,
   "metadata": {},
   "outputs": [],
   "source": [
    "print(np.matmul(np.matmul(U_r,Sigma_r),V_r.T))"
   ]
  },
  {
   "attachments": {},
   "cell_type": "markdown",
   "metadata": {},
   "source": [
    "### Task 1"
   ]
  },
  {
   "attachments": {},
   "cell_type": "markdown",
   "metadata": {},
   "source": [
    "**Eigenvalues of** $\\mathbf{A}^T \\mathbf{A}$: The eigenvalues of $\\mathbf{A}^T \\mathbf{A}$ for any matrix $\\mathbf{A}$ are nonnegative. <br>\n",
    "Verify this using the matrix $\\mathbf{A}=\\begin{bmatrix}2 & 2 & 1 \\\\ 1 & -1 & 8 \\\\ 0 & 4 & -15 \\end{bmatrix}$"
   ]
  },
  {
   "cell_type": "code",
   "execution_count": null,
   "metadata": {},
   "outputs": [],
   "source": [
    "# Solution for Task 1. \n",
    "\n",
    "\n",
    "\n"
   ]
  },
  {
   "cell_type": "code",
   "execution_count": null,
   "metadata": {},
   "outputs": [],
   "source": []
  },
  {
   "attachments": {},
   "cell_type": "markdown",
   "metadata": {},
   "source": [
    "Notice in the above that the eigenvalues of $\\mathbf{A}^T \\mathbf{A}$, 305.59, 10.406 and 0, are all nonnegative. "
   ]
  },
  {
   "cell_type": "code",
   "execution_count": null,
   "metadata": {},
   "outputs": [],
   "source": [
    "# End of solution for Task 1."
   ]
  },
  {
   "attachments": {},
   "cell_type": "markdown",
   "metadata": {},
   "source": [
    "### Task 2"
   ]
  },
  {
   "attachments": {},
   "cell_type": "markdown",
   "metadata": {},
   "source": [
    "**Image compression**: Perform SVD on the image provided and compare the different rank approximations."
   ]
  },
  {
   "cell_type": "code",
   "execution_count": null,
   "metadata": {},
   "outputs": [],
   "source": [
    "#Solution for Task 2. \n",
    "# load image as pixel array\n",
    "\n",
    "\n",
    "# extract only 1 channel and display the dimensions of the matrix\n",
    "\n",
    "\n",
    "# show the image\n"
   ]
  },
  {
   "attachments": {},
   "cell_type": "markdown",
   "metadata": {},
   "source": [
    "Notice that the original image for 1 channel is represented by 1600 $\\times$ 1600 array. That is 2,560,000 numbers altogether."
   ]
  },
  {
   "attachments": {},
   "cell_type": "markdown",
   "metadata": {},
   "source": [
    "Now look at the SVD of the image:"
   ]
  },
  {
   "cell_type": "code",
   "execution_count": null,
   "metadata": {},
   "outputs": [],
   "source": [
    "#Solution for Task 2. \n",
    "# obtain the matrices U, Sigma, V in a SVD of the image\n",
    "\n",
    "\n",
    "\n",
    "# display the dimensions of the matrices \n",
    "\n",
    "\n",
    "\n"
   ]
  },
  {
   "attachments": {},
   "cell_type": "markdown",
   "metadata": {},
   "source": [
    "We can display the singular values that are in the output of the SVD."
   ]
  },
  {
   "cell_type": "code",
   "execution_count": null,
   "metadata": {},
   "outputs": [],
   "source": [
    "for row in range(len(S)):\n",
    "    print(row+1,\"-th singular value is: \",S[row])"
   ]
  },
  {
   "attachments": {},
   "cell_type": "markdown",
   "metadata": {},
   "source": [
    "Based on the singular values, we can choose to perform lower rank approximations of the image. "
   ]
  },
  {
   "cell_type": "code",
   "execution_count": null,
   "metadata": {},
   "outputs": [],
   "source": [
    "#Solution for Task 2. \n",
    "# select only first r columns of U and V and first r columns and rows of Sigma\n",
    "\n",
    "\n",
    "\n",
    "\n",
    "\n",
    "# obtain rank r approximation of the image\n",
    "\n",
    "\n",
    "\n",
    "\n",
    "\n",
    "# show the approximated image \n",
    "\n",
    "\n",
    "\n"
   ]
  },
  {
   "attachments": {},
   "cell_type": "markdown",
   "metadata": {},
   "source": [
    "Notice that in the approximation above, $\\mathbf{U}_r$ and $\\mathbf{V}_r$ each has $1600r$ numbers and $\\Sigma$ has $r$ numbers to store. Calculate the ratio of storage space needed compared to the original 2,560,000 numbers."
   ]
  },
  {
   "cell_type": "code",
   "execution_count": null,
   "metadata": {},
   "outputs": [],
   "source": [
    "# End of solution for Task 2"
   ]
  }
 ],
 "metadata": {
  "kernelspec": {
   "display_name": "Python 3",
   "language": "python",
   "name": "python3"
  },
  "language_info": {
   "codemirror_mode": {
    "name": "ipython",
    "version": 3
   },
   "file_extension": ".py",
   "mimetype": "text/x-python",
   "name": "python",
   "nbconvert_exporter": "python",
   "pygments_lexer": "ipython3",
   "version": "3.10.9"
  }
 },
 "nbformat": 4,
 "nbformat_minor": 2
}
