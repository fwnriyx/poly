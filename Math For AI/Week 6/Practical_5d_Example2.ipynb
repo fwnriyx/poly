{
 "cells": [
  {
   "attachments": {},
   "cell_type": "markdown",
   "metadata": {},
   "source": [
    "# Practical 5D\n",
    "This practical is related to Example 2.\n",
    "<br>Obtain the PCA output table, scree plot and loading plot."
   ]
  },
  {
   "cell_type": "code",
   "execution_count": 2,
   "metadata": {},
   "outputs": [],
   "source": [
    "import pandas as pd\n",
    "import matplotlib.pyplot as plt\n",
    "import seaborn as sns; sns.set()\n",
    "import numpy as np\n",
    "import os"
   ]
  },
  {
   "attachments": {},
   "cell_type": "markdown",
   "metadata": {},
   "source": [
    "Read in the correlation matrix"
   ]
  },
  {
   "cell_type": "code",
   "execution_count": 3,
   "metadata": {
    "scrolled": true
   },
   "outputs": [
    {
     "data": {
      "text/html": [
       "<div>\n",
       "<style scoped>\n",
       "    .dataframe tbody tr th:only-of-type {\n",
       "        vertical-align: middle;\n",
       "    }\n",
       "\n",
       "    .dataframe tbody tr th {\n",
       "        vertical-align: top;\n",
       "    }\n",
       "\n",
       "    .dataframe thead th {\n",
       "        text-align: right;\n",
       "    }\n",
       "</style>\n",
       "<table border=\"1\" class=\"dataframe\">\n",
       "  <thead>\n",
       "    <tr style=\"text-align: right;\">\n",
       "      <th></th>\n",
       "      <th>0.5s</th>\n",
       "      <th>1s</th>\n",
       "      <th>3s</th>\n",
       "      <th>6s</th>\n",
       "      <th>15s</th>\n",
       "    </tr>\n",
       "  </thead>\n",
       "  <tbody>\n",
       "    <tr>\n",
       "      <th>0.5s</th>\n",
       "      <td>1.00</td>\n",
       "      <td>0.71</td>\n",
       "      <td>0.58</td>\n",
       "      <td>0.56</td>\n",
       "      <td>0.65</td>\n",
       "    </tr>\n",
       "    <tr>\n",
       "      <th>1s</th>\n",
       "      <td>0.71</td>\n",
       "      <td>1.00</td>\n",
       "      <td>0.71</td>\n",
       "      <td>0.60</td>\n",
       "      <td>0.69</td>\n",
       "    </tr>\n",
       "    <tr>\n",
       "      <th>3s</th>\n",
       "      <td>0.58</td>\n",
       "      <td>0.71</td>\n",
       "      <td>1.00</td>\n",
       "      <td>0.75</td>\n",
       "      <td>0.71</td>\n",
       "    </tr>\n",
       "    <tr>\n",
       "      <th>6s</th>\n",
       "      <td>0.56</td>\n",
       "      <td>0.60</td>\n",
       "      <td>0.75</td>\n",
       "      <td>1.00</td>\n",
       "      <td>0.74</td>\n",
       "    </tr>\n",
       "    <tr>\n",
       "      <th>15s</th>\n",
       "      <td>0.65</td>\n",
       "      <td>0.69</td>\n",
       "      <td>0.71</td>\n",
       "      <td>0.74</td>\n",
       "      <td>1.00</td>\n",
       "    </tr>\n",
       "  </tbody>\n",
       "</table>\n",
       "</div>"
      ],
      "text/plain": [
       "      0.5s    1s    3s    6s   15s\n",
       "0.5s  1.00  0.71  0.58  0.56  0.65\n",
       "1s    0.71  1.00  0.71  0.60  0.69\n",
       "3s    0.58  0.71  1.00  0.75  0.71\n",
       "6s    0.56  0.60  0.75  1.00  0.74\n",
       "15s   0.65  0.69  0.71  0.74  1.00"
      ]
     },
     "execution_count": 3,
     "metadata": {},
     "output_type": "execute_result"
    }
   ],
   "source": [
    "correlation = pd.read_csv(\"Chp5Eg2.csv\", names=['0.5s', '1s', '3s', '6s', '15s'])\n",
    "correlation.index = ['0.5s', '1s', '3s', '6s', '15s']\n",
    "correlation"
   ]
  },
  {
   "attachments": {},
   "cell_type": "markdown",
   "metadata": {},
   "source": [
    "Obtain the eigenvalues and eigenvectors and put them into dataframes."
   ]
  },
  {
   "cell_type": "code",
   "execution_count": 4,
   "metadata": {},
   "outputs": [
    {
     "data": {
      "text/plain": [
       "array([3.68308861, 0.53125005, 0.33001244, 0.25877216, 0.19687674])"
      ]
     },
     "execution_count": 4,
     "metadata": {},
     "output_type": "execute_result"
    }
   ],
   "source": [
    "w, V = np.linalg.eig(correlation) # eigenvalues and vectors\n",
    "w # eigenvalues"
   ]
  },
  {
   "cell_type": "code",
   "execution_count": 5,
   "metadata": {},
   "outputs": [
    {
     "data": {
      "text/html": [
       "<div>\n",
       "<style scoped>\n",
       "    .dataframe tbody tr th:only-of-type {\n",
       "        vertical-align: middle;\n",
       "    }\n",
       "\n",
       "    .dataframe tbody tr th {\n",
       "        vertical-align: top;\n",
       "    }\n",
       "\n",
       "    .dataframe thead th {\n",
       "        text-align: right;\n",
       "    }\n",
       "</style>\n",
       "<table border=\"1\" class=\"dataframe\">\n",
       "  <thead>\n",
       "    <tr style=\"text-align: right;\">\n",
       "      <th></th>\n",
       "      <th>Eigenvalues</th>\n",
       "    </tr>\n",
       "  </thead>\n",
       "  <tbody>\n",
       "    <tr>\n",
       "      <th>PC1</th>\n",
       "      <td>3.6831</td>\n",
       "    </tr>\n",
       "    <tr>\n",
       "      <th>PC2</th>\n",
       "      <td>0.5313</td>\n",
       "    </tr>\n",
       "    <tr>\n",
       "      <th>PC3</th>\n",
       "      <td>0.3300</td>\n",
       "    </tr>\n",
       "    <tr>\n",
       "      <th>PC4</th>\n",
       "      <td>0.2588</td>\n",
       "    </tr>\n",
       "    <tr>\n",
       "      <th>PC5</th>\n",
       "      <td>0.1969</td>\n",
       "    </tr>\n",
       "  </tbody>\n",
       "</table>\n",
       "</div>"
      ],
      "text/plain": [
       "     Eigenvalues\n",
       "PC1       3.6831\n",
       "PC2       0.5313\n",
       "PC3       0.3300\n",
       "PC4       0.2588\n",
       "PC5       0.1969"
      ]
     },
     "execution_count": 5,
     "metadata": {},
     "output_type": "execute_result"
    }
   ],
   "source": [
    "#Put the eigenvalues into a dataframe\n",
    "w_df = pd.DataFrame(np.round(w,4), columns=['Eigenvalues'])\n",
    "w_df.index = ['PC{}'.format(i) for i in range(1,len(w_df)+1)]\n",
    "w_df"
   ]
  },
  {
   "cell_type": "code",
   "execution_count": 6,
   "metadata": {
    "scrolled": true
   },
   "outputs": [
    {
     "data": {
      "text/plain": [
       "array([[ 0.42239572,  0.66606983,  0.40295603, -0.4245783 ,  0.18786308],\n",
       "       [ 0.45056706,  0.37835111, -0.56571562,  0.28169892, -0.50443167],\n",
       "       [ 0.45672582, -0.32552216, -0.51511831, -0.28833683,  0.58047553],\n",
       "       [ 0.44386102, -0.53594802,  0.31004287, -0.3469872 , -0.54701043],\n",
       "       [ 0.46147599, -0.14140884,  0.39511874,  0.73269417,  0.27218356]])"
      ]
     },
     "execution_count": 6,
     "metadata": {},
     "output_type": "execute_result"
    }
   ],
   "source": [
    "V #eigenvectors"
   ]
  },
  {
   "cell_type": "code",
   "execution_count": 7,
   "metadata": {
    "scrolled": true
   },
   "outputs": [
    {
     "data": {
      "text/html": [
       "<div>\n",
       "<style scoped>\n",
       "    .dataframe tbody tr th:only-of-type {\n",
       "        vertical-align: middle;\n",
       "    }\n",
       "\n",
       "    .dataframe tbody tr th {\n",
       "        vertical-align: top;\n",
       "    }\n",
       "\n",
       "    .dataframe thead th {\n",
       "        text-align: right;\n",
       "    }\n",
       "</style>\n",
       "<table border=\"1\" class=\"dataframe\">\n",
       "  <thead>\n",
       "    <tr style=\"text-align: right;\">\n",
       "      <th></th>\n",
       "      <th>0.5s</th>\n",
       "      <th>1s</th>\n",
       "      <th>3s</th>\n",
       "      <th>6s</th>\n",
       "      <th>15s</th>\n",
       "    </tr>\n",
       "  </thead>\n",
       "  <tbody>\n",
       "    <tr>\n",
       "      <th>PC1</th>\n",
       "      <td>0.4224</td>\n",
       "      <td>0.4506</td>\n",
       "      <td>0.4567</td>\n",
       "      <td>0.4439</td>\n",
       "      <td>0.4615</td>\n",
       "    </tr>\n",
       "    <tr>\n",
       "      <th>PC2</th>\n",
       "      <td>0.6661</td>\n",
       "      <td>0.3784</td>\n",
       "      <td>-0.3255</td>\n",
       "      <td>-0.5359</td>\n",
       "      <td>-0.1414</td>\n",
       "    </tr>\n",
       "    <tr>\n",
       "      <th>PC3</th>\n",
       "      <td>0.4030</td>\n",
       "      <td>-0.5657</td>\n",
       "      <td>-0.5151</td>\n",
       "      <td>0.3100</td>\n",
       "      <td>0.3951</td>\n",
       "    </tr>\n",
       "    <tr>\n",
       "      <th>PC4</th>\n",
       "      <td>-0.4246</td>\n",
       "      <td>0.2817</td>\n",
       "      <td>-0.2883</td>\n",
       "      <td>-0.3470</td>\n",
       "      <td>0.7327</td>\n",
       "    </tr>\n",
       "    <tr>\n",
       "      <th>PC5</th>\n",
       "      <td>0.1879</td>\n",
       "      <td>-0.5044</td>\n",
       "      <td>0.5805</td>\n",
       "      <td>-0.5470</td>\n",
       "      <td>0.2722</td>\n",
       "    </tr>\n",
       "  </tbody>\n",
       "</table>\n",
       "</div>"
      ],
      "text/plain": [
       "       0.5s      1s      3s      6s     15s\n",
       "PC1  0.4224  0.4506  0.4567  0.4439  0.4615\n",
       "PC2  0.6661  0.3784 -0.3255 -0.5359 -0.1414\n",
       "PC3  0.4030 -0.5657 -0.5151  0.3100  0.3951\n",
       "PC4 -0.4246  0.2817 -0.2883 -0.3470  0.7327\n",
       "PC5  0.1879 -0.5044  0.5805 -0.5470  0.2722"
      ]
     },
     "execution_count": 7,
     "metadata": {},
     "output_type": "execute_result"
    }
   ],
   "source": [
    "V_df = pd.DataFrame(np.round(V,4), columns=['PC{}'.format(i) for i in range(1,len(w_df)+1)])\n",
    "V_df.index = ['0.5s', '1s', '3s', '6s', '15s']\n",
    "V_df = V_df.T\n",
    "V_df"
   ]
  },
  {
   "attachments": {},
   "cell_type": "markdown",
   "metadata": {},
   "source": [
    "## Task 1\n",
    "Using the eigenvalues and eigenvectors dataframes, write a function that can produce the PCA output table."
   ]
  },
  {
   "cell_type": "code",
   "execution_count": 8,
   "metadata": {},
   "outputs": [],
   "source": [
    "# Computes the % variance explained and cumulative % variance explained.\n",
    "# Pass the eigenvalues and eigenvectors dataframes to this function.\n",
    "# This function returns a table summarising the eigenvalues, % variance explained, cumulative % variance explained and PCs\n",
    "\n",
    "def pca_results_matrix(eValues, eVectors):\n",
    "    \n",
    "    # Compute the % explained variance for each PC\n",
    "    tot_eigenvalues = eValues.sum()\n",
    "    variance_ratios = np.round(eValues/tot_eigenvalues,4)\n",
    "    variance_ratios.columns - ['Explained Variance']\n",
    "\n",
    "    # Compute the cumulative % variance explained\n",
    "    cum_variance_ratios = np.cumsum(variance_ratios)\n",
    "    cum_variance_ratios.columns = ['Cumulative Explained Variance']\n",
    "    # Return a concatenated DataFrame\n",
    "    return pd.concat([eValues, variance_ratios, cum_variance_ratios, eVectors], axis=1  )"
   ]
  },
  {
   "cell_type": "code",
   "execution_count": 9,
   "metadata": {},
   "outputs": [
    {
     "ename": "TypeError",
     "evalue": "concat() missing 1 required positional argument: 'objs'",
     "output_type": "error",
     "traceback": [
      "\u001b[1;31m---------------------------------------------------------------------------\u001b[0m",
      "\u001b[1;31mTypeError\u001b[0m                                 Traceback (most recent call last)",
      "Cell \u001b[1;32mIn[9], line 1\u001b[0m\n\u001b[1;32m----> 1\u001b[0m results \u001b[39m=\u001b[39m pca_results_matrix(w_df, V_df)\n\u001b[0;32m      2\u001b[0m results\n",
      "Cell \u001b[1;32mIn[8], line 14\u001b[0m, in \u001b[0;36mpca_results_matrix\u001b[1;34m(eValues, eVectors)\u001b[0m\n\u001b[0;32m      5\u001b[0m \u001b[39mdef\u001b[39;00m \u001b[39mpca_results_matrix\u001b[39m(eValues, eVectors):\n\u001b[0;32m      6\u001b[0m     \n\u001b[0;32m      7\u001b[0m     \u001b[39m# Compute the % explained variance for each PC\u001b[39;00m\n\u001b[1;32m   (...)\u001b[0m\n\u001b[0;32m     12\u001b[0m         \n\u001b[0;32m     13\u001b[0m     \u001b[39m# Return a concatenated DataFrame\u001b[39;00m\n\u001b[1;32m---> 14\u001b[0m     \u001b[39mreturn\u001b[39;00m pd\u001b[39m.\u001b[39;49mconcat()\n",
      "File \u001b[1;32mc:\\Users\\Fitri\\anaconda3\\lib\\site-packages\\pandas\\util\\_decorators.py:331\u001b[0m, in \u001b[0;36mdeprecate_nonkeyword_arguments.<locals>.decorate.<locals>.wrapper\u001b[1;34m(*args, **kwargs)\u001b[0m\n\u001b[0;32m    325\u001b[0m \u001b[39mif\u001b[39;00m \u001b[39mlen\u001b[39m(args) \u001b[39m>\u001b[39m num_allow_args:\n\u001b[0;32m    326\u001b[0m     warnings\u001b[39m.\u001b[39mwarn(\n\u001b[0;32m    327\u001b[0m         msg\u001b[39m.\u001b[39mformat(arguments\u001b[39m=\u001b[39m_format_argument_list(allow_args)),\n\u001b[0;32m    328\u001b[0m         \u001b[39mFutureWarning\u001b[39;00m,\n\u001b[0;32m    329\u001b[0m         stacklevel\u001b[39m=\u001b[39mfind_stack_level(),\n\u001b[0;32m    330\u001b[0m     )\n\u001b[1;32m--> 331\u001b[0m \u001b[39mreturn\u001b[39;00m func(\u001b[39m*\u001b[39margs, \u001b[39m*\u001b[39m\u001b[39m*\u001b[39mkwargs)\n",
      "\u001b[1;31mTypeError\u001b[0m: concat() missing 1 required positional argument: 'objs'"
     ]
    }
   ],
   "source": [
    "results = pca_results_matrix(w_df, V_df)\n",
    "results"
   ]
  },
  {
   "attachments": {},
   "cell_type": "markdown",
   "metadata": {},
   "source": [
    "## Task 2\n",
    "Write the code to obtain the scree plot using the eigenvalues dataframe."
   ]
  },
  {
   "cell_type": "code",
   "execution_count": null,
   "metadata": {},
   "outputs": [],
   "source": [
    "#Scree plot\n"
   ]
  },
  {
   "attachments": {},
   "cell_type": "markdown",
   "metadata": {},
   "source": [
    "## Task 3\n",
    "Using the eigenvectors dataframe, write a function that can produce the loading plot."
   ]
  },
  {
   "cell_type": "code",
   "execution_count": 10,
   "metadata": {},
   "outputs": [],
   "source": [
    "# This function plots the loading plot from the eigenvectors/PCs dataframe.\n",
    "# Pass the eigenvectors/PCs dataframe to this function. Optional width, height and margin.\n",
    "# This function returns the axes of the loading plot\n",
    "\n",
    "def loadingplot_eVectors(eVectors, width=5, height=5, margin=0.5):\n",
    "\n",
    "    fig, ax = plt.subplots(figsize = (width, height))\n",
    "\n",
    "    #Set limits for figure\n",
    "    x_min = min(eVectors.iloc[0,:].min(),0)-margin\n",
    "    x_max = max(eVectors.iloc[0,:].max(),0)+margin\n",
    "    y_min = min(eVectors.iloc[0,:].min(),0)-margin\n",
    "    y_max = max(eVectors.iloc[0,:].max(),0)+margin\n",
    "\n",
    "    ax.set_xlim(x_min, x_max)\n",
    "    ax.set_ylim(y_min, y_max)\n",
    "\n",
    "    #Scaling factor for text position\n",
    "    text_pos = 0.1\n",
    "    \n",
    "    # Draw arrows and label them\n",
    "    for i, v in enumerate(np.array(eVectors.iloc[0:2,:]).T):\n",
    "        ax.arrow(0, 0, v[0], v[1], head_width=0.05, head_length=0.05, linewidth=2, color='red')\n",
    "        ax.text(v[0], v[1]+text_pos, eVectors.columns[i], color='black', ha='center', va='center', fontsize=12)\n",
    "        \n",
    "    plt.plot([x_min, x_max], [0, 0], color='k', linestyle='--', linewidth=1)\n",
    "    plt.plot([0, 0], [y_min, y_max], color='k', linestyle='--', linewidth=1)\n",
    "    ax.set_xlabel(\"PC1\", fontsize=14)\n",
    "    ax.set_ylabel(\"PC2\", fontsize=14)\n",
    "    ax.set_title(\"Loading plot\", fontsize = 14)\n",
    "\n",
    "    return ax"
   ]
  },
  {
   "cell_type": "code",
   "execution_count": 11,
   "metadata": {},
   "outputs": [
    {
     "data": {
      "text/plain": [
       "<Figure size 640x480 with 0 Axes>"
      ]
     },
     "metadata": {},
     "output_type": "display_data"
    },
    {
     "data": {
      "image/png": "[encoded data removed]",
      "text/plain": [
       "<Figure size 500x500 with 1 Axes>"
      ]
     },
     "metadata": {},
     "output_type": "display_data"
    }
   ],
   "source": [
    "plt.clf()\n",
    "ax2 = loadingplot_eVectors(V_df, width = 5, height = 5, margin = 0.2)\n",
    "plt.show()"
   ]
  },
  {
   "cell_type": "code",
   "execution_count": null,
   "metadata": {},
   "outputs": [],
   "source": []
  }
 ],
 "metadata": {
  "kernelspec": {
   "display_name": "Python 3",
   "language": "python",
   "name": "python3"
  },
  "language_info": {
   "codemirror_mode": {
    "name": "ipython",
    "version": 3
   },
   "file_extension": ".py",
   "mimetype": "text/x-python",
   "name": "python",
   "nbconvert_exporter": "python",
   "pygments_lexer": "ipython3",
   "version": "3.10.9"
  }
 },
 "nbformat": 4,
 "nbformat_minor": 2
}
