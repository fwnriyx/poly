{
 "cells": [
  {
   "attachments": {},
   "cell_type": "markdown",
   "metadata": {},
   "source": [
    "# Practical 6b: Numerical Differentiation\n",
    "\n",
    "In practice, finding the numerical value of the derivative of a function $y=f(x)$ at $x=a$ may be more important than finding the expression of $f'(x)$. While we have learnt that we can differentiate $f(x)$ with respect to $x$ to get $f'(x)$ before substituting $x=a$, we can also make use of numerical differentiation to estimate $f'(a)$,\n",
    "\\begin{equation}\n",
    "    f'(a) \\approx \\frac{f(a+\\epsilon)-f(a-\\epsilon)}{2\\epsilon} \\approx \\frac{f(a+\\epsilon)-f(a)}{\\epsilon} \\approx \\frac{f(a)-f(a-\\epsilon)}{\\epsilon},\n",
    "\\end{equation}\n",
    "where $\\epsilon>0$ is a very small number. \n",
    "\n",
    "For example, given that $f(x)=x\\sin{x}$, $f'(x)=\\sin{x}+x\\cos{x}$. At $x=2$, $f'(2)=0.0770$. Implementing numerical differentiation in Python in the following,"
   ]
  },
  {
   "cell_type": "code",
   "execution_count": 5,
   "metadata": {},
   "outputs": [
    {
     "name": "stdout",
     "output_type": "stream",
     "text": [
      "The difference quotient (right) is 0.07567799367991235\n",
      "The difference quotient (left) is 0.07832888191661169\n",
      "The difference quotient (symmetric) is 0.07700343779826202\n"
     ]
    },
    {
     "data": {
      "text/plain": [
       "0.07700343779826202"
      ]
     },
     "execution_count": 5,
     "metadata": {},
     "output_type": "execute_result"
    }
   ],
   "source": [
    "import numpy as np\n",
    "\n",
    "epsilon = 0.001 # small constant\n",
    "func = lambda x: x*np.sin(x) # function of which derivative is estimated\n",
    "\n",
    "a=2 # point at which derivative is estimated\n",
    "\n",
    "diff_quo_right = (func(a+epsilon)-func(a))/(epsilon)\n",
    "print(f\"The difference quotient (right) is {diff_quo_right}\")\n",
    "\n",
    "diff_quo_left = (func(a)-func(a-epsilon))/(epsilon)\n",
    "print(f\"The difference quotient (left) is {diff_quo_left}\")\n",
    "\n",
    "diff_quo_symmm = (func(a+epsilon)-func(a-epsilon))/(2*epsilon)\n",
    "print(f\"The difference quotient (symmetric) is {diff_quo_symmm}\")\n",
    "\n",
    "sym_diff_quo = (func(a+epsilon)-func(a-epsilon))/(2*epsilon) # estimate using symmetric difference quotient\n",
    "sym_diff_quo"
   ]
  },
  {
   "attachments": {},
   "cell_type": "markdown",
   "metadata": {},
   "source": [
    "For example, given that $f(x)=x\\sin{x}$, $f'(x)=\\sin{x}+x\\cos{x}$. At $x=2$, $f'(2)=0.0770$. At $x=3$, $f' (3) = 28.9799$. Implementing numerical differentiation in Python in the following,"
   ]
  },
  {
   "cell_type": "code",
   "execution_count": 3,
   "metadata": {},
   "outputs": [
    {
     "name": "stdout",
     "output_type": "stream",
     "text": [
      "The difference quotient (right) is 28.989126783194763\n",
      "The difference quotient (left) is 28.970844543202645\n",
      "The difference quotient (symmetric) is 28.979985663198704\n"
     ]
    },
    {
     "data": {
      "text/plain": [
       "28.979985663198704"
      ]
     },
     "execution_count": 3,
     "metadata": {},
     "output_type": "execute_result"
    }
   ],
   "source": [
    "import numpy as np\n",
    "\n",
    "epsilon = 0.001 # small constant\n",
    "func = lambda x: x**3-2*np.sin(x) # function of which derivative is estimated\n",
    "\n",
    "a=3 # point at which derivative is estimated\n",
    "\n",
    "diff_quo_right = (func(a+epsilon)-func(a))/(epsilon)\n",
    "print(f\"The difference quotient (right) is {diff_quo_right}\")\n",
    "\n",
    "diff_quo_left = (func(a)-func(a-epsilon))/(epsilon)\n",
    "print(f\"The difference quotient (left) is {diff_quo_left}\")\n",
    "\n",
    "diff_quo_symmm = (func(a+epsilon)-func(a-epsilon))/(2*epsilon)\n",
    "print(f\"The difference quotient (symmetric) is {diff_quo_symmm}\")\n",
    "\n",
    "sym_diff_quo = (func(a+epsilon)-func(a-epsilon))/(2*epsilon) # estimate using symmetric difference quotient\n",
    "sym_diff_quo"
   ]
  },
  {
   "attachments": {},
   "cell_type": "markdown",
   "metadata": {},
   "source": [
    "The above approximation uses the symmetric difference quotient. Are you able to modify the code to estimate derivatives using the other two approximations? Compare with the approximation above."
   ]
  },
  {
   "cell_type": "code",
   "execution_count": null,
   "metadata": {},
   "outputs": [],
   "source": [
    "import numpy as np\n",
    "\n",
    "epsilon = 0.001 # small constant\n",
    "func = lambda x: x*np.sin(x) # function of which derivative is estimated\n",
    "\n",
    "a=2 # point at which derivative is estimated\n",
    "for_diff_quo =  # student to fill in this line # estimate using forward difference\n",
    "for_diff_quo"
   ]
  },
  {
   "cell_type": "code",
   "execution_count": null,
   "metadata": {},
   "outputs": [],
   "source": [
    "import numpy as np\n",
    "\n",
    "epsilon = 0.001 # small constant\n",
    "func = lambda x: x*np.sin(x) # function of which derivative is estimated\n",
    "\n",
    "a=2 # point at which derivative is estimated\n",
    "back_diff_quo =  # student to fill in this line # estimate using backward difference\n",
    "back_diff_quo"
   ]
  },
  {
   "attachments": {},
   "cell_type": "markdown",
   "metadata": {},
   "source": [
    "For example, given that $f(x)= (2x+1)^3cos{4x}$, $f'(x)=\\sin{x}+x\\cos{x}$. At $x=2$, $f'(2)=0.0770$. At $x=3$, $f' (3) = 28.9799$. Implementing numerical differentiation in Python in the following,\n"
   ]
  },
  {
   "cell_type": "code",
   "execution_count": 7,
   "metadata": {},
   "outputs": [
    {
     "name": "stdout",
     "output_type": "stream",
     "text": [
      "The difference quotient (right) is 5.253308025762626\n",
      "The difference quotient (left) is 5.279163690721234\n",
      "The difference quotient (symmetric) is 5.26623585824193\n"
     ]
    },
    {
     "data": {
      "text/plain": [
       "5.26623585824193"
      ]
     },
     "execution_count": 7,
     "metadata": {},
     "output_type": "execute_result"
    }
   ],
   "source": [
    "epsilon = 0.001 # small constant\n",
    "func = lambda x: (2*x+1)**3 * np.cos(4*x) # function of which derivative is estimated\n",
    "\n",
    "a = 0.1 # point at which derivative is estimated\n",
    "\n",
    "diff_quo_right = (func(a+epsilon)-func(a))/(epsilon)\n",
    "print(f\"The difference quotient (right) is {diff_quo_right}\")\n",
    "\n",
    "diff_quo_left = (func(a)-func(a-epsilon))/(epsilon)\n",
    "print(f\"The difference quotient (left) is {diff_quo_left}\")\n",
    "\n",
    "diff_quo_symmm = (func(a+epsilon)-func(a-epsilon))/(2*epsilon)\n",
    "print(f\"The difference quotient (symmetric) is {diff_quo_symmm}\")\n",
    "\n",
    "sym_diff_quo = (func(a+epsilon)-func(a-epsilon))/(2*epsilon) # estimate using symmetric difference quotient\n",
    "sym_diff_quo"
   ]
  }
 ],
 "metadata": {
  "kernelspec": {
   "display_name": "Python 3",
   "language": "python",
   "name": "python3"
  },
  "language_info": {
   "codemirror_mode": {
    "name": "ipython",
    "version": 3
   },
   "file_extension": ".py",
   "mimetype": "text/x-python",
   "name": "python",
   "nbconvert_exporter": "python",
   "pygments_lexer": "ipython3",
   "version": "3.10.9"
  }
 },
 "nbformat": 4,
 "nbformat_minor": 2
}
